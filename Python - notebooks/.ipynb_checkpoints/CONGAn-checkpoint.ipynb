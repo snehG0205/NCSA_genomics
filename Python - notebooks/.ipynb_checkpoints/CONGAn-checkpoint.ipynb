{
 "cells": [
  {
   "cell_type": "code",
   "execution_count": 1,
   "metadata": {},
   "outputs": [],
   "source": [
    "import pandas as pd\n",
    "import numpy as np\n",
    "import matplotlib.pyplot as plt\n",
    "import seaborn as sns\n",
    "\n",
    "from datetime import datetime\n",
    "from statistics import mean\n",
    "from datetime import timedelta\n",
    "\n",
    "import math\n",
    "\n",
    "import warnings  \n",
    "warnings.filterwarnings('ignore')"
   ]
  },
  {
   "cell_type": "code",
   "execution_count": 2,
   "metadata": {},
   "outputs": [],
   "source": [
    "data = pd.read_csv(\"~/Desktop/NCSA_genomics/Python - notebooks/GlucoCheck/Data/consolidatedDataForPackage.csv\")\n",
    "data['Display Time'] = pd.to_datetime(data['Display Time'])\n",
    "data['GlucoseValue'] = pd.to_numeric(data['GlucoseValue'])\n",
    "df = data[data['subjectId']=='1636-69-032']\n",
    "df = df.reset_index(drop=True)"
   ]
  },
  {
   "cell_type": "code",
   "execution_count": 3,
   "metadata": {},
   "outputs": [],
   "source": [
    "def fullDay(data):\n",
    "        \n",
    "    dates = list()\n",
    "    data = data.reset_index(drop=True)\n",
    "    for i in range(0,len(data.index)):\n",
    "        dates.append(data['Display Time'][i].date())\n",
    "    data['Dates'] = dates\n",
    "    end = data['Dates'].iloc[-1]\n",
    "    start = data['Dates'].iloc[0]\n",
    "\n",
    "    indexVals = data[ data['Dates'] == start ].index\n",
    "    # indexVals\n",
    "    data.drop(indexVals , inplace=True)\n",
    "\n",
    "    indexVals = data[ data['Dates'] == end ].index\n",
    "    # indexVals\n",
    "    data.drop(indexVals , inplace=True)\n",
    "\n",
    "    data = data.reset_index(drop=True)\n",
    "\n",
    "    data.drop(['Dates'], axis=1, inplace=True)\n",
    "\n",
    "    return data"
   ]
  },
  {
   "cell_type": "code",
   "execution_count": 6,
   "metadata": {},
   "outputs": [],
   "source": [
    "def congaN(df, n):\n",
    "    if (not(n==1 or n==2 or n==4)):\n",
    "        print(\"WARNING: Standard range for CONGA n values are 1,2 or 4 hours. CONGA measure might be  unreliable if observations are more than 4h apart.\")\n",
    "    \n",
    "    day = df['Display Time'].iloc[-1]-df['Display Time'].iloc[0]\n",
    "    day = day.round(\"d\")\n",
    "    day = day.days\n",
    "\n",
    "    df = df.set_index(['Display Time'])\n",
    "    t = str(n*3600)+'s'\n",
    "    gv = df['GlucoseValue'].resample(t).first()\n",
    "\n",
    "    k = len(gv)\n",
    "\n",
    "    frame = pd.DataFrame()\n",
    "    frame['GV'] = gv\n",
    "    frame['Dt'] = frame['GV'] - frame['GV'].shift(+1)\n",
    "    frame = frame.fillna(0)\n",
    "\n",
    "    dBar = sum(frame['Dt']) / k\n",
    "\n",
    "    s = 0\n",
    "    for i in frame['Dt']:\n",
    "        s += (i-dBar)**2\n",
    "\n",
    "    conga = math.sqrt(s/(k-1))\n",
    "\n",
    "    return round(conga/day, 2)"
   ]
  },
  {
   "cell_type": "code",
   "execution_count": 7,
   "metadata": {},
   "outputs": [],
   "source": [
    "conga_1 = congaN(df, 1)\n",
    "conga_2 = congaN(df, 2)\n",
    "conga_4 = congaN(df, 4)"
   ]
  },
  {
   "cell_type": "code",
   "execution_count": 8,
   "metadata": {},
   "outputs": [
    {
     "data": {
      "text/plain": [
       "(2.07, 2.67, 3.05)"
      ]
     },
     "execution_count": 8,
     "metadata": {},
     "output_type": "execute_result"
    }
   ],
   "source": [
    "conga_1,conga_2,conga_4"
   ]
  },
  {
   "cell_type": "code",
   "execution_count": null,
   "metadata": {},
   "outputs": [],
   "source": []
  }
 ],
 "metadata": {
  "kernelspec": {
   "display_name": "Python 3",
   "language": "python",
   "name": "python3"
  },
  "language_info": {
   "codemirror_mode": {
    "name": "ipython",
    "version": 3
   },
   "file_extension": ".py",
   "mimetype": "text/x-python",
   "name": "python",
   "nbconvert_exporter": "python",
   "pygments_lexer": "ipython3",
   "version": "3.7.4"
  }
 },
 "nbformat": 4,
 "nbformat_minor": 2
}
