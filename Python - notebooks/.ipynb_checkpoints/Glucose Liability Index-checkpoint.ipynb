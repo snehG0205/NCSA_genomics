{
 "cells": [
  {
   "cell_type": "code",
   "execution_count": 1,
   "metadata": {},
   "outputs": [],
   "source": [
    "import pandas as pd\n",
    "import numpy as np\n",
    "import matplotlib.pyplot as plt\n",
    "import seaborn as sns\n",
    "\n",
    "from datetime import datetime\n",
    "from statistics import mean\n",
    "from datetime import timedelta\n",
    "\n",
    "import math\n"
   ]
  },
  {
   "cell_type": "code",
   "execution_count": 2,
   "metadata": {},
   "outputs": [],
   "source": [
    "data = pd.read_csv(\"~/Desktop/NCSA_genomics/Python - notebooks/TSForecasting/Data/consolidatedDataForPackage.csv\")\n",
    "data['Display Time'] = pd.to_datetime(data['Display Time'])\n",
    "data['GlucoseValue'] = pd.to_numeric(data['GlucoseValue'])"
   ]
  },
  {
   "cell_type": "code",
   "execution_count": 3,
   "metadata": {},
   "outputs": [],
   "source": [
    "def fullDay(data):\n",
    "        \n",
    "    dates = list()\n",
    "    data = data.reset_index(drop=True)\n",
    "    for i in range(0,len(data.index)):\n",
    "        dates.append(data['Display Time'][i].date())\n",
    "    data['Dates'] = dates\n",
    "    end = data['Dates'].iloc[-1]\n",
    "    start = data['Dates'].iloc[0]\n",
    "\n",
    "    indexVals = data[ data['Dates'] == start ].index\n",
    "    # indexVals\n",
    "    data.drop(indexVals , inplace=True)\n",
    "\n",
    "    indexVals = data[ data['Dates'] == end ].index\n",
    "    # indexVals\n",
    "    data.drop(indexVals , inplace=True)\n",
    "\n",
    "    data = data.reset_index(drop=True)\n",
    "\n",
    "    data.drop(['Dates'], axis=1, inplace=True)\n",
    "\n",
    "    return data"
   ]
  },
  {
   "cell_type": "code",
   "execution_count": 12,
   "metadata": {},
   "outputs": [],
   "source": [
    "def hourlySamples(df):\n",
    "    groupkey = df['Display Time'].values.astype('datetime64[h]')\n",
    "    result = df.groupby(groupkey).first().set_index('Display Time')\n",
    "    return (result)"
   ]
  },
  {
   "cell_type": "code",
   "execution_count": 27,
   "metadata": {},
   "outputs": [],
   "source": [
    "def convertUnits(data, unit):\n",
    "    if unit == 'mmol':\n",
    "        if(data['GlucoseValue'][0]>18):\n",
    "            in_mmols = pd.DataFrame({'Display Time':data['Display Time'], 'GlucoseValue':data['GlucoseValue']/18, 'subjectId':data['subjectId']})\n",
    "            return in_mmols\n",
    "        else:\n",
    "            print(\"Data already in mmols\")\n",
    "            return data\n",
    "    elif unit == 'mg':\n",
    "        if(data['GlucoseValue'][0]<18):\n",
    "            in_mgs = pd.DataFrame({'Display Time':data['Display Time'], 'GlucoseValue':data['GlucoseValue']*18, 'subjectId':data['subjectId']})\n",
    "            return in_mgs\n",
    "        else:\n",
    "            print(\"Data already in mgs\")\n",
    "            return data\n",
    "    else:\n",
    "        print(\"Invalid unit. Please enter 'mmol' or 'mg'. \")"
   ]
  },
  {
   "cell_type": "code",
   "execution_count": 36,
   "metadata": {},
   "outputs": [],
   "source": [
    "def glucoseLiabilityIndex(data, unit):\n",
    "    if unit != 'mmol':\n",
    "        print(\"Unit must be mmol\")\n",
    "        return 0\n",
    "    s = data['GlucoseValue'] - data['GlucoseValue'].shift(-1)\n",
    "    return round(s.sum(),3)\n",
    "    \n",
    "    "
   ]
  },
  {
   "cell_type": "code",
   "execution_count": 37,
   "metadata": {},
   "outputs": [
    {
     "name": "stdout",
     "output_type": "stream",
     "text": [
      "Display Time    datetime64[ns]\n",
      "GlucoseValue           float64\n",
      "subjectId               object\n",
      "dtype: object\n"
     ]
    }
   ],
   "source": [
    "xx = data[data['subjectId'] == \"1636-69-032\"]\n",
    "print(xx.dtypes)\n",
    "xx = fullDay(xx)\n",
    "xx = convertUnits(xx,'mmol')\n",
    "xx = hourlySamples(xx)"
   ]
  },
  {
   "cell_type": "code",
   "execution_count": null,
   "metadata": {},
   "outputs": [],
   "source": []
  },
  {
   "cell_type": "code",
   "execution_count": 38,
   "metadata": {},
   "outputs": [
    {
     "data": {
      "text/html": [
       "<div>\n",
       "<style scoped>\n",
       "    .dataframe tbody tr th:only-of-type {\n",
       "        vertical-align: middle;\n",
       "    }\n",
       "\n",
       "    .dataframe tbody tr th {\n",
       "        vertical-align: top;\n",
       "    }\n",
       "\n",
       "    .dataframe thead th {\n",
       "        text-align: right;\n",
       "    }\n",
       "</style>\n",
       "<table border=\"1\" class=\"dataframe\">\n",
       "  <thead>\n",
       "    <tr style=\"text-align: right;\">\n",
       "      <th></th>\n",
       "      <th>GlucoseValue</th>\n",
       "      <th>subjectId</th>\n",
       "    </tr>\n",
       "    <tr>\n",
       "      <th>Display Time</th>\n",
       "      <th></th>\n",
       "      <th></th>\n",
       "    </tr>\n",
       "  </thead>\n",
       "  <tbody>\n",
       "    <tr>\n",
       "      <td>2016-01-14 00:03:15</td>\n",
       "      <td>6.666667</td>\n",
       "      <td>1636-69-032</td>\n",
       "    </tr>\n",
       "    <tr>\n",
       "      <td>2016-01-14 01:03:15</td>\n",
       "      <td>7.055556</td>\n",
       "      <td>1636-69-032</td>\n",
       "    </tr>\n",
       "    <tr>\n",
       "      <td>2016-01-14 02:03:15</td>\n",
       "      <td>6.833333</td>\n",
       "      <td>1636-69-032</td>\n",
       "    </tr>\n",
       "    <tr>\n",
       "      <td>2016-01-14 03:03:15</td>\n",
       "      <td>6.555556</td>\n",
       "      <td>1636-69-032</td>\n",
       "    </tr>\n",
       "    <tr>\n",
       "      <td>2016-01-14 04:03:15</td>\n",
       "      <td>5.888889</td>\n",
       "      <td>1636-69-032</td>\n",
       "    </tr>\n",
       "    <tr>\n",
       "      <td>...</td>\n",
       "      <td>...</td>\n",
       "      <td>...</td>\n",
       "    </tr>\n",
       "    <tr>\n",
       "      <td>2016-01-18 19:02:53</td>\n",
       "      <td>6.055556</td>\n",
       "      <td>1636-69-032</td>\n",
       "    </tr>\n",
       "    <tr>\n",
       "      <td>2016-01-18 20:02:53</td>\n",
       "      <td>7.000000</td>\n",
       "      <td>1636-69-032</td>\n",
       "    </tr>\n",
       "    <tr>\n",
       "      <td>2016-01-18 21:02:53</td>\n",
       "      <td>7.444444</td>\n",
       "      <td>1636-69-032</td>\n",
       "    </tr>\n",
       "    <tr>\n",
       "      <td>2016-01-18 22:02:53</td>\n",
       "      <td>7.166667</td>\n",
       "      <td>1636-69-032</td>\n",
       "    </tr>\n",
       "    <tr>\n",
       "      <td>2016-01-18 23:02:52</td>\n",
       "      <td>5.888889</td>\n",
       "      <td>1636-69-032</td>\n",
       "    </tr>\n",
       "  </tbody>\n",
       "</table>\n",
       "<p>120 rows × 2 columns</p>\n",
       "</div>"
      ],
      "text/plain": [
       "                     GlucoseValue    subjectId\n",
       "Display Time                                  \n",
       "2016-01-14 00:03:15      6.666667  1636-69-032\n",
       "2016-01-14 01:03:15      7.055556  1636-69-032\n",
       "2016-01-14 02:03:15      6.833333  1636-69-032\n",
       "2016-01-14 03:03:15      6.555556  1636-69-032\n",
       "2016-01-14 04:03:15      5.888889  1636-69-032\n",
       "...                           ...          ...\n",
       "2016-01-18 19:02:53      6.055556  1636-69-032\n",
       "2016-01-18 20:02:53      7.000000  1636-69-032\n",
       "2016-01-18 21:02:53      7.444444  1636-69-032\n",
       "2016-01-18 22:02:53      7.166667  1636-69-032\n",
       "2016-01-18 23:02:52      5.888889  1636-69-032\n",
       "\n",
       "[120 rows x 2 columns]"
      ]
     },
     "execution_count": 38,
     "metadata": {},
     "output_type": "execute_result"
    }
   ],
   "source": [
    "xx"
   ]
  },
  {
   "cell_type": "code",
   "execution_count": 40,
   "metadata": {},
   "outputs": [
    {
     "name": "stdout",
     "output_type": "stream",
     "text": [
      "0.778\n"
     ]
    }
   ],
   "source": [
    "LI = glucoseLiabilityIndex(xx, 'mmol')\n",
    "print(LI)"
   ]
  },
  {
   "cell_type": "code",
   "execution_count": 22,
   "metadata": {},
   "outputs": [],
   "source": []
  },
  {
   "cell_type": "code",
   "execution_count": null,
   "metadata": {},
   "outputs": [],
   "source": []
  }
 ],
 "metadata": {
  "kernelspec": {
   "display_name": "Python 3",
   "language": "python",
   "name": "python3"
  },
  "language_info": {
   "codemirror_mode": {
    "name": "ipython",
    "version": 3
   },
   "file_extension": ".py",
   "mimetype": "text/x-python",
   "name": "python",
   "nbconvert_exporter": "python",
   "pygments_lexer": "ipython3",
   "version": "3.7.4"
  }
 },
 "nbformat": 4,
 "nbformat_minor": 2
}
