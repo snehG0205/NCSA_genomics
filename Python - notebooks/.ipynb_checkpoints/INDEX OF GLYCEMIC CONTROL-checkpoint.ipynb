{
 "cells": [
  {
   "cell_type": "code",
   "execution_count": 1,
   "metadata": {},
   "outputs": [],
   "source": [
    "import pandas as pd\n",
    "import numpy as np\n",
    "import matplotlib.pyplot as plt\n",
    "import seaborn as sns\n",
    "\n",
    "from datetime import datetime\n",
    "from statistics import mean\n",
    "from datetime import timedelta\n",
    "\n",
    "import math\n",
    "\n",
    "import warnings  \n",
    "warnings.filterwarnings('ignore')"
   ]
  },
  {
   "cell_type": "code",
   "execution_count": 2,
   "metadata": {},
   "outputs": [],
   "source": [
    "data = pd.read_csv(\"~/Desktop/NCSA_genomics/Python - notebooks/TSForecasting/Data/consolidatedDataForPackage.csv\")\n",
    "data['Display Time'] = pd.to_datetime(data['Display Time'])\n",
    "data['GlucoseValue'] = pd.to_numeric(data['GlucoseValue'])"
   ]
  },
  {
   "cell_type": "code",
   "execution_count": 3,
   "metadata": {},
   "outputs": [],
   "source": [
    "def fullDay(data):\n",
    "        \n",
    "    dates = list()\n",
    "    data = data.reset_index(drop=True)\n",
    "    for i in range(0,len(data.index)):\n",
    "        dates.append(data['Display Time'][i].date())\n",
    "    data['Dates'] = dates\n",
    "    end = data['Dates'].iloc[-1]\n",
    "    start = data['Dates'].iloc[0]\n",
    "\n",
    "    indexVals = data[ data['Dates'] == start ].index\n",
    "    # indexVals\n",
    "    data.drop(indexVals , inplace=True)\n",
    "\n",
    "    indexVals = data[ data['Dates'] == end ].index\n",
    "    # indexVals\n",
    "    data.drop(indexVals , inplace=True)\n",
    "\n",
    "    data = data.reset_index(drop=True)\n",
    "\n",
    "    data.drop(['Dates'], axis=1, inplace=True)\n",
    "\n",
    "    return data"
   ]
  },
  {
   "cell_type": "code",
   "execution_count": 4,
   "metadata": {},
   "outputs": [],
   "source": [
    "def IGC(df, unit):\n",
    "    if unit == 'mg':\n",
    "        gv = df['GlucoseValue']\n",
    "    elif unit == 'mmol':\n",
    "        gv = 18*df['GlucoseValue']\n",
    "    else:\n",
    "        print('Unit should either be mg or mmol')\n",
    "        return 0\n",
    "    \n",
    "    lower_gv = gv[gv < 90]\n",
    "    uppev_gc = gv[gv > 140]\n",
    "    \n",
    "    \n",
    "    count_lower = len(lower_gv.index)\n",
    "    count_upper = len(upper_gv.index)\n",
    "    \n",
    "    hypoglycemicIndex = np.sum(np.power((lltr - lower_gv), b)) / (n_lower*d)   \n",
    "    hyperglycemicIndex = np.sum(np.power((upper_gv - ultr), a)) / (n_upper*c)\n",
    "    \n",
    "    igc = hypoglycemicIndex + hyperglycemicIndex\n",
    "    return igc, hypoglycemicIndex, hyperglycemicIndex"
   ]
  },
  {
   "cell_type": "code",
   "execution_count": 5,
   "metadata": {
    "scrolled": false
   },
   "outputs": [
    {
     "name": "stdout",
     "output_type": "stream",
     "text": [
      "1636-69-001 62.91\n",
      "1636-69-001-2 55.39\n",
      "1636-69-026 54.137\n",
      "1636-69-028 36.499\n",
      "1636-69-032 30.018\n",
      "1636-69-035 60.344\n",
      "1636-69-048 12.971\n",
      "1636-69-053 23.129\n",
      "1636-69-060 72.631\n",
      "1636-69-064 58.851\n",
      "1636-69-069 40.247\n",
      "1636-69-090 42.748\n",
      "1636-69-091 22.408\n",
      "1636-69-100 20.438\n",
      "1636-69-104 17.292\n",
      "1636-69-104-2 7.319\n",
      "1636-69-107 42.317\n",
      "1636-69-111 14.58\n",
      "1636-69-114 39.554\n",
      "1636-69-123 7.515\n",
      "1636-70-1002 21.413\n",
      "1636-70-1003 12.642\n",
      "1636-70-1005 49.53\n",
      "1636-70-1008 29.806\n",
      "1636-70-1010 66.153\n",
      "2133-001 10.498\n",
      "2133-002 13.16\n",
      "2133-003 25.356\n",
      "2133-004 111.686\n",
      "2133-006 5.668\n",
      "2133-007 40.822\n",
      "2133-008 7.367\n",
      "2133-009 37.944\n",
      "2133-010 9.566\n",
      "2133-011 16.015\n",
      "2133-012 18.743\n",
      "2133-013 16.976\n",
      "2133-015 34.207\n",
      "2133-017 38.434\n",
      "2133-018 114.364\n",
      "2133-019 35.114\n",
      "2133-019-2 60.151\n",
      "2133-020 29.022\n",
      "2133-021 99.588\n",
      "2133-022 41.584\n",
      "2133-023 5.784\n",
      "2133-024 25.785\n",
      "2133-025 7.198\n",
      "2133-026 5.963\n",
      "2133-027 9.29\n",
      "2133-028 1.23\n",
      "2133-030 13.54\n",
      "2133-032 16.347\n",
      "2133-033 14.039\n",
      "2133-035 22.82\n",
      "2133-036 46.754\n",
      "2133-037 13.792\n",
      "2133-039 39.612\n",
      "2133-040 13.349\n",
      "2133-041 46.461\n",
      "GVP01 244.094\n",
      "GVP03 221.498\n",
      "ID01 179.161\n",
      "ID02 14.621\n",
      "ID03 866.105\n",
      "ID11 374.588\n",
      "ID12 345.453\n",
      "ID13 159.699\n",
      "ID21 97.15\n",
      "ID22 24.003\n",
      "ID23 239.29\n",
      "ID29 54.501\n",
      "ID30 22.299\n",
      "ID31 41.034\n",
      "ID32 25.704\n",
      "ID33 17.787\n",
      "OD540 206.368\n",
      "OD544 366.901\n",
      "OD552 231.017\n",
      "OD559 429.696\n",
      "OD563 227.665\n",
      "OD567 307.673\n",
      "OD570 525.218\n",
      "OD575 235.427\n",
      "OD584 560.582\n",
      "OD588 329.602\n",
      "OD591 308.195\n",
      "OD596 234.963\n"
     ]
    }
   ],
   "source": [
    "for subjectId, df in data.groupby('subjectId'):\n",
    "    df = fullDay(df)\n",
    "    igc, hypoglycemicIndex, hyperglycemicIndex = IGC(df, 'mg')\n",
    "    print(subjectId, igc, hypoglycemicIndex, hyperglycemicIndex)"
   ]
  },
  {
   "cell_type": "code",
   "execution_count": 6,
   "metadata": {},
   "outputs": [
    {
     "data": {
      "text/plain": [
       "(-5.585644999937933-1.8148860766446873j)"
      ]
     },
     "execution_count": 6,
     "metadata": {},
     "output_type": "execute_result"
    }
   ],
   "source": [
    "(-5)**1.1"
   ]
  },
  {
   "cell_type": "code",
   "execution_count": null,
   "metadata": {},
   "outputs": [],
   "source": []
  }
 ],
 "metadata": {
  "kernelspec": {
   "display_name": "Python 3",
   "language": "python",
   "name": "python3"
  },
  "language_info": {
   "codemirror_mode": {
    "name": "ipython",
    "version": 3
   },
   "file_extension": ".py",
   "mimetype": "text/x-python",
   "name": "python",
   "nbconvert_exporter": "python",
   "pygments_lexer": "ipython3",
   "version": "3.7.4"
  }
 },
 "nbformat": 4,
 "nbformat_minor": 2
}
