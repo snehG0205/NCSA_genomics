{
 "cells": [
  {
   "cell_type": "code",
   "execution_count": null,
   "metadata": {},
   "outputs": [],
   "source": []
  },
  {
   "cell_type": "code",
   "execution_count": 1,
   "metadata": {
    "ExecuteTime": {
     "end_time": "2020-10-29T02:22:38.619144Z",
     "start_time": "2020-10-29T02:22:28.009299Z"
    }
   },
   "outputs": [
    {
     "name": "stderr",
     "output_type": "stream",
     "text": [
      "Using TensorFlow backend.\n"
     ]
    }
   ],
   "source": [
    "from GlucoCheck.glucoCheck import glucoCheckOps\n",
    "import pandas as pd\n",
    "import random\n",
    "import numpy as np\n",
    "from tqdm.auto import tqdm\n",
    "\n",
    "from sklearn.preprocessing import MinMaxScaler\n",
    "from scipy import stats\n",
    "\n",
    "\n",
    "\n",
    "import random\n",
    "import re\n",
    "from dateutil.parser import parse\n",
    "\n",
    "import warnings  \n",
    "warnings.filterwarnings('ignore')\n",
    "\n",
    "import os\n",
    "import math\n"
   ]
  },
  {
   "cell_type": "code",
   "execution_count": 2,
   "metadata": {
    "ExecuteTime": {
     "end_time": "2020-10-29T02:22:38.640261Z",
     "start_time": "2020-10-29T02:22:38.622655Z"
    }
   },
   "outputs": [],
   "source": [
    "def createGap(df,start,end):\n",
    "    l = len(df.index)\n",
    "    if end>=l:\n",
    "        end = l\n",
    "        \n",
    "    for i in range(start,end):\n",
    "        df['GlucoseValue'][i]= float(\"NaN\")\n",
    "    \n",
    "    return df\n"
   ]
  },
  {
   "cell_type": "code",
   "execution_count": 3,
   "metadata": {
    "ExecuteTime": {
     "end_time": "2020-10-29T02:23:01.151886Z",
     "start_time": "2020-10-29T02:22:38.659291Z"
    }
   },
   "outputs": [
    {
     "data": {
      "text/html": [
       "<div>\n",
       "<style scoped>\n",
       "    .dataframe tbody tr th:only-of-type {\n",
       "        vertical-align: middle;\n",
       "    }\n",
       "\n",
       "    .dataframe tbody tr th {\n",
       "        vertical-align: top;\n",
       "    }\n",
       "\n",
       "    .dataframe thead th {\n",
       "        text-align: right;\n",
       "    }\n",
       "</style>\n",
       "<table border=\"1\" class=\"dataframe\">\n",
       "  <thead>\n",
       "    <tr style=\"text-align: right;\">\n",
       "      <th></th>\n",
       "      <th>subjectId</th>\n",
       "      <th>Display Time</th>\n",
       "      <th>GlucoseValue</th>\n",
       "    </tr>\n",
       "  </thead>\n",
       "  <tbody>\n",
       "    <tr>\n",
       "      <td>0</td>\n",
       "      <td>OD552</td>\n",
       "      <td>2025-04-16 11:17:00</td>\n",
       "      <td>95</td>\n",
       "    </tr>\n",
       "    <tr>\n",
       "      <td>1</td>\n",
       "      <td>OD552</td>\n",
       "      <td>2025-04-16 11:22:00</td>\n",
       "      <td>86</td>\n",
       "    </tr>\n",
       "    <tr>\n",
       "      <td>2</td>\n",
       "      <td>OD552</td>\n",
       "      <td>2025-04-16 11:27:00</td>\n",
       "      <td>81</td>\n",
       "    </tr>\n",
       "    <tr>\n",
       "      <td>3</td>\n",
       "      <td>OD552</td>\n",
       "      <td>2025-04-16 11:32:00</td>\n",
       "      <td>81</td>\n",
       "    </tr>\n",
       "    <tr>\n",
       "      <td>4</td>\n",
       "      <td>OD552</td>\n",
       "      <td>2025-04-16 11:37:00</td>\n",
       "      <td>82</td>\n",
       "    </tr>\n",
       "    <tr>\n",
       "      <td>...</td>\n",
       "      <td>...</td>\n",
       "      <td>...</td>\n",
       "      <td>...</td>\n",
       "    </tr>\n",
       "    <tr>\n",
       "      <td>11439</td>\n",
       "      <td>OD552</td>\n",
       "      <td>2025-06-07 16:49:00</td>\n",
       "      <td>238</td>\n",
       "    </tr>\n",
       "    <tr>\n",
       "      <td>11440</td>\n",
       "      <td>OD552</td>\n",
       "      <td>2025-06-07 16:54:00</td>\n",
       "      <td>233</td>\n",
       "    </tr>\n",
       "    <tr>\n",
       "      <td>11441</td>\n",
       "      <td>OD552</td>\n",
       "      <td>2025-06-07 16:59:00</td>\n",
       "      <td>229</td>\n",
       "    </tr>\n",
       "    <tr>\n",
       "      <td>11442</td>\n",
       "      <td>OD552</td>\n",
       "      <td>2025-06-07 17:04:00</td>\n",
       "      <td>224</td>\n",
       "    </tr>\n",
       "    <tr>\n",
       "      <td>11443</td>\n",
       "      <td>OD552</td>\n",
       "      <td>2025-06-07 17:09:00</td>\n",
       "      <td>215</td>\n",
       "    </tr>\n",
       "  </tbody>\n",
       "</table>\n",
       "<p>11444 rows × 3 columns</p>\n",
       "</div>"
      ],
      "text/plain": [
       "      subjectId        Display Time  GlucoseValue\n",
       "0         OD552 2025-04-16 11:17:00            95\n",
       "1         OD552 2025-04-16 11:22:00            86\n",
       "2         OD552 2025-04-16 11:27:00            81\n",
       "3         OD552 2025-04-16 11:32:00            81\n",
       "4         OD552 2025-04-16 11:37:00            82\n",
       "...         ...                 ...           ...\n",
       "11439     OD552 2025-06-07 16:49:00           238\n",
       "11440     OD552 2025-06-07 16:54:00           233\n",
       "11441     OD552 2025-06-07 16:59:00           229\n",
       "11442     OD552 2025-06-07 17:04:00           224\n",
       "11443     OD552 2025-06-07 17:09:00           215\n",
       "\n",
       "[11444 rows x 3 columns]"
      ]
     },
     "execution_count": 3,
     "metadata": {},
     "output_type": "execute_result"
    }
   ],
   "source": [
    "data = pd.read_csv(\"~/Desktop/NCSA_genomics/Python - notebooks/Data/Ohio-Data/OhioFullConsolidated.csv\")\n",
    "data['Display Time'] = pd.to_datetime(data['Display Time'])\n",
    "data['GlucoseValue'] = pd.to_numeric(data['GlucoseValue'])\n",
    "data = data[data['subjectId']=='OD552']\n",
    "data = data.reset_index(drop=True)\n",
    "data"
   ]
  },
  {
   "cell_type": "code",
   "execution_count": 4,
   "metadata": {
    "ExecuteTime": {
     "end_time": "2020-10-29T02:23:01.170702Z",
     "start_time": "2020-10-29T02:23:01.157521Z"
    }
   },
   "outputs": [],
   "source": [
    "# data.to_csv('~/Desktop/r.csv')"
   ]
  },
  {
   "cell_type": "code",
   "execution_count": 5,
   "metadata": {
    "ExecuteTime": {
     "end_time": "2020-10-29T02:23:01.184227Z",
     "start_time": "2020-10-29T02:23:01.175301Z"
    }
   },
   "outputs": [],
   "source": [
    "obj = glucoCheckOps()"
   ]
  },
  {
   "cell_type": "code",
   "execution_count": 6,
   "metadata": {
    "ExecuteTime": {
     "end_time": "2020-10-29T02:23:02.927004Z",
     "start_time": "2020-10-29T02:23:01.231435Z"
    }
   },
   "outputs": [
    {
     "ename": "NameError",
     "evalue": "name 'DecisionTreeClassifier' is not defined",
     "output_type": "error",
     "traceback": [
      "\u001b[0;31m---------------------------------------------------------------------------\u001b[0m",
      "\u001b[0;31mNameError\u001b[0m                                 Traceback (most recent call last)",
      "\u001b[0;32m<ipython-input-6-bf0dcebbc2a4>\u001b[0m in \u001b[0;36m<module>\u001b[0;34m\u001b[0m\n\u001b[0;32m----> 1\u001b[0;31m \u001b[0mobj\u001b[0m\u001b[0;34m.\u001b[0m\u001b[0mclassifier\u001b[0m\u001b[0;34m(\u001b[0m\u001b[0mdata\u001b[0m\u001b[0;34m)\u001b[0m\u001b[0;34m\u001b[0m\u001b[0;34m\u001b[0m\u001b[0m\n\u001b[0m",
      "\u001b[0;32m~/Desktop/NCSA_genomics/Python - notebooks/GlucoCheck/glucoCheck.py\u001b[0m in \u001b[0;36mclassifier\u001b[0;34m(self, individual, training_data)\u001b[0m\n\u001b[1;32m    650\u001b[0m         \u001b[0mtest\u001b[0m\u001b[0;34m.\u001b[0m\u001b[0mappend\u001b[0m\u001b[0;34m(\u001b[0m\u001b[0ml\u001b[0m\u001b[0;34m)\u001b[0m\u001b[0;34m\u001b[0m\u001b[0;34m\u001b[0m\u001b[0m\n\u001b[1;32m    651\u001b[0m \u001b[0;34m\u001b[0m\u001b[0m\n\u001b[0;32m--> 652\u001b[0;31m         \u001b[0mclf\u001b[0m \u001b[0;34m=\u001b[0m \u001b[0mDecisionTreeClassifier\u001b[0m\u001b[0;34m(\u001b[0m\u001b[0mrandom_state\u001b[0m\u001b[0;34m=\u001b[0m\u001b[0;36m42\u001b[0m\u001b[0;34m)\u001b[0m\u001b[0;34m\u001b[0m\u001b[0;34m\u001b[0m\u001b[0m\n\u001b[0m\u001b[1;32m    653\u001b[0m         \u001b[0mclf\u001b[0m\u001b[0;34m.\u001b[0m\u001b[0mfit\u001b[0m\u001b[0;34m(\u001b[0m\u001b[0mX_train\u001b[0m\u001b[0;34m,\u001b[0m\u001b[0my_train\u001b[0m\u001b[0;34m)\u001b[0m\u001b[0;34m\u001b[0m\u001b[0;34m\u001b[0m\u001b[0m\n\u001b[1;32m    654\u001b[0m         \u001b[0my_pred\u001b[0m \u001b[0;34m=\u001b[0m \u001b[0mclf\u001b[0m\u001b[0;34m.\u001b[0m\u001b[0mpredict\u001b[0m\u001b[0;34m(\u001b[0m\u001b[0mtest\u001b[0m\u001b[0;34m)\u001b[0m\u001b[0;34m\u001b[0m\u001b[0;34m\u001b[0m\u001b[0m\n",
      "\u001b[0;31mNameError\u001b[0m: name 'DecisionTreeClassifier' is not defined"
     ]
    }
   ],
   "source": [
    "obj.classifier(data)"
   ]
  },
  {
   "cell_type": "code",
   "execution_count": null,
   "metadata": {},
   "outputs": [],
   "source": []
  },
  {
   "cell_type": "code",
   "execution_count": null,
   "metadata": {
    "ExecuteTime": {
     "end_time": "2020-10-29T02:00:59.872027Z",
     "start_time": "2020-10-29T02:00:59.863738Z"
    }
   },
   "outputs": [],
   "source": [
    "seed = 9250\n",
    "start = seed\n",
    "end = seed+44"
   ]
  },
  {
   "cell_type": "code",
   "execution_count": null,
   "metadata": {
    "ExecuteTime": {
     "end_time": "2020-10-29T02:00:59.901924Z",
     "start_time": "2020-10-29T02:00:59.875615Z"
    }
   },
   "outputs": [],
   "source": [
    "dataWithMissing = data.copy()\n",
    "dataWithMissing = createGap(dataWithMissing,start,end)\n",
    "# dataWithMissing['Display Time'] = pd.to_datetime(dataWithMissing['Display Time'])\n",
    "# dataWithMissing = dataWithMissing.set_index(['Display Time'], drop=True)"
   ]
  },
  {
   "cell_type": "code",
   "execution_count": null,
   "metadata": {
    "ExecuteTime": {
     "end_time": "2020-10-29T02:03:43.149015Z",
     "start_time": "2020-10-29T02:00:59.949299Z"
    }
   },
   "outputs": [],
   "source": [
    "imputed = obj.impute(dataWithMissing)"
   ]
  },
  {
   "cell_type": "code",
   "execution_count": null,
   "metadata": {
    "ExecuteTime": {
     "end_time": "2020-10-29T02:03:43.220095Z",
     "start_time": "2020-10-29T02:03:43.153122Z"
    }
   },
   "outputs": [],
   "source": [
    "imputed"
   ]
  },
  {
   "cell_type": "code",
   "execution_count": null,
   "metadata": {},
   "outputs": [],
   "source": []
  },
  {
   "cell_type": "code",
   "execution_count": null,
   "metadata": {},
   "outputs": [],
   "source": []
  }
 ],
 "metadata": {
  "kernelspec": {
   "display_name": "Python 3",
   "language": "python",
   "name": "python3"
  },
  "language_info": {
   "codemirror_mode": {
    "name": "ipython",
    "version": 3
   },
   "file_extension": ".py",
   "mimetype": "text/x-python",
   "name": "python",
   "nbconvert_exporter": "python",
   "pygments_lexer": "ipython3",
   "version": "3.7.4"
  }
 },
 "nbformat": 4,
 "nbformat_minor": 2
}
