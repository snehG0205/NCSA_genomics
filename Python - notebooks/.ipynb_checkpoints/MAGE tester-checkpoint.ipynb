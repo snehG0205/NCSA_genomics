{
 "cells": [
  {
   "cell_type": "code",
   "execution_count": 28,
   "metadata": {},
   "outputs": [],
   "source": [
    "import pandas as pd\n",
    "import numpy as np\n",
    "import matplotlib.pyplot as plt\n",
    "from TSForecasting.mage_calc import MageDataSet"
   ]
  },
  {
   "cell_type": "code",
   "execution_count": 29,
   "metadata": {},
   "outputs": [],
   "source": [
    "data = pd.read_csv('~/Desktop/NCSA_genomics/Python - notebooks//TSForecasting/Data/consolidatedDataForPaper.csv')\n",
    "\n",
    "meta = pd.read_csv('~/Desktop/NCSA_genomics/Python - notebooks//TSForecasting/Data/consolidatedMetadata.csv')"
   ]
  },
  {
   "cell_type": "code",
   "execution_count": 30,
   "metadata": {},
   "outputs": [
    {
     "name": "stdout",
     "output_type": "stream",
     "text": [
      "Here is a glimpse of the data:\n",
      "\n",
      "         Display Time  Unnamed: 0 subjectId  GlucoseValue\n",
      "0 2016-06-21 00:00:00         0.0     GVP01         197.0\n",
      "1 2016-06-21 00:15:00         1.0     GVP01         208.0\n",
      "2 2016-06-21 00:30:00         2.0     GVP01         226.0\n",
      "3 2016-06-21 00:45:00         3.0     GVP01         241.0\n",
      "4 2016-06-21 01:00:00         4.0     GVP01         250.0\n"
     ]
    }
   ],
   "source": [
    "data['Display Time'] = data['Display Time'].apply(lambda x: pd.datetime.strptime(x, '%Y-%m-%d %H:%M:%S'))\n",
    "print(\"Here is a glimpse of the data:\\n\")\n",
    "print(data.head())"
   ]
  },
  {
   "cell_type": "code",
   "execution_count": 31,
   "metadata": {},
   "outputs": [
    {
     "name": "stdout",
     "output_type": "stream",
     "text": [
      "GVP01 189.59375\n",
      "GVP03 119.87924416888102\n",
      "ID01 137.19991304347826\n",
      "ID02 40.234656434999984\n",
      "ID03 179.6076794\n",
      "ID11 124.30588235294117\n",
      "ID12 78.64615384615382\n",
      "ID13 81.94628571428572\n",
      "ID21 68.14285714285714\n",
      "ID22 56.7535\n",
      "ID23 87.13542857142856\n",
      "ID29 57.160000000000025\n",
      "ID30 39.56470588235295\n",
      "ID31 48.568386839999995\n",
      "ID32 55.223880597014926\n",
      "ID33 33.99272727272727\n",
      "OD540 125.28125\n",
      "OD544 139.44878048780487\n",
      "OD552 125.32291666666667\n",
      "OD559 179.03030303030303\n",
      "OD563 119.38793103448276\n",
      "OD567 145.0164609053498\n",
      "OD570 145.63333333333333\n",
      "OD575 140.91015625\n",
      "OD584 143.5663082437276\n",
      "OD588 112.81939799331104\n",
      "OD591 133.2509225092251\n",
      "OD596 121.87562189054727\n"
     ]
    }
   ],
   "source": [
    "for subjectId, df in data.groupby('subjectId'):\n",
    "    glucs = df['GlucoseValue'].to_list()\n",
    "    indices = [1*i for i in range(len(glucs))]\n",
    "    m = MageDataSet(indices, glucs)\n",
    "    k = m.getMAGE()\n",
    "#     k=0\n",
    "    print(subjectId,k)\n",
    "    \n"
   ]
  }
 ],
 "metadata": {
  "kernelspec": {
   "display_name": "Python 3",
   "language": "python",
   "name": "python3"
  },
  "language_info": {
   "codemirror_mode": {
    "name": "ipython",
    "version": 3
   },
   "file_extension": ".py",
   "mimetype": "text/x-python",
   "name": "python",
   "nbconvert_exporter": "python",
   "pygments_lexer": "ipython3",
   "version": "3.7.4"
  }
 },
 "nbformat": 4,
 "nbformat_minor": 2
}
