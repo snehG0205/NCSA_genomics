{
 "cells": [
  {
   "cell_type": "code",
   "execution_count": 1,
   "metadata": {},
   "outputs": [
    {
     "name": "stderr",
     "output_type": "stream",
     "text": [
      "Using TensorFlow backend.\n"
     ]
    }
   ],
   "source": [
    "from TSForecasting.TsForecasting import TimeSeriesForecast\n",
    "import pandas as pd\n",
    "import random\n",
    "import numpy as np\n",
    "from tqdm.auto import tqdm"
   ]
  },
  {
   "cell_type": "code",
   "execution_count": 2,
   "metadata": {},
   "outputs": [],
   "source": [
    "from sklearn.preprocessing import MinMaxScaler\n",
    "from scipy import stats\n",
    "\n",
    "import random\n",
    "import re\n",
    "from dateutil.parser import parse\n",
    "\n",
    "import warnings  \n",
    "warnings.filterwarnings('ignore')\n",
    "\n",
    "import os\n"
   ]
  },
  {
   "cell_type": "code",
   "execution_count": 3,
   "metadata": {},
   "outputs": [],
   "source": [
    "def createGap(df,start,end):\n",
    "    \"\"\"\n",
    "    Creating a Gap\n",
    "    input:\n",
    "        start: seed\n",
    "        end: seed + gap\n",
    "    output:\n",
    "        df: dataframe with index => DisplayTime value => GlucoseValues and a gap from start to end (inputs)\n",
    "    \"\"\"\n",
    "\n",
    "    #df = readData()\n",
    "    l = len(df.index)\n",
    "    if end>l:\n",
    "        end = l\n",
    "        \n",
    "    for i in range(start,end):\n",
    "        df['GlucoseValue'][i]=0\n",
    "    \n",
    "    return df"
   ]
  },
  {
   "cell_type": "code",
   "execution_count": 4,
   "metadata": {},
   "outputs": [],
   "source": [
    "    def impute(self,test_data,flag=0):\n",
    "        \"\"\"\n",
    "            The impute method performs the imputations using the trained LSTM model\n",
    "            Input:\n",
    "                test_data: testing data\n",
    "                lstm_model: trainied lstm model\n",
    "            Output:\n",
    "                A file with imputed values\n",
    "        \"\"\"\n",
    "        test_data = self.datePreprocess(test_data)\n",
    "        b,e,s,f,gaps = self.detectGap(test_data)\n",
    "        test = test_data.iloc[0:f]\n",
    "\n",
    "        scaler = MinMaxScaler(feature_range=(0, 1))\n",
    "        test_sc = scaler.fit_transform(test)\n",
    "        X_test = test_sc[:-1]\n",
    "        y_test = test_sc[1:]\n",
    "        test_sc_df = pd.DataFrame(test_sc, columns=['Y'], index=test.index)\n",
    "        for s in range(1,2):\n",
    "            test_sc_df['X_{}'.format(s)] = test_sc_df['Y'].shift(s)\n",
    "    \n",
    "    \n",
    "        X_test = test_sc_df.dropna().drop('Y', axis=1)\n",
    "        y_test = test_sc_df.dropna().drop('X_1', axis=1)\n",
    "    \n",
    "        X_test = X_test.as_matrix()\n",
    "        y_test = y_test.as_matrix()\n",
    "        \n",
    "        X_test_lmse = X_test.reshape(X_test.shape[0], X_test.shape[1], 1)\n",
    "        \n",
    "        #print(X_test_lmse)\n",
    "        y_pred_test_lstm = self.lstm_model.predict(X_test_lmse);\n",
    "        \n",
    "        #print(\"The R2 score on the Test set is:\\t{:0.3f}\".format(r2_score(y_test, y_pred_test_lstm)))\n",
    "        \n",
    "        \n",
    "        #inversing the scaling\n",
    "        lstm_pred = scaler.inverse_transform(y_pred_test_lstm)\n",
    "        test_val = scaler.inverse_transform(y_test)\n",
    "\n",
    "        lstm_pred = lstm_pred.tolist()\n",
    "        \n",
    "        lstm_pred = lstm_pred*200\n",
    "        \n",
    "        x=0\n",
    "        for i in range(b-1,e):\n",
    "            print(i,x)\n",
    "            test_data['GlucoseValue'][i] = lstm_pred[x][0]\n",
    "            x+=1\n",
    "        \n",
    "\n",
    "        if flag==1:\n",
    "            return test_data"
   ]
  },
  {
   "cell_type": "code",
   "execution_count": 5,
   "metadata": {},
   "outputs": [],
   "source": [
    "#Extract Data\n",
    "data = pd.read_csv(\"~/Desktop/NCSA_genomics/Python - notebooks/TSForecasting/Data/Hall/data_hall_raw.csv\")"
   ]
  },
  {
   "cell_type": "code",
   "execution_count": 6,
   "metadata": {},
   "outputs": [],
   "source": [
    "data = data[data['subjectId']=='1636-69-032']\n",
    "data = data.reset_index(drop=True)"
   ]
  },
  {
   "cell_type": "code",
   "execution_count": 7,
   "metadata": {},
   "outputs": [
    {
     "data": {
      "text/html": [
       "<div>\n",
       "<style scoped>\n",
       "    .dataframe tbody tr th:only-of-type {\n",
       "        vertical-align: middle;\n",
       "    }\n",
       "\n",
       "    .dataframe tbody tr th {\n",
       "        vertical-align: top;\n",
       "    }\n",
       "\n",
       "    .dataframe thead th {\n",
       "        text-align: right;\n",
       "    }\n",
       "</style>\n",
       "<table border=\"1\" class=\"dataframe\">\n",
       "  <thead>\n",
       "    <tr style=\"text-align: right;\">\n",
       "      <th></th>\n",
       "      <th>Display Time</th>\n",
       "      <th>GlucoseValue</th>\n",
       "    </tr>\n",
       "  </thead>\n",
       "  <tbody>\n",
       "    <tr>\n",
       "      <td>0</td>\n",
       "      <td>2016-01-13 12:58:17</td>\n",
       "      <td>122</td>\n",
       "    </tr>\n",
       "    <tr>\n",
       "      <td>1</td>\n",
       "      <td>2016-01-13 13:03:17</td>\n",
       "      <td>123</td>\n",
       "    </tr>\n",
       "    <tr>\n",
       "      <td>2</td>\n",
       "      <td>2016-01-13 13:08:17</td>\n",
       "      <td>124</td>\n",
       "    </tr>\n",
       "    <tr>\n",
       "      <td>3</td>\n",
       "      <td>2016-01-13 13:13:17</td>\n",
       "      <td>128</td>\n",
       "    </tr>\n",
       "    <tr>\n",
       "      <td>4</td>\n",
       "      <td>2016-01-13 13:18:17</td>\n",
       "      <td>133</td>\n",
       "    </tr>\n",
       "    <tr>\n",
       "      <td>...</td>\n",
       "      <td>...</td>\n",
       "      <td>...</td>\n",
       "    </tr>\n",
       "    <tr>\n",
       "      <td>1778</td>\n",
       "      <td>2016-01-19 17:12:49</td>\n",
       "      <td>101</td>\n",
       "    </tr>\n",
       "    <tr>\n",
       "      <td>1779</td>\n",
       "      <td>2016-01-19 17:17:49</td>\n",
       "      <td>98</td>\n",
       "    </tr>\n",
       "    <tr>\n",
       "      <td>1780</td>\n",
       "      <td>2016-01-19 17:22:49</td>\n",
       "      <td>101</td>\n",
       "    </tr>\n",
       "    <tr>\n",
       "      <td>1781</td>\n",
       "      <td>2016-01-19 17:27:49</td>\n",
       "      <td>106</td>\n",
       "    </tr>\n",
       "    <tr>\n",
       "      <td>1782</td>\n",
       "      <td>2016-01-19 17:32:49</td>\n",
       "      <td>107</td>\n",
       "    </tr>\n",
       "  </tbody>\n",
       "</table>\n",
       "<p>1783 rows × 2 columns</p>\n",
       "</div>"
      ],
      "text/plain": [
       "            Display Time  GlucoseValue\n",
       "0    2016-01-13 12:58:17           122\n",
       "1    2016-01-13 13:03:17           123\n",
       "2    2016-01-13 13:08:17           124\n",
       "3    2016-01-13 13:13:17           128\n",
       "4    2016-01-13 13:18:17           133\n",
       "...                  ...           ...\n",
       "1778 2016-01-19 17:12:49           101\n",
       "1779 2016-01-19 17:17:49            98\n",
       "1780 2016-01-19 17:22:49           101\n",
       "1781 2016-01-19 17:27:49           106\n",
       "1782 2016-01-19 17:32:49           107\n",
       "\n",
       "[1783 rows x 2 columns]"
      ]
     },
     "execution_count": 7,
     "metadata": {},
     "output_type": "execute_result"
    }
   ],
   "source": [
    "data.drop(['subjectId'], axis=1, inplace=True)\n",
    "data['Display Time'] = data['Display Time'].apply(lambda x: pd.datetime.strptime(x, '%Y-%m-%d %H:%M:%S'))\n",
    "# data = data.set_index(['Display Time'], drop=True)\n",
    "data"
   ]
  },
  {
   "cell_type": "code",
   "execution_count": 8,
   "metadata": {},
   "outputs": [],
   "source": [
    "# sample = random.sample(range(500, 1200), 100)\n",
    "# sample\n",
    "start_points = pd.read_csv('~/Desktop/NCSA_genomics/Python - notebooks/TSForecasting/Metrics/gap_start.csv')\n",
    "gap_5 = start_points['g5'].tolist()\n",
    "gap_15 = start_points['g15'].tolist()\n",
    "gap_30 = start_points['g30'].tolist()\n",
    "gap_50 = start_points['g50'].tolist()\n",
    "gap_100 = start_points['g100'].tolist()\n",
    "gap_500 = start_points['g500'].tolist()"
   ]
  },
  {
   "cell_type": "code",
   "execution_count": 9,
   "metadata": {},
   "outputs": [
    {
     "name": "stdout",
     "output_type": "stream",
     "text": [
      "Object Created!\n"
     ]
    }
   ],
   "source": [
    "tsfObj = TimeSeriesForecast()"
   ]
  },
  {
   "cell_type": "code",
   "execution_count": 10,
   "metadata": {},
   "outputs": [
    {
     "data": {
      "image/png": "[encoded data removed]",
      "text/plain": [
       "<Figure size 1440x576 with 1 Axes>"
      ]
     },
     "metadata": {
      "needs_background": "light"
     },
     "output_type": "display_data"
    }
   ],
   "source": [
    "tsfObj.plot(data)"
   ]
  },
  {
   "cell_type": "code",
   "execution_count": 11,
   "metadata": {},
   "outputs": [
    {
     "name": "stdout",
     "output_type": "stream",
     "text": [
      "Training Model...\n",
      "\n",
      "\n",
      "Epoch 1/1\n",
      "212852/212852 [==============================] - 424s 2ms/step - loss: 5.8471e-04\n",
      "Model traines successfully!\n"
     ]
    }
   ],
   "source": [
    "tsfObj.train()"
   ]
  },
  {
   "cell_type": "code",
   "execution_count": null,
   "metadata": {},
   "outputs": [],
   "source": []
  },
  {
   "cell_type": "code",
   "execution_count": 12,
   "metadata": {},
   "outputs": [
    {
     "data": {
      "application/vnd.jupyter.widget-view+json": {
       "model_id": "e11d115c163d4438bf2fbb509e3ef39f",
       "version_major": 2,
       "version_minor": 0
      },
      "text/plain": [
       "HBox(children=(IntProgress(value=0), HTML(value='')))"
      ]
     },
     "metadata": {},
     "output_type": "display_data"
    },
    {
     "ename": "NameError",
     "evalue": "name 'o' is not defined",
     "output_type": "error",
     "traceback": [
      "\u001b[0;31m---------------------------------------------------------------------------\u001b[0m",
      "\u001b[0;31mNameError\u001b[0m                                 Traceback (most recent call last)",
      "\u001b[0;32m<ipython-input-12-5f9aa2f69a1e>\u001b[0m in \u001b[0;36m<module>\u001b[0;34m\u001b[0m\n\u001b[1;32m     14\u001b[0m     \u001b[0mimputed_data\u001b[0m \u001b[0;34m=\u001b[0m \u001b[0mtsfObj\u001b[0m\u001b[0;34m.\u001b[0m\u001b[0mimpute\u001b[0m\u001b[0;34m(\u001b[0m\u001b[0mdata_with_missing\u001b[0m\u001b[0;34m,\u001b[0m\u001b[0;36m1\u001b[0m\u001b[0;34m)\u001b[0m\u001b[0;34m\u001b[0m\u001b[0;34m\u001b[0m\u001b[0m\n\u001b[1;32m     15\u001b[0m \u001b[0;34m\u001b[0m\u001b[0m\n\u001b[0;32m---> 16\u001b[0;31m     \u001b[0mmad\u001b[0m \u001b[0;34m=\u001b[0m \u001b[0mtsfObj\u001b[0m\u001b[0;34m.\u001b[0m\u001b[0mmad\u001b[0m\u001b[0;34m(\u001b[0m\u001b[0mimputed_data\u001b[0m\u001b[0;34m[\u001b[0m\u001b[0;34m'GlucoseValue'\u001b[0m\u001b[0;34m]\u001b[0m\u001b[0;34m.\u001b[0m\u001b[0mtolist\u001b[0m\u001b[0;34m(\u001b[0m\u001b[0;34m)\u001b[0m\u001b[0;34m)\u001b[0m\u001b[0;34m\u001b[0m\u001b[0;34m\u001b[0m\u001b[0m\n\u001b[0m\u001b[1;32m     17\u001b[0m     \u001b[0mioa\u001b[0m \u001b[0;34m=\u001b[0m \u001b[0mtsfObj\u001b[0m\u001b[0;34m.\u001b[0m\u001b[0mindex_agreement\u001b[0m\u001b[0;34m(\u001b[0m\u001b[0mnp\u001b[0m\u001b[0;34m.\u001b[0m\u001b[0masarray\u001b[0m\u001b[0;34m(\u001b[0m\u001b[0mimputed_data\u001b[0m\u001b[0;34m[\u001b[0m\u001b[0;34m'GlucoseValue'\u001b[0m\u001b[0;34m]\u001b[0m\u001b[0;34m.\u001b[0m\u001b[0mtolist\u001b[0m\u001b[0;34m(\u001b[0m\u001b[0;34m)\u001b[0m\u001b[0;34m)\u001b[0m\u001b[0;34m,\u001b[0m\u001b[0mnp\u001b[0m\u001b[0;34m.\u001b[0m\u001b[0masarray\u001b[0m\u001b[0;34m(\u001b[0m\u001b[0mdata\u001b[0m\u001b[0;34m[\u001b[0m\u001b[0;34m'GlucoseValue'\u001b[0m\u001b[0;34m]\u001b[0m\u001b[0;34m.\u001b[0m\u001b[0mtolist\u001b[0m\u001b[0;34m(\u001b[0m\u001b[0;34m)\u001b[0m\u001b[0;34m)\u001b[0m\u001b[0;34m)\u001b[0m\u001b[0;34m\u001b[0m\u001b[0;34m\u001b[0m\u001b[0m\n\u001b[1;32m     18\u001b[0m     \u001b[0mfb\u001b[0m \u001b[0;34m=\u001b[0m \u001b[0mtsfObj\u001b[0m\u001b[0;34m.\u001b[0m\u001b[0mfracBias\u001b[0m\u001b[0;34m(\u001b[0m\u001b[0mnp\u001b[0m\u001b[0;34m.\u001b[0m\u001b[0masarray\u001b[0m\u001b[0;34m(\u001b[0m\u001b[0mimputed_data\u001b[0m\u001b[0;34m[\u001b[0m\u001b[0;34m'GlucoseValue'\u001b[0m\u001b[0;34m]\u001b[0m\u001b[0;34m.\u001b[0m\u001b[0mtolist\u001b[0m\u001b[0;34m(\u001b[0m\u001b[0;34m)\u001b[0m\u001b[0;34m)\u001b[0m\u001b[0;34m,\u001b[0m\u001b[0mnp\u001b[0m\u001b[0;34m.\u001b[0m\u001b[0masarray\u001b[0m\u001b[0;34m(\u001b[0m\u001b[0mdata\u001b[0m\u001b[0;34m[\u001b[0m\u001b[0;34m'GlucoseValue'\u001b[0m\u001b[0;34m]\u001b[0m\u001b[0;34m.\u001b[0m\u001b[0mtolist\u001b[0m\u001b[0;34m(\u001b[0m\u001b[0;34m)\u001b[0m\u001b[0;34m)\u001b[0m\u001b[0;34m)\u001b[0m\u001b[0;34m\u001b[0m\u001b[0;34m\u001b[0m\u001b[0m\n",
      "\u001b[0;32m~/Desktop/NCSA_genomics/Python - notebooks/TSForecasting/TsForecasting.py\u001b[0m in \u001b[0;36mmad\u001b[0;34m(self, s)\u001b[0m\n\u001b[1;32m    720\u001b[0m         \"\"\"\n\u001b[1;32m    721\u001b[0m \u001b[0;34m\u001b[0m\u001b[0m\n\u001b[0;32m--> 722\u001b[0;31m         \u001b[0;32mreturn\u001b[0m \u001b[0mnp\u001b[0m\u001b[0;34m.\u001b[0m\u001b[0mmean\u001b[0m\u001b[0;34m(\u001b[0m\u001b[0mabs\u001b[0m\u001b[0;34m(\u001b[0m\u001b[0ms\u001b[0m\u001b[0;34m-\u001b[0m\u001b[0mo\u001b[0m\u001b[0;34m)\u001b[0m\u001b[0;34m)\u001b[0m\u001b[0;34m\u001b[0m\u001b[0;34m\u001b[0m\u001b[0m\n\u001b[0m\u001b[1;32m    723\u001b[0m \u001b[0;34m\u001b[0m\u001b[0m\n\u001b[1;32m    724\u001b[0m \u001b[0;34m\u001b[0m\u001b[0m\n",
      "\u001b[0;31mNameError\u001b[0m: name 'o' is not defined"
     ]
    }
   ],
   "source": [
    "#for gap size 500\n",
    "ioa_gap500 = list()\n",
    "fb_gap500 = list()\n",
    "mad_gap500 = list()\n",
    "\n",
    "for seed in tqdm(gap_500):\n",
    "    start = seed\n",
    "    end = seed+500\n",
    "    data_with_missing = data.copy()\n",
    "    data_with_missing = createGap(data_with_missing,start,end)\n",
    "    imputed_data = tsfObj.impute(data_with_missing,1)\n",
    "    \n",
    "    mad = tsfObj.mad(np.asarray(imputed_data['GlucoseValue'].tolist()),np.asarray(data['GlucoseValue'].tolist()))\n",
    "    ioa = tsfObj.index_agreement(np.asarray(imputed_data['GlucoseValue'].tolist()),np.asarray(data['GlucoseValue'].tolist()))\n",
    "    fb = tsfObj.fracBias(np.asarray(imputed_data['GlucoseValue'].tolist()),np.asarray(data['GlucoseValue'].tolist()))\n",
    "\n",
    "    mad_gap500.append(mad)\n",
    "    ioa_gap500.append(ioa)\n",
    "    fb_gap500.append(fb)\n",
    "\n",
    "    "
   ]
  },
  {
   "cell_type": "code",
   "execution_count": null,
   "metadata": {},
   "outputs": [],
   "source": [
    "# start,end\n",
    "# impute(tsfObj,data_with_missing,1)\n"
   ]
  },
  {
   "cell_type": "code",
   "execution_count": null,
   "metadata": {},
   "outputs": [],
   "source": [
    "#for gap size 100\n",
    "ioa_gap100 = list()\n",
    "fb_gap100 = list()\n",
    "mad_gap100 = list()\n",
    "\n",
    "for seed in tqdm(gap_100):\n",
    "    start = seed\n",
    "    end = seed+100\n",
    "    data_with_missing = data.copy()\n",
    "    data_with_missing = createGap(data_with_missing,start,end)\n",
    "    imputed_data = tsfObj.impute(data_with_missing,1)\n",
    "    \n",
    "    mad = tsfObj.mad(np.asarray(imputed_data['GlucoseValue'].tolist()),np.asarray(data['GlucoseValue'].tolist()))\n",
    "    ioa = tsfObj.index_agreement(np.asarray(imputed_data['GlucoseValue'].tolist()),np.asarray(data['GlucoseValue'].tolist()))\n",
    "    fb = tsfObj.fracBias(np.asarray(imputed_data['GlucoseValue'].tolist()),np.asarray(data['GlucoseValue'].tolist()))\n",
    "    \n",
    "    mad_gap100.append(mad)\n",
    "    ioa_gap100.append(ioa)\n",
    "    fb_gap100.append(fb)\n"
   ]
  },
  {
   "cell_type": "code",
   "execution_count": null,
   "metadata": {},
   "outputs": [],
   "source": [
    "#for gap size 50\n",
    "ioa_gap50 = list()\n",
    "fb_gap50 = list()\n",
    "mad_gap50 = list()\n",
    "\n",
    "for seed in tqdm(gap_50):\n",
    "    start = seed\n",
    "    end = seed+50\n",
    "    data_with_missing = data.copy()\n",
    "    data_with_missing = createGap(data_with_missing,start,end)\n",
    "    imputed_data = tsfObj.impute(data_with_missing,1)\n",
    "    \n",
    "    mad = tsfObj.mad(np.asarray(imputed_data['GlucoseValue'].tolist()),np.asarray(data['GlucoseValue'].tolist()))\n",
    "    ioa = tsfObj.index_agreement(np.asarray(imputed_data['GlucoseValue'].tolist()),np.asarray(data['GlucoseValue'].tolist()))\n",
    "    fb = tsfObj.fracBias(np.asarray(imputed_data['GlucoseValue'].tolist()),np.asarray(data['GlucoseValue'].tolist()))\n",
    "    \n",
    "    mad_gap50.append(mad)\n",
    "    ioa_gap50.append(ioa)\n",
    "    fb_gap50.append(fb)\n"
   ]
  },
  {
   "cell_type": "code",
   "execution_count": null,
   "metadata": {},
   "outputs": [],
   "source": [
    "#for gap size 30\n",
    "ioa_gap30 = list()\n",
    "fb_gap30 = list()\n",
    "mad_gap30 = list()\n",
    "\n",
    "for seed in tqdm(gap_30):\n",
    "    start = seed\n",
    "    end = seed+30\n",
    "    data_with_missing = data.copy()\n",
    "    data_with_missing = createGap(data_with_missing,start,end)\n",
    "    imputed_data = tsfObj.impute(data_with_missing,1)\n",
    "    \n",
    "    mad = tsfObj.mad(np.asarray(imputed_data['GlucoseValue'].tolist()),np.asarray(data['GlucoseValue'].tolist()))\n",
    "    ioa = tsfObj.index_agreement(np.asarray(imputed_data['GlucoseValue'].tolist()),np.asarray(data['GlucoseValue'].tolist()))\n",
    "    fb = tsfObj.fracBias(np.asarray(imputed_data['GlucoseValue'].tolist()),np.asarray(data['GlucoseValue'].tolist()))\n",
    "    \n",
    "    mad_gap30.append(mad)\n",
    "    ioa_gap30.append(ioa)\n",
    "    fb_gap30.append(fb)\n"
   ]
  },
  {
   "cell_type": "code",
   "execution_count": null,
   "metadata": {},
   "outputs": [],
   "source": [
    "#for gap size 15\n",
    "ioa_gap15 = list()\n",
    "fb_gap15 = list()\n",
    "mad_gap15 = list()\n",
    "\n",
    "for seed in tqdm(gap_15):\n",
    "    start = seed\n",
    "    end = seed+15\n",
    "    data_with_missing = data.copy()\n",
    "    data_with_missing = createGap(data_with_missing,start,end)\n",
    "    imputed_data = tsfObj.impute(data_with_missing,1)\n",
    "    \n",
    "    mad = tsfObj.mad(np.asarray(imputed_data['GlucoseValue'].tolist()),np.asarray(data['GlucoseValue'].tolist()))\n",
    "    ioa = tsfObj.index_agreement(np.asarray(imputed_data['GlucoseValue'].tolist()),np.asarray(data['GlucoseValue'].tolist()))\n",
    "    fb = tsfObj.fracBias(np.asarray(imputed_data['GlucoseValue'].tolist()),np.asarray(data['GlucoseValue'].tolist()))\n",
    "    \n",
    "    mad_gap15.append(mad)\n",
    "    ioa_gap15.append(ioa)\n",
    "    fb_gap15.append(fb)\n",
    "    "
   ]
  },
  {
   "cell_type": "code",
   "execution_count": null,
   "metadata": {},
   "outputs": [],
   "source": [
    "#for gap size 5\n",
    "ioa_gap5 = list()\n",
    "fb_gap5 = list()\n",
    "mad_gap5 = list()\n",
    "\n",
    "for seed in tqdm(gap_5):\n",
    "    start = seed\n",
    "    end = seed+5\n",
    "    data_with_missing = data.copy()\n",
    "    data_with_missing = createGap(data_with_missing,start,end)\n",
    "    imputed_data = tsfObj.impute(data_with_missing,1)\n",
    "    \n",
    "    mad = tsfObj.mad(np.asarray(imputed_data['GlucoseValue'].tolist()),np.asarray(data['GlucoseValue'].tolist()))\n",
    "    ioa = tsfObj.index_agreement(np.asarray(imputed_data['GlucoseValue'].tolist()),np.asarray(data['GlucoseValue'].tolist()))\n",
    "    fb = tsfObj.fracBias(np.asarray(imputed_data['GlucoseValue'].tolist()),np.asarray(data['GlucoseValue'].tolist()))\n",
    "\n",
    "    mad_gap5.append(mad)\n",
    "    ioa_gap5.append(ioa)\n",
    "    fb_gap5.append(fb)\n"
   ]
  },
  {
   "cell_type": "code",
   "execution_count": null,
   "metadata": {},
   "outputs": [],
   "source": [
    "MAD = pd.DataFrame({'Gap:5':mad_gap5, 'Gap:15':mad_gap15, 'Gap:30':mad_gap30, 'Gap:50':mad_gap50, 'Gap:100':mad_gap100, 'Gap:500':mad_gap500})\n",
    "MAD"
   ]
  },
  {
   "cell_type": "code",
   "execution_count": null,
   "metadata": {},
   "outputs": [],
   "source": [
    "IOA = pd.DataFrame({'Gap:5':ioa_gap5, 'Gap:15':ioa_gap15, 'Gap:30':ioa_gap30, 'Gap:50':ioa_gap50, 'Gap:100':ioa_gap100, 'Gap:500':ioa_gap500})\n",
    "IOA"
   ]
  },
  {
   "cell_type": "code",
   "execution_count": null,
   "metadata": {},
   "outputs": [],
   "source": [
    "FB = pd.DataFrame({'Gap:5':fb_gap5, 'Gap:15':fb_gap15, 'Gap:30':fb_gap30, 'Gap:50':fb_gap50, 'Gap:100':fb_gap100, 'Gap:500':fb_gap500})\n",
    "FB"
   ]
  },
  {
   "cell_type": "code",
   "execution_count": null,
   "metadata": {},
   "outputs": [],
   "source": [
    "# RMSE = pd.DataFrame({'Seed':sample, 'Gap:5':rmse_gap5, 'Gap:15':rmse_gap15, 'Gap:30':rmse_gap30, 'Gap:50':rmse_gap50, 'Gap:100':rmse_gap100, 'Gap:500':rmse_gap500})\n",
    "# RMSE"
   ]
  },
  {
   "cell_type": "code",
   "execution_count": null,
   "metadata": {},
   "outputs": [],
   "source": [
    "# MAE = pd.DataFrame({'Seed':sample, 'Gap:5':mae_gap5, 'Gap:15':mae_gap15, 'Gap:30':mae_gap30, 'Gap:50':mae_gap50, 'Gap:100':mae_gap100, 'Gap:500':mae_gap500})\n",
    "# MAE"
   ]
  },
  {
   "cell_type": "code",
   "execution_count": null,
   "metadata": {},
   "outputs": [],
   "source": [
    "# MAPE = pd.DataFrame({'Seed':sample, 'Gap:5':mape_gap5, 'Gap:15':mape_gap15, 'Gap:30':mape_gap30, 'Gap:50':mape_gap50, 'Gap:100':mape_gap100, 'Gap:500':mape_gap500})\n",
    "# MAPE"
   ]
  },
  {
   "cell_type": "code",
   "execution_count": null,
   "metadata": {},
   "outputs": [],
   "source": [
    "IOA.to_csv(\"~/Desktop/NCSA_genomics/Python - notebooks/TSForecasting/Metrics/IOA.csv\")\n",
    "FB.to_csv(\"~/Desktop/NCSA_genomics/Python - notebooks/TSForecasting/Metrics/FB.csv\")\n",
    "# RMSE.to_csv(\"~/Desktop/NCSA_genomics/Python - notebooks/TSForecasting/Metrics/RMSE.csv\")\n",
    "# MAE.to_csv(\"~/Desktop/NCSA_genomics/Python - notebooks/TSForecasting/Metrics/MAE.csv\")\n",
    "# MAPE.to_csv(\"~/Desktop/NCSA_genomics/Python - notebooks/TSForecasting/Metrics/MAPE.csv\")\n",
    "MAD.to_csv(\"~/Desktop/NCSA_genomics/Python - notebooks/TSForecasting/Metrics/MAD.csv\")"
   ]
  },
  {
   "cell_type": "code",
   "execution_count": null,
   "metadata": {},
   "outputs": [],
   "source": []
  }
 ],
 "metadata": {
  "kernelspec": {
   "display_name": "Python 3",
   "language": "python",
   "name": "python3"
  },
  "language_info": {
   "codemirror_mode": {
    "name": "ipython",
    "version": 3
   },
   "file_extension": ".py",
   "mimetype": "text/x-python",
   "name": "python",
   "nbconvert_exporter": "python",
   "pygments_lexer": "ipython3",
   "version": "3.7.4"
  }
 },
 "nbformat": 4,
 "nbformat_minor": 2
}
