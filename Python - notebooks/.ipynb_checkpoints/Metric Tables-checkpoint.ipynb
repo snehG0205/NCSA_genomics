{
 "cells": [
  {
   "cell_type": "code",
   "execution_count": null,
   "metadata": {
    "ExecuteTime": {
     "end_time": "2020-10-07T21:21:01.472263Z",
     "start_time": "2020-10-07T21:20:49.906730Z"
    }
   },
   "outputs": [],
   "source": []
  },
  {
   "cell_type": "code",
   "execution_count": 1,
   "metadata": {
    "ExecuteTime": {
     "end_time": "2020-10-28T17:22:58.000722Z",
     "start_time": "2020-10-28T17:22:45.193216Z"
    }
   },
   "outputs": [
    {
     "name": "stderr",
     "output_type": "stream",
     "text": [
      "Using TensorFlow backend.\n"
     ]
    }
   ],
   "source": [
    "from GlucoCheck.glucoCheck import glucoCheckOps\n",
    "import pandas as pd\n",
    "import random\n",
    "import numpy as np\n",
    "from tqdm.auto import tqdm\n",
    "\n",
    "from scipy import stats\n",
    "\n",
    "import random\n",
    "import re\n",
    "from dateutil.parser import parse\n",
    "\n",
    "import warnings  \n",
    "warnings.filterwarnings('ignore')\n",
    "\n",
    "import os\n"
   ]
  },
  {
   "cell_type": "code",
   "execution_count": 2,
   "metadata": {
    "ExecuteTime": {
     "end_time": "2020-10-28T17:22:58.096036Z",
     "start_time": "2020-10-28T17:22:58.053873Z"
    }
   },
   "outputs": [],
   "source": [
    "def createGap(df,start,end):\n",
    "    \"\"\"\n",
    "    Creating a Gap\n",
    "    input:\n",
    "        start: seed\n",
    "        end: seed + gap\n",
    "    output:\n",
    "        df: dataframe with index => DisplayTime value => GlucoseValues and a gap from start to end (inputs)\n",
    "    \"\"\"\n",
    "\n",
    "    #df = readData()\n",
    "    l = len(df.index)\n",
    "    if end>l:\n",
    "        end = l\n",
    "        \n",
    "    for i in range(start,end):\n",
    "        df['GlucoseValue'][i]=float(\"NaN\")\n",
    "    \n",
    "    return df"
   ]
  },
  {
   "cell_type": "code",
   "execution_count": 3,
   "metadata": {
    "ExecuteTime": {
     "end_time": "2020-10-28T17:22:58.660791Z",
     "start_time": "2020-10-28T17:22:58.136044Z"
    }
   },
   "outputs": [
    {
     "data": {
      "text/html": [
       "<div>\n",
       "<style scoped>\n",
       "    .dataframe tbody tr th:only-of-type {\n",
       "        vertical-align: middle;\n",
       "    }\n",
       "\n",
       "    .dataframe tbody tr th {\n",
       "        vertical-align: top;\n",
       "    }\n",
       "\n",
       "    .dataframe thead th {\n",
       "        text-align: right;\n",
       "    }\n",
       "</style>\n",
       "<table border=\"1\" class=\"dataframe\">\n",
       "  <thead>\n",
       "    <tr style=\"text-align: right;\">\n",
       "      <th></th>\n",
       "      <th>subjectId</th>\n",
       "      <th>Display Time</th>\n",
       "      <th>GlucoseValue</th>\n",
       "    </tr>\n",
       "  </thead>\n",
       "  <tbody>\n",
       "    <tr>\n",
       "      <td>0</td>\n",
       "      <td>OD552</td>\n",
       "      <td>4/16/25 11:17</td>\n",
       "      <td>95</td>\n",
       "    </tr>\n",
       "    <tr>\n",
       "      <td>1</td>\n",
       "      <td>OD552</td>\n",
       "      <td>4/16/25 11:22</td>\n",
       "      <td>86</td>\n",
       "    </tr>\n",
       "    <tr>\n",
       "      <td>2</td>\n",
       "      <td>OD552</td>\n",
       "      <td>4/16/25 11:27</td>\n",
       "      <td>81</td>\n",
       "    </tr>\n",
       "    <tr>\n",
       "      <td>3</td>\n",
       "      <td>OD552</td>\n",
       "      <td>4/16/25 11:32</td>\n",
       "      <td>81</td>\n",
       "    </tr>\n",
       "    <tr>\n",
       "      <td>4</td>\n",
       "      <td>OD552</td>\n",
       "      <td>4/16/25 11:37</td>\n",
       "      <td>82</td>\n",
       "    </tr>\n",
       "    <tr>\n",
       "      <td>...</td>\n",
       "      <td>...</td>\n",
       "      <td>...</td>\n",
       "      <td>...</td>\n",
       "    </tr>\n",
       "    <tr>\n",
       "      <td>11439</td>\n",
       "      <td>OD552</td>\n",
       "      <td>6/7/25 16:49</td>\n",
       "      <td>238</td>\n",
       "    </tr>\n",
       "    <tr>\n",
       "      <td>11440</td>\n",
       "      <td>OD552</td>\n",
       "      <td>6/7/25 16:54</td>\n",
       "      <td>233</td>\n",
       "    </tr>\n",
       "    <tr>\n",
       "      <td>11441</td>\n",
       "      <td>OD552</td>\n",
       "      <td>6/7/25 16:59</td>\n",
       "      <td>229</td>\n",
       "    </tr>\n",
       "    <tr>\n",
       "      <td>11442</td>\n",
       "      <td>OD552</td>\n",
       "      <td>6/7/25 17:04</td>\n",
       "      <td>224</td>\n",
       "    </tr>\n",
       "    <tr>\n",
       "      <td>11443</td>\n",
       "      <td>OD552</td>\n",
       "      <td>6/7/25 17:09</td>\n",
       "      <td>215</td>\n",
       "    </tr>\n",
       "  </tbody>\n",
       "</table>\n",
       "<p>11444 rows × 3 columns</p>\n",
       "</div>"
      ],
      "text/plain": [
       "      subjectId   Display Time  GlucoseValue\n",
       "0         OD552  4/16/25 11:17            95\n",
       "1         OD552  4/16/25 11:22            86\n",
       "2         OD552  4/16/25 11:27            81\n",
       "3         OD552  4/16/25 11:32            81\n",
       "4         OD552  4/16/25 11:37            82\n",
       "...         ...            ...           ...\n",
       "11439     OD552   6/7/25 16:49           238\n",
       "11440     OD552   6/7/25 16:54           233\n",
       "11441     OD552   6/7/25 16:59           229\n",
       "11442     OD552   6/7/25 17:04           224\n",
       "11443     OD552   6/7/25 17:09           215\n",
       "\n",
       "[11444 rows x 3 columns]"
      ]
     },
     "execution_count": 3,
     "metadata": {},
     "output_type": "execute_result"
    }
   ],
   "source": [
    "#Extract Data\n",
    "data = pd.read_csv(\"~/Desktop/NCSA_genomics/Python - notebooks/Data/Ohio-Data/OhioFullConsolidated.csv\")\n",
    "data = data[data['subjectId']=='OD552']\n",
    "data = data.reset_index(drop=True)\n",
    "data"
   ]
  },
  {
   "cell_type": "code",
   "execution_count": null,
   "metadata": {
    "ExecuteTime": {
     "end_time": "2020-10-16T20:27:50.285935Z",
     "start_time": "2020-10-16T20:27:50.235970Z"
    }
   },
   "outputs": [],
   "source": []
  },
  {
   "cell_type": "code",
   "execution_count": 103,
   "metadata": {
    "ExecuteTime": {
     "end_time": "2020-10-28T20:27:17.823424Z",
     "start_time": "2020-10-28T20:27:17.816924Z"
    }
   },
   "outputs": [],
   "source": [
    "#1 week after : 1890, 1974, 2003, 2196, 2378, 2581, 2751, 3190, 3223, 3301\n",
    "#2 weeks after: 3600, 3797, 3828, 3939, 4210, 4353, 4567, 4890, 5102, 5200\n",
    "#3 weeks after: 5500, 5681, 5727, 5893, 5919, 6060, 6143, 6250, 6492, 6600\n",
    "#4 weeks after: 7000, 7296, 7384, 7557, 7572, 7698, 7839, 7934, 8190, 8250\n",
    "#5 weeks after: 8500, 8670, 8792, 8810, 8972, 9009, 9380, 9592, 9715, 9800\n",
    "#6 weeks after: 10100, 10274, 10453, 10679, 10712, 10890, 109100, 11069, 11170, 11200\n",
    "seed_points = [10100, 10274, 10453, 10679, 10712, 10890, 109100, 11069, 11170, 11200]\n",
    "\n",
    "# "
   ]
  },
  {
   "cell_type": "code",
   "execution_count": 104,
   "metadata": {
    "ExecuteTime": {
     "end_time": "2020-10-28T20:27:18.221706Z",
     "start_time": "2020-10-28T20:27:18.210552Z"
    }
   },
   "outputs": [],
   "source": [
    "# obj = glucoCheckOps()"
   ]
  },
  {
   "cell_type": "code",
   "execution_count": null,
   "metadata": {
    "ExecuteTime": {
     "end_time": "2020-10-23T05:11:30.937878Z",
     "start_time": "2020-10-23T05:11:30.932745Z"
    }
   },
   "outputs": [],
   "source": []
  },
  {
   "cell_type": "code",
   "execution_count": null,
   "metadata": {
    "ExecuteTime": {
     "start_time": "2020-10-28T20:27:19.993Z"
    }
   },
   "outputs": [
    {
     "data": {
      "application/vnd.jupyter.widget-view+json": {
       "model_id": "a9b86e1956bc463bad6964a339fa651f",
       "version_major": 2,
       "version_minor": 0
      },
      "text/plain": [
       "HBox(children=(IntProgress(value=0, max=10), HTML(value='')))"
      ]
     },
     "metadata": {},
     "output_type": "display_data"
    },
    {
     "name": "stdout",
     "output_type": "stream",
     "text": [
      "Gap < 50; We use LSTM imputations\n",
      "Training Model...\n",
      "\n",
      "\n",
      "Model trained successfully!\n",
      "Gap < 50; We use LSTM imputations\n",
      "Training Model...\n",
      "\n",
      "\n",
      "Model trained successfully!\n",
      "Gap < 50; We use LSTM imputations\n",
      "Training Model...\n",
      "\n",
      "\n",
      "Model trained successfully!\n",
      "Gap < 50; We use LSTM imputations\n",
      "Training Model...\n",
      "\n",
      "\n",
      "Model trained successfully!\n",
      "Gap < 50; We use LSTM imputations\n",
      "Training Model...\n",
      "\n",
      "\n"
     ]
    }
   ],
   "source": [
    "\n",
    "#for gap size 50\n",
    "ioa_gap50 = list()\n",
    "\n",
    "\n",
    "for seed in tqdm(seed_points):\n",
    "    start = seed\n",
    "    end = seed+49\n",
    "    \n",
    "    dataWithMissing = data.copy()\n",
    "    dataWithMissing = createGap(dataWithMissing,start,end)\n",
    "    \n",
    "    dataBeforeGap = dataWithMissing[:seed]\n",
    "    \n",
    "    obj = glucoCheckOps()\n",
    "#     obj.train(dataBeforeGap);\n",
    "    imputed_data = obj.impute(dataWithMissing)\n",
    "\n",
    "    ioa = obj.index_agreement(np.asarray(imputed_data['GlucoseValue'][start:end-1].tolist()),np.asarray(data['GlucoseValue'][start:end-1].tolist()))\n",
    "\n",
    "    del obj\n",
    "\n",
    "    ioa_gap50.append(ioa)\n",
    "\n",
    "ioa_gap50"
   ]
  },
  {
   "cell_type": "code",
   "execution_count": null,
   "metadata": {
    "ExecuteTime": {
     "start_time": "2020-10-28T20:27:20.365Z"
    }
   },
   "outputs": [],
   "source": [
    "#for gap size 30\n",
    "ioa_gap30 = list()\n",
    "\n",
    "for seed in tqdm(seed_points):\n",
    "    start = seed\n",
    "    end = start+29\n",
    "    \n",
    "    dataWithMissing = data.copy()\n",
    "    dataWithMissing = createGap(dataWithMissing,start,end)\n",
    "    \n",
    "    dataBeforeGap = dataWithMissing[:seed]\n",
    "    \n",
    "    obj = glucoCheckOps()\n",
    "#     obj.train(dataBeforeGap);\n",
    "    imputed_data = obj.impute(dataWithMissing)\n",
    "\n",
    "    ioa = obj.index_agreement(np.asarray(imputed_data['GlucoseValue'][start:end-1].tolist()),np.asarray(data['GlucoseValue'][start:end-1].tolist()))  \n",
    "    \n",
    "    del obj\n",
    "\n",
    "    ioa_gap30.append(ioa)\n",
    "\n",
    "ioa_gap30\n"
   ]
  },
  {
   "cell_type": "code",
   "execution_count": null,
   "metadata": {
    "ExecuteTime": {
     "start_time": "2020-10-28T20:27:20.806Z"
    }
   },
   "outputs": [],
   "source": [
    "#for gap size 12\n",
    "ioa_gap15 = list()\n",
    "\n",
    "\n",
    "for seed in tqdm(seed_points):\n",
    "    start = seed\n",
    "    end = start+12\n",
    "    \n",
    "    dataWithMissing = data.copy()\n",
    "    dataWithMissing = createGap(dataWithMissing,start,end)\n",
    "    \n",
    "    dataBeforeGap = dataWithMissing[:seed]\n",
    "    \n",
    "    obj = glucoCheckOps()\n",
    "#     obj.train(dataBeforeGap);\n",
    "    imputed_data = obj.impute(dataWithMissing)\n",
    "\n",
    "    ioa = obj.index_agreement(np.asarray(imputed_data['GlucoseValue'][start:end-1].tolist()),np.asarray(data['GlucoseValue'][start:end-1].tolist()))  \n",
    "    \n",
    "    del obj\n",
    "    \n",
    "    ioa_gap15.append(ioa)\n",
    "\n",
    "ioa_gap15"
   ]
  },
  {
   "cell_type": "code",
   "execution_count": null,
   "metadata": {
    "ExecuteTime": {
     "start_time": "2020-10-28T20:27:21.210Z"
    }
   },
   "outputs": [],
   "source": [
    "#for gap size 100\n",
    "ioa_gap100 = list()\n",
    "\n",
    "for seed in tqdm(seed_points):\n",
    "    start = seed\n",
    "    end = seed+99\n",
    "    \n",
    "    dataWithMissing = data.copy()\n",
    "    dataWithMissing = createGap(dataWithMissing,start,end)\n",
    "    \n",
    "    dataBeforeGap = dataWithMissing[:seed]\n",
    "    \n",
    "    obj = glucoCheckOps()\n",
    "#     obj.train(dataBeforeGap);\n",
    "    imputed_data = obj.impute(dataWithMissing)\n",
    "    \n",
    "    if isinstance(imputed_data, pd.DataFrame):\n",
    "        ioa = obj.index_agreement(np.asarray(imputed_data['GlucoseValue'][start:end-1].tolist()),np.asarray(data['GlucoseValue'][start:end-1].tolist()))\n",
    "        ioa_gap100.append(ioa)\n",
    "    else:\n",
    "        ioa_gap100.append(0)\n",
    "\n",
    "    del obj\n",
    "\n",
    "    \n",
    "    \n",
    "ioa_gap100"
   ]
  },
  {
   "cell_type": "code",
   "execution_count": null,
   "metadata": {
    "ExecuteTime": {
     "start_time": "2020-10-28T20:27:21.617Z"
    }
   },
   "outputs": [],
   "source": [
    "\n",
    "\n",
    "\n",
    "#for gap size 5\n",
    "ioa_gap5 = list()\n",
    "# fb_gap5 = list()\n",
    "# mad_gap5 = list()\n",
    "# rmse_gap5 = list()\n",
    "# mape_gap5 = list()\n",
    "\n",
    "for seed in tqdm(seed_points):\n",
    "    start = seed\n",
    "    end = start+4\n",
    "    \n",
    "    dataWithMissing = data.copy()\n",
    "    dataWithMissing = createGap(dataWithMissing,start,end)\n",
    "    \n",
    "    dataBeforeGap = dataWithMissing[:seed]\n",
    "    \n",
    "    obj = glucoCheckOps()\n",
    "#     obj.train(dataBeforeGap);\n",
    "    imputed_data = obj.impute(dataWithMissing)\n",
    "\n",
    "    ioa = obj.index_agreement(np.asarray(imputed_data['GlucoseValue'][start:end-1].tolist()),np.asarray(data['GlucoseValue'][start:end-1].tolist()))  \n",
    "    \n",
    "    del obj\n",
    "    \n",
    "    ioa_gap5.append(ioa)\n",
    "\n",
    "\n",
    "\n",
    "\n",
    "ioa_gap5"
   ]
  },
  {
   "cell_type": "code",
   "execution_count": null,
   "metadata": {},
   "outputs": [],
   "source": []
  },
  {
   "cell_type": "code",
   "execution_count": null,
   "metadata": {
    "ExecuteTime": {
     "start_time": "2020-10-28T20:27:22.392Z"
    }
   },
   "outputs": [],
   "source": [
    "IOA = pd.DataFrame({'Seeds':seed_points, 'Gap:5':ioa_gap5, 'Gap:12':ioa_gap15, 'Gap:30':ioa_gap30, 'Gap:50':ioa_gap50,'Gap:100':ioa_gap100})\n",
    "IOA\n"
   ]
  },
  {
   "cell_type": "code",
   "execution_count": null,
   "metadata": {},
   "outputs": [],
   "source": []
  },
  {
   "cell_type": "code",
   "execution_count": null,
   "metadata": {
    "ExecuteTime": {
     "start_time": "2020-10-28T20:27:23.161Z"
    }
   },
   "outputs": [],
   "source": [
    "IOA.to_csv(\"~/Desktop/6week.csv\")"
   ]
  },
  {
   "cell_type": "code",
   "execution_count": null,
   "metadata": {},
   "outputs": [],
   "source": []
  },
  {
   "cell_type": "code",
   "execution_count": null,
   "metadata": {},
   "outputs": [],
   "source": []
  },
  {
   "cell_type": "code",
   "execution_count": null,
   "metadata": {
    "ExecuteTime": {
     "start_time": "2020-10-28T20:27:24.520Z"
    }
   },
   "outputs": [],
   "source": [
    "import matplotlib.pyplot as plt\n",
    "import matplotlib.ticker as ticker\n",
    "import seaborn as sns"
   ]
  },
  {
   "cell_type": "code",
   "execution_count": null,
   "metadata": {
    "ExecuteTime": {
     "start_time": "2020-10-28T20:27:24.908Z"
    }
   },
   "outputs": [],
   "source": [
    "# IOA"
   ]
  },
  {
   "cell_type": "code",
   "execution_count": null,
   "metadata": {
    "ExecuteTime": {
     "start_time": "2020-10-28T20:27:25.368Z"
    }
   },
   "outputs": [],
   "source": [
    "gaps = [5,15,30,50,100]\n",
    "ioa = []\n",
    "ioa.append(IOA['Gap:5'].mean())\n",
    "ioa.append(IOA['Gap:12'].mean())\n",
    "ioa.append(IOA['Gap:30'].mean())\n",
    "ioa.append(IOA['Gap:50'].mean())\n",
    "ioa.append(IOA['Gap:100'].mean())\n",
    "ioa"
   ]
  },
  {
   "cell_type": "code",
   "execution_count": null,
   "metadata": {
    "ExecuteTime": {
     "start_time": "2020-10-28T20:27:25.910Z"
    }
   },
   "outputs": [],
   "source": [
    "plt.figure(figsize=(14,8))\n",
    "plt.title(\"Avg. IOA vs Gap size\")\n",
    "sns.set(style=\"white\")\n",
    "fig = sns.lineplot(x = gaps, y = ioa, palette=\"tab10\", linewidth=1.25)\n",
    "sns.despine()\n",
    "\n",
    "fig.set_xlabel('Gaps')\n",
    "fig.set_ylabel('IOA value')"
   ]
  },
  {
   "cell_type": "code",
   "execution_count": null,
   "metadata": {},
   "outputs": [],
   "source": []
  },
  {
   "cell_type": "code",
   "execution_count": null,
   "metadata": {
    "ExecuteTime": {
     "end_time": "2020-10-14T19:05:45.526332Z",
     "start_time": "2020-10-14T19:05:45.518683Z"
    }
   },
   "outputs": [],
   "source": []
  },
  {
   "cell_type": "code",
   "execution_count": null,
   "metadata": {
    "ExecuteTime": {
     "start_time": "2020-10-28T20:27:27.081Z"
    }
   },
   "outputs": [],
   "source": [
    "\n",
    "plt.figure(figsize=(14,8))\n",
    "plt.title(\"IOA for Gap:5\")\n",
    "sns.set(style=\"white\")\n",
    "fig = sns.lineplot(x = seed_points, y = IOA['Gap:5'], data = IOA, palette=\"tab10\", linewidth=1.25)\n",
    "sns.despine()\n",
    "\n",
    "fig.set_xlabel('Gap Seeds')\n",
    "fig.set_ylabel('IOA value')"
   ]
  },
  {
   "cell_type": "code",
   "execution_count": null,
   "metadata": {
    "ExecuteTime": {
     "start_time": "2020-10-28T20:27:27.636Z"
    }
   },
   "outputs": [],
   "source": [
    "\n",
    "plt.figure(figsize=(14,8))\n",
    "plt.title(\"IOA for Gap:15\")\n",
    "sns.set(style=\"white\")\n",
    "fig = sns.lineplot(x = seed_points, y = IOA['Gap:12'], data = IOA, palette=\"tab10\", linewidth=1.25)\n",
    "sns.despine()\n",
    "\n",
    "fig.set_xlabel('Gap Seeds')\n",
    "fig.set_ylabel('IOA value')"
   ]
  },
  {
   "cell_type": "code",
   "execution_count": null,
   "metadata": {
    "ExecuteTime": {
     "start_time": "2020-10-28T20:27:29.310Z"
    }
   },
   "outputs": [],
   "source": [
    "\n",
    "plt.figure(figsize=(14,8))\n",
    "plt.title(\"IOA for Gap:30\")\n",
    "sns.set(style=\"white\")\n",
    "fig = sns.lineplot(x = seed_points, y = IOA['Gap:30'], data = IOA, palette=\"tab10\", linewidth=1.25)\n",
    "sns.despine()\n",
    "\n",
    "fig.set_xlabel('Gap Seeds')\n",
    "fig.set_ylabel('IOA value')"
   ]
  },
  {
   "cell_type": "code",
   "execution_count": null,
   "metadata": {
    "ExecuteTime": {
     "start_time": "2020-10-28T20:27:30.303Z"
    }
   },
   "outputs": [],
   "source": [
    "\n",
    "plt.figure(figsize=(14,8))\n",
    "plt.title(\"IOA for Gap:50\")\n",
    "sns.set(style=\"white\")\n",
    "fig = sns.lineplot(x = seed_points, y = IOA['Gap:50'], data = IOA, palette=\"tab10\", linewidth=1.25)\n",
    "sns.despine()\n",
    "\n",
    "fig.set_xlabel('Gap Seeds')\n",
    "fig.set_ylabel('IOA value')"
   ]
  },
  {
   "cell_type": "code",
   "execution_count": null,
   "metadata": {
    "ExecuteTime": {
     "start_time": "2020-10-28T20:27:31.216Z"
    }
   },
   "outputs": [],
   "source": [
    "\n",
    "plt.figure(figsize=(14,8))\n",
    "plt.title(\"IOA for Gap:100\")\n",
    "sns.set(style=\"white\")\n",
    "fig = sns.lineplot(x = seed_points, y = IOA['Gap:100'], data = IOA, palette=\"tab10\", linewidth=1.25)\n",
    "sns.despine()\n",
    "fig.set_xlabel('Gap Seeds')\n",
    "fig.set_ylabel('IOA value')"
   ]
  },
  {
   "cell_type": "markdown",
   "metadata": {},
   "source": [
    "#### "
   ]
  },
  {
   "cell_type": "code",
   "execution_count": null,
   "metadata": {},
   "outputs": [],
   "source": []
  },
  {
   "cell_type": "code",
   "execution_count": 22,
   "metadata": {
    "ExecuteTime": {
     "end_time": "2020-10-28T17:36:57.947886Z",
     "start_time": "2020-10-28T17:36:57.940509Z"
    }
   },
   "outputs": [],
   "source": [
    "# MAD = pd.DataFrame({'Gap:5':mad_gap5, 'Gap:15':mad_gap15, 'Gap:30':mad_gap30, 'Gap:50':mad_gap50, 'Gap:100':mad_gap100})\n",
    "# MAD"
   ]
  },
  {
   "cell_type": "code",
   "execution_count": 23,
   "metadata": {
    "ExecuteTime": {
     "end_time": "2020-10-28T17:36:57.967053Z",
     "start_time": "2020-10-28T17:36:57.960079Z"
    }
   },
   "outputs": [],
   "source": [
    "# FB = pd.DataFrame({'Gap:5':fb_gap5, 'Gap:15':fb_gap15, 'Gap:30':fb_gap30, 'Gap:50':fb_gap50, 'Gap:100':fb_gap100})\n",
    "# FB"
   ]
  },
  {
   "cell_type": "code",
   "execution_count": 24,
   "metadata": {
    "ExecuteTime": {
     "end_time": "2020-10-28T17:36:57.978425Z",
     "start_time": "2020-10-28T17:36:57.970868Z"
    }
   },
   "outputs": [],
   "source": [
    "# RMSE = pd.DataFrame({'Gap:5':rmse_gap5, 'Gap:15':rmse_gap15, 'Gap:30':rmse_gap30, 'Gap:50':rmse_gap50, 'Gap:100':rmse_gap100})\n",
    "# RMSE"
   ]
  },
  {
   "cell_type": "code",
   "execution_count": 25,
   "metadata": {
    "ExecuteTime": {
     "end_time": "2020-10-28T17:36:58.039215Z",
     "start_time": "2020-10-28T17:36:57.984775Z"
    }
   },
   "outputs": [],
   "source": [
    "# MAPE = pd.DataFrame({'Gap:5':mape_gap5, 'Gap:15':mape_gap15, 'Gap:30':mape_gap30, 'Gap:50':mape_gap50, 'Gap:100':mape_gap100})\n",
    "# MAPE"
   ]
  },
  {
   "cell_type": "code",
   "execution_count": 26,
   "metadata": {
    "ExecuteTime": {
     "end_time": "2020-10-28T17:36:58.072137Z",
     "start_time": "2020-10-28T17:36:58.061311Z"
    }
   },
   "outputs": [],
   "source": [
    "# IOA.to_csv(\"~/Desktop/NCSA_genomics/Python - notebooks/GlucoCheck/Metrics/IOA.csv\")\n",
    "# FB.to_csv(\"~/Desktop/NCSA_genomics/Python - notebooks/GlucoCheck/Metrics/FB.csv\")\n",
    "# RMSE.to_csv(\"~/Desktop/NCSA_genomics/Python - notebooks/GlucoCheck/Metrics/RMSE.csv\")\n",
    "# MAPE.to_csv(\"~/Desktop/NCSA_genomics/Python - notebooks/GlucoCheck/Metrics/MAPE.csv\")\n",
    "# MAD.to_csv(\"~/Desktop/NCSA_genomics/Python - notebooks/GlucoCheck/Metrics/MAD.csv\")"
   ]
  },
  {
   "cell_type": "code",
   "execution_count": null,
   "metadata": {},
   "outputs": [],
   "source": []
  }
 ],
 "metadata": {
  "kernelspec": {
   "display_name": "Python 3",
   "language": "python",
   "name": "python3"
  },
  "language_info": {
   "codemirror_mode": {
    "name": "ipython",
    "version": 3
   },
   "file_extension": ".py",
   "mimetype": "text/x-python",
   "name": "python",
   "nbconvert_exporter": "python",
   "pygments_lexer": "ipython3",
   "version": "3.7.4"
  }
 },
 "nbformat": 4,
 "nbformat_minor": 2
}
