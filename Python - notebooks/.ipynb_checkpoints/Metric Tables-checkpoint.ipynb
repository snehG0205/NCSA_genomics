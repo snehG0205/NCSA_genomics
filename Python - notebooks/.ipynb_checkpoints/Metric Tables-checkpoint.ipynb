{
 "cells": [
  {
   "cell_type": "code",
   "execution_count": 2,
   "metadata": {},
   "outputs": [
    {
     "name": "stderr",
     "output_type": "stream",
     "text": [
      "Using TensorFlow backend.\n"
     ]
    }
   ],
   "source": [
    "from GlucoCheck.glucoCheck import glucoCheckOps\n",
    "import pandas as pd\n",
    "import random\n",
    "import numpy as np\n",
    "from tqdm.auto import tqdm"
   ]
  },
  {
   "cell_type": "code",
   "execution_count": 3,
   "metadata": {},
   "outputs": [],
   "source": [
    "\n",
    "from scipy import stats\n",
    "\n",
    "import random\n",
    "import re\n",
    "from dateutil.parser import parse\n",
    "\n",
    "import warnings  \n",
    "warnings.filterwarnings('ignore')\n",
    "\n",
    "import os\n"
   ]
  },
  {
   "cell_type": "code",
   "execution_count": 4,
   "metadata": {},
   "outputs": [],
   "source": [
    "def createGap(df,start,end):\n",
    "    \"\"\"\n",
    "    Creating a Gap\n",
    "    input:\n",
    "        start: seed\n",
    "        end: seed + gap\n",
    "    output:\n",
    "        df: dataframe with index => DisplayTime value => GlucoseValues and a gap from start to end (inputs)\n",
    "    \"\"\"\n",
    "\n",
    "    #df = readData()\n",
    "    l = len(df.index)\n",
    "    if end>l:\n",
    "        end = l\n",
    "        \n",
    "    for i in range(start,end):\n",
    "        df['GlucoseValue'][i]=0\n",
    "    \n",
    "    return df"
   ]
  },
  {
   "cell_type": "code",
   "execution_count": 5,
   "metadata": {},
   "outputs": [],
   "source": [
    "#Extract Data\n",
    "data = pd.read_csv(\"~/Desktop/NCSA_genomics/Python - notebooks/GlucoCheck/Data/Hall/data_hall_raw.csv\")"
   ]
  },
  {
   "cell_type": "code",
   "execution_count": 6,
   "metadata": {},
   "outputs": [],
   "source": [
    "data = data[data['subjectId']=='1636-69-032']\n",
    "data = data.reset_index(drop=True)"
   ]
  },
  {
   "cell_type": "code",
   "execution_count": 7,
   "metadata": {},
   "outputs": [
    {
     "data": {
      "text/html": [
       "<div>\n",
       "<style scoped>\n",
       "    .dataframe tbody tr th:only-of-type {\n",
       "        vertical-align: middle;\n",
       "    }\n",
       "\n",
       "    .dataframe tbody tr th {\n",
       "        vertical-align: top;\n",
       "    }\n",
       "\n",
       "    .dataframe thead th {\n",
       "        text-align: right;\n",
       "    }\n",
       "</style>\n",
       "<table border=\"1\" class=\"dataframe\">\n",
       "  <thead>\n",
       "    <tr style=\"text-align: right;\">\n",
       "      <th></th>\n",
       "      <th>subjectId</th>\n",
       "      <th>Display Time</th>\n",
       "      <th>GlucoseValue</th>\n",
       "    </tr>\n",
       "  </thead>\n",
       "  <tbody>\n",
       "    <tr>\n",
       "      <td>0</td>\n",
       "      <td>1636-69-032</td>\n",
       "      <td>1/13/16 12:58</td>\n",
       "      <td>122</td>\n",
       "    </tr>\n",
       "    <tr>\n",
       "      <td>1</td>\n",
       "      <td>1636-69-032</td>\n",
       "      <td>1/13/16 13:03</td>\n",
       "      <td>123</td>\n",
       "    </tr>\n",
       "    <tr>\n",
       "      <td>2</td>\n",
       "      <td>1636-69-032</td>\n",
       "      <td>1/13/16 13:08</td>\n",
       "      <td>124</td>\n",
       "    </tr>\n",
       "    <tr>\n",
       "      <td>3</td>\n",
       "      <td>1636-69-032</td>\n",
       "      <td>1/13/16 13:13</td>\n",
       "      <td>128</td>\n",
       "    </tr>\n",
       "    <tr>\n",
       "      <td>4</td>\n",
       "      <td>1636-69-032</td>\n",
       "      <td>1/13/16 13:18</td>\n",
       "      <td>133</td>\n",
       "    </tr>\n",
       "    <tr>\n",
       "      <td>...</td>\n",
       "      <td>...</td>\n",
       "      <td>...</td>\n",
       "      <td>...</td>\n",
       "    </tr>\n",
       "    <tr>\n",
       "      <td>1778</td>\n",
       "      <td>1636-69-032</td>\n",
       "      <td>1/19/16 17:12</td>\n",
       "      <td>101</td>\n",
       "    </tr>\n",
       "    <tr>\n",
       "      <td>1779</td>\n",
       "      <td>1636-69-032</td>\n",
       "      <td>1/19/16 17:17</td>\n",
       "      <td>98</td>\n",
       "    </tr>\n",
       "    <tr>\n",
       "      <td>1780</td>\n",
       "      <td>1636-69-032</td>\n",
       "      <td>1/19/16 17:22</td>\n",
       "      <td>101</td>\n",
       "    </tr>\n",
       "    <tr>\n",
       "      <td>1781</td>\n",
       "      <td>1636-69-032</td>\n",
       "      <td>1/19/16 17:27</td>\n",
       "      <td>106</td>\n",
       "    </tr>\n",
       "    <tr>\n",
       "      <td>1782</td>\n",
       "      <td>1636-69-032</td>\n",
       "      <td>1/19/16 17:32</td>\n",
       "      <td>107</td>\n",
       "    </tr>\n",
       "  </tbody>\n",
       "</table>\n",
       "<p>1783 rows × 3 columns</p>\n",
       "</div>"
      ],
      "text/plain": [
       "        subjectId   Display Time  GlucoseValue\n",
       "0     1636-69-032  1/13/16 12:58           122\n",
       "1     1636-69-032  1/13/16 13:03           123\n",
       "2     1636-69-032  1/13/16 13:08           124\n",
       "3     1636-69-032  1/13/16 13:13           128\n",
       "4     1636-69-032  1/13/16 13:18           133\n",
       "...           ...            ...           ...\n",
       "1778  1636-69-032  1/19/16 17:12           101\n",
       "1779  1636-69-032  1/19/16 17:17            98\n",
       "1780  1636-69-032  1/19/16 17:22           101\n",
       "1781  1636-69-032  1/19/16 17:27           106\n",
       "1782  1636-69-032  1/19/16 17:32           107\n",
       "\n",
       "[1783 rows x 3 columns]"
      ]
     },
     "execution_count": 7,
     "metadata": {},
     "output_type": "execute_result"
    }
   ],
   "source": [
    "# data.drop(['subjectId'], axis=1, inplace=True)\n",
    "# data['Display Time'] = data['Display Time'].apply(lambda x: pd.datetime.strptime(x, '%Y-%m-%d %H:%M:%S'))\n",
    "# data = data.set_index(['Display Time'], drop=True)\n",
    "data.to_csv(\"~/Desktop/original.csv\")\n",
    "data\n"
   ]
  },
  {
   "cell_type": "code",
   "execution_count": 8,
   "metadata": {},
   "outputs": [],
   "source": [
    "# sample = random.sample(range(500, 1200), 100)\n",
    "# sample\n",
    "#1704,1704,1704,1704,1128,1160\n",
    "start_points = pd.read_csv('~/Desktop/NCSA_genomics/Python - notebooks/GlucoCheck/Metrics/gap_start.csv')\n",
    "gap_5 = 1704#start_points['g5'].tolist()\n",
    "gap_15 = 1704#start_points['g15'].tolist()\n",
    "gap_30 = 1704#start_points['g30'].tolist()\n",
    "gap_50 = 1704#start_points['g50'].tolist()"
   ]
  },
  {
   "cell_type": "code",
   "execution_count": 9,
   "metadata": {},
   "outputs": [
    {
     "name": "stdout",
     "output_type": "stream",
     "text": [
      "Object Created!\n"
     ]
    }
   ],
   "source": [
    "obj = glucoCheckOps()"
   ]
  },
  {
   "cell_type": "code",
   "execution_count": null,
   "metadata": {},
   "outputs": [
    {
     "name": "stdout",
     "output_type": "stream",
     "text": [
      "Epoch 1/10\n",
      "212849/212849 [==============================] - 301s 1ms/step - loss: 143.9372\n",
      "Epoch 2/10\n",
      "212849/212849 [==============================] - 292s 1ms/step - loss: 65.3644\n",
      "Epoch 3/10\n",
      " 93280/212849 [============>.................] - ETA: 2:35 - loss: 65.9276"
     ]
    }
   ],
   "source": [
    "obj.train()"
   ]
  },
  {
   "cell_type": "code",
   "execution_count": null,
   "metadata": {},
   "outputs": [],
   "source": []
  },
  {
   "cell_type": "code",
   "execution_count": null,
   "metadata": {},
   "outputs": [],
   "source": [
    "#for gap size 50\n",
    "ioa_gap50 = list()\n",
    "fb_gap50 = list()\n",
    "mad_gap50 = list()\n",
    "rmse_gap50 = list()\n",
    "mape_gap50 = list()\n",
    "\n",
    "# for seed in tqdm(gap_50):\n",
    "start = gap_50\n",
    "end = start+50\n",
    "data_with_missing = data.copy()\n",
    "data_with_missing = createGap(data_with_missing,start,end)\n",
    "#     data_with_missing = data_with_missing.drop(data_with_missing.columns[[0]], axis=1)\n",
    "imputed_data = obj.impute(data_with_missing,1)\n",
    "\n",
    "data_with_missing.to_csv(\"~/Desktop/Gap_50.csv\")\n",
    "imputed_data.to_csv(\"~/Desktop/imputed_50.csv\")\n",
    "\n",
    "mad = obj.mad(np.asarray(imputed_data['GlucoseValue'][start:end-1].tolist()),np.asarray(data['GlucoseValue'][start:end-1].tolist()))\n",
    "ioa = obj.index_agreement(np.asarray(imputed_data['GlucoseValue'][start:end-1].tolist()),np.asarray(data['GlucoseValue'][start:end-1].tolist()))\n",
    "fb = obj.fracBias(np.asarray(imputed_data['GlucoseValue'][start:end-1].tolist()),np.asarray(data['GlucoseValue'][start:end-1].tolist()))\n",
    "rmse = obj.rmse(np.asarray(imputed_data['GlucoseValue'][start:end-1].tolist()),np.asarray(data['GlucoseValue'][start:end-1].tolist()))\n",
    "mape = obj.mape(np.asarray(imputed_data['GlucoseValue'][start:end-1].tolist()),np.asarray(data['GlucoseValue'][start:end-1].tolist()))\n",
    "\n",
    "mad_gap50.append(mad)\n",
    "ioa_gap50.append(ioa)\n",
    "fb_gap50.append(fb)\n",
    "rmse_gap50.append(rmse)\n",
    "mape_gap50.append(mape)\n",
    "\n"
   ]
  },
  {
   "cell_type": "code",
   "execution_count": null,
   "metadata": {},
   "outputs": [],
   "source": [
    "#for gap size 30\n",
    "ioa_gap30 = list()\n",
    "fb_gap30 = list()\n",
    "mad_gap30 = list()\n",
    "rmse_gap30 = list()\n",
    "mape_gap30 = list()\n",
    "\n",
    "# for seed in tqdm(gap_30):\n",
    "start = gap_30\n",
    "end = start+30\n",
    "data_with_missing = data.copy()\n",
    "data_with_missing = createGap(data_with_missing,start,end)\n",
    "#     data_with_missing = data_with_missing.drop(data_with_missing.columns[[0]], axis=1)\n",
    "imputed_data = obj.impute(data_with_missing,1)\n",
    "\n",
    "data_with_missing.to_csv(\"~/Desktop/Gap_30.csv\")\n",
    "imputed_data.to_csv(\"~/Desktop/imputed_30.csv\")\n",
    "\n",
    "mad = obj.mad(np.asarray(imputed_data['GlucoseValue'][start:end-1].tolist()),np.asarray(data['GlucoseValue'][start:end-1].tolist()))\n",
    "ioa = obj.index_agreement(np.asarray(imputed_data['GlucoseValue'][start:end-1].tolist()),np.asarray(data['GlucoseValue'][start:end-1].tolist()))\n",
    "fb = obj.fracBias(np.asarray(imputed_data['GlucoseValue'][start:end-1].tolist()),np.asarray(data['GlucoseValue'][start:end-1].tolist()))\n",
    "rmse = obj.rmse(np.asarray(imputed_data['GlucoseValue'][start:end-1].tolist()),np.asarray(data['GlucoseValue'][start:end-1].tolist()))\n",
    "mape = obj.mape(np.asarray(imputed_data['GlucoseValue'][start:end-1].tolist()),np.asarray(data['GlucoseValue'][start:end-1].tolist()))\n",
    "\n",
    "mad_gap30.append(mad)\n",
    "ioa_gap30.append(ioa)\n",
    "fb_gap30.append(fb)\n",
    "rmse_gap30.append(rmse)\n",
    "mape_gap30.append(mape)\n",
    "\n"
   ]
  },
  {
   "cell_type": "code",
   "execution_count": null,
   "metadata": {},
   "outputs": [],
   "source": [
    "#for gap size 15\n",
    "ioa_gap15 = list()\n",
    "fb_gap15 = list()\n",
    "mad_gap15 = list()\n",
    "rmse_gap15 = list()\n",
    "mape_gap15 = list()\n",
    "\n",
    "# for seed in tqdm(gap_15):\n",
    "start = gap_15\n",
    "end = start+15\n",
    "data_with_missing = data.copy()\n",
    "data_with_missing = createGap(data_with_missing,start,end)\n",
    "# data_with_missing = data_with_missing.drop(data_with_missing.columns[[0]], axis=1)\n",
    "imputed_data = obj.impute(data_with_missing,1)\n",
    "\n",
    "data_with_missing.to_csv(\"~/Desktop/Gap_15.csv\")\n",
    "imputed_data.to_csv(\"~/Desktop/imputed_15.csv\")\n",
    "\n",
    "mad = obj.mad(np.asarray(imputed_data['GlucoseValue'][start:end-1].tolist()),np.asarray(data['GlucoseValue'][start:end-1].tolist()))\n",
    "ioa = obj.index_agreement(np.asarray(imputed_data['GlucoseValue'][start:end-1].tolist()),np.asarray(data['GlucoseValue'][start:end-1].tolist()))\n",
    "fb = obj.fracBias(np.asarray(imputed_data['GlucoseValue'][start:end-1].tolist()),np.asarray(data['GlucoseValue'][start:end-1].tolist()))\n",
    "rmse = obj.rmse(np.asarray(imputed_data['GlucoseValue'][start:end-1].tolist()),np.asarray(data['GlucoseValue'][start:end-1].tolist()))\n",
    "mape = obj.mape(np.asarray(imputed_data['GlucoseValue'][start:end-1].tolist()),np.asarray(data['GlucoseValue'][start:end-1].tolist()))\n",
    "\n",
    "mad_gap15.append(mad)\n",
    "ioa_gap15.append(ioa)\n",
    "fb_gap15.append(fb)\n",
    "rmse_gap15.append(rmse)\n",
    "mape_gap15.append(mape)\n",
    "\n",
    "    "
   ]
  },
  {
   "cell_type": "code",
   "execution_count": null,
   "metadata": {},
   "outputs": [],
   "source": [
    "#for gap size 5\n",
    "ioa_gap5 = list()\n",
    "fb_gap5 = list()\n",
    "mad_gap5 = list()\n",
    "rmse_gap5 = list()\n",
    "mape_gap5 = list()\n",
    "\n",
    "# for seed in tqdm(gap_5):\n",
    "start = gap_5\n",
    "end = start+5\n",
    "data_with_missing = data.copy()\n",
    "data_with_missing = createGap(data_with_missing,start,end)\n",
    "#     data_with_missing = data_with_missing.drop(data_with_missing.columns[[0]], axis=1)\n",
    "imputed_data = obj.impute(data_with_missing,1)\n",
    "\n",
    "data_with_missing.to_csv(\"~/Desktop/Gap_5.csv\")\n",
    "imputed_data.to_csv(\"~/Desktop/imputed_5.csv\")\n",
    "\n",
    "mad = obj.mad(np.asarray(imputed_data['GlucoseValue'][start:end-1].tolist()),np.asarray(data['GlucoseValue'][start:end-1].tolist()))\n",
    "ioa = obj.index_agreement(np.asarray(imputed_data['GlucoseValue'][start:end-1].tolist()),np.asarray(data['GlucoseValue'][start:end-1].tolist()))\n",
    "fb = obj.fracBias(np.asarray(imputed_data['GlucoseValue'][start:end-1].tolist()),np.asarray(data['GlucoseValue'][start:end-1].tolist()))\n",
    "rmse = obj.rmse(np.asarray(imputed_data['GlucoseValue'][start:end-1].tolist()),np.asarray(data['GlucoseValue'][start:end-1].tolist()))\n",
    "mape = obj.mape(np.asarray(imputed_data['GlucoseValue'][start:end-1].tolist()),np.asarray(data['GlucoseValue'][start:end-1].tolist()))\n",
    "\n",
    "mad_gap5.append(mad)\n",
    "ioa_gap5.append(ioa)\n",
    "fb_gap5.append(fb)\n",
    "rmse_gap5.append(rmse)\n",
    "mape_gap5.append(mape)\n",
    "\n"
   ]
  },
  {
   "cell_type": "code",
   "execution_count": null,
   "metadata": {},
   "outputs": [],
   "source": [
    "MAD = pd.DataFrame({'Gap:5':mad_gap5, 'Gap:15':mad_gap15, 'Gap:30':mad_gap30, 'Gap:50':mad_gap50, 'Gap:100':mad_gap100, 'Gap:500':mad_gap500})\n",
    "MAD"
   ]
  },
  {
   "cell_type": "code",
   "execution_count": null,
   "metadata": {},
   "outputs": [],
   "source": [
    "IOA = pd.DataFrame({'Gap:5':ioa_gap5, 'Gap:15':ioa_gap15, 'Gap:30':ioa_gap30, 'Gap:50':ioa_gap50, 'Gap:100':ioa_gap100, 'Gap:500':ioa_gap500})\n",
    "IOA"
   ]
  },
  {
   "cell_type": "code",
   "execution_count": null,
   "metadata": {},
   "outputs": [],
   "source": [
    "FB = pd.DataFrame({'Gap:5':fb_gap5, 'Gap:15':fb_gap15, 'Gap:30':fb_gap30, 'Gap:50':fb_gap50, 'Gap:100':fb_gap100, 'Gap:500':fb_gap500})\n",
    "FB"
   ]
  },
  {
   "cell_type": "code",
   "execution_count": null,
   "metadata": {},
   "outputs": [],
   "source": [
    "RMSE = pd.DataFrame({'Gap:5':rmse_gap5, 'Gap:15':rmse_gap15, 'Gap:30':rmse_gap30, 'Gap:50':rmse_gap50, 'Gap:100':rmse_gap100, 'Gap:500':rmse_gap500})\n",
    "RMSE"
   ]
  },
  {
   "cell_type": "code",
   "execution_count": null,
   "metadata": {},
   "outputs": [],
   "source": [
    "MAPE = pd.DataFrame({'Gap:5':mape_gap5, 'Gap:15':mape_gap15, 'Gap:30':mape_gap30, 'Gap:50':mape_gap50, 'Gap:100':mape_gap100, 'Gap:500':mape_gap500})\n",
    "MAPE"
   ]
  },
  {
   "cell_type": "code",
   "execution_count": 63,
   "metadata": {},
   "outputs": [],
   "source": [
    "IOA.to_csv(\"~/Desktop/NCSA_genomics/Python - notebooks/GlucoCheck/Metrics/IOA.csv\")\n",
    "FB.to_csv(\"~/Desktop/NCSA_genomics/Python - notebooks/GlucoCheck/Metrics/FB.csv\")\n",
    "RMSE.to_csv(\"~/Desktop/NCSA_genomics/Python - notebooks/GlucoCheck/Metrics/RMSE.csv\")\n",
    "MAPE.to_csv(\"~/Desktop/NCSA_genomics/Python - notebooks/GlucoCheck/Metrics/MAPE.csv\")\n",
    "MAD.to_csv(\"~/Desktop/NCSA_genomics/Python - notebooks/GlucoCheck/Metrics/MAD.csv\")"
   ]
  },
  {
   "cell_type": "code",
   "execution_count": null,
   "metadata": {},
   "outputs": [],
   "source": []
  }
 ],
 "metadata": {
  "kernelspec": {
   "display_name": "Python 3",
   "language": "python",
   "name": "python3"
  },
  "language_info": {
   "codemirror_mode": {
    "name": "ipython",
    "version": 3
   },
   "file_extension": ".py",
   "mimetype": "text/x-python",
   "name": "python",
   "nbconvert_exporter": "python",
   "pygments_lexer": "ipython3",
   "version": "3.7.4"
  }
 },
 "nbformat": 4,
 "nbformat_minor": 2
}
