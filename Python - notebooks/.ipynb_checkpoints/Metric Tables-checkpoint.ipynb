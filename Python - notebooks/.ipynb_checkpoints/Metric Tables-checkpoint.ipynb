{
 "cells": [
  {
   "cell_type": "code",
   "execution_count": null,
   "metadata": {
    "ExecuteTime": {
     "end_time": "2020-10-07T21:21:01.472263Z",
     "start_time": "2020-10-07T21:20:49.906730Z"
    }
   },
   "outputs": [],
   "source": []
  },
  {
   "cell_type": "code",
   "execution_count": 1,
   "metadata": {
    "ExecuteTime": {
     "end_time": "2020-10-16T20:27:49.749400Z",
     "start_time": "2020-10-16T20:27:36.320755Z"
    }
   },
   "outputs": [
    {
     "name": "stderr",
     "output_type": "stream",
     "text": [
      "Using TensorFlow backend.\n"
     ]
    }
   ],
   "source": [
    "from GlucoCheck.glucoCheck import glucoCheckOps\n",
    "import pandas as pd\n",
    "import random\n",
    "import numpy as np\n",
    "from tqdm.auto import tqdm\n",
    "\n",
    "from scipy import stats\n",
    "\n",
    "import random\n",
    "import re\n",
    "from dateutil.parser import parse\n",
    "\n",
    "import warnings  \n",
    "warnings.filterwarnings('ignore')\n",
    "\n",
    "import os\n"
   ]
  },
  {
   "cell_type": "code",
   "execution_count": 2,
   "metadata": {
    "ExecuteTime": {
     "end_time": "2020-10-16T20:27:49.788389Z",
     "start_time": "2020-10-16T20:27:49.760259Z"
    }
   },
   "outputs": [],
   "source": [
    "def createGap(df,start,end):\n",
    "    \"\"\"\n",
    "    Creating a Gap\n",
    "    input:\n",
    "        start: seed\n",
    "        end: seed + gap\n",
    "    output:\n",
    "        df: dataframe with index => DisplayTime value => GlucoseValues and a gap from start to end (inputs)\n",
    "    \"\"\"\n",
    "\n",
    "    #df = readData()\n",
    "    l = len(df.index)\n",
    "    if end>l:\n",
    "        end = l\n",
    "        \n",
    "    for i in range(start,end):\n",
    "        df['GlucoseValue'][i]=0\n",
    "    \n",
    "    return df"
   ]
  },
  {
   "cell_type": "code",
   "execution_count": 3,
   "metadata": {
    "ExecuteTime": {
     "end_time": "2020-10-16T20:27:50.219377Z",
     "start_time": "2020-10-16T20:27:49.807632Z"
    }
   },
   "outputs": [],
   "source": [
    "#Extract Data\n",
    "data = pd.read_csv(\"~/Desktop/NCSA_genomics/Python - notebooks/GlucoCheck/Data/Ohio-Data/OhioFullConsolidated.csv\")\n"
   ]
  },
  {
   "cell_type": "code",
   "execution_count": 4,
   "metadata": {
    "ExecuteTime": {
     "end_time": "2020-10-16T20:27:50.285935Z",
     "start_time": "2020-10-16T20:27:50.235970Z"
    }
   },
   "outputs": [],
   "source": [
    "data = data[data['subjectId']=='OD552']\n",
    "data = data.reset_index(drop=True)"
   ]
  },
  {
   "cell_type": "code",
   "execution_count": 5,
   "metadata": {
    "ExecuteTime": {
     "end_time": "2020-10-16T20:27:50.484207Z",
     "start_time": "2020-10-16T20:27:50.297945Z"
    }
   },
   "outputs": [
    {
     "data": {
      "text/html": [
       "<div>\n",
       "<style scoped>\n",
       "    .dataframe tbody tr th:only-of-type {\n",
       "        vertical-align: middle;\n",
       "    }\n",
       "\n",
       "    .dataframe tbody tr th {\n",
       "        vertical-align: top;\n",
       "    }\n",
       "\n",
       "    .dataframe thead th {\n",
       "        text-align: right;\n",
       "    }\n",
       "</style>\n",
       "<table border=\"1\" class=\"dataframe\">\n",
       "  <thead>\n",
       "    <tr style=\"text-align: right;\">\n",
       "      <th></th>\n",
       "      <th>subjectId</th>\n",
       "      <th>Display Time</th>\n",
       "      <th>GlucoseValue</th>\n",
       "    </tr>\n",
       "  </thead>\n",
       "  <tbody>\n",
       "    <tr>\n",
       "      <td>0</td>\n",
       "      <td>OD552</td>\n",
       "      <td>4/16/25 11:17</td>\n",
       "      <td>95</td>\n",
       "    </tr>\n",
       "    <tr>\n",
       "      <td>1</td>\n",
       "      <td>OD552</td>\n",
       "      <td>4/16/25 11:22</td>\n",
       "      <td>86</td>\n",
       "    </tr>\n",
       "    <tr>\n",
       "      <td>2</td>\n",
       "      <td>OD552</td>\n",
       "      <td>4/16/25 11:27</td>\n",
       "      <td>81</td>\n",
       "    </tr>\n",
       "    <tr>\n",
       "      <td>3</td>\n",
       "      <td>OD552</td>\n",
       "      <td>4/16/25 11:32</td>\n",
       "      <td>81</td>\n",
       "    </tr>\n",
       "    <tr>\n",
       "      <td>4</td>\n",
       "      <td>OD552</td>\n",
       "      <td>4/16/25 11:37</td>\n",
       "      <td>82</td>\n",
       "    </tr>\n",
       "    <tr>\n",
       "      <td>...</td>\n",
       "      <td>...</td>\n",
       "      <td>...</td>\n",
       "      <td>...</td>\n",
       "    </tr>\n",
       "    <tr>\n",
       "      <td>11439</td>\n",
       "      <td>OD552</td>\n",
       "      <td>6/7/25 16:49</td>\n",
       "      <td>238</td>\n",
       "    </tr>\n",
       "    <tr>\n",
       "      <td>11440</td>\n",
       "      <td>OD552</td>\n",
       "      <td>6/7/25 16:54</td>\n",
       "      <td>233</td>\n",
       "    </tr>\n",
       "    <tr>\n",
       "      <td>11441</td>\n",
       "      <td>OD552</td>\n",
       "      <td>6/7/25 16:59</td>\n",
       "      <td>229</td>\n",
       "    </tr>\n",
       "    <tr>\n",
       "      <td>11442</td>\n",
       "      <td>OD552</td>\n",
       "      <td>6/7/25 17:04</td>\n",
       "      <td>224</td>\n",
       "    </tr>\n",
       "    <tr>\n",
       "      <td>11443</td>\n",
       "      <td>OD552</td>\n",
       "      <td>6/7/25 17:09</td>\n",
       "      <td>215</td>\n",
       "    </tr>\n",
       "  </tbody>\n",
       "</table>\n",
       "<p>11444 rows × 3 columns</p>\n",
       "</div>"
      ],
      "text/plain": [
       "      subjectId   Display Time  GlucoseValue\n",
       "0         OD552  4/16/25 11:17            95\n",
       "1         OD552  4/16/25 11:22            86\n",
       "2         OD552  4/16/25 11:27            81\n",
       "3         OD552  4/16/25 11:32            81\n",
       "4         OD552  4/16/25 11:37            82\n",
       "...         ...            ...           ...\n",
       "11439     OD552   6/7/25 16:49           238\n",
       "11440     OD552   6/7/25 16:54           233\n",
       "11441     OD552   6/7/25 16:59           229\n",
       "11442     OD552   6/7/25 17:04           224\n",
       "11443     OD552   6/7/25 17:09           215\n",
       "\n",
       "[11444 rows x 3 columns]"
      ]
     },
     "execution_count": 5,
     "metadata": {},
     "output_type": "execute_result"
    }
   ],
   "source": [
    "# data.drop(['subjectId'], axis=1, inplace=True)\n",
    "# data['Display Time'] = data['Display Time'].apply(lambda x: pd.datetime.strptime(x, '%Y-%m-%d %H:%M:%S'))\n",
    "# data = data.set_index(['Display Time'], drop=True)\n",
    "# data.to_csv(\"~/Desktop/original.csv\")\n",
    "data\n"
   ]
  },
  {
   "cell_type": "code",
   "execution_count": 6,
   "metadata": {
    "ExecuteTime": {
     "end_time": "2020-10-16T20:27:50.506463Z",
     "start_time": "2020-10-16T20:27:50.492469Z"
    }
   },
   "outputs": [
    {
     "name": "stdout",
     "output_type": "stream",
     "text": [
      "Object Created!\n"
     ]
    }
   ],
   "source": [
    "obj = glucoCheckOps()"
   ]
  },
  {
   "cell_type": "code",
   "execution_count": 61,
   "metadata": {
    "ExecuteTime": {
     "end_time": "2020-10-16T21:22:21.978212Z",
     "start_time": "2020-10-16T21:22:21.752274Z"
    }
   },
   "outputs": [],
   "source": [
    "# pd.read_csv(\"~/Desktop/NCSA_genomics/Python - notebooks/GlucoCheck/Data/Ohio-Data/OhioFullConsolidated.csv\")\n",
    "fullData = pd.read_csv(\"~/Desktop/NCSA_genomics/Python - notebooks/GlucoCheck/Data/Ohio-Data/OhioFullConsolidated.csv\")\n",
    "fullData = fullData.reset_index(drop=True)"
   ]
  },
  {
   "cell_type": "code",
   "execution_count": 62,
   "metadata": {
    "ExecuteTime": {
     "end_time": "2020-10-16T21:22:22.920666Z",
     "start_time": "2020-10-16T21:22:22.902381Z"
    }
   },
   "outputs": [
    {
     "data": {
      "text/html": [
       "<div>\n",
       "<style scoped>\n",
       "    .dataframe tbody tr th:only-of-type {\n",
       "        vertical-align: middle;\n",
       "    }\n",
       "\n",
       "    .dataframe tbody tr th {\n",
       "        vertical-align: top;\n",
       "    }\n",
       "\n",
       "    .dataframe thead th {\n",
       "        text-align: right;\n",
       "    }\n",
       "</style>\n",
       "<table border=\"1\" class=\"dataframe\">\n",
       "  <thead>\n",
       "    <tr style=\"text-align: right;\">\n",
       "      <th></th>\n",
       "      <th>subjectId</th>\n",
       "      <th>Display Time</th>\n",
       "      <th>GlucoseValue</th>\n",
       "    </tr>\n",
       "  </thead>\n",
       "  <tbody>\n",
       "    <tr>\n",
       "      <td>0</td>\n",
       "      <td>OD570</td>\n",
       "      <td>12/7/21 16:29</td>\n",
       "      <td>101</td>\n",
       "    </tr>\n",
       "    <tr>\n",
       "      <td>1</td>\n",
       "      <td>OD570</td>\n",
       "      <td>12/7/21 16:34</td>\n",
       "      <td>100</td>\n",
       "    </tr>\n",
       "    <tr>\n",
       "      <td>2</td>\n",
       "      <td>OD570</td>\n",
       "      <td>12/7/21 16:39</td>\n",
       "      <td>100</td>\n",
       "    </tr>\n",
       "    <tr>\n",
       "      <td>3</td>\n",
       "      <td>OD570</td>\n",
       "      <td>12/7/21 16:44</td>\n",
       "      <td>99</td>\n",
       "    </tr>\n",
       "    <tr>\n",
       "      <td>4</td>\n",
       "      <td>OD570</td>\n",
       "      <td>12/7/21 16:49</td>\n",
       "      <td>98</td>\n",
       "    </tr>\n",
       "    <tr>\n",
       "      <td>...</td>\n",
       "      <td>...</td>\n",
       "      <td>...</td>\n",
       "      <td>...</td>\n",
       "    </tr>\n",
       "    <tr>\n",
       "      <td>166528</td>\n",
       "      <td>OD552</td>\n",
       "      <td>6/7/25 16:49</td>\n",
       "      <td>238</td>\n",
       "    </tr>\n",
       "    <tr>\n",
       "      <td>166529</td>\n",
       "      <td>OD552</td>\n",
       "      <td>6/7/25 16:54</td>\n",
       "      <td>233</td>\n",
       "    </tr>\n",
       "    <tr>\n",
       "      <td>166530</td>\n",
       "      <td>OD552</td>\n",
       "      <td>6/7/25 16:59</td>\n",
       "      <td>229</td>\n",
       "    </tr>\n",
       "    <tr>\n",
       "      <td>166531</td>\n",
       "      <td>OD552</td>\n",
       "      <td>6/7/25 17:04</td>\n",
       "      <td>224</td>\n",
       "    </tr>\n",
       "    <tr>\n",
       "      <td>166532</td>\n",
       "      <td>OD552</td>\n",
       "      <td>6/7/25 17:09</td>\n",
       "      <td>215</td>\n",
       "    </tr>\n",
       "  </tbody>\n",
       "</table>\n",
       "<p>166533 rows × 3 columns</p>\n",
       "</div>"
      ],
      "text/plain": [
       "       subjectId   Display Time  GlucoseValue\n",
       "0          OD570  12/7/21 16:29           101\n",
       "1          OD570  12/7/21 16:34           100\n",
       "2          OD570  12/7/21 16:39           100\n",
       "3          OD570  12/7/21 16:44            99\n",
       "4          OD570  12/7/21 16:49            98\n",
       "...          ...            ...           ...\n",
       "166528     OD552   6/7/25 16:49           238\n",
       "166529     OD552   6/7/25 16:54           233\n",
       "166530     OD552   6/7/25 16:59           229\n",
       "166531     OD552   6/7/25 17:04           224\n",
       "166532     OD552   6/7/25 17:09           215\n",
       "\n",
       "[166533 rows x 3 columns]"
      ]
     },
     "execution_count": 62,
     "metadata": {},
     "output_type": "execute_result"
    }
   ],
   "source": [
    "fullData"
   ]
  },
  {
   "cell_type": "code",
   "execution_count": 63,
   "metadata": {
    "ExecuteTime": {
     "end_time": "2020-10-16T21:39:44.310904Z",
     "start_time": "2020-10-16T21:22:23.956932Z"
    }
   },
   "outputs": [
    {
     "name": "stdout",
     "output_type": "stream",
     "text": [
      "Model trained successfully!\n"
     ]
    }
   ],
   "source": [
    "obj.train(fullData)"
   ]
  },
  {
   "cell_type": "code",
   "execution_count": 107,
   "metadata": {
    "ExecuteTime": {
     "end_time": "2020-10-16T21:46:40.380585Z",
     "start_time": "2020-10-16T21:46:40.374462Z"
    }
   },
   "outputs": [],
   "source": [
    "\n",
    "seed_points = [11010,11150,11110,11199,11208]"
   ]
  },
  {
   "cell_type": "code",
   "execution_count": null,
   "metadata": {
    "ExecuteTime": {
     "end_time": "2020-10-07T18:02:49.575199Z",
     "start_time": "2020-10-07T18:02:49.556924Z"
    }
   },
   "outputs": [],
   "source": []
  },
  {
   "cell_type": "code",
   "execution_count": 108,
   "metadata": {
    "ExecuteTime": {
     "end_time": "2020-10-16T21:46:42.065877Z",
     "start_time": "2020-10-16T21:46:40.955324Z"
    }
   },
   "outputs": [
    {
     "data": {
      "application/vnd.jupyter.widget-view+json": {
       "model_id": "f667629ef448410cba446e594a93fdb3",
       "version_major": 2,
       "version_minor": 0
      },
      "text/plain": [
       "HBox(children=(IntProgress(value=0, max=5), HTML(value='')))"
      ]
     },
     "metadata": {},
     "output_type": "display_data"
    },
    {
     "name": "stdout",
     "output_type": "stream",
     "text": [
      "\n"
     ]
    }
   ],
   "source": [
    "#for gap size 100\n",
    "ioa_gap100 = list()\n",
    "fb_gap100 = list()\n",
    "mad_gap100 = list()\n",
    "rmse_gap100 = list()\n",
    "mape_gap100 = list()\n",
    "\n",
    "for seed in tqdm(seed_points):\n",
    "    start = seed\n",
    "    end = seed+99\n",
    "    data_with_missing = data.copy()\n",
    "    data_with_missing = createGap(data_with_missing,start,end)\n",
    "\n",
    "    imputed_data = obj.impute(data_with_missing,1)\n",
    "\n",
    "    mad = obj.mad(np.asarray(imputed_data['GlucoseValue'][start:end-1].tolist()),np.asarray(data['GlucoseValue'][start:end-1].tolist()))\n",
    "    ioa = obj.index_agreement(np.asarray(imputed_data['GlucoseValue'][start:end-1].tolist()),np.asarray(data['GlucoseValue'][start:end-1].tolist()))\n",
    "    fb = obj.fracBias(np.asarray(imputed_data['GlucoseValue'][start:end-1].tolist()),np.asarray(data['GlucoseValue'][start:end-1].tolist()))\n",
    "    rmse = obj.rmse(np.asarray(imputed_data['GlucoseValue'][start:end-1].tolist()),np.asarray(data['GlucoseValue'][start:end-1].tolist()))\n",
    "    mape = obj.mape(np.asarray(imputed_data['GlucoseValue'][start:end-1].tolist()),np.asarray(data['GlucoseValue'][start:end-1].tolist()))\n",
    "\n",
    "    mad_gap100.append(mad)\n",
    "    ioa_gap100.append(ioa)\n",
    "    fb_gap100.append(fb)\n",
    "    rmse_gap100.append(rmse)\n",
    "    mape_gap100.append(mape)\n",
    "\n"
   ]
  },
  {
   "cell_type": "code",
   "execution_count": 109,
   "metadata": {
    "ExecuteTime": {
     "end_time": "2020-10-16T21:46:42.869355Z",
     "start_time": "2020-10-16T21:46:42.070577Z"
    }
   },
   "outputs": [
    {
     "data": {
      "application/vnd.jupyter.widget-view+json": {
       "model_id": "d112c401035046488639fa5dee07c71d",
       "version_major": 2,
       "version_minor": 0
      },
      "text/plain": [
       "HBox(children=(IntProgress(value=0, max=5), HTML(value='')))"
      ]
     },
     "metadata": {},
     "output_type": "display_data"
    },
    {
     "name": "stdout",
     "output_type": "stream",
     "text": [
      "\n"
     ]
    }
   ],
   "source": [
    "#for gap size 50\n",
    "ioa_gap50 = list()\n",
    "fb_gap50 = list()\n",
    "mad_gap50 = list()\n",
    "rmse_gap50 = list()\n",
    "mape_gap50 = list()\n",
    "\n",
    "for seed in tqdm(seed_points):\n",
    "    start = seed\n",
    "    end = seed+49\n",
    "    data_with_missing = data.copy()\n",
    "    data_with_missing = createGap(data_with_missing,start,end)\n",
    "\n",
    "    imputed_data = obj.impute(data_with_missing,1)\n",
    "\n",
    "    mad = obj.mad(np.asarray(imputed_data['GlucoseValue'][start:end-1].tolist()),np.asarray(data['GlucoseValue'][start:end-1].tolist()))\n",
    "    ioa = obj.index_agreement(np.asarray(imputed_data['GlucoseValue'][start:end-1].tolist()),np.asarray(data['GlucoseValue'][start:end-1].tolist()))\n",
    "    fb = obj.fracBias(np.asarray(imputed_data['GlucoseValue'][start:end-1].tolist()),np.asarray(data['GlucoseValue'][start:end-1].tolist()))\n",
    "    rmse = obj.rmse(np.asarray(imputed_data['GlucoseValue'][start:end-1].tolist()),np.asarray(data['GlucoseValue'][start:end-1].tolist()))\n",
    "    mape = obj.mape(np.asarray(imputed_data['GlucoseValue'][start:end-1].tolist()),np.asarray(data['GlucoseValue'][start:end-1].tolist()))\n",
    "\n",
    "    mad_gap50.append(mad)\n",
    "    ioa_gap50.append(ioa)\n",
    "    fb_gap50.append(fb)\n",
    "    rmse_gap50.append(rmse)\n",
    "    mape_gap50.append(mape)\n",
    "\n"
   ]
  },
  {
   "cell_type": "code",
   "execution_count": 110,
   "metadata": {
    "ExecuteTime": {
     "end_time": "2020-10-16T21:46:43.311115Z",
     "start_time": "2020-10-16T21:46:42.873648Z"
    }
   },
   "outputs": [
    {
     "data": {
      "application/vnd.jupyter.widget-view+json": {
       "model_id": "fef2de29dcb7456db95858979f0e63bd",
       "version_major": 2,
       "version_minor": 0
      },
      "text/plain": [
       "HBox(children=(IntProgress(value=0, max=5), HTML(value='')))"
      ]
     },
     "metadata": {},
     "output_type": "display_data"
    },
    {
     "name": "stdout",
     "output_type": "stream",
     "text": [
      "\n"
     ]
    }
   ],
   "source": [
    "#for gap size 30\n",
    "ioa_gap30 = list()\n",
    "fb_gap30 = list()\n",
    "mad_gap30 = list()\n",
    "rmse_gap30 = list()\n",
    "mape_gap30 = list()\n",
    "\n",
    "for seed in tqdm(seed_points):\n",
    "    start = seed\n",
    "    end = start+29\n",
    "    data_with_missing = data.copy()\n",
    "    data_with_missing = createGap(data_with_missing,start,end)\n",
    "\n",
    "    imputed_data = obj.impute(data_with_missing,1)\n",
    "\n",
    "    mad = obj.mad(np.asarray(imputed_data['GlucoseValue'][start:end-1].tolist()),np.asarray(data['GlucoseValue'][start:end-1].tolist()))\n",
    "    ioa = obj.index_agreement(np.asarray(imputed_data['GlucoseValue'][start:end-1].tolist()),np.asarray(data['GlucoseValue'][start:end-1].tolist()))\n",
    "    fb = obj.fracBias(np.asarray(imputed_data['GlucoseValue'][start:end-1].tolist()),np.asarray(data['GlucoseValue'][start:end-1].tolist()))\n",
    "    rmse = obj.rmse(np.asarray(imputed_data['GlucoseValue'][start:end-1].tolist()),np.asarray(data['GlucoseValue'][start:end-1].tolist()))\n",
    "    mape = obj.mape(np.asarray(imputed_data['GlucoseValue'][start:end-1].tolist()),np.asarray(data['GlucoseValue'][start:end-1].tolist()))\n",
    "\n",
    "    mad_gap30.append(mad)\n",
    "    ioa_gap30.append(ioa)\n",
    "    fb_gap30.append(fb)\n",
    "    rmse_gap30.append(rmse)\n",
    "    mape_gap30.append(mape)\n",
    "\n"
   ]
  },
  {
   "cell_type": "code",
   "execution_count": 111,
   "metadata": {
    "ExecuteTime": {
     "end_time": "2020-10-16T21:46:43.679574Z",
     "start_time": "2020-10-16T21:46:43.317144Z"
    }
   },
   "outputs": [
    {
     "data": {
      "application/vnd.jupyter.widget-view+json": {
       "model_id": "4513a6bab1324c6c85df422c48fd91a6",
       "version_major": 2,
       "version_minor": 0
      },
      "text/plain": [
       "HBox(children=(IntProgress(value=0, max=5), HTML(value='')))"
      ]
     },
     "metadata": {},
     "output_type": "display_data"
    },
    {
     "name": "stdout",
     "output_type": "stream",
     "text": [
      "\n"
     ]
    }
   ],
   "source": [
    "#for gap size 15\n",
    "ioa_gap15 = list()\n",
    "fb_gap15 = list()\n",
    "mad_gap15 = list()\n",
    "rmse_gap15 = list()\n",
    "mape_gap15 = list()\n",
    "\n",
    "for seed in tqdm(seed_points):\n",
    "    start = seed\n",
    "    end = start+14\n",
    "    data_with_missing = data.copy()\n",
    "    data_with_missing = createGap(data_with_missing,start,end)\n",
    "\n",
    "    imputed_data = obj.impute(data_with_missing,1)\n",
    "\n",
    "    mad = obj.mad(np.asarray(imputed_data['GlucoseValue'][start:end-1].tolist()),np.asarray(data['GlucoseValue'][start:end-1].tolist()))\n",
    "    ioa = obj.index_agreement(np.asarray(imputed_data['GlucoseValue'][start:end-1].tolist()),np.asarray(data['GlucoseValue'][start:end-1].tolist()))\n",
    "    fb = obj.fracBias(np.asarray(imputed_data['GlucoseValue'][start:end-1].tolist()),np.asarray(data['GlucoseValue'][start:end-1].tolist()))\n",
    "    rmse = obj.rmse(np.asarray(imputed_data['GlucoseValue'][start:end-1].tolist()),np.asarray(data['GlucoseValue'][start:end-1].tolist()))\n",
    "    mape = obj.mape(np.asarray(imputed_data['GlucoseValue'][start:end-1].tolist()),np.asarray(data['GlucoseValue'][start:end-1].tolist()))\n",
    "\n",
    "    mad_gap15.append(mad)\n",
    "    ioa_gap15.append(ioa)\n",
    "    fb_gap15.append(fb)\n",
    "    rmse_gap15.append(rmse)\n",
    "    mape_gap15.append(mape)\n",
    "\n",
    "    "
   ]
  },
  {
   "cell_type": "code",
   "execution_count": 112,
   "metadata": {
    "ExecuteTime": {
     "end_time": "2020-10-16T21:46:43.957488Z",
     "start_time": "2020-10-16T21:46:43.707338Z"
    }
   },
   "outputs": [
    {
     "data": {
      "application/vnd.jupyter.widget-view+json": {
       "model_id": "cce59fdf26844348b8c2237fc81cd780",
       "version_major": 2,
       "version_minor": 0
      },
      "text/plain": [
       "HBox(children=(IntProgress(value=0, max=5), HTML(value='')))"
      ]
     },
     "metadata": {},
     "output_type": "display_data"
    },
    {
     "name": "stdout",
     "output_type": "stream",
     "text": [
      "\n"
     ]
    }
   ],
   "source": [
    "#for gap size 5\n",
    "ioa_gap5 = list()\n",
    "fb_gap5 = list()\n",
    "mad_gap5 = list()\n",
    "rmse_gap5 = list()\n",
    "mape_gap5 = list()\n",
    "\n",
    "for seed in tqdm(seed_points):\n",
    "    start = seed\n",
    "    end = start+4\n",
    "    data_with_missing = data.copy()\n",
    "    data_with_missing = createGap(data_with_missing,start,end)\n",
    "\n",
    "    imputed_data = obj.impute(data_with_missing,1)\n",
    "\n",
    "    mad = obj.mad(np.asarray(imputed_data['GlucoseValue'][start:end-1].tolist()),np.asarray(data['GlucoseValue'][start:end-1].tolist()))\n",
    "    ioa = obj.index_agreement(np.asarray(imputed_data['GlucoseValue'][start:end-1].tolist()),np.asarray(data['GlucoseValue'][start:end-1].tolist()))\n",
    "    fb = obj.fracBias(np.asarray(imputed_data['GlucoseValue'][start:end-1].tolist()),np.asarray(data['GlucoseValue'][start:end-1].tolist()))\n",
    "    rmse = obj.rmse(np.asarray(imputed_data['GlucoseValue'][start:end-1].tolist()),np.asarray(data['GlucoseValue'][start:end-1].tolist()))\n",
    "    mape = obj.mape(np.asarray(imputed_data['GlucoseValue'][start:end-1].tolist()),np.asarray(data['GlucoseValue'][start:end-1].tolist()))\n",
    "\n",
    "    mad_gap5.append(mad)\n",
    "    ioa_gap5.append(ioa)\n",
    "    fb_gap5.append(fb)\n",
    "    rmse_gap5.append(rmse)\n",
    "    mape_gap5.append(mape)\n",
    "\n"
   ]
  },
  {
   "cell_type": "code",
   "execution_count": 113,
   "metadata": {
    "ExecuteTime": {
     "end_time": "2020-10-16T21:46:43.985380Z",
     "start_time": "2020-10-16T21:46:43.962844Z"
    }
   },
   "outputs": [
    {
     "data": {
      "text/html": [
       "<div>\n",
       "<style scoped>\n",
       "    .dataframe tbody tr th:only-of-type {\n",
       "        vertical-align: middle;\n",
       "    }\n",
       "\n",
       "    .dataframe tbody tr th {\n",
       "        vertical-align: top;\n",
       "    }\n",
       "\n",
       "    .dataframe thead th {\n",
       "        text-align: right;\n",
       "    }\n",
       "</style>\n",
       "<table border=\"1\" class=\"dataframe\">\n",
       "  <thead>\n",
       "    <tr style=\"text-align: right;\">\n",
       "      <th></th>\n",
       "      <th>Gap:5</th>\n",
       "      <th>Gap:15</th>\n",
       "      <th>Gap:30</th>\n",
       "      <th>Gap:50</th>\n",
       "      <th>Gap:100</th>\n",
       "    </tr>\n",
       "  </thead>\n",
       "  <tbody>\n",
       "    <tr>\n",
       "      <td>0</td>\n",
       "      <td>0.048735</td>\n",
       "      <td>0.209026</td>\n",
       "      <td>0.282562</td>\n",
       "      <td>0.302071</td>\n",
       "      <td>0.310452</td>\n",
       "    </tr>\n",
       "    <tr>\n",
       "      <td>1</td>\n",
       "      <td>0.327869</td>\n",
       "      <td>0.503874</td>\n",
       "      <td>0.583719</td>\n",
       "      <td>0.584878</td>\n",
       "      <td>0.600314</td>\n",
       "    </tr>\n",
       "    <tr>\n",
       "      <td>2</td>\n",
       "      <td>0.166667</td>\n",
       "      <td>0.383494</td>\n",
       "      <td>0.411145</td>\n",
       "      <td>0.318222</td>\n",
       "      <td>0.434514</td>\n",
       "    </tr>\n",
       "    <tr>\n",
       "      <td>3</td>\n",
       "      <td>0.284153</td>\n",
       "      <td>0.484870</td>\n",
       "      <td>0.875514</td>\n",
       "      <td>0.952714</td>\n",
       "      <td>0.850313</td>\n",
       "    </tr>\n",
       "    <tr>\n",
       "      <td>4</td>\n",
       "      <td>0.690749</td>\n",
       "      <td>0.983056</td>\n",
       "      <td>0.992466</td>\n",
       "      <td>0.966034</td>\n",
       "      <td>0.808447</td>\n",
       "    </tr>\n",
       "  </tbody>\n",
       "</table>\n",
       "</div>"
      ],
      "text/plain": [
       "      Gap:5    Gap:15    Gap:30    Gap:50   Gap:100\n",
       "0  0.048735  0.209026  0.282562  0.302071  0.310452\n",
       "1  0.327869  0.503874  0.583719  0.584878  0.600314\n",
       "2  0.166667  0.383494  0.411145  0.318222  0.434514\n",
       "3  0.284153  0.484870  0.875514  0.952714  0.850313\n",
       "4  0.690749  0.983056  0.992466  0.966034  0.808447"
      ]
     },
     "execution_count": 113,
     "metadata": {},
     "output_type": "execute_result"
    }
   ],
   "source": [
    "IOA = pd.DataFrame({'Gap:5':ioa_gap5, 'Gap:15':ioa_gap15, 'Gap:30':ioa_gap30, 'Gap:50':ioa_gap50,'Gap:100':ioa_gap100})\n",
    "IOA\n"
   ]
  },
  {
   "cell_type": "code",
   "execution_count": 106,
   "metadata": {
    "ExecuteTime": {
     "end_time": "2020-10-16T21:46:06.276009Z",
     "start_time": "2020-10-16T21:46:06.270374Z"
    }
   },
   "outputs": [],
   "source": [
    "import matplotlib.pyplot as plt\n",
    "import matplotlib.ticker as ticker\n",
    "import seaborn as sns"
   ]
  },
  {
   "cell_type": "code",
   "execution_count": 18,
   "metadata": {
    "ExecuteTime": {
     "end_time": "2020-10-16T20:49:19.386325Z",
     "start_time": "2020-10-16T20:49:19.382329Z"
    }
   },
   "outputs": [],
   "source": [
    "# IOA"
   ]
  },
  {
   "cell_type": "code",
   "execution_count": 19,
   "metadata": {
    "ExecuteTime": {
     "end_time": "2020-10-16T20:49:19.407259Z",
     "start_time": "2020-10-16T20:49:19.391810Z"
    }
   },
   "outputs": [
    {
     "data": {
      "text/plain": [
       "[0.11414209444823246,\n",
       " 0.17799838029981346,\n",
       " 0.2618491570313856,\n",
       " 0.2885951965353418,\n",
       " 0.24998866348665275]"
      ]
     },
     "execution_count": 19,
     "metadata": {},
     "output_type": "execute_result"
    }
   ],
   "source": [
    "gaps = [5,15,30,50,100]\n",
    "ioa = []\n",
    "ioa.append(IOA['Gap:5'].mean())\n",
    "ioa.append(IOA['Gap:15'].mean())\n",
    "ioa.append(IOA['Gap:30'].mean())\n",
    "ioa.append(IOA['Gap:50'].mean())\n",
    "ioa.append(IOA['Gap:100'].mean())\n",
    "ioa"
   ]
  },
  {
   "cell_type": "code",
   "execution_count": 20,
   "metadata": {
    "ExecuteTime": {
     "end_time": "2020-10-16T20:49:19.741918Z",
     "start_time": "2020-10-16T20:49:19.410700Z"
    }
   },
   "outputs": [
    {
     "data": {
      "text/plain": [
       "Text(0, 0.5, 'IOA value')"
      ]
     },
     "execution_count": 20,
     "metadata": {},
     "output_type": "execute_result"
    },
    {
     "data": {
      "image/png": "[encoded data removed]",
      "text/plain": [
       "<Figure size 1008x576 with 1 Axes>"
      ]
     },
     "metadata": {
      "needs_background": "light"
     },
     "output_type": "display_data"
    }
   ],
   "source": [
    "plt.figure(figsize=(14,8))\n",
    "plt.title(\"Avg. IOA vs Gap size\")\n",
    "sns.set(style=\"white\")\n",
    "fig = sns.lineplot(x = gaps, y = ioa, palette=\"tab10\", linewidth=1.25)\n",
    "sns.despine()\n",
    "\n",
    "fig.set_xlabel('Gaps')\n",
    "fig.set_ylabel('IOA value')"
   ]
  },
  {
   "cell_type": "code",
   "execution_count": null,
   "metadata": {},
   "outputs": [],
   "source": []
  },
  {
   "cell_type": "code",
   "execution_count": null,
   "metadata": {
    "ExecuteTime": {
     "end_time": "2020-10-14T19:05:45.526332Z",
     "start_time": "2020-10-14T19:05:45.518683Z"
    }
   },
   "outputs": [],
   "source": []
  },
  {
   "cell_type": "code",
   "execution_count": 21,
   "metadata": {
    "ExecuteTime": {
     "end_time": "2020-10-16T20:49:20.186624Z",
     "start_time": "2020-10-16T20:49:19.744918Z"
    }
   },
   "outputs": [
    {
     "data": {
      "text/plain": [
       "Text(0, 0.5, 'IOA value')"
      ]
     },
     "execution_count": 21,
     "metadata": {},
     "output_type": "execute_result"
    },
    {
     "data": {
      "image/png": "[encoded data removed]",
      "text/plain": [
       "<Figure size 1008x576 with 1 Axes>"
      ]
     },
     "metadata": {},
     "output_type": "display_data"
    }
   ],
   "source": [
    "\n",
    "plt.figure(figsize=(14,8))\n",
    "plt.title(\"IOA for Gap:5\")\n",
    "sns.set(style=\"white\")\n",
    "fig = sns.lineplot(x = seed_points, y = IOA['Gap:5'], data = IOA, palette=\"tab10\", linewidth=1.25)\n",
    "sns.despine()\n",
    "\n",
    "fig.set_xlabel('Gap Seeds')\n",
    "fig.set_ylabel('IOA value')"
   ]
  },
  {
   "cell_type": "code",
   "execution_count": 22,
   "metadata": {
    "ExecuteTime": {
     "end_time": "2020-10-16T20:49:20.587362Z",
     "start_time": "2020-10-16T20:49:20.191901Z"
    }
   },
   "outputs": [
    {
     "data": {
      "text/plain": [
       "Text(0, 0.5, 'IOA value')"
      ]
     },
     "execution_count": 22,
     "metadata": {},
     "output_type": "execute_result"
    },
    {
     "data": {
      "image/png": "[encoded data removed]",
      "text/plain": [
       "<Figure size 1008x576 with 1 Axes>"
      ]
     },
     "metadata": {},
     "output_type": "display_data"
    }
   ],
   "source": [
    "\n",
    "plt.figure(figsize=(14,8))\n",
    "plt.title(\"IOA for Gap:15\")\n",
    "sns.set(style=\"white\")\n",
    "fig = sns.lineplot(x = seed_points, y = IOA['Gap:15'], data = IOA, palette=\"tab10\", linewidth=1.25)\n",
    "sns.despine()\n",
    "\n",
    "fig.set_xlabel('Gap Seeds')\n",
    "fig.set_ylabel('IOA value')"
   ]
  },
  {
   "cell_type": "code",
   "execution_count": 23,
   "metadata": {
    "ExecuteTime": {
     "end_time": "2020-10-16T20:49:21.015281Z",
     "start_time": "2020-10-16T20:49:20.598314Z"
    }
   },
   "outputs": [
    {
     "data": {
      "text/plain": [
       "Text(0, 0.5, 'IOA value')"
      ]
     },
     "execution_count": 23,
     "metadata": {},
     "output_type": "execute_result"
    },
    {
     "data": {
      "image/png": "[encoded data removed]",
      "text/plain": [
       "<Figure size 1008x576 with 1 Axes>"
      ]
     },
     "metadata": {},
     "output_type": "display_data"
    }
   ],
   "source": [
    "\n",
    "plt.figure(figsize=(14,8))\n",
    "plt.title(\"IOA for Gap:30\")\n",
    "sns.set(style=\"white\")\n",
    "fig = sns.lineplot(x = seed_points, y = IOA['Gap:30'], data = IOA, palette=\"tab10\", linewidth=1.25)\n",
    "sns.despine()\n",
    "\n",
    "fig.set_xlabel('Gap Seeds')\n",
    "fig.set_ylabel('IOA value')"
   ]
  },
  {
   "cell_type": "code",
   "execution_count": 24,
   "metadata": {
    "ExecuteTime": {
     "end_time": "2020-10-16T20:49:21.442442Z",
     "start_time": "2020-10-16T20:49:21.019372Z"
    }
   },
   "outputs": [
    {
     "data": {
      "text/plain": [
       "Text(0, 0.5, 'IOA value')"
      ]
     },
     "execution_count": 24,
     "metadata": {},
     "output_type": "execute_result"
    },
    {
     "data": {
      "image/png": "[encoded data removed]",
      "text/plain": [
       "<Figure size 1008x576 with 1 Axes>"
      ]
     },
     "metadata": {},
     "output_type": "display_data"
    }
   ],
   "source": [
    "\n",
    "plt.figure(figsize=(14,8))\n",
    "plt.title(\"IOA for Gap:50\")\n",
    "sns.set(style=\"white\")\n",
    "fig = sns.lineplot(x = seed_points, y = IOA['Gap:50'], data = IOA, palette=\"tab10\", linewidth=1.25)\n",
    "sns.despine()\n",
    "\n",
    "fig.set_xlabel('Gap Seeds')\n",
    "fig.set_ylabel('IOA value')"
   ]
  },
  {
   "cell_type": "code",
   "execution_count": 25,
   "metadata": {
    "ExecuteTime": {
     "end_time": "2020-10-16T20:49:21.859574Z",
     "start_time": "2020-10-16T20:49:21.445716Z"
    }
   },
   "outputs": [
    {
     "data": {
      "text/plain": [
       "Text(0, 0.5, 'IOA value')"
      ]
     },
     "execution_count": 25,
     "metadata": {},
     "output_type": "execute_result"
    },
    {
     "data": {
      "image/png": "[encoded data removed]",
      "text/plain": [
       "<Figure size 1008x576 with 1 Axes>"
      ]
     },
     "metadata": {},
     "output_type": "display_data"
    }
   ],
   "source": [
    "\n",
    "plt.figure(figsize=(14,8))\n",
    "plt.title(\"IOA for Gap:100\")\n",
    "sns.set(style=\"white\")\n",
    "fig = sns.lineplot(x = seed_points, y = IOA['Gap:100'], data = IOA, palette=\"tab10\", linewidth=1.25)\n",
    "sns.despine()\n",
    "fig.set_xlabel('Gap Seeds')\n",
    "fig.set_ylabel('IOA value')"
   ]
  },
  {
   "cell_type": "code",
   "execution_count": null,
   "metadata": {},
   "outputs": [],
   "source": []
  },
  {
   "cell_type": "code",
   "execution_count": null,
   "metadata": {},
   "outputs": [],
   "source": []
  },
  {
   "cell_type": "code",
   "execution_count": 26,
   "metadata": {
    "ExecuteTime": {
     "end_time": "2020-10-16T20:49:21.879070Z",
     "start_time": "2020-10-16T20:49:21.862745Z"
    }
   },
   "outputs": [
    {
     "data": {
      "text/html": [
       "<div>\n",
       "<style scoped>\n",
       "    .dataframe tbody tr th:only-of-type {\n",
       "        vertical-align: middle;\n",
       "    }\n",
       "\n",
       "    .dataframe tbody tr th {\n",
       "        vertical-align: top;\n",
       "    }\n",
       "\n",
       "    .dataframe thead th {\n",
       "        text-align: right;\n",
       "    }\n",
       "</style>\n",
       "<table border=\"1\" class=\"dataframe\">\n",
       "  <thead>\n",
       "    <tr style=\"text-align: right;\">\n",
       "      <th></th>\n",
       "      <th>Gap:5</th>\n",
       "      <th>Gap:15</th>\n",
       "      <th>Gap:30</th>\n",
       "      <th>Gap:50</th>\n",
       "      <th>Gap:100</th>\n",
       "    </tr>\n",
       "  </thead>\n",
       "  <tbody>\n",
       "    <tr>\n",
       "      <td>0</td>\n",
       "      <td>38.333333</td>\n",
       "      <td>116.615385</td>\n",
       "      <td>143.285714</td>\n",
       "      <td>144.500000</td>\n",
       "      <td>154.653061</td>\n",
       "    </tr>\n",
       "    <tr>\n",
       "      <td>1</td>\n",
       "      <td>27.000000</td>\n",
       "      <td>78.076923</td>\n",
       "      <td>106.535714</td>\n",
       "      <td>123.229167</td>\n",
       "      <td>142.479592</td>\n",
       "    </tr>\n",
       "    <tr>\n",
       "      <td>2</td>\n",
       "      <td>18.000000</td>\n",
       "      <td>60.615385</td>\n",
       "      <td>108.964286</td>\n",
       "      <td>163.458333</td>\n",
       "      <td>192.091837</td>\n",
       "    </tr>\n",
       "    <tr>\n",
       "      <td>3</td>\n",
       "      <td>16.333333</td>\n",
       "      <td>72.615385</td>\n",
       "      <td>132.785714</td>\n",
       "      <td>184.500000</td>\n",
       "      <td>199.500000</td>\n",
       "    </tr>\n",
       "    <tr>\n",
       "      <td>4</td>\n",
       "      <td>25.000000</td>\n",
       "      <td>100.000000</td>\n",
       "      <td>164.964286</td>\n",
       "      <td>193.708333</td>\n",
       "      <td>205.275510</td>\n",
       "    </tr>\n",
       "  </tbody>\n",
       "</table>\n",
       "</div>"
      ],
      "text/plain": [
       "       Gap:5      Gap:15      Gap:30      Gap:50     Gap:100\n",
       "0  38.333333  116.615385  143.285714  144.500000  154.653061\n",
       "1  27.000000   78.076923  106.535714  123.229167  142.479592\n",
       "2  18.000000   60.615385  108.964286  163.458333  192.091837\n",
       "3  16.333333   72.615385  132.785714  184.500000  199.500000\n",
       "4  25.000000  100.000000  164.964286  193.708333  205.275510"
      ]
     },
     "execution_count": 26,
     "metadata": {},
     "output_type": "execute_result"
    }
   ],
   "source": [
    "MAD = pd.DataFrame({'Gap:5':mad_gap5, 'Gap:15':mad_gap15, 'Gap:30':mad_gap30, 'Gap:50':mad_gap50, 'Gap:100':mad_gap100})\n",
    "MAD"
   ]
  },
  {
   "cell_type": "code",
   "execution_count": 27,
   "metadata": {
    "ExecuteTime": {
     "end_time": "2020-10-16T20:49:21.900182Z",
     "start_time": "2020-10-16T20:49:21.882314Z"
    }
   },
   "outputs": [
    {
     "data": {
      "text/html": [
       "<div>\n",
       "<style scoped>\n",
       "    .dataframe tbody tr th:only-of-type {\n",
       "        vertical-align: middle;\n",
       "    }\n",
       "\n",
       "    .dataframe tbody tr th {\n",
       "        vertical-align: top;\n",
       "    }\n",
       "\n",
       "    .dataframe thead th {\n",
       "        text-align: right;\n",
       "    }\n",
       "</style>\n",
       "<table border=\"1\" class=\"dataframe\">\n",
       "  <thead>\n",
       "    <tr style=\"text-align: right;\">\n",
       "      <th></th>\n",
       "      <th>Gap:5</th>\n",
       "      <th>Gap:15</th>\n",
       "      <th>Gap:30</th>\n",
       "      <th>Gap:50</th>\n",
       "      <th>Gap:100</th>\n",
       "    </tr>\n",
       "  </thead>\n",
       "  <tbody>\n",
       "    <tr>\n",
       "      <td>0</td>\n",
       "      <td>0.138734</td>\n",
       "      <td>0.545518</td>\n",
       "      <td>0.922274</td>\n",
       "      <td>1.277202</td>\n",
       "      <td>1.633590</td>\n",
       "    </tr>\n",
       "    <tr>\n",
       "      <td>1</td>\n",
       "      <td>0.103903</td>\n",
       "      <td>0.426908</td>\n",
       "      <td>0.819060</td>\n",
       "      <td>1.220120</td>\n",
       "      <td>1.605363</td>\n",
       "    </tr>\n",
       "    <tr>\n",
       "      <td>2</td>\n",
       "      <td>0.131606</td>\n",
       "      <td>0.548607</td>\n",
       "      <td>1.023170</td>\n",
       "      <td>1.414351</td>\n",
       "      <td>1.703743</td>\n",
       "    </tr>\n",
       "    <tr>\n",
       "      <td>3</td>\n",
       "      <td>0.114275</td>\n",
       "      <td>0.580178</td>\n",
       "      <td>1.065007</td>\n",
       "      <td>1.436373</td>\n",
       "      <td>1.714338</td>\n",
       "    </tr>\n",
       "    <tr>\n",
       "      <td>4</td>\n",
       "      <td>0.126419</td>\n",
       "      <td>0.590419</td>\n",
       "      <td>1.059563</td>\n",
       "      <td>1.414062</td>\n",
       "      <td>1.703501</td>\n",
       "    </tr>\n",
       "  </tbody>\n",
       "</table>\n",
       "</div>"
      ],
      "text/plain": [
       "      Gap:5    Gap:15    Gap:30    Gap:50   Gap:100\n",
       "0  0.138734  0.545518  0.922274  1.277202  1.633590\n",
       "1  0.103903  0.426908  0.819060  1.220120  1.605363\n",
       "2  0.131606  0.548607  1.023170  1.414351  1.703743\n",
       "3  0.114275  0.580178  1.065007  1.436373  1.714338\n",
       "4  0.126419  0.590419  1.059563  1.414062  1.703501"
      ]
     },
     "execution_count": 27,
     "metadata": {},
     "output_type": "execute_result"
    }
   ],
   "source": [
    "FB = pd.DataFrame({'Gap:5':fb_gap5, 'Gap:15':fb_gap15, 'Gap:30':fb_gap30, 'Gap:50':fb_gap50, 'Gap:100':fb_gap100})\n",
    "FB"
   ]
  },
  {
   "cell_type": "code",
   "execution_count": 28,
   "metadata": {
    "ExecuteTime": {
     "end_time": "2020-10-16T20:49:21.919702Z",
     "start_time": "2020-10-16T20:49:21.905440Z"
    }
   },
   "outputs": [
    {
     "data": {
      "text/html": [
       "<div>\n",
       "<style scoped>\n",
       "    .dataframe tbody tr th:only-of-type {\n",
       "        vertical-align: middle;\n",
       "    }\n",
       "\n",
       "    .dataframe tbody tr th {\n",
       "        vertical-align: top;\n",
       "    }\n",
       "\n",
       "    .dataframe thead th {\n",
       "        text-align: right;\n",
       "    }\n",
       "</style>\n",
       "<table border=\"1\" class=\"dataframe\">\n",
       "  <thead>\n",
       "    <tr style=\"text-align: right;\">\n",
       "      <th></th>\n",
       "      <th>Gap:5</th>\n",
       "      <th>Gap:15</th>\n",
       "      <th>Gap:30</th>\n",
       "      <th>Gap:50</th>\n",
       "      <th>Gap:100</th>\n",
       "    </tr>\n",
       "  </thead>\n",
       "  <tbody>\n",
       "    <tr>\n",
       "      <td>0</td>\n",
       "      <td>43.239642</td>\n",
       "      <td>127.253835</td>\n",
       "      <td>149.561263</td>\n",
       "      <td>148.209030</td>\n",
       "      <td>157.129155</td>\n",
       "    </tr>\n",
       "    <tr>\n",
       "      <td>1</td>\n",
       "      <td>30.358964</td>\n",
       "      <td>84.996380</td>\n",
       "      <td>112.205647</td>\n",
       "      <td>128.286869</td>\n",
       "      <td>146.383512</td>\n",
       "    </tr>\n",
       "    <tr>\n",
       "      <td>2</td>\n",
       "      <td>19.765289</td>\n",
       "      <td>67.623391</td>\n",
       "      <td>121.021397</td>\n",
       "      <td>180.735188</td>\n",
       "      <td>202.751003</td>\n",
       "    </tr>\n",
       "    <tr>\n",
       "      <td>3</td>\n",
       "      <td>18.841444</td>\n",
       "      <td>83.072721</td>\n",
       "      <td>147.860214</td>\n",
       "      <td>200.723068</td>\n",
       "      <td>208.379829</td>\n",
       "    </tr>\n",
       "    <tr>\n",
       "      <td>4</td>\n",
       "      <td>27.489392</td>\n",
       "      <td>113.603900</td>\n",
       "      <td>179.869298</td>\n",
       "      <td>204.239137</td>\n",
       "      <td>211.449106</td>\n",
       "    </tr>\n",
       "  </tbody>\n",
       "</table>\n",
       "</div>"
      ],
      "text/plain": [
       "       Gap:5      Gap:15      Gap:30      Gap:50     Gap:100\n",
       "0  43.239642  127.253835  149.561263  148.209030  157.129155\n",
       "1  30.358964   84.996380  112.205647  128.286869  146.383512\n",
       "2  19.765289   67.623391  121.021397  180.735188  202.751003\n",
       "3  18.841444   83.072721  147.860214  200.723068  208.379829\n",
       "4  27.489392  113.603900  179.869298  204.239137  211.449106"
      ]
     },
     "execution_count": 28,
     "metadata": {},
     "output_type": "execute_result"
    }
   ],
   "source": [
    "RMSE = pd.DataFrame({'Gap:5':rmse_gap5, 'Gap:15':rmse_gap15, 'Gap:30':rmse_gap30, 'Gap:50':rmse_gap50, 'Gap:100':rmse_gap100})\n",
    "RMSE"
   ]
  },
  {
   "cell_type": "code",
   "execution_count": 29,
   "metadata": {
    "ExecuteTime": {
     "end_time": "2020-10-16T20:49:21.942715Z",
     "start_time": "2020-10-16T20:49:21.927327Z"
    }
   },
   "outputs": [
    {
     "data": {
      "text/html": [
       "<div>\n",
       "<style scoped>\n",
       "    .dataframe tbody tr th:only-of-type {\n",
       "        vertical-align: middle;\n",
       "    }\n",
       "\n",
       "    .dataframe tbody tr th {\n",
       "        vertical-align: top;\n",
       "    }\n",
       "\n",
       "    .dataframe thead th {\n",
       "        text-align: right;\n",
       "    }\n",
       "</style>\n",
       "<table border=\"1\" class=\"dataframe\">\n",
       "  <thead>\n",
       "    <tr style=\"text-align: right;\">\n",
       "      <th></th>\n",
       "      <th>Gap:5</th>\n",
       "      <th>Gap:15</th>\n",
       "      <th>Gap:30</th>\n",
       "      <th>Gap:50</th>\n",
       "      <th>Gap:100</th>\n",
       "    </tr>\n",
       "  </thead>\n",
       "  <tbody>\n",
       "    <tr>\n",
       "      <td>0</td>\n",
       "      <td>12.747904</td>\n",
       "      <td>40.722174</td>\n",
       "      <td>59.970943</td>\n",
       "      <td>74.033822</td>\n",
       "      <td>86.970311</td>\n",
       "    </tr>\n",
       "    <tr>\n",
       "      <td>1</td>\n",
       "      <td>9.741173</td>\n",
       "      <td>33.558753</td>\n",
       "      <td>54.741431</td>\n",
       "      <td>71.047257</td>\n",
       "      <td>85.500701</td>\n",
       "    </tr>\n",
       "    <tr>\n",
       "      <td>2</td>\n",
       "      <td>12.181038</td>\n",
       "      <td>40.706352</td>\n",
       "      <td>63.448027</td>\n",
       "      <td>78.272012</td>\n",
       "      <td>89.121380</td>\n",
       "    </tr>\n",
       "    <tr>\n",
       "      <td>3</td>\n",
       "      <td>10.618455</td>\n",
       "      <td>42.119075</td>\n",
       "      <td>65.066668</td>\n",
       "      <td>79.152925</td>\n",
       "      <td>89.548034</td>\n",
       "    </tr>\n",
       "    <tr>\n",
       "      <td>4</td>\n",
       "      <td>11.741515</td>\n",
       "      <td>42.737418</td>\n",
       "      <td>65.052356</td>\n",
       "      <td>78.628401</td>\n",
       "      <td>89.293437</td>\n",
       "    </tr>\n",
       "  </tbody>\n",
       "</table>\n",
       "</div>"
      ],
      "text/plain": [
       "       Gap:5     Gap:15     Gap:30     Gap:50    Gap:100\n",
       "0  12.747904  40.722174  59.970943  74.033822  86.970311\n",
       "1   9.741173  33.558753  54.741431  71.047257  85.500701\n",
       "2  12.181038  40.706352  63.448027  78.272012  89.121380\n",
       "3  10.618455  42.119075  65.066668  79.152925  89.548034\n",
       "4  11.741515  42.737418  65.052356  78.628401  89.293437"
      ]
     },
     "execution_count": 29,
     "metadata": {},
     "output_type": "execute_result"
    }
   ],
   "source": [
    "MAPE = pd.DataFrame({'Gap:5':mape_gap5, 'Gap:15':mape_gap15, 'Gap:30':mape_gap30, 'Gap:50':mape_gap50, 'Gap:100':mape_gap100})\n",
    "MAPE"
   ]
  },
  {
   "cell_type": "code",
   "execution_count": 30,
   "metadata": {
    "ExecuteTime": {
     "end_time": "2020-10-16T20:49:21.950756Z",
     "start_time": "2020-10-16T20:49:21.945846Z"
    }
   },
   "outputs": [],
   "source": [
    "# IOA.to_csv(\"~/Desktop/NCSA_genomics/Python - notebooks/GlucoCheck/Metrics/IOA.csv\")\n",
    "# FB.to_csv(\"~/Desktop/NCSA_genomics/Python - notebooks/GlucoCheck/Metrics/FB.csv\")\n",
    "# RMSE.to_csv(\"~/Desktop/NCSA_genomics/Python - notebooks/GlucoCheck/Metrics/RMSE.csv\")\n",
    "# MAPE.to_csv(\"~/Desktop/NCSA_genomics/Python - notebooks/GlucoCheck/Metrics/MAPE.csv\")\n",
    "# MAD.to_csv(\"~/Desktop/NCSA_genomics/Python - notebooks/GlucoCheck/Metrics/MAD.csv\")"
   ]
  },
  {
   "cell_type": "code",
   "execution_count": null,
   "metadata": {},
   "outputs": [],
   "source": []
  }
 ],
 "metadata": {
  "kernelspec": {
   "display_name": "Python 3",
   "language": "python",
   "name": "python3"
  },
  "language_info": {
   "codemirror_mode": {
    "name": "ipython",
    "version": 3
   },
   "file_extension": ".py",
   "mimetype": "text/x-python",
   "name": "python",
   "nbconvert_exporter": "python",
   "pygments_lexer": "ipython3",
   "version": "3.7.4"
  }
 },
 "nbformat": 4,
 "nbformat_minor": 2
}
