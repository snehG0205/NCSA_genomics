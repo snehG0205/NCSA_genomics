{
 "cells": [
  {
   "cell_type": "markdown",
   "metadata": {},
   "source": [
    "The package used below will have to be explicitly imported\n",
    "\n",
    "Package name: TSForecasting\n",
    "\n",
    "All the packages mentioned below will be installed automatically installed in case they are missing :\n",
    " - pandas\n",
    " - numpy\n",
    " - matplotlib\n",
    " - dateutil\n",
    " - re\n",
    "\n",
    "The pandas package that is explicitly imported will be used to read the data supplied by you"
   ]
  },
  {
   "cell_type": "code",
   "execution_count": 1,
   "metadata": {},
   "outputs": [
    {
     "name": "stderr",
     "output_type": "stream",
     "text": [
      "Using TensorFlow backend.\n"
     ]
    }
   ],
   "source": [
    "from TSForecasting.TsForecasting import TimeSeriesForecast\n",
    "import pandas as pd"
   ]
  },
  {
   "cell_type": "markdown",
   "metadata": {},
   "source": [
    "========================================================================================================="
   ]
  },
  {
   "cell_type": "markdown",
   "metadata": {},
   "source": [
    "***\n",
    "***\n",
    "To read the documentation of the class, just run the following code"
   ]
  },
  {
   "cell_type": "code",
   "execution_count": 2,
   "metadata": {},
   "outputs": [],
   "source": [
    "TimeSeriesForecast?"
   ]
  },
  {
   "cell_type": "markdown",
   "metadata": {},
   "source": [
    "Now, we create an object of the TimeSeriesForecast class\n",
    "\n",
    "This is object which has the model and methods to predict the imputed values\n",
    "\n",
    "The object has a pretrained model on the data described below. The model is capable of performing imputations"
   ]
  },
  {
   "cell_type": "code",
   "execution_count": 3,
   "metadata": {},
   "outputs": [
    {
     "name": "stdout",
     "output_type": "stream",
     "text": [
      "Object Created!\n"
     ]
    }
   ],
   "source": [
    "obj = TimeSeriesForecast()\n",
    "obj.train()"
   ]
  },
  {
   "cell_type": "markdown",
   "metadata": {},
   "source": [
    "***\n",
    "***\n",
    "To read the documentation of any method:\n",
    "1. Place the cursor inside the parenthesis of the function, hold down shift and press tab\n",
    "2. Run the following code (substitute 'impute' with the name of the method)"
   ]
  },
  {
   "cell_type": "code",
   "execution_count": 4,
   "metadata": {},
   "outputs": [],
   "source": [
    "# obj.impute?"
   ]
  },
  {
   "cell_type": "markdown",
   "metadata": {},
   "source": [
    "***\n",
    "***\n",
    "The following method describes the __CGM data__ used to pre-train the model\n",
    "***"
   ]
  },
  {
   "cell_type": "code",
   "execution_count": 5,
   "metadata": {},
   "outputs": [
    {
     "name": "stdout",
     "output_type": "stream",
     "text": [
      "Here is a glimpse of the data:\n",
      "\n",
      "         Display Time subjectId  GlucoseValue\n",
      "0 2016-06-21 00:00:00     GVP01         197.0\n",
      "1 2016-06-21 00:15:00     GVP01         208.0\n",
      "2 2016-06-21 00:30:00     GVP01         226.0\n",
      "3 2016-06-21 00:45:00     GVP01         241.0\n",
      "4 2016-06-21 01:00:00     GVP01         250.0\n",
      "\n",
      "Total Readings in the data:212853\n",
      "\n",
      "\n",
      "\n",
      "\n"
     ]
    },
    {
     "data": {
      "text/html": [
       "<div>\n",
       "<style scoped>\n",
       "    .dataframe tbody tr th:only-of-type {\n",
       "        vertical-align: middle;\n",
       "    }\n",
       "\n",
       "    .dataframe tbody tr th {\n",
       "        vertical-align: top;\n",
       "    }\n",
       "\n",
       "    .dataframe thead th {\n",
       "        text-align: right;\n",
       "    }\n",
       "</style>\n",
       "<table border=\"1\" class=\"dataframe\">\n",
       "  <thead>\n",
       "    <tr style=\"text-align: right;\">\n",
       "      <th></th>\n",
       "      <th>Length of readings</th>\n",
       "      <th>Max. Glucose Value</th>\n",
       "      <th>Min. Glucose Value</th>\n",
       "      <th>MAGE Score</th>\n",
       "      <th>Days</th>\n",
       "    </tr>\n",
       "  </thead>\n",
       "  <tbody>\n",
       "    <tr>\n",
       "      <td>count</td>\n",
       "      <td>28.000000</td>\n",
       "      <td>28.000000</td>\n",
       "      <td>28.000000</td>\n",
       "      <td>28.000000</td>\n",
       "      <td>28</td>\n",
       "    </tr>\n",
       "    <tr>\n",
       "      <td>mean</td>\n",
       "      <td>7601.892857</td>\n",
       "      <td>317.106071</td>\n",
       "      <td>49.691429</td>\n",
       "      <td>108.196373</td>\n",
       "      <td>42 days 14:19:02.678571</td>\n",
       "    </tr>\n",
       "    <tr>\n",
       "      <td>std</td>\n",
       "      <td>8762.341947</td>\n",
       "      <td>98.519774</td>\n",
       "      <td>22.217624</td>\n",
       "      <td>45.395263</td>\n",
       "      <td>104 days 12:44:49.738624</td>\n",
       "    </tr>\n",
       "    <tr>\n",
       "      <td>min</td>\n",
       "      <td>576.000000</td>\n",
       "      <td>163.800000</td>\n",
       "      <td>0.000000</td>\n",
       "      <td>33.992727</td>\n",
       "      <td>3 days 00:06:00</td>\n",
       "    </tr>\n",
       "    <tr>\n",
       "      <td>25%</td>\n",
       "      <td>2181.500000</td>\n",
       "      <td>211.150000</td>\n",
       "      <td>40.000000</td>\n",
       "      <td>65.397143</td>\n",
       "      <td>5 days 12:03:00</td>\n",
       "    </tr>\n",
       "    <tr>\n",
       "      <td>50%</td>\n",
       "      <td>3178.500000</td>\n",
       "      <td>346.000000</td>\n",
       "      <td>42.500000</td>\n",
       "      <td>120.877433</td>\n",
       "      <td>13 days 18:54:00</td>\n",
       "    </tr>\n",
       "    <tr>\n",
       "      <td>75%</td>\n",
       "      <td>10903.250000</td>\n",
       "      <td>400.000000</td>\n",
       "      <td>62.070000</td>\n",
       "      <td>139.814124</td>\n",
       "      <td>45 days 11:30:00</td>\n",
       "    </tr>\n",
       "    <tr>\n",
       "      <td>max</td>\n",
       "      <td>45696.000000</td>\n",
       "      <td>508.710000</td>\n",
       "      <td>95.400000</td>\n",
       "      <td>189.593750</td>\n",
       "      <td>566 days 23:45:00</td>\n",
       "    </tr>\n",
       "  </tbody>\n",
       "</table>\n",
       "</div>"
      ],
      "text/plain": [
       "       Length of readings  Max. Glucose Value  Min. Glucose Value  MAGE Score  \\\n",
       "count           28.000000           28.000000           28.000000   28.000000   \n",
       "mean          7601.892857          317.106071           49.691429  108.196373   \n",
       "std           8762.341947           98.519774           22.217624   45.395263   \n",
       "min            576.000000          163.800000            0.000000   33.992727   \n",
       "25%           2181.500000          211.150000           40.000000   65.397143   \n",
       "50%           3178.500000          346.000000           42.500000  120.877433   \n",
       "75%          10903.250000          400.000000           62.070000  139.814124   \n",
       "max          45696.000000          508.710000           95.400000  189.593750   \n",
       "\n",
       "                           Days  \n",
       "count                        28  \n",
       "mean    42 days 14:19:02.678571  \n",
       "std    104 days 12:44:49.738624  \n",
       "min             3 days 00:06:00  \n",
       "25%             5 days 12:03:00  \n",
       "50%            13 days 18:54:00  \n",
       "75%            45 days 11:30:00  \n",
       "max           566 days 23:45:00  "
      ]
     },
     "metadata": {},
     "output_type": "display_data"
    },
    {
     "name": "stdout",
     "output_type": "stream",
     "text": [
      "Here is the statistical analysis of the data:\n",
      "\n"
     ]
    },
    {
     "data": {
      "text/html": [
       "<div>\n",
       "<style scoped>\n",
       "    .dataframe tbody tr th:only-of-type {\n",
       "        vertical-align: middle;\n",
       "    }\n",
       "\n",
       "    .dataframe tbody tr th {\n",
       "        vertical-align: top;\n",
       "    }\n",
       "\n",
       "    .dataframe thead th {\n",
       "        text-align: right;\n",
       "    }\n",
       "</style>\n",
       "<table border=\"1\" class=\"dataframe\">\n",
       "  <thead>\n",
       "    <tr style=\"text-align: right;\">\n",
       "      <th></th>\n",
       "      <th>Subject ID</th>\n",
       "      <th>Length of readings</th>\n",
       "      <th>Max. Glucose Value</th>\n",
       "      <th>Min. Glucose Value</th>\n",
       "      <th>MAGE Score</th>\n",
       "      <th>Days</th>\n",
       "      <th>Start</th>\n",
       "      <th>End</th>\n",
       "    </tr>\n",
       "  </thead>\n",
       "  <tbody>\n",
       "    <tr>\n",
       "      <td>0</td>\n",
       "      <td>OD596</td>\n",
       "      <td>10877</td>\n",
       "      <td>367.00</td>\n",
       "      <td>40.00</td>\n",
       "      <td>121.875622</td>\n",
       "      <td>47 days 07:44:00</td>\n",
       "      <td>2027-04-09 16:15:00</td>\n",
       "      <td>2027-05-26 23:59:00</td>\n",
       "    </tr>\n",
       "    <tr>\n",
       "      <td>1</td>\n",
       "      <td>OD591</td>\n",
       "      <td>10847</td>\n",
       "      <td>397.00</td>\n",
       "      <td>40.00</td>\n",
       "      <td>133.250923</td>\n",
       "      <td>44 days 06:52:00</td>\n",
       "      <td>2021-11-30 17:06:00</td>\n",
       "      <td>2022-01-13 23:58:00</td>\n",
       "    </tr>\n",
       "    <tr>\n",
       "      <td>2</td>\n",
       "      <td>OD588</td>\n",
       "      <td>12640</td>\n",
       "      <td>400.00</td>\n",
       "      <td>40.00</td>\n",
       "      <td>112.819398</td>\n",
       "      <td>45 days 12:02:00</td>\n",
       "      <td>2021-08-30 11:53:00</td>\n",
       "      <td>2021-10-14 23:55:00</td>\n",
       "    </tr>\n",
       "    <tr>\n",
       "      <td>3</td>\n",
       "      <td>OD584</td>\n",
       "      <td>12150</td>\n",
       "      <td>400.00</td>\n",
       "      <td>40.00</td>\n",
       "      <td>143.566308</td>\n",
       "      <td>45 days 23:53:00</td>\n",
       "      <td>2025-05-14 00:03:00</td>\n",
       "      <td>2025-06-28 23:56:00</td>\n",
       "    </tr>\n",
       "    <tr>\n",
       "      <td>4</td>\n",
       "      <td>OD575</td>\n",
       "      <td>11866</td>\n",
       "      <td>400.00</td>\n",
       "      <td>40.00</td>\n",
       "      <td>140.910156</td>\n",
       "      <td>45 days 11:51:00</td>\n",
       "      <td>2021-11-17 12:04:00</td>\n",
       "      <td>2022-01-01 23:55:00</td>\n",
       "    </tr>\n",
       "    <tr>\n",
       "      <td>5</td>\n",
       "      <td>OD570</td>\n",
       "      <td>10982</td>\n",
       "      <td>377.00</td>\n",
       "      <td>46.00</td>\n",
       "      <td>145.633333</td>\n",
       "      <td>40 days 07:30:00</td>\n",
       "      <td>2021-12-07 16:29:00</td>\n",
       "      <td>2022-01-16 23:59:00</td>\n",
       "    </tr>\n",
       "    <tr>\n",
       "      <td>6</td>\n",
       "      <td>OD567</td>\n",
       "      <td>10858</td>\n",
       "      <td>400.00</td>\n",
       "      <td>40.00</td>\n",
       "      <td>145.016461</td>\n",
       "      <td>46 days 23:54:51</td>\n",
       "      <td>2026-12-28 00:04:30</td>\n",
       "      <td>2027-02-12 23:59:21</td>\n",
       "    </tr>\n",
       "    <tr>\n",
       "      <td>7</td>\n",
       "      <td>OD563</td>\n",
       "      <td>12124</td>\n",
       "      <td>400.00</td>\n",
       "      <td>40.00</td>\n",
       "      <td>119.387931</td>\n",
       "      <td>45 days 11:23:00</td>\n",
       "      <td>2021-09-13 12:33:00</td>\n",
       "      <td>2021-10-28 23:56:00</td>\n",
       "    </tr>\n",
       "    <tr>\n",
       "      <td>8</td>\n",
       "      <td>OD559</td>\n",
       "      <td>10796</td>\n",
       "      <td>400.00</td>\n",
       "      <td>40.00</td>\n",
       "      <td>179.030303</td>\n",
       "      <td>41 days 22:39:00</td>\n",
       "      <td>2021-12-07 01:17:00</td>\n",
       "      <td>2022-01-17 23:56:00</td>\n",
       "    </tr>\n",
       "    <tr>\n",
       "      <td>9</td>\n",
       "      <td>OD552</td>\n",
       "      <td>9080</td>\n",
       "      <td>345.00</td>\n",
       "      <td>45.00</td>\n",
       "      <td>125.322917</td>\n",
       "      <td>38 days 12:42:09</td>\n",
       "      <td>2025-04-16 11:17:05</td>\n",
       "      <td>2025-05-24 23:59:14</td>\n",
       "    </tr>\n",
       "    <tr>\n",
       "      <td>10</td>\n",
       "      <td>OD544</td>\n",
       "      <td>10623</td>\n",
       "      <td>400.00</td>\n",
       "      <td>48.00</td>\n",
       "      <td>139.448780</td>\n",
       "      <td>43 days 23:53:00</td>\n",
       "      <td>2027-05-11 00:02:00</td>\n",
       "      <td>2027-06-23 23:55:00</td>\n",
       "    </tr>\n",
       "    <tr>\n",
       "      <td>11</td>\n",
       "      <td>OD540</td>\n",
       "      <td>11947</td>\n",
       "      <td>369.00</td>\n",
       "      <td>40.00</td>\n",
       "      <td>125.281250</td>\n",
       "      <td>45 days 12:20:15</td>\n",
       "      <td>2027-05-19 11:36:29</td>\n",
       "      <td>2027-07-03 23:56:44</td>\n",
       "    </tr>\n",
       "    <tr>\n",
       "      <td>12</td>\n",
       "      <td>ID33</td>\n",
       "      <td>1265</td>\n",
       "      <td>163.80</td>\n",
       "      <td>39.60</td>\n",
       "      <td>33.992727</td>\n",
       "      <td>13 days 15:49:00</td>\n",
       "      <td>2019-02-21 14:59:00</td>\n",
       "      <td>2019-03-07 06:48:00</td>\n",
       "    </tr>\n",
       "    <tr>\n",
       "      <td>13</td>\n",
       "      <td>ID32</td>\n",
       "      <td>1337</td>\n",
       "      <td>202.00</td>\n",
       "      <td>47.00</td>\n",
       "      <td>55.223881</td>\n",
       "      <td>13 days 21:59:00</td>\n",
       "      <td>2018-08-01 12:00:00</td>\n",
       "      <td>2018-08-15 09:59:00</td>\n",
       "    </tr>\n",
       "    <tr>\n",
       "      <td>14</td>\n",
       "      <td>ID31</td>\n",
       "      <td>1443</td>\n",
       "      <td>182.19</td>\n",
       "      <td>66.47</td>\n",
       "      <td>48.568387</td>\n",
       "      <td>3 days 00:06:00</td>\n",
       "      <td>2016-06-06 16:55:00</td>\n",
       "      <td>2016-06-09 17:01:00</td>\n",
       "    </tr>\n",
       "    <tr>\n",
       "      <td>15</td>\n",
       "      <td>ID30</td>\n",
       "      <td>2472</td>\n",
       "      <td>187.20</td>\n",
       "      <td>59.40</td>\n",
       "      <td>39.564706</td>\n",
       "      <td>5 days 03:33:00</td>\n",
       "      <td>2016-12-21 07:29:00</td>\n",
       "      <td>2016-12-26 11:02:00</td>\n",
       "    </tr>\n",
       "    <tr>\n",
       "      <td>16</td>\n",
       "      <td>ID29</td>\n",
       "      <td>1728</td>\n",
       "      <td>195.64</td>\n",
       "      <td>75.15</td>\n",
       "      <td>57.160000</td>\n",
       "      <td>3 days 14:21:00</td>\n",
       "      <td>2016-12-19 22:42:00</td>\n",
       "      <td>2016-12-23 13:03:00</td>\n",
       "    </tr>\n",
       "    <tr>\n",
       "      <td>17</td>\n",
       "      <td>ID23</td>\n",
       "      <td>3260</td>\n",
       "      <td>326.83</td>\n",
       "      <td>64.53</td>\n",
       "      <td>87.135429</td>\n",
       "      <td>6 days 18:57:00</td>\n",
       "      <td>2016-10-11 15:34:00</td>\n",
       "      <td>2016-10-18 10:31:00</td>\n",
       "    </tr>\n",
       "    <tr>\n",
       "      <td>18</td>\n",
       "      <td>ID22</td>\n",
       "      <td>2111</td>\n",
       "      <td>170.39</td>\n",
       "      <td>34.20</td>\n",
       "      <td>56.753500</td>\n",
       "      <td>4 days 09:30:00</td>\n",
       "      <td>2016-12-29 07:35:00</td>\n",
       "      <td>2017-01-02 17:05:00</td>\n",
       "    </tr>\n",
       "    <tr>\n",
       "      <td>19</td>\n",
       "      <td>ID21</td>\n",
       "      <td>2686</td>\n",
       "      <td>214.20</td>\n",
       "      <td>66.60</td>\n",
       "      <td>68.142857</td>\n",
       "      <td>5 days 14:15:00</td>\n",
       "      <td>2016-11-22 07:26:00</td>\n",
       "      <td>2016-11-27 21:41:00</td>\n",
       "    </tr>\n",
       "    <tr>\n",
       "      <td>20</td>\n",
       "      <td>ID13</td>\n",
       "      <td>1681</td>\n",
       "      <td>246.06</td>\n",
       "      <td>94.75</td>\n",
       "      <td>81.946286</td>\n",
       "      <td>3 days 12:00:00</td>\n",
       "      <td>2016-12-01 07:44:00</td>\n",
       "      <td>2016-12-04 19:44:00</td>\n",
       "    </tr>\n",
       "    <tr>\n",
       "      <td>21</td>\n",
       "      <td>ID12</td>\n",
       "      <td>2980</td>\n",
       "      <td>271.80</td>\n",
       "      <td>93.60</td>\n",
       "      <td>78.646154</td>\n",
       "      <td>6 days 04:57:00</td>\n",
       "      <td>2016-08-02 08:19:00</td>\n",
       "      <td>2016-08-08 13:16:00</td>\n",
       "    </tr>\n",
       "    <tr>\n",
       "      <td>22</td>\n",
       "      <td>ID11</td>\n",
       "      <td>2205</td>\n",
       "      <td>316.80</td>\n",
       "      <td>95.40</td>\n",
       "      <td>124.305882</td>\n",
       "      <td>4 days 14:12:00</td>\n",
       "      <td>2017-01-07 08:52:00</td>\n",
       "      <td>2017-01-11 23:04:00</td>\n",
       "    </tr>\n",
       "    <tr>\n",
       "      <td>23</td>\n",
       "      <td>ID03</td>\n",
       "      <td>3097</td>\n",
       "      <td>508.71</td>\n",
       "      <td>61.25</td>\n",
       "      <td>179.607679</td>\n",
       "      <td>6 days 10:48:00</td>\n",
       "      <td>2016-05-26 06:09:00</td>\n",
       "      <td>2016-06-01 16:57:00</td>\n",
       "    </tr>\n",
       "    <tr>\n",
       "      <td>24</td>\n",
       "      <td>ID02</td>\n",
       "      <td>3016</td>\n",
       "      <td>170.98</td>\n",
       "      <td>14.02</td>\n",
       "      <td>40.234656</td>\n",
       "      <td>6 days 06:45:00</td>\n",
       "      <td>2016-05-26 07:50:00</td>\n",
       "      <td>2016-06-01 14:35:00</td>\n",
       "    </tr>\n",
       "    <tr>\n",
       "      <td>25</td>\n",
       "      <td>ID01</td>\n",
       "      <td>2510</td>\n",
       "      <td>291.37</td>\n",
       "      <td>55.39</td>\n",
       "      <td>137.199913</td>\n",
       "      <td>5 days 05:27:00</td>\n",
       "      <td>2016-06-25 09:14:00</td>\n",
       "      <td>2016-06-30 14:41:00</td>\n",
       "    </tr>\n",
       "    <tr>\n",
       "      <td>26</td>\n",
       "      <td>GVP03</td>\n",
       "      <td>45696</td>\n",
       "      <td>429.00</td>\n",
       "      <td>25.00</td>\n",
       "      <td>119.879244</td>\n",
       "      <td>566 days 23:45:00</td>\n",
       "      <td>2016-04-24 00:00:00</td>\n",
       "      <td>2017-11-11 23:45:00</td>\n",
       "    </tr>\n",
       "    <tr>\n",
       "      <td>27</td>\n",
       "      <td>GVP01</td>\n",
       "      <td>576</td>\n",
       "      <td>347.00</td>\n",
       "      <td>0.00</td>\n",
       "      <td>189.593750</td>\n",
       "      <td>5 days 23:45:00</td>\n",
       "      <td>2016-06-21 00:00:00</td>\n",
       "      <td>2016-06-26 23:45:00</td>\n",
       "    </tr>\n",
       "  </tbody>\n",
       "</table>\n",
       "</div>"
      ],
      "text/plain": [
       "   Subject ID  Length of readings  Max. Glucose Value  Min. Glucose Value  \\\n",
       "0       OD596               10877              367.00               40.00   \n",
       "1       OD591               10847              397.00               40.00   \n",
       "2       OD588               12640              400.00               40.00   \n",
       "3       OD584               12150              400.00               40.00   \n",
       "4       OD575               11866              400.00               40.00   \n",
       "5       OD570               10982              377.00               46.00   \n",
       "6       OD567               10858              400.00               40.00   \n",
       "7       OD563               12124              400.00               40.00   \n",
       "8       OD559               10796              400.00               40.00   \n",
       "9       OD552                9080              345.00               45.00   \n",
       "10      OD544               10623              400.00               48.00   \n",
       "11      OD540               11947              369.00               40.00   \n",
       "12       ID33                1265              163.80               39.60   \n",
       "13       ID32                1337              202.00               47.00   \n",
       "14       ID31                1443              182.19               66.47   \n",
       "15       ID30                2472              187.20               59.40   \n",
       "16       ID29                1728              195.64               75.15   \n",
       "17       ID23                3260              326.83               64.53   \n",
       "18       ID22                2111              170.39               34.20   \n",
       "19       ID21                2686              214.20               66.60   \n",
       "20       ID13                1681              246.06               94.75   \n",
       "21       ID12                2980              271.80               93.60   \n",
       "22       ID11                2205              316.80               95.40   \n",
       "23       ID03                3097              508.71               61.25   \n",
       "24       ID02                3016              170.98               14.02   \n",
       "25       ID01                2510              291.37               55.39   \n",
       "26      GVP03               45696              429.00               25.00   \n",
       "27      GVP01                 576              347.00                0.00   \n",
       "\n",
       "    MAGE Score              Days                Start                  End  \n",
       "0   121.875622  47 days 07:44:00  2027-04-09 16:15:00  2027-05-26 23:59:00  \n",
       "1   133.250923  44 days 06:52:00  2021-11-30 17:06:00  2022-01-13 23:58:00  \n",
       "2   112.819398  45 days 12:02:00  2021-08-30 11:53:00  2021-10-14 23:55:00  \n",
       "3   143.566308  45 days 23:53:00  2025-05-14 00:03:00  2025-06-28 23:56:00  \n",
       "4   140.910156  45 days 11:51:00  2021-11-17 12:04:00  2022-01-01 23:55:00  \n",
       "5   145.633333  40 days 07:30:00  2021-12-07 16:29:00  2022-01-16 23:59:00  \n",
       "6   145.016461  46 days 23:54:51  2026-12-28 00:04:30  2027-02-12 23:59:21  \n",
       "7   119.387931  45 days 11:23:00  2021-09-13 12:33:00  2021-10-28 23:56:00  \n",
       "8   179.030303  41 days 22:39:00  2021-12-07 01:17:00  2022-01-17 23:56:00  \n",
       "9   125.322917  38 days 12:42:09  2025-04-16 11:17:05  2025-05-24 23:59:14  \n",
       "10  139.448780  43 days 23:53:00  2027-05-11 00:02:00  2027-06-23 23:55:00  \n",
       "11  125.281250  45 days 12:20:15  2027-05-19 11:36:29  2027-07-03 23:56:44  \n",
       "12   33.992727  13 days 15:49:00  2019-02-21 14:59:00  2019-03-07 06:48:00  \n",
       "13   55.223881  13 days 21:59:00  2018-08-01 12:00:00  2018-08-15 09:59:00  \n",
       "14   48.568387   3 days 00:06:00  2016-06-06 16:55:00  2016-06-09 17:01:00  \n",
       "15   39.564706   5 days 03:33:00  2016-12-21 07:29:00  2016-12-26 11:02:00  \n",
       "16   57.160000   3 days 14:21:00  2016-12-19 22:42:00  2016-12-23 13:03:00  \n",
       "17   87.135429   6 days 18:57:00  2016-10-11 15:34:00  2016-10-18 10:31:00  \n",
       "18   56.753500   4 days 09:30:00  2016-12-29 07:35:00  2017-01-02 17:05:00  \n",
       "19   68.142857   5 days 14:15:00  2016-11-22 07:26:00  2016-11-27 21:41:00  \n",
       "20   81.946286   3 days 12:00:00  2016-12-01 07:44:00  2016-12-04 19:44:00  \n",
       "21   78.646154   6 days 04:57:00  2016-08-02 08:19:00  2016-08-08 13:16:00  \n",
       "22  124.305882   4 days 14:12:00  2017-01-07 08:52:00  2017-01-11 23:04:00  \n",
       "23  179.607679   6 days 10:48:00  2016-05-26 06:09:00  2016-06-01 16:57:00  \n",
       "24   40.234656   6 days 06:45:00  2016-05-26 07:50:00  2016-06-01 14:35:00  \n",
       "25  137.199913   5 days 05:27:00  2016-06-25 09:14:00  2016-06-30 14:41:00  \n",
       "26  119.879244 566 days 23:45:00  2016-04-24 00:00:00  2017-11-11 23:45:00  \n",
       "27  189.593750   5 days 23:45:00  2016-06-21 00:00:00  2016-06-26 23:45:00  "
      ]
     },
     "metadata": {},
     "output_type": "display_data"
    },
    {
     "name": "stdout",
     "output_type": "stream",
     "text": [
      "\n",
      "\n",
      "\n"
     ]
    }
   ],
   "source": [
    "obj.dataDescribe()"
   ]
  },
  {
   "cell_type": "markdown",
   "metadata": {},
   "source": [
    "***\n",
    "***\n",
    "To see what a specific individual's glucose values look like, run the following line. \n",
    "\n",
    "In between the quotes, pass the Subject ID of that individual\n",
    "\n",
    "The different subject ID's can be found in the description table above\n",
    "***"
   ]
  },
  {
   "cell_type": "code",
   "execution_count": 6,
   "metadata": {},
   "outputs": [
    {
     "data": {
      "image/png": "[encoded data removed]",
      "text/plain": [
       "<Figure size 1440x576 with 1 Axes>"
      ]
     },
     "metadata": {
      "needs_background": "light"
     },
     "output_type": "display_data"
    }
   ],
   "source": [
    "obj.plotSpecific('ID01')"
   ]
  },
  {
   "cell_type": "markdown",
   "metadata": {},
   "source": [
    "***\n",
    "***\n",
    "To test the pretrained model, write the path of the testing dataset below:\n",
    "***"
   ]
  },
  {
   "cell_type": "code",
   "execution_count": 7,
   "metadata": {},
   "outputs": [],
   "source": [
    "testing_data = pd.read_csv(\"~/Desktop/NCSA_genomics/Python - notebooks/TSForecasting/Data/test/generated_test.txt\", sep=\",\")"
   ]
  },
  {
   "cell_type": "markdown",
   "metadata": {},
   "source": [
    "***\n",
    "***\n",
    "Now, we run the imputation model on the data you supplied above\n",
    "\n",
    "The graph you see is the imputed glucose values\n",
    "***"
   ]
  },
  {
   "cell_type": "code",
   "execution_count": null,
   "metadata": {},
   "outputs": [],
   "source": [
    "obj.impute(testing_data)"
   ]
  },
  {
   "cell_type": "markdown",
   "metadata": {},
   "source": [
    "==============================================================================================================="
   ]
  },
  {
   "cell_type": "markdown",
   "metadata": {},
   "source": [
    "In case you wish to train your own model, use the following code\n",
    "\n",
    "Write the path to your file for the training and test set\n",
    "\n",
    "\n",
    "\n",
    "Be careful of the following:\n",
    "1. Enter the path of your file\n",
    "2. The file should have only two columns in the following order with the exact names: Timestamp, GlucoseValue\n",
    "3. The date of the timestamp should have the entire year (all 4 digits). Make sure the data is numeric (irrespective of the delimiter)\n",
    "\n"
   ]
  },
  {
   "cell_type": "code",
   "execution_count": null,
   "metadata": {},
   "outputs": [],
   "source": [
    "training_data = pd.read_csv(\"~/Desktop/NCSA_genomics/Python - notebooks/TSForecasting/Data/Gluvarpro/Gluvarpro.csv\")"
   ]
  },
  {
   "cell_type": "markdown",
   "metadata": {},
   "source": [
    "***\n",
    "***\n",
    "Use the following function to train the model on the data you just supplied\n",
    "***"
   ]
  },
  {
   "cell_type": "code",
   "execution_count": null,
   "metadata": {},
   "outputs": [],
   "source": [
    "obj.train(training_data)"
   ]
  },
  {
   "cell_type": "markdown",
   "metadata": {},
   "source": [
    "***\n",
    "***\n",
    "To test the model you just trained, write the path of the testing dataset below:\n",
    "***"
   ]
  },
  {
   "cell_type": "code",
   "execution_count": null,
   "metadata": {},
   "outputs": [],
   "source": [
    "testing_data.head()"
   ]
  },
  {
   "cell_type": "markdown",
   "metadata": {},
   "source": [
    "***\n",
    "***\n",
    "Now, we run the imputation model on the data you supplied above\n",
    "***"
   ]
  },
  {
   "cell_type": "code",
   "execution_count": null,
   "metadata": {},
   "outputs": [],
   "source": [
    "obj.impute(testing_data)"
   ]
  },
  {
   "cell_type": "markdown",
   "metadata": {},
   "source": [
    "===============================================================================================================\n",
    "Now, lets train on the consolidated raw data "
   ]
  },
  {
   "cell_type": "code",
   "execution_count": null,
   "metadata": {},
   "outputs": [],
   "source": [
    "training_data = pd.read_csv(\"~/Desktop/NCSA_genomics/Python - notebooks/TSForecasting/Data/consolidatedDataForPaper.csv\")"
   ]
  },
  {
   "cell_type": "code",
   "execution_count": null,
   "metadata": {},
   "outputs": [],
   "source": [
    "training_data.head(10)"
   ]
  },
  {
   "cell_type": "code",
   "execution_count": null,
   "metadata": {},
   "outputs": [],
   "source": [
    "obj.train(training_data)"
   ]
  },
  {
   "cell_type": "code",
   "execution_count": null,
   "metadata": {},
   "outputs": [],
   "source": [
    "obj.impute(testing_data)"
   ]
  },
  {
   "cell_type": "markdown",
   "metadata": {},
   "source": [
    "***\n",
    "***\n",
    "The following method describes the __raw HALL data__ before processing \n",
    "\n",
    "The data needs to be processed before we use it to train our clustering model\n",
    "***\n",
    "\n"
   ]
  },
  {
   "cell_type": "code",
   "execution_count": null,
   "metadata": {},
   "outputs": [],
   "source": [
    "obj.rawData()"
   ]
  },
  {
   "cell_type": "markdown",
   "metadata": {},
   "source": [
    "***\n",
    "***\n",
    "The following method describes the data after processing \n",
    "\n",
    "The imputation model has been trained on this processed data\n",
    "\n",
    "We use the following processed (cleaned) data for training our model\n",
    "\n",
    "This minimizes erronous data being fed to the model\n",
    "***\n"
   ]
  },
  {
   "cell_type": "code",
   "execution_count": null,
   "metadata": {},
   "outputs": [],
   "source": [
    "obj.processedData()"
   ]
  },
  {
   "cell_type": "code",
   "execution_count": null,
   "metadata": {},
   "outputs": [],
   "source": [
    " "
   ]
  }
 ],
 "metadata": {
  "kernelspec": {
   "display_name": "Python 3",
   "language": "python",
   "name": "python3"
  },
  "language_info": {
   "codemirror_mode": {
    "name": "ipython",
    "version": 3
   },
   "file_extension": ".py",
   "mimetype": "text/x-python",
   "name": "python",
   "nbconvert_exporter": "python",
   "pygments_lexer": "ipython3",
   "version": "3.7.4"
  }
 },
 "nbformat": 4,
 "nbformat_minor": 2
}
