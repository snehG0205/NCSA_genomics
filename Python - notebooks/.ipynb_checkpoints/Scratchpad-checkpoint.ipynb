{
 "cells": [
  {
   "cell_type": "code",
   "execution_count": 10,
   "metadata": {},
   "outputs": [
    {
     "name": "stderr",
     "output_type": "stream",
     "text": [
      "Using TensorFlow backend.\n"
     ]
    }
   ],
   "source": [
    "from TSForecasting.TsForecasting import TimeSeriesForecast"
   ]
  },
  {
   "cell_type": "code",
   "execution_count": 2,
   "metadata": {},
   "outputs": [],
   "source": [
    "import pandas as pd"
   ]
  },
  {
   "cell_type": "code",
   "execution_count": 4,
   "metadata": {},
   "outputs": [],
   "source": [
    "def trainingData():\n",
    "    \"\"\"\n",
    "    Reading Train Data \n",
    "    input:\n",
    "        none\n",
    "    output:\n",
    "        data: training dataframe with index => DisplayTime value => GlucoseValues\n",
    "    \"\"\"\n",
    "    \n",
    "    data = pd.read_csv(\"~/Desktop/NCSA_genomics/Data/data_hall.txt\", sep=\"\\t\", engine=\"python\") #use your path\n",
    "    #data.head()\n",
    "    \n",
    "    \n",
    "    #dropping columns we don't need\n",
    "    \n",
    "    \n",
    "    data.drop(['subjectId', 'Internal Time'], axis=1, inplace=True)\n",
    "    \n",
    "    #Converting the Display Time to 'datetime' so that it can be used as an index\n",
    "    data['Display Time'] = data['Display Time'].apply(lambda x: pd.datetime.strptime(x, '%Y-%m-%d %H:%M:%S'))\n",
    "    data = data.set_index(['Display Time'], drop=True)\n",
    "    #data.head()\n",
    "    \n",
    "    return data\n",
    "\n",
    "def testingData():\n",
    "    \"\"\"\n",
    "    Reading Test Data \n",
    "    input:\n",
    "        none\n",
    "    output:\n",
    "        data: testing dataframe with index => DisplayTime value => GlucoseValues\n",
    "    \"\"\"\n",
    "    #reading datasets for training\n",
    "    diabetic_1 = pd.read_csv(\"/Users/snehgajiwala/Desktop/NCSA_genomics/Data/CGManalyzer-datasets/test/ID01.csv\")\n",
    "    diabetic_2 = pd.read_csv(\"/Users/snehgajiwala/Desktop/NCSA_genomics/Data/CGManalyzer-datasets/test/ID11.csv\")\n",
    "    prediabetic = pd.read_csv(\"/Users/snehgajiwala/Desktop/NCSA_genomics/Data/CGManalyzer-datasets/test/ID21.csv\")\n",
    "    nondiabetic = pd.read_csv(\"/Users/snehgajiwala/Desktop/NCSA_genomics/Data/CGManalyzer-datasets/test/ID29.csv\")\n",
    "    \n",
    "    #Converting the Display Time to 'timeStamp' so that it can be used as an index\n",
    "    diabetic_1['timeStamp'] = diabetic_1['timeStamp'].apply(lambda x: pd.datetime.strptime(x, '%Y:%m:%d:%H:%M'))\n",
    "    diabetic_1 = diabetic_1.set_index(['timeStamp'], drop=True)\n",
    "    \n",
    "    prediabetic['timeStamp'] = prediabetic['timeStamp'].apply(lambda x: pd.datetime.strptime(x, '%Y:%m:%d:%H:%M'))\n",
    "    prediabetic = prediabetic.set_index(['timeStamp'], drop=True)\n",
    "    \n",
    "    nondiabetic['timeStamp'] = nondiabetic['timeStamp'].apply(lambda x: pd.datetime.strptime(x, '%Y:%m:%d:%H:%M'))\n",
    "    nondiabetic = nondiabetic.set_index(['timeStamp'], drop=True)\n",
    "    \n",
    "    diabetic_2['timeStamp'] = diabetic_2['timeStamp'].apply(lambda x: pd.datetime.strptime(x, '%Y:%m:%d:%H:%M'))\n",
    "    diabetic_2 = diabetic_2.set_index(['timeStamp'], drop=True)\n",
    "    \n",
    "    diabetic_1['glucoseValue']*=18\n",
    "    diabetic_2['glucoseValue']*=18\n",
    "    prediabetic['glucoseValue']*=18\n",
    "    nondiabetic['glucoseValue']*=18\n",
    "    \n",
    "    return diabetic_1, diabetic_2, prediabetic, nondiabetic"
   ]
  },
  {
   "cell_type": "code",
   "execution_count": 5,
   "metadata": {},
   "outputs": [],
   "source": [
    "train_set = trainingData()"
   ]
  },
  {
   "cell_type": "code",
   "execution_count": 6,
   "metadata": {},
   "outputs": [
    {
     "data": {
      "text/html": [
       "<div>\n",
       "<style scoped>\n",
       "    .dataframe tbody tr th:only-of-type {\n",
       "        vertical-align: middle;\n",
       "    }\n",
       "\n",
       "    .dataframe tbody tr th {\n",
       "        vertical-align: top;\n",
       "    }\n",
       "\n",
       "    .dataframe thead th {\n",
       "        text-align: right;\n",
       "    }\n",
       "</style>\n",
       "<table border=\"1\" class=\"dataframe\">\n",
       "  <thead>\n",
       "    <tr style=\"text-align: right;\">\n",
       "      <th></th>\n",
       "      <th>GlucoseValue</th>\n",
       "    </tr>\n",
       "    <tr>\n",
       "      <th>Display Time</th>\n",
       "      <th></th>\n",
       "    </tr>\n",
       "  </thead>\n",
       "  <tbody>\n",
       "    <tr>\n",
       "      <td>2014-02-03 03:42:12</td>\n",
       "      <td>93</td>\n",
       "    </tr>\n",
       "    <tr>\n",
       "      <td>2014-02-03 03:47:12</td>\n",
       "      <td>93</td>\n",
       "    </tr>\n",
       "    <tr>\n",
       "      <td>2014-02-03 03:52:12</td>\n",
       "      <td>93</td>\n",
       "    </tr>\n",
       "    <tr>\n",
       "      <td>2014-02-03 03:57:12</td>\n",
       "      <td>95</td>\n",
       "    </tr>\n",
       "    <tr>\n",
       "      <td>2014-02-03 04:02:12</td>\n",
       "      <td>96</td>\n",
       "    </tr>\n",
       "    <tr>\n",
       "      <td>...</td>\n",
       "      <td>...</td>\n",
       "    </tr>\n",
       "    <tr>\n",
       "      <td>2017-07-11 20:21:32</td>\n",
       "      <td>70</td>\n",
       "    </tr>\n",
       "    <tr>\n",
       "      <td>2017-07-11 20:26:32</td>\n",
       "      <td>64</td>\n",
       "    </tr>\n",
       "    <tr>\n",
       "      <td>2017-07-11 20:31:32</td>\n",
       "      <td>61</td>\n",
       "    </tr>\n",
       "    <tr>\n",
       "      <td>2017-07-11 20:36:32</td>\n",
       "      <td>62</td>\n",
       "    </tr>\n",
       "    <tr>\n",
       "      <td>2017-07-11 20:41:32</td>\n",
       "      <td>66</td>\n",
       "    </tr>\n",
       "  </tbody>\n",
       "</table>\n",
       "<p>105426 rows × 1 columns</p>\n",
       "</div>"
      ],
      "text/plain": [
       "                     GlucoseValue\n",
       "Display Time                     \n",
       "2014-02-03 03:42:12            93\n",
       "2014-02-03 03:47:12            93\n",
       "2014-02-03 03:52:12            93\n",
       "2014-02-03 03:57:12            95\n",
       "2014-02-03 04:02:12            96\n",
       "...                           ...\n",
       "2017-07-11 20:21:32            70\n",
       "2017-07-11 20:26:32            64\n",
       "2017-07-11 20:31:32            61\n",
       "2017-07-11 20:36:32            62\n",
       "2017-07-11 20:41:32            66\n",
       "\n",
       "[105426 rows x 1 columns]"
      ]
     },
     "execution_count": 6,
     "metadata": {},
     "output_type": "execute_result"
    }
   ],
   "source": [
    "train_set"
   ]
  },
  {
   "cell_type": "raw",
   "metadata": {},
   "source": []
  },
  {
   "cell_type": "code",
   "execution_count": 5,
   "metadata": {},
   "outputs": [
    {
     "name": "stdout",
     "output_type": "stream",
     "text": [
      "We are connected!\n",
      "Train shape:  (105425, 1, 1)\n",
      "Epoch 1/1\n",
      "105425/105425 [==============================] - 215s 2ms/step - loss: 4.0192e-04\n"
     ]
    }
   ],
   "source": [
    "obj = TimeSeriesForecast()\n",
    "obj.connectivityTester()\n",
    "\n",
    "lstmModel = obj.trainModel(train_set)"
   ]
  },
  {
   "cell_type": "code",
   "execution_count": 34,
   "metadata": {},
   "outputs": [],
   "source": [
    "diabetic_1, diabetic_2 , prediabetic, non_diabetic = testingData()#these time series' data will be used to plot comparison graphs\n",
    "diabetic_1_faulty, diabetic_2_faulty, prediabetic_faulty, non_diabetic_faulty = testingData()#gaps will be introduced in these time series' for imputations "
   ]
  },
  {
   "cell_type": "code",
   "execution_count": 15,
   "metadata": {},
   "outputs": [],
   "source": [
    "start, end = obj.createGap(diabetic_1)\n",
    "gap_tester_diabetic_1 = diabetic_1.iloc[start:end+2]\n",
    "diabetic_1_faulty = obj.faultyData(diabetic_1_faulty,start,end+1)"
   ]
  },
  {
   "cell_type": "code",
   "execution_count": 16,
   "metadata": {},
   "outputs": [
    {
     "name": "stdout",
     "output_type": "stream",
     "text": [
      "501/501 [==============================] - 0s 776us/step\n",
      "LSTM: 0.002456\n"
     ]
    },
    {
     "data": {
      "image/png": "[encoded data removed]",
      "text/plain": [
       "<Figure size 1440x576 with 1 Axes>"
      ]
     },
     "metadata": {
      "needs_background": "light"
     },
     "output_type": "display_data"
    },
    {
     "name": "stdout",
     "output_type": "stream",
     "text": [
      "Index of Agreement is: 0.987\n",
      "Mean Absolute Error is: 7.650480057463203\n",
      "Root Mean Squared Error is: 9.952\n",
      "Mean Absolute Difference is: [53.75823]\n",
      "Fractional Bias is: 0.056\n",
      "Mean Absolute Percentage Error is: 6.0\n"
     ]
    }
   ],
   "source": [
    "#here, we're actually running the model and getting the imputed values for the gap\n",
    "predicted, true = obj.testModel(lstmModel,gap_tester_diabetic_1)\n",
    "#here we are are filling in the gap we created with imputed values generated by the model\n",
    "for i in range(0,501):\n",
    "     diabetic_1_faulty['glucoseValue'][start+i] = predicted[i][0]\n",
    "\n",
    "obj.plot(diabetic_1_faulty['glucoseValue'].tolist(),diabetic_1['glucoseValue'].tolist())\n",
    "obj.getMetrics(predicted,true)"
   ]
  },
  {
   "cell_type": "code",
   "execution_count": 17,
   "metadata": {},
   "outputs": [
    {
     "data": {
      "text/plain": [
       "timeStamp\n",
       "2016-06-25 09:14:00    108.000\n",
       "2016-06-25 09:17:00    108.000\n",
       "2016-06-25 09:20:00    108.000\n",
       "2016-06-25 09:23:00    107.658\n",
       "2016-06-25 09:26:00    107.496\n",
       "                        ...   \n",
       "2016-06-30 14:29:00    165.474\n",
       "2016-06-30 14:32:00    164.232\n",
       "2016-06-30 14:35:00    164.160\n",
       "2016-06-30 14:38:00    162.288\n",
       "2016-06-30 14:41:00    161.172\n",
       "Name: glucoseValue, Length: 2510, dtype: float64"
      ]
     },
     "execution_count": 17,
     "metadata": {},
     "output_type": "execute_result"
    }
   ],
   "source": [
    "diabetic_1_faulty['glucoseValue']"
   ]
  },
  {
   "cell_type": "code",
   "execution_count": 18,
   "metadata": {},
   "outputs": [],
   "source": [
    "#writing to file\n",
    "\n",
    "diabetic_1_faulty.to_csv(\"test.csv\")"
   ]
  },
  {
   "cell_type": "code",
   "execution_count": 28,
   "metadata": {},
   "outputs": [
    {
     "data": {
      "text/plain": [
       "(1702, 2202)"
      ]
     },
     "execution_count": 28,
     "metadata": {},
     "output_type": "execute_result"
    }
   ],
   "source": [
    "start,end"
   ]
  },
  {
   "cell_type": "code",
   "execution_count": 19,
   "metadata": {},
   "outputs": [],
   "source": [
    "file = pd.read_csv(\"/Users/snehgajiwala/Desktop/NCSA_genomics/Data/CGManalyzer-datasets/test/ID01.csv\")"
   ]
  },
  {
   "cell_type": "code",
   "execution_count": 22,
   "metadata": {},
   "outputs": [],
   "source": [
    "file['glucoseValue']*=18"
   ]
  },
  {
   "cell_type": "code",
   "execution_count": 24,
   "metadata": {},
   "outputs": [],
   "source": [
    "file2 = pd.read_csv(\"/Users/snehgajiwala/Desktop/NCSA_genomics/Python - notebooks/test.csv\")"
   ]
  },
  {
   "cell_type": "code",
   "execution_count": 25,
   "metadata": {},
   "outputs": [
    {
     "data": {
      "text/plain": [
       "(             timeStamp  glucoseValue\n",
       " 0     2016:06:25:09:14       108.000\n",
       " 1     2016:06:25:09:17       108.000\n",
       " 2     2016:06:25:09:20       108.000\n",
       " 3     2016:06:25:09:23       107.658\n",
       " 4     2016:06:25:09:26       107.496\n",
       " ...                ...           ...\n",
       " 2505  2016:06:30:14:29       165.474\n",
       " 2506  2016:06:30:14:32       164.232\n",
       " 2507  2016:06:30:14:35       164.160\n",
       " 2508  2016:06:30:14:38       162.288\n",
       " 2509  2016:06:30:14:41       161.172\n",
       " \n",
       " [2510 rows x 2 columns],                 timeStamp  glucoseValue\n",
       " 0     2016-06-25 09:14:00       108.000\n",
       " 1     2016-06-25 09:17:00       108.000\n",
       " 2     2016-06-25 09:20:00       108.000\n",
       " 3     2016-06-25 09:23:00       107.658\n",
       " 4     2016-06-25 09:26:00       107.496\n",
       " ...                   ...           ...\n",
       " 2505  2016-06-30 14:29:00       165.474\n",
       " 2506  2016-06-30 14:32:00       164.232\n",
       " 2507  2016-06-30 14:35:00       164.160\n",
       " 2508  2016-06-30 14:38:00       162.288\n",
       " 2509  2016-06-30 14:41:00       161.172\n",
       " \n",
       " [2510 rows x 2 columns])"
      ]
     },
     "execution_count": 25,
     "metadata": {},
     "output_type": "execute_result"
    }
   ],
   "source": [
    "file,file2"
   ]
  },
  {
   "cell_type": "code",
   "execution_count": 46,
   "metadata": {},
   "outputs": [
    {
     "data": {
      "text/plain": [
       "'2016:06:25:09:14'"
      ]
     },
     "execution_count": 46,
     "metadata": {},
     "output_type": "execute_result"
    }
   ],
   "source": [
    "s = str(file['timeStamp'][0])\n",
    "s"
   ]
  },
  {
   "cell_type": "code",
   "execution_count": 62,
   "metadata": {},
   "outputs": [
    {
     "data": {
      "text/plain": [
       "'2016-06-25-09-14'"
      ]
     },
     "execution_count": 62,
     "metadata": {},
     "output_type": "execute_result"
    }
   ],
   "source": [
    "s = \"2016:06:25:09:14\"\n",
    "s = s.replace(\":\",\"-\")\n",
    "s"
   ]
  },
  {
   "cell_type": "code",
   "execution_count": 63,
   "metadata": {},
   "outputs": [
    {
     "data": {
      "text/plain": [
       "datetime.datetime(2016, 6, 25, 9, 0, tzinfo=tzoffset(None, -50400))"
      ]
     },
     "execution_count": 63,
     "metadata": {},
     "output_type": "execute_result"
    }
   ],
   "source": [
    "import dateutil.parser as p\n",
    "d=p.parse(s)\n",
    "d"
   ]
  },
  {
   "cell_type": "code",
   "execution_count": 67,
   "metadata": {},
   "outputs": [],
   "source": [
    "t = pd.to_datetime(\"2016-06-25 09:14\")"
   ]
  },
  {
   "cell_type": "code",
   "execution_count": 68,
   "metadata": {},
   "outputs": [
    {
     "data": {
      "text/plain": [
       "Timestamp('2016-06-25 09:14:00')"
      ]
     },
     "execution_count": 68,
     "metadata": {},
     "output_type": "execute_result"
    }
   ],
   "source": [
    "t"
   ]
  },
  {
   "cell_type": "code",
   "execution_count": 155,
   "metadata": {},
   "outputs": [],
   "source": [
    "data = pd.read_csv(\"~/Desktop/NCSA_genomics/Data/data_hall.txt\", sep=\"\\t\", engine=\"python\") #use your path"
   ]
  },
  {
   "cell_type": "code",
   "execution_count": 156,
   "metadata": {},
   "outputs": [],
   "source": [
    "data['Display Time'] = data['Display Time'].apply(lambda x: pd.datetime.strptime(x, '%Y-%m-%d %H:%M:%S'))"
   ]
  },
  {
   "cell_type": "code",
   "execution_count": 157,
   "metadata": {},
   "outputs": [],
   "source": [
    "data = data.rename(columns={\"Display Time\": \"DisplayTime\"})"
   ]
  },
  {
   "cell_type": "code",
   "execution_count": 158,
   "metadata": {},
   "outputs": [],
   "source": [
    "data['time_gap'] = data['DisplayTime']- data['DisplayTime'].shift(1)"
   ]
  },
  {
   "cell_type": "code",
   "execution_count": 159,
   "metadata": {},
   "outputs": [
    {
     "data": {
      "text/html": [
       "<div>\n",
       "<style scoped>\n",
       "    .dataframe tbody tr th:only-of-type {\n",
       "        vertical-align: middle;\n",
       "    }\n",
       "\n",
       "    .dataframe tbody tr th {\n",
       "        vertical-align: top;\n",
       "    }\n",
       "\n",
       "    .dataframe thead th {\n",
       "        text-align: right;\n",
       "    }\n",
       "</style>\n",
       "<table border=\"1\" class=\"dataframe\">\n",
       "  <thead>\n",
       "    <tr style=\"text-align: right;\">\n",
       "      <th></th>\n",
       "      <th>DisplayTime</th>\n",
       "      <th>GlucoseValue</th>\n",
       "      <th>subjectId</th>\n",
       "      <th>Internal Time</th>\n",
       "      <th>time_gap</th>\n",
       "    </tr>\n",
       "  </thead>\n",
       "  <tbody>\n",
       "    <tr>\n",
       "      <td>0</td>\n",
       "      <td>2015-11-24 00:37:20</td>\n",
       "      <td>123</td>\n",
       "      <td>1636-69-026</td>\n",
       "      <td>2015-11-24 09:39:15</td>\n",
       "      <td>NaT</td>\n",
       "    </tr>\n",
       "    <tr>\n",
       "      <td>1</td>\n",
       "      <td>2015-11-24 00:42:20</td>\n",
       "      <td>122</td>\n",
       "      <td>1636-69-026</td>\n",
       "      <td>2015-11-24 09:44:15</td>\n",
       "      <td>00:05:00</td>\n",
       "    </tr>\n",
       "    <tr>\n",
       "      <td>2</td>\n",
       "      <td>2015-11-24 00:47:20</td>\n",
       "      <td>119</td>\n",
       "      <td>1636-69-026</td>\n",
       "      <td>2015-11-24 09:49:15</td>\n",
       "      <td>00:05:00</td>\n",
       "    </tr>\n",
       "    <tr>\n",
       "      <td>3</td>\n",
       "      <td>2015-11-24 00:52:20</td>\n",
       "      <td>114</td>\n",
       "      <td>1636-69-026</td>\n",
       "      <td>2015-11-24 09:54:15</td>\n",
       "      <td>00:05:00</td>\n",
       "    </tr>\n",
       "    <tr>\n",
       "      <td>4</td>\n",
       "      <td>2015-11-24 00:57:20</td>\n",
       "      <td>111</td>\n",
       "      <td>1636-69-026</td>\n",
       "      <td>2015-11-24 09:59:15</td>\n",
       "      <td>00:05:00</td>\n",
       "    </tr>\n",
       "    <tr>\n",
       "      <td>...</td>\n",
       "      <td>...</td>\n",
       "      <td>...</td>\n",
       "      <td>...</td>\n",
       "      <td>...</td>\n",
       "      <td>...</td>\n",
       "    </tr>\n",
       "    <tr>\n",
       "      <td>103575</td>\n",
       "      <td>2017-07-11 20:21:32</td>\n",
       "      <td>70</td>\n",
       "      <td>2133-041</td>\n",
       "      <td>2017-07-12 04:21:58</td>\n",
       "      <td>00:05:00</td>\n",
       "    </tr>\n",
       "    <tr>\n",
       "      <td>103576</td>\n",
       "      <td>2017-07-11 20:26:32</td>\n",
       "      <td>64</td>\n",
       "      <td>2133-041</td>\n",
       "      <td>2017-07-12 04:26:58</td>\n",
       "      <td>00:05:00</td>\n",
       "    </tr>\n",
       "    <tr>\n",
       "      <td>103577</td>\n",
       "      <td>2017-07-11 20:31:32</td>\n",
       "      <td>61</td>\n",
       "      <td>2133-041</td>\n",
       "      <td>2017-07-12 04:31:58</td>\n",
       "      <td>00:05:00</td>\n",
       "    </tr>\n",
       "    <tr>\n",
       "      <td>103578</td>\n",
       "      <td>2017-07-11 20:36:32</td>\n",
       "      <td>62</td>\n",
       "      <td>2133-041</td>\n",
       "      <td>2017-07-12 04:36:58</td>\n",
       "      <td>00:05:00</td>\n",
       "    </tr>\n",
       "    <tr>\n",
       "      <td>103579</td>\n",
       "      <td>2017-07-11 20:41:32</td>\n",
       "      <td>66</td>\n",
       "      <td>2133-041</td>\n",
       "      <td>2017-07-12 04:41:58</td>\n",
       "      <td>00:05:00</td>\n",
       "    </tr>\n",
       "  </tbody>\n",
       "</table>\n",
       "<p>103580 rows × 5 columns</p>\n",
       "</div>"
      ],
      "text/plain": [
       "               DisplayTime  GlucoseValue    subjectId        Internal Time  \\\n",
       "0      2015-11-24 00:37:20           123  1636-69-026  2015-11-24 09:39:15   \n",
       "1      2015-11-24 00:42:20           122  1636-69-026  2015-11-24 09:44:15   \n",
       "2      2015-11-24 00:47:20           119  1636-69-026  2015-11-24 09:49:15   \n",
       "3      2015-11-24 00:52:20           114  1636-69-026  2015-11-24 09:54:15   \n",
       "4      2015-11-24 00:57:20           111  1636-69-026  2015-11-24 09:59:15   \n",
       "...                    ...           ...          ...                  ...   \n",
       "103575 2017-07-11 20:21:32            70     2133-041  2017-07-12 04:21:58   \n",
       "103576 2017-07-11 20:26:32            64     2133-041  2017-07-12 04:26:58   \n",
       "103577 2017-07-11 20:31:32            61     2133-041  2017-07-12 04:31:58   \n",
       "103578 2017-07-11 20:36:32            62     2133-041  2017-07-12 04:36:58   \n",
       "103579 2017-07-11 20:41:32            66     2133-041  2017-07-12 04:41:58   \n",
       "\n",
       "       time_gap  \n",
       "0           NaT  \n",
       "1      00:05:00  \n",
       "2      00:05:00  \n",
       "3      00:05:00  \n",
       "4      00:05:00  \n",
       "...         ...  \n",
       "103575 00:05:00  \n",
       "103576 00:05:00  \n",
       "103577 00:05:00  \n",
       "103578 00:05:00  \n",
       "103579 00:05:00  \n",
       "\n",
       "[103580 rows x 5 columns]"
      ]
     },
     "execution_count": 159,
     "metadata": {},
     "output_type": "execute_result"
    }
   ],
   "source": [
    "data"
   ]
  },
  {
   "cell_type": "code",
   "execution_count": null,
   "metadata": {},
   "outputs": [],
   "source": []
  },
  {
   "cell_type": "code",
   "execution_count": 160,
   "metadata": {},
   "outputs": [],
   "source": [
    "data['time_gap'][0] = \"00:00:00\""
   ]
  },
  {
   "cell_type": "code",
   "execution_count": 161,
   "metadata": {},
   "outputs": [
    {
     "data": {
      "text/html": [
       "<div>\n",
       "<style scoped>\n",
       "    .dataframe tbody tr th:only-of-type {\n",
       "        vertical-align: middle;\n",
       "    }\n",
       "\n",
       "    .dataframe tbody tr th {\n",
       "        vertical-align: top;\n",
       "    }\n",
       "\n",
       "    .dataframe thead th {\n",
       "        text-align: right;\n",
       "    }\n",
       "</style>\n",
       "<table border=\"1\" class=\"dataframe\">\n",
       "  <thead>\n",
       "    <tr style=\"text-align: right;\">\n",
       "      <th></th>\n",
       "      <th>ID</th>\n",
       "      <th>status</th>\n",
       "      <th>class</th>\n",
       "    </tr>\n",
       "  </thead>\n",
       "  <tbody>\n",
       "    <tr>\n",
       "      <td>0</td>\n",
       "      <td>1636-69-001</td>\n",
       "      <td>NaN</td>\n",
       "      <td>3</td>\n",
       "    </tr>\n",
       "    <tr>\n",
       "      <td>1</td>\n",
       "      <td>1636-69-026</td>\n",
       "      <td>pre-diabetic</td>\n",
       "      <td>1</td>\n",
       "    </tr>\n",
       "    <tr>\n",
       "      <td>2</td>\n",
       "      <td>1636-69-028</td>\n",
       "      <td>non-diabetic</td>\n",
       "      <td>0</td>\n",
       "    </tr>\n",
       "    <tr>\n",
       "      <td>3</td>\n",
       "      <td>1636-69-032</td>\n",
       "      <td>pre-diabetic</td>\n",
       "      <td>1</td>\n",
       "    </tr>\n",
       "    <tr>\n",
       "      <td>4</td>\n",
       "      <td>1636-69-035</td>\n",
       "      <td>non-diabetic</td>\n",
       "      <td>0</td>\n",
       "    </tr>\n",
       "    <tr>\n",
       "      <td>5</td>\n",
       "      <td>1636-69-048</td>\n",
       "      <td>non-diabetic</td>\n",
       "      <td>0</td>\n",
       "    </tr>\n",
       "    <tr>\n",
       "      <td>6</td>\n",
       "      <td>1636-69-053</td>\n",
       "      <td>non-diabetic</td>\n",
       "      <td>0</td>\n",
       "    </tr>\n",
       "    <tr>\n",
       "      <td>7</td>\n",
       "      <td>1636-69-060</td>\n",
       "      <td>non-diabetic</td>\n",
       "      <td>0</td>\n",
       "    </tr>\n",
       "    <tr>\n",
       "      <td>8</td>\n",
       "      <td>1636-69-064</td>\n",
       "      <td>non-diabetic</td>\n",
       "      <td>0</td>\n",
       "    </tr>\n",
       "    <tr>\n",
       "      <td>9</td>\n",
       "      <td>1636-69-069</td>\n",
       "      <td>non-diabetic</td>\n",
       "      <td>0</td>\n",
       "    </tr>\n",
       "    <tr>\n",
       "      <td>10</td>\n",
       "      <td>1636-69-090</td>\n",
       "      <td>pre-diabetic</td>\n",
       "      <td>1</td>\n",
       "    </tr>\n",
       "    <tr>\n",
       "      <td>11</td>\n",
       "      <td>1636-69-091</td>\n",
       "      <td>diabetic</td>\n",
       "      <td>2</td>\n",
       "    </tr>\n",
       "    <tr>\n",
       "      <td>12</td>\n",
       "      <td>1636-69-100</td>\n",
       "      <td>non-diabetic</td>\n",
       "      <td>0</td>\n",
       "    </tr>\n",
       "    <tr>\n",
       "      <td>13</td>\n",
       "      <td>1636-69-104</td>\n",
       "      <td>non-diabetic</td>\n",
       "      <td>0</td>\n",
       "    </tr>\n",
       "    <tr>\n",
       "      <td>14</td>\n",
       "      <td>1636-69-107</td>\n",
       "      <td>non-diabetic</td>\n",
       "      <td>0</td>\n",
       "    </tr>\n",
       "    <tr>\n",
       "      <td>15</td>\n",
       "      <td>1636-69-111</td>\n",
       "      <td>non-diabetic</td>\n",
       "      <td>0</td>\n",
       "    </tr>\n",
       "    <tr>\n",
       "      <td>16</td>\n",
       "      <td>1636-69-114</td>\n",
       "      <td>pre-diabetic</td>\n",
       "      <td>1</td>\n",
       "    </tr>\n",
       "    <tr>\n",
       "      <td>17</td>\n",
       "      <td>1636-69-123</td>\n",
       "      <td>non-diabetic</td>\n",
       "      <td>0</td>\n",
       "    </tr>\n",
       "    <tr>\n",
       "      <td>18</td>\n",
       "      <td>1636-70-1002</td>\n",
       "      <td>non-diabetic</td>\n",
       "      <td>0</td>\n",
       "    </tr>\n",
       "    <tr>\n",
       "      <td>19</td>\n",
       "      <td>1636-70-1003</td>\n",
       "      <td>non-diabetic</td>\n",
       "      <td>0</td>\n",
       "    </tr>\n",
       "    <tr>\n",
       "      <td>20</td>\n",
       "      <td>1636-70-1005</td>\n",
       "      <td>pre-diabetic</td>\n",
       "      <td>1</td>\n",
       "    </tr>\n",
       "    <tr>\n",
       "      <td>21</td>\n",
       "      <td>1636-70-1008</td>\n",
       "      <td>non-diabetic</td>\n",
       "      <td>0</td>\n",
       "    </tr>\n",
       "    <tr>\n",
       "      <td>22</td>\n",
       "      <td>1636-70-1010</td>\n",
       "      <td>pre-diabetic</td>\n",
       "      <td>1</td>\n",
       "    </tr>\n",
       "    <tr>\n",
       "      <td>23</td>\n",
       "      <td>2133-001</td>\n",
       "      <td>non-diabetic</td>\n",
       "      <td>0</td>\n",
       "    </tr>\n",
       "    <tr>\n",
       "      <td>24</td>\n",
       "      <td>2133-002</td>\n",
       "      <td>non-diabetic</td>\n",
       "      <td>0</td>\n",
       "    </tr>\n",
       "    <tr>\n",
       "      <td>25</td>\n",
       "      <td>2133-003</td>\n",
       "      <td>non-diabetic</td>\n",
       "      <td>0</td>\n",
       "    </tr>\n",
       "    <tr>\n",
       "      <td>26</td>\n",
       "      <td>2133-004</td>\n",
       "      <td>diabetic</td>\n",
       "      <td>2</td>\n",
       "    </tr>\n",
       "    <tr>\n",
       "      <td>27</td>\n",
       "      <td>2133-006</td>\n",
       "      <td>non-diabetic</td>\n",
       "      <td>0</td>\n",
       "    </tr>\n",
       "    <tr>\n",
       "      <td>28</td>\n",
       "      <td>2133-007</td>\n",
       "      <td>non-diabetic</td>\n",
       "      <td>0</td>\n",
       "    </tr>\n",
       "    <tr>\n",
       "      <td>29</td>\n",
       "      <td>2133-008</td>\n",
       "      <td>non-diabetic</td>\n",
       "      <td>0</td>\n",
       "    </tr>\n",
       "    <tr>\n",
       "      <td>30</td>\n",
       "      <td>2133-009</td>\n",
       "      <td>non-diabetic</td>\n",
       "      <td>0</td>\n",
       "    </tr>\n",
       "    <tr>\n",
       "      <td>31</td>\n",
       "      <td>2133-010</td>\n",
       "      <td>non-diabetic</td>\n",
       "      <td>0</td>\n",
       "    </tr>\n",
       "    <tr>\n",
       "      <td>32</td>\n",
       "      <td>2133-011</td>\n",
       "      <td>non-diabetic</td>\n",
       "      <td>0</td>\n",
       "    </tr>\n",
       "    <tr>\n",
       "      <td>33</td>\n",
       "      <td>2133-012</td>\n",
       "      <td>non-diabetic</td>\n",
       "      <td>0</td>\n",
       "    </tr>\n",
       "    <tr>\n",
       "      <td>34</td>\n",
       "      <td>2133-013</td>\n",
       "      <td>non-diabetic</td>\n",
       "      <td>0</td>\n",
       "    </tr>\n",
       "    <tr>\n",
       "      <td>35</td>\n",
       "      <td>2133-015</td>\n",
       "      <td>pre-diabetic</td>\n",
       "      <td>1</td>\n",
       "    </tr>\n",
       "    <tr>\n",
       "      <td>36</td>\n",
       "      <td>2133-017</td>\n",
       "      <td>pre-diabetic</td>\n",
       "      <td>1</td>\n",
       "    </tr>\n",
       "    <tr>\n",
       "      <td>37</td>\n",
       "      <td>2133-018</td>\n",
       "      <td>diabetic</td>\n",
       "      <td>2</td>\n",
       "    </tr>\n",
       "    <tr>\n",
       "      <td>38</td>\n",
       "      <td>2133-019</td>\n",
       "      <td>pre-diabetic</td>\n",
       "      <td>1</td>\n",
       "    </tr>\n",
       "    <tr>\n",
       "      <td>39</td>\n",
       "      <td>2133-020</td>\n",
       "      <td>non-diabetic</td>\n",
       "      <td>0</td>\n",
       "    </tr>\n",
       "    <tr>\n",
       "      <td>40</td>\n",
       "      <td>2133-021</td>\n",
       "      <td>pre-diabetic</td>\n",
       "      <td>1</td>\n",
       "    </tr>\n",
       "    <tr>\n",
       "      <td>41</td>\n",
       "      <td>2133-022</td>\n",
       "      <td>non-diabetic</td>\n",
       "      <td>0</td>\n",
       "    </tr>\n",
       "    <tr>\n",
       "      <td>42</td>\n",
       "      <td>2133-023</td>\n",
       "      <td>non-diabetic</td>\n",
       "      <td>0</td>\n",
       "    </tr>\n",
       "    <tr>\n",
       "      <td>43</td>\n",
       "      <td>2133-024</td>\n",
       "      <td>pre-diabetic</td>\n",
       "      <td>1</td>\n",
       "    </tr>\n",
       "    <tr>\n",
       "      <td>44</td>\n",
       "      <td>2133-025</td>\n",
       "      <td>non-diabetic</td>\n",
       "      <td>0</td>\n",
       "    </tr>\n",
       "    <tr>\n",
       "      <td>45</td>\n",
       "      <td>2133-026</td>\n",
       "      <td>non-diabetic</td>\n",
       "      <td>0</td>\n",
       "    </tr>\n",
       "    <tr>\n",
       "      <td>46</td>\n",
       "      <td>2133-027</td>\n",
       "      <td>pre-diabetic</td>\n",
       "      <td>1</td>\n",
       "    </tr>\n",
       "    <tr>\n",
       "      <td>47</td>\n",
       "      <td>2133-028</td>\n",
       "      <td>non-diabetic</td>\n",
       "      <td>0</td>\n",
       "    </tr>\n",
       "    <tr>\n",
       "      <td>48</td>\n",
       "      <td>2133-030</td>\n",
       "      <td>non-diabetic</td>\n",
       "      <td>0</td>\n",
       "    </tr>\n",
       "    <tr>\n",
       "      <td>49</td>\n",
       "      <td>2133-032</td>\n",
       "      <td>non-diabetic</td>\n",
       "      <td>0</td>\n",
       "    </tr>\n",
       "    <tr>\n",
       "      <td>50</td>\n",
       "      <td>2133-033</td>\n",
       "      <td>non-diabetic</td>\n",
       "      <td>0</td>\n",
       "    </tr>\n",
       "    <tr>\n",
       "      <td>51</td>\n",
       "      <td>2133-035</td>\n",
       "      <td>pre-diabetic</td>\n",
       "      <td>1</td>\n",
       "    </tr>\n",
       "    <tr>\n",
       "      <td>52</td>\n",
       "      <td>2133-036</td>\n",
       "      <td>pre-diabetic</td>\n",
       "      <td>1</td>\n",
       "    </tr>\n",
       "    <tr>\n",
       "      <td>53</td>\n",
       "      <td>2133-037</td>\n",
       "      <td>non-diabetic</td>\n",
       "      <td>0</td>\n",
       "    </tr>\n",
       "    <tr>\n",
       "      <td>54</td>\n",
       "      <td>2133-039</td>\n",
       "      <td>diabetic</td>\n",
       "      <td>2</td>\n",
       "    </tr>\n",
       "    <tr>\n",
       "      <td>55</td>\n",
       "      <td>2133-040</td>\n",
       "      <td>non-diabetic</td>\n",
       "      <td>0</td>\n",
       "    </tr>\n",
       "    <tr>\n",
       "      <td>56</td>\n",
       "      <td>2133-041</td>\n",
       "      <td>non-diabetic</td>\n",
       "      <td>0</td>\n",
       "    </tr>\n",
       "    <tr>\n",
       "      <td>57</td>\n",
       "      <td>2134</td>\n",
       "      <td>NaN</td>\n",
       "      <td>3</td>\n",
       "    </tr>\n",
       "  </tbody>\n",
       "</table>\n",
       "</div>"
      ],
      "text/plain": [
       "              ID        status  class\n",
       "0    1636-69-001           NaN      3\n",
       "1    1636-69-026  pre-diabetic      1\n",
       "2    1636-69-028  non-diabetic      0\n",
       "3    1636-69-032  pre-diabetic      1\n",
       "4    1636-69-035  non-diabetic      0\n",
       "5    1636-69-048  non-diabetic      0\n",
       "6    1636-69-053  non-diabetic      0\n",
       "7    1636-69-060  non-diabetic      0\n",
       "8    1636-69-064  non-diabetic      0\n",
       "9    1636-69-069  non-diabetic      0\n",
       "10   1636-69-090  pre-diabetic      1\n",
       "11   1636-69-091      diabetic      2\n",
       "12   1636-69-100  non-diabetic      0\n",
       "13   1636-69-104  non-diabetic      0\n",
       "14   1636-69-107  non-diabetic      0\n",
       "15   1636-69-111  non-diabetic      0\n",
       "16   1636-69-114  pre-diabetic      1\n",
       "17   1636-69-123  non-diabetic      0\n",
       "18  1636-70-1002  non-diabetic      0\n",
       "19  1636-70-1003  non-diabetic      0\n",
       "20  1636-70-1005  pre-diabetic      1\n",
       "21  1636-70-1008  non-diabetic      0\n",
       "22  1636-70-1010  pre-diabetic      1\n",
       "23      2133-001  non-diabetic      0\n",
       "24      2133-002  non-diabetic      0\n",
       "25      2133-003  non-diabetic      0\n",
       "26      2133-004      diabetic      2\n",
       "27      2133-006  non-diabetic      0\n",
       "28      2133-007  non-diabetic      0\n",
       "29      2133-008  non-diabetic      0\n",
       "30      2133-009  non-diabetic      0\n",
       "31      2133-010  non-diabetic      0\n",
       "32      2133-011  non-diabetic      0\n",
       "33      2133-012  non-diabetic      0\n",
       "34      2133-013  non-diabetic      0\n",
       "35      2133-015  pre-diabetic      1\n",
       "36      2133-017  pre-diabetic      1\n",
       "37      2133-018      diabetic      2\n",
       "38      2133-019  pre-diabetic      1\n",
       "39      2133-020  non-diabetic      0\n",
       "40      2133-021  pre-diabetic      1\n",
       "41      2133-022  non-diabetic      0\n",
       "42      2133-023  non-diabetic      0\n",
       "43      2133-024  pre-diabetic      1\n",
       "44      2133-025  non-diabetic      0\n",
       "45      2133-026  non-diabetic      0\n",
       "46      2133-027  pre-diabetic      1\n",
       "47      2133-028  non-diabetic      0\n",
       "48      2133-030  non-diabetic      0\n",
       "49      2133-032  non-diabetic      0\n",
       "50      2133-033  non-diabetic      0\n",
       "51      2133-035  pre-diabetic      1\n",
       "52      2133-036  pre-diabetic      1\n",
       "53      2133-037  non-diabetic      0\n",
       "54      2133-039      diabetic      2\n",
       "55      2133-040  non-diabetic      0\n",
       "56      2133-041  non-diabetic      0\n",
       "57          2134           NaN      3"
      ]
     },
     "execution_count": 161,
     "metadata": {},
     "output_type": "execute_result"
    }
   ],
   "source": [
    "meta = pd.read_csv(\"~/Desktop/NCSA_genomics/Data/Hall_meta.csv\") \n",
    "#meta = meta.set_index([\"ID\"],drop=True)\n",
    "meta"
   ]
  },
  {
   "cell_type": "code",
   "execution_count": 162,
   "metadata": {},
   "outputs": [
    {
     "data": {
      "text/plain": [
       "'pre-diabetic'"
      ]
     },
     "execution_count": 162,
     "metadata": {},
     "output_type": "execute_result"
    }
   ],
   "source": [
    "i = \"1636-70-1010\"\n",
    "s = meta[meta[\"ID\"]==i]\n",
    "t=s[\"status\"].values[0]\n",
    "str(t)\n",
    "#t = meta.at[meta[\"ID\"]==i,'status']"
   ]
  },
  {
   "cell_type": "code",
   "execution_count": null,
   "metadata": {},
   "outputs": [],
   "source": [
    "def generateMetadata(data):\n",
    "    for subjectId, df in data.groupby('subjectId'):\n",
    "    print(\"==============================================================\")\n",
    "    print(\"Subject ID: \"+str(subjectId))\n",
    "    temp = meta[meta[\"ID\"]==subjectId]\n",
    "    print(\"Status: \"+str(temp[\"status\"].values[0]))\n",
    "    #print(df)\n",
    "    #print(df['GlucoseValue'].describe())\n",
    "    100*(len(df[df[\"time_gap\"]>str(\"00:05:00\")])/df['GlucoseValue'].count())\n",
    "    print(\"Length of the readings: \"+str(df['GlucoseValue'].count()))\n",
    "    print(\"Max. Glucose value: \"+str(df['GlucoseValue'].max()))\n",
    "    print(\"Min. Glucose value: \"+str(df['GlucoseValue'].min()))\n",
    "    print(\"Mean Glucose value: \"+str(round(df['GlucoseValue'].mean(),3)))\n",
    "    print(\"Missing Values: \"+str(len(df[df[\"time_gap\"]>str(\"00:05:00\")])))\n",
    "    print(\"Percent of missing values: \"+str(round(100*(len(df[df[\"time_gap\"]>str(\"00:05:00\")])/df['GlucoseValue'].count()),2))+\"%\")\n",
    "    #print(df['DisplayTime'])\n",
    "    print()\n",
    "    print(df['DisplayTime'].iloc[0])\n",
    "    print(df['DisplayTime'].iloc[-1])\n",
    "    print(df['DisplayTime'].iloc[-1]-df['DisplayTime'].iloc[0])\n",
    "    "
   ]
  },
  {
   "cell_type": "code",
   "execution_count": 15,
   "metadata": {},
   "outputs": [],
   "source": [
    "cgmdata = pd.read_csv(\"~/Desktop/NCSA_genomics/Data/CGManalyzer.csv\") #use your path"
   ]
  },
  {
   "cell_type": "markdown",
   "metadata": {},
   "source": []
  },
  {
   "cell_type": "code",
   "execution_count": 14,
   "metadata": {
    "scrolled": true
   },
   "outputs": [
    {
     "data": {
      "text/html": [
       "<div>\n",
       "<style scoped>\n",
       "    .dataframe tbody tr th:only-of-type {\n",
       "        vertical-align: middle;\n",
       "    }\n",
       "\n",
       "    .dataframe tbody tr th {\n",
       "        vertical-align: top;\n",
       "    }\n",
       "\n",
       "    .dataframe thead th {\n",
       "        text-align: right;\n",
       "    }\n",
       "</style>\n",
       "<table border=\"1\" class=\"dataframe\">\n",
       "  <thead>\n",
       "    <tr style=\"text-align: right;\">\n",
       "      <th></th>\n",
       "      <th>ID</th>\n",
       "      <th>timeStamp</th>\n",
       "      <th>glucoseValue</th>\n",
       "    </tr>\n",
       "  </thead>\n",
       "  <tbody>\n",
       "    <tr>\n",
       "      <td>0</td>\n",
       "      <td>ID01</td>\n",
       "      <td>2016-06-25 09:14:00</td>\n",
       "      <td>6.000000</td>\n",
       "    </tr>\n",
       "    <tr>\n",
       "      <td>1</td>\n",
       "      <td>ID01</td>\n",
       "      <td>2016-06-25 09:17:00</td>\n",
       "      <td>6.000000</td>\n",
       "    </tr>\n",
       "    <tr>\n",
       "      <td>2</td>\n",
       "      <td>ID01</td>\n",
       "      <td>2016-06-25 09:20:00</td>\n",
       "      <td>6.000000</td>\n",
       "    </tr>\n",
       "    <tr>\n",
       "      <td>3</td>\n",
       "      <td>ID01</td>\n",
       "      <td>2016-06-25 09:23:00</td>\n",
       "      <td>5.981000</td>\n",
       "    </tr>\n",
       "    <tr>\n",
       "      <td>4</td>\n",
       "      <td>ID01</td>\n",
       "      <td>2016-06-25 09:26:00</td>\n",
       "      <td>5.972000</td>\n",
       "    </tr>\n",
       "    <tr>\n",
       "      <td>...</td>\n",
       "      <td>...</td>\n",
       "      <td>...</td>\n",
       "      <td>...</td>\n",
       "    </tr>\n",
       "    <tr>\n",
       "      <td>29184</td>\n",
       "      <td>ID31</td>\n",
       "      <td>2016-06-09 16:49:00</td>\n",
       "      <td>4.161802</td>\n",
       "    </tr>\n",
       "    <tr>\n",
       "      <td>29185</td>\n",
       "      <td>ID31</td>\n",
       "      <td>2016-06-09 16:52:00</td>\n",
       "      <td>4.104440</td>\n",
       "    </tr>\n",
       "    <tr>\n",
       "      <td>29186</td>\n",
       "      <td>ID31</td>\n",
       "      <td>2016-06-09 16:55:00</td>\n",
       "      <td>4.013856</td>\n",
       "    </tr>\n",
       "    <tr>\n",
       "      <td>29187</td>\n",
       "      <td>ID31</td>\n",
       "      <td>2016-06-09 16:58:00</td>\n",
       "      <td>3.895511</td>\n",
       "    </tr>\n",
       "    <tr>\n",
       "      <td>29188</td>\n",
       "      <td>ID31</td>\n",
       "      <td>2016-06-09 17:01:00</td>\n",
       "      <td>3.902727</td>\n",
       "    </tr>\n",
       "  </tbody>\n",
       "</table>\n",
       "<p>29189 rows × 3 columns</p>\n",
       "</div>"
      ],
      "text/plain": [
       "         ID           timeStamp  glucoseValue\n",
       "0      ID01 2016-06-25 09:14:00      6.000000\n",
       "1      ID01 2016-06-25 09:17:00      6.000000\n",
       "2      ID01 2016-06-25 09:20:00      6.000000\n",
       "3      ID01 2016-06-25 09:23:00      5.981000\n",
       "4      ID01 2016-06-25 09:26:00      5.972000\n",
       "...     ...                 ...           ...\n",
       "29184  ID31 2016-06-09 16:49:00      4.161802\n",
       "29185  ID31 2016-06-09 16:52:00      4.104440\n",
       "29186  ID31 2016-06-09 16:55:00      4.013856\n",
       "29187  ID31 2016-06-09 16:58:00      3.895511\n",
       "29188  ID31 2016-06-09 17:01:00      3.902727\n",
       "\n",
       "[29189 rows x 3 columns]"
      ]
     },
     "execution_count": 14,
     "metadata": {},
     "output_type": "execute_result"
    }
   ],
   "source": [
    "cgmdata\n"
   ]
  },
  {
   "cell_type": "code",
   "execution_count": 11,
   "metadata": {},
   "outputs": [
    {
     "name": "stdout",
     "output_type": "stream",
     "text": [
      "We are connected!\n"
     ]
    }
   ],
   "source": [
    "obj = TimeSeriesForecast()\n",
    "obj.connectivityTester()"
   ]
  },
  {
   "cell_type": "code",
   "execution_count": 13,
   "metadata": {},
   "outputs": [
    {
     "ename": "TypeError",
     "evalue": "strptime() argument 1 must be str, not Timestamp",
     "output_type": "error",
     "traceback": [
      "\u001b[0;31m---------------------------------------------------------------------------\u001b[0m",
      "\u001b[0;31mTypeError\u001b[0m                                 Traceback (most recent call last)",
      "\u001b[0;32m<ipython-input-13-95feb0a8d5c8>\u001b[0m in \u001b[0;36m<module>\u001b[0;34m\u001b[0m\n\u001b[0;32m----> 1\u001b[0;31m \u001b[0mcgmdata\u001b[0m\u001b[0;34m[\u001b[0m\u001b[0;34m'timeStamp'\u001b[0m\u001b[0;34m]\u001b[0m \u001b[0;34m=\u001b[0m \u001b[0mcgmdata\u001b[0m\u001b[0;34m[\u001b[0m\u001b[0;34m'timeStamp'\u001b[0m\u001b[0;34m]\u001b[0m\u001b[0;34m.\u001b[0m\u001b[0mapply\u001b[0m\u001b[0;34m(\u001b[0m\u001b[0;32mlambda\u001b[0m \u001b[0mx\u001b[0m\u001b[0;34m:\u001b[0m \u001b[0mpd\u001b[0m\u001b[0;34m.\u001b[0m\u001b[0mdatetime\u001b[0m\u001b[0;34m.\u001b[0m\u001b[0mstrptime\u001b[0m\u001b[0;34m(\u001b[0m\u001b[0mx\u001b[0m\u001b[0;34m,\u001b[0m \u001b[0;34m'%Y:%m:%d:%H:%M'\u001b[0m\u001b[0;34m)\u001b[0m\u001b[0;34m)\u001b[0m\u001b[0;34m\u001b[0m\u001b[0;34m\u001b[0m\u001b[0m\n\u001b[0m\u001b[1;32m      2\u001b[0m \u001b[0mcgmdata\u001b[0m\u001b[0;34m.\u001b[0m\u001b[0mdrop\u001b[0m\u001b[0;34m(\u001b[0m\u001b[0;34m[\u001b[0m\u001b[0;34m'ID'\u001b[0m\u001b[0;34m]\u001b[0m\u001b[0;34m,\u001b[0m\u001b[0maxis\u001b[0m\u001b[0;34m=\u001b[0m\u001b[0;36m1\u001b[0m\u001b[0;34m)\u001b[0m\u001b[0;34m\u001b[0m\u001b[0;34m\u001b[0m\u001b[0m\n\u001b[1;32m      3\u001b[0m \u001b[0mcgmdata\u001b[0m \u001b[0;34m=\u001b[0m \u001b[0mcgmdata\u001b[0m\u001b[0;34m.\u001b[0m\u001b[0mset_index\u001b[0m\u001b[0;34m(\u001b[0m\u001b[0;34m[\u001b[0m\u001b[0;34m'timeStamp'\u001b[0m\u001b[0;34m]\u001b[0m\u001b[0;34m,\u001b[0m \u001b[0mdrop\u001b[0m\u001b[0;34m=\u001b[0m\u001b[0;32mTrue\u001b[0m\u001b[0;34m)\u001b[0m\u001b[0;34m\u001b[0m\u001b[0;34m\u001b[0m\u001b[0m\n",
      "\u001b[0;32m/opt/anaconda3/lib/python3.7/site-packages/pandas/core/series.py\u001b[0m in \u001b[0;36mapply\u001b[0;34m(self, func, convert_dtype, args, **kwds)\u001b[0m\n\u001b[1;32m   4040\u001b[0m             \u001b[0;32melse\u001b[0m\u001b[0;34m:\u001b[0m\u001b[0;34m\u001b[0m\u001b[0;34m\u001b[0m\u001b[0m\n\u001b[1;32m   4041\u001b[0m                 \u001b[0mvalues\u001b[0m \u001b[0;34m=\u001b[0m \u001b[0mself\u001b[0m\u001b[0;34m.\u001b[0m\u001b[0mastype\u001b[0m\u001b[0;34m(\u001b[0m\u001b[0mobject\u001b[0m\u001b[0;34m)\u001b[0m\u001b[0;34m.\u001b[0m\u001b[0mvalues\u001b[0m\u001b[0;34m\u001b[0m\u001b[0;34m\u001b[0m\u001b[0m\n\u001b[0;32m-> 4042\u001b[0;31m                 \u001b[0mmapped\u001b[0m \u001b[0;34m=\u001b[0m \u001b[0mlib\u001b[0m\u001b[0;34m.\u001b[0m\u001b[0mmap_infer\u001b[0m\u001b[0;34m(\u001b[0m\u001b[0mvalues\u001b[0m\u001b[0;34m,\u001b[0m \u001b[0mf\u001b[0m\u001b[0;34m,\u001b[0m \u001b[0mconvert\u001b[0m\u001b[0;34m=\u001b[0m\u001b[0mconvert_dtype\u001b[0m\u001b[0;34m)\u001b[0m\u001b[0;34m\u001b[0m\u001b[0;34m\u001b[0m\u001b[0m\n\u001b[0m\u001b[1;32m   4043\u001b[0m \u001b[0;34m\u001b[0m\u001b[0m\n\u001b[1;32m   4044\u001b[0m         \u001b[0;32mif\u001b[0m \u001b[0mlen\u001b[0m\u001b[0;34m(\u001b[0m\u001b[0mmapped\u001b[0m\u001b[0;34m)\u001b[0m \u001b[0;32mand\u001b[0m \u001b[0misinstance\u001b[0m\u001b[0;34m(\u001b[0m\u001b[0mmapped\u001b[0m\u001b[0;34m[\u001b[0m\u001b[0;36m0\u001b[0m\u001b[0;34m]\u001b[0m\u001b[0;34m,\u001b[0m \u001b[0mSeries\u001b[0m\u001b[0;34m)\u001b[0m\u001b[0;34m:\u001b[0m\u001b[0;34m\u001b[0m\u001b[0;34m\u001b[0m\u001b[0m\n",
      "\u001b[0;32mpandas/_libs/lib.pyx\u001b[0m in \u001b[0;36mpandas._libs.lib.map_infer\u001b[0;34m()\u001b[0m\n",
      "\u001b[0;32m<ipython-input-13-95feb0a8d5c8>\u001b[0m in \u001b[0;36m<lambda>\u001b[0;34m(x)\u001b[0m\n\u001b[0;32m----> 1\u001b[0;31m \u001b[0mcgmdata\u001b[0m\u001b[0;34m[\u001b[0m\u001b[0;34m'timeStamp'\u001b[0m\u001b[0;34m]\u001b[0m \u001b[0;34m=\u001b[0m \u001b[0mcgmdata\u001b[0m\u001b[0;34m[\u001b[0m\u001b[0;34m'timeStamp'\u001b[0m\u001b[0;34m]\u001b[0m\u001b[0;34m.\u001b[0m\u001b[0mapply\u001b[0m\u001b[0;34m(\u001b[0m\u001b[0;32mlambda\u001b[0m \u001b[0mx\u001b[0m\u001b[0;34m:\u001b[0m \u001b[0mpd\u001b[0m\u001b[0;34m.\u001b[0m\u001b[0mdatetime\u001b[0m\u001b[0;34m.\u001b[0m\u001b[0mstrptime\u001b[0m\u001b[0;34m(\u001b[0m\u001b[0mx\u001b[0m\u001b[0;34m,\u001b[0m \u001b[0;34m'%Y:%m:%d:%H:%M'\u001b[0m\u001b[0;34m)\u001b[0m\u001b[0;34m)\u001b[0m\u001b[0;34m\u001b[0m\u001b[0;34m\u001b[0m\u001b[0m\n\u001b[0m\u001b[1;32m      2\u001b[0m \u001b[0mcgmdata\u001b[0m\u001b[0;34m.\u001b[0m\u001b[0mdrop\u001b[0m\u001b[0;34m(\u001b[0m\u001b[0;34m[\u001b[0m\u001b[0;34m'ID'\u001b[0m\u001b[0;34m]\u001b[0m\u001b[0;34m,\u001b[0m\u001b[0maxis\u001b[0m\u001b[0;34m=\u001b[0m\u001b[0;36m1\u001b[0m\u001b[0;34m)\u001b[0m\u001b[0;34m\u001b[0m\u001b[0;34m\u001b[0m\u001b[0m\n\u001b[1;32m      3\u001b[0m \u001b[0mcgmdata\u001b[0m \u001b[0;34m=\u001b[0m \u001b[0mcgmdata\u001b[0m\u001b[0;34m.\u001b[0m\u001b[0mset_index\u001b[0m\u001b[0;34m(\u001b[0m\u001b[0;34m[\u001b[0m\u001b[0;34m'timeStamp'\u001b[0m\u001b[0;34m]\u001b[0m\u001b[0;34m,\u001b[0m \u001b[0mdrop\u001b[0m\u001b[0;34m=\u001b[0m\u001b[0;32mTrue\u001b[0m\u001b[0;34m)\u001b[0m\u001b[0;34m\u001b[0m\u001b[0;34m\u001b[0m\u001b[0m\n",
      "\u001b[0;31mTypeError\u001b[0m: strptime() argument 1 must be str, not Timestamp"
     ]
    }
   ],
   "source": [
    "cgmdata.drop(['ID'],axis=1, inplace=True)\n",
    "cgmdata['timeStamp'] = cgmdata['timeStamp'].apply(lambda x: pd.datetime.strptime(x, '%Y:%m:%d:%H:%M'))\n",
    "cgmdata = cgmdata.set_index(['timeStamp'], drop=True)"
   ]
  },
  {
   "cell_type": "code",
   "execution_count": null,
   "metadata": {},
   "outputs": [],
   "source": []
  }
 ],
 "metadata": {
  "kernelspec": {
   "display_name": "Python 3",
   "language": "python",
   "name": "python3"
  },
  "language_info": {
   "codemirror_mode": {
    "name": "ipython",
    "version": 3
   },
   "file_extension": ".py",
   "mimetype": "text/x-python",
   "name": "python",
   "nbconvert_exporter": "python",
   "pygments_lexer": "ipython3",
   "version": "3.7.4"
  }
 },
 "nbformat": 4,
 "nbformat_minor": 2
}
