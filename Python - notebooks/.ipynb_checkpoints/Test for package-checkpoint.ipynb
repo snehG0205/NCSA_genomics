{
 "cells": [
  {
   "cell_type": "code",
   "execution_count": 1,
   "metadata": {},
   "outputs": [
    {
     "name": "stderr",
     "output_type": "stream",
     "text": [
      "Using TensorFlow backend.\n"
     ]
    }
   ],
   "source": [
    "import pandas as pd\n",
    "#import numpy as np\n",
    "from TSForecasting.TsForecasting import TimeSeriesModel\n",
    "from TSForecasting.TsForecasting import TimeSeriesForecast"
   ]
  },
  {
   "cell_type": "code",
   "execution_count": 2,
   "metadata": {},
   "outputs": [],
   "source": [
    "\n",
    "def testingData():\n",
    "    \"\"\"\n",
    "    Reading Test Data \n",
    "    input:\n",
    "        none\n",
    "    output:\n",
    "        data: testing dataframe with index => DisplayTime value => GlucoseValues\n",
    "    \"\"\"\n",
    "    #reading datasets for training\n",
    "    data = pd.read_csv(\"~/Desktop/NCSA_genomics/Data/CGManalyzer.csv\")\n",
    "\n",
    "    diabetic_1 = data[data['ID'] == \"ID01\"]\n",
    "    diabetic_2 = data[data['ID'] == \"ID11\"]\n",
    "    prediabetic = data[data['ID'] == \"ID21\"]\n",
    "    nondiabetic = data[data['ID'] == \"ID29\"]\n",
    "    \n",
    "#     diabetic_1 = pd.read_csv(\"/Users/snehgajiwala/Desktop/NCSA_genomics/Data/CGManalyzer-datasets/test/ID01.csv\")\n",
    "#     diabetic_2 = pd.read_csv(\"/Users/snehgajiwala/Desktop/NCSA_genomics/Data/CGManalyzer-datasets/test/ID11.csv\")\n",
    "#     prediabetic = pd.read_csv(\"/Users/snehgajiwala/Desktop/NCSA_genomics/Data/CGManalyzer-datasets/test/ID21.csv\")\n",
    "#     nondiabetic = pd.read_csv(\"/Users/snehgajiwala/Desktop/NCSA_genomics/Data/CGManalyzer-datasets/test/ID29.csv\")\n",
    "    \n",
    "    #Converting the Display Time to 'timeStamp' so that it can be used as an index\n",
    "    diabetic_1['timeStamp'] = diabetic_1['timeStamp'].apply(lambda x: pd.datetime.strptime(x, '%Y:%m:%d:%H:%M'))\n",
    "    diabetic_1.drop(['ID'], axis=1, inplace=True)\n",
    "    diabetic_1 = diabetic_1.set_index(['timeStamp'], drop=True)\n",
    "    \n",
    "    prediabetic['timeStamp'] = prediabetic['timeStamp'].apply(lambda x: pd.datetime.strptime(x, '%Y:%m:%d:%H:%M'))\n",
    "    prediabetic.drop(['ID'], axis=1, inplace=True)\n",
    "    prediabetic = prediabetic.set_index(['timeStamp'], drop=True)\n",
    "    \n",
    "    nondiabetic['timeStamp'] = nondiabetic['timeStamp'].apply(lambda x: pd.datetime.strptime(x, '%Y:%m:%d:%H:%M'))\n",
    "    nondiabetic.drop(['ID'], axis=1, inplace=True)\n",
    "    nondiabetic = nondiabetic.set_index(['timeStamp'], drop=True)\n",
    "    \n",
    "    diabetic_2['timeStamp'] = diabetic_2['timeStamp'].apply(lambda x: pd.datetime.strptime(x, '%Y:%m:%d:%H:%M'))\n",
    "    diabetic_2.drop(['ID'], axis=1, inplace=True)\n",
    "    diabetic_2 = diabetic_2.set_index(['timeStamp'], drop=True)\n",
    "    \n",
    "    return diabetic_1, diabetic_2, prediabetic, nondiabetic\n"
   ]
  },
  {
   "cell_type": "code",
   "execution_count": 3,
   "metadata": {},
   "outputs": [],
   "source": [
    "\n",
    "test_set = testingData()\n",
    "\n",
    "\n",
    "#obj = TimeSeriesForecast()\n",
    "#obj.connectivityTester()"
   ]
  },
  {
   "cell_type": "code",
   "execution_count": 4,
   "metadata": {},
   "outputs": [
    {
     "ename": "NameError",
     "evalue": "name 'TimeSeriesModel' is not defined",
     "output_type": "error",
     "traceback": [
      "\u001b[0;31m---------------------------------------------------------------------------\u001b[0m",
      "\u001b[0;31mNameError\u001b[0m                                 Traceback (most recent call last)",
      "\u001b[0;32m<ipython-input-4-a2ea7c4557e8>\u001b[0m in \u001b[0;36m<module>\u001b[0;34m\u001b[0m\n\u001b[0;32m----> 1\u001b[0;31m \u001b[0mlstmModel\u001b[0m \u001b[0;34m=\u001b[0m \u001b[0mTimeSeriesModel\u001b[0m\u001b[0;34m(\u001b[0m\u001b[0;34m)\u001b[0m\u001b[0;34m\u001b[0m\u001b[0;34m\u001b[0m\u001b[0m\n\u001b[0m",
      "\u001b[0;31mNameError\u001b[0m: name 'TimeSeriesModel' is not defined"
     ]
    }
   ],
   "source": [
    "lstmModel = TimeSeriesModel()"
   ]
  },
  {
   "cell_type": "code",
   "execution_count": null,
   "metadata": {},
   "outputs": [],
   "source": [
    "obj = TimeSeriesForecast()"
   ]
  },
  {
   "cell_type": "code",
   "execution_count": null,
   "metadata": {},
   "outputs": [],
   "source": [
    "diabetic_1, diabetic_2 , prediabetic, non_diabetic = testingData()#these time series' data will be used to plot comparison graphs\n",
    "diabetic_1_faulty, diabetic_2_faulty, prediabetic_faulty, non_diabetic_faulty = testingData()#gaps will be introduced in these time series' for imputations "
   ]
  },
  {
   "cell_type": "code",
   "execution_count": null,
   "metadata": {},
   "outputs": [],
   "source": [
    "start, end = obj.createGap(diabetic_1)\n",
    "gap_tester_diabetic_1 = diabetic_1.iloc[start:end+2]\n",
    "diabetic_1_faulty = obj.faultyData(diabetic_1_faulty,start,end+1)\n",
    "\n",
    "#here, we're actually running the model and getting the imputed values for the gap\n",
    "predicted, true = obj.testModel(lstmModel,gap_tester_diabetic_1)\n",
    "#here we are are filling in the gap we created with imputed values generated by the model\n",
    "for i in range(0,501):\n",
    "     diabetic_1_faulty['glucoseValue'][start+i] = predicted[i][0]\n",
    "\n",
    "obj.plot(diabetic_1_faulty['glucoseValue'].tolist(),diabetic_1['glucoseValue'].tolist())\n",
    "obj.getMetrics(predicted,true)\n",
    "diabetic_1_faulty.to_csv(\"~/Desktop/NCSA_genomics/Data/outputs/CGM_diabetic-1_imputed.csv\")"
   ]
  },
  {
   "cell_type": "code",
   "execution_count": null,
   "metadata": {},
   "outputs": [],
   "source": [
    "#repeating the same for diabetic type 2\n",
    "start, end = obj.createGap(diabetic_2)\n",
    "gap_tester_diabetic_2 = diabetic_2.iloc[start:end+2]\n",
    "diabetic_2_faulty = obj.faultyData(diabetic_2_faulty,start,end+1)\n",
    "\n",
    "predicted, true = obj.testModel(lstmModel,gap_tester_diabetic_2)\n",
    "\n",
    "for i in range(0,501):\n",
    "    diabetic_2_faulty['glucoseValue'][start+i] = predicted[i][0]\n",
    "    \n",
    "obj.plot(diabetic_2_faulty['glucoseValue'].tolist(),diabetic_2['glucoseValue'].tolist())\n",
    "obj.getMetrics(predicted,true)\n",
    "diabetic_2_faulty.to_csv(\"~/Desktop/NCSA_genomics/Data/outputs/CGM_diabetic-2_imputed.csv\")"
   ]
  },
  {
   "cell_type": "code",
   "execution_count": null,
   "metadata": {},
   "outputs": [],
   "source": [
    "#repeating the same for prediabetic\n",
    "start, end = obj.createGap(prediabetic)\n",
    "gap_tester_prediabetic = prediabetic.iloc[start:end+2]\n",
    "prediabetic_faulty = obj.faultyData(prediabetic_faulty,start,end+1)\n",
    "\n",
    "predicted, true = obj.testModel(lstmModel,gap_tester_prediabetic)\n",
    "\n",
    "for i in range(0,501):\n",
    "    prediabetic_faulty['glucoseValue'][start+i] = predicted[i][0]\n",
    "    \n",
    "obj.plot(prediabetic_faulty['glucoseValue'].tolist(),prediabetic['glucoseValue'].tolist())\n",
    "obj.getMetrics(predicted,true)\n",
    "prediabetic_faulty.to_csv(\"~/Desktop/NCSA_genomics/Data/outputs/CGM_prediabetic_imputed.csv\")"
   ]
  },
  {
   "cell_type": "code",
   "execution_count": null,
   "metadata": {},
   "outputs": [],
   "source": [
    "#repeating the same for non-diabetic\n",
    "start, end = obj.createGap(non_diabetic)\n",
    "gap_tester_non_diabetic = non_diabetic.iloc[start:end+2]\n",
    "non_diabetic_faulty = obj.faultyData(non_diabetic_faulty,start,end+1)\n",
    "\n",
    "predicted, true = obj.testModel(lstmModel,gap_tester_non_diabetic)\n",
    "\n",
    "for i in range(0,501):\n",
    "    non_diabetic_faulty['glucoseValue'][start+i] = predicted[i][0]\n",
    "    \n",
    "obj.plot(non_diabetic_faulty['glucoseValue'].tolist(),non_diabetic['glucoseValue'].tolist())\n",
    "obj.getMetrics(predicted,true)\n",
    "non_diabetic_faulty.to_csv(\"~/Desktop/NCSA_genomics/Data/outputs/CGM_nondiabetic_imputed.csv\")"
   ]
  },
  {
   "cell_type": "code",
   "execution_count": null,
   "metadata": {},
   "outputs": [],
   "source": []
  }
 ],
 "metadata": {
  "kernelspec": {
   "display_name": "Python 3",
   "language": "python",
   "name": "python3"
  },
  "language_info": {
   "codemirror_mode": {
    "name": "ipython",
    "version": 3
   },
   "file_extension": ".py",
   "mimetype": "text/x-python",
   "name": "python",
   "nbconvert_exporter": "python",
   "pygments_lexer": "ipython3",
   "version": "3.7.4"
  }
 },
 "nbformat": 4,
 "nbformat_minor": 2
}
