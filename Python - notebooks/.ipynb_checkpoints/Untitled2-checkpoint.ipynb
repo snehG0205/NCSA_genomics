{
 "cells": [
  {
   "cell_type": "code",
   "execution_count": 1,
   "metadata": {},
   "outputs": [],
   "source": [
    "import pandas as pd\n",
    "import numpy as np"
   ]
  },
  {
   "cell_type": "code",
   "execution_count": 2,
   "metadata": {},
   "outputs": [],
   "source": [
    "def createGap(df,start,end):\n",
    "\n",
    "    #df = readData()\n",
    "    l = len(df.index)\n",
    "    if end>l:\n",
    "        end = l\n",
    "        \n",
    "    for i in range(start,end):\n",
    "        df['GlucoseValue'][i]=0\n",
    "    \n",
    "    \n",
    "    return df\n",
    "\n",
    "def detectGap(testing_data):\n",
    "\n",
    "        l = []\n",
    "        k = -1\n",
    "        for i in testing_data['GlucoseValue']:\n",
    "            k+=1\n",
    "            if i==0:\n",
    "                l.append(k)\n",
    "        b = min(l)\n",
    "        e = max(l)\n",
    "        #print(b,e)\n",
    "        gap=e-b\n",
    "        # print(\"Gap detected!\")\n",
    "        return b,e,gap"
   ]
  },
  {
   "cell_type": "code",
   "execution_count": 3,
   "metadata": {},
   "outputs": [],
   "source": [
    "def index_agreement(o,s):\n",
    "        \n",
    "    ia = 1 -(np.sum((o-s)**2))/(np.sum((np.abs(s-np.mean(o))+np.abs(o-np.mean(o)))**2))\n",
    "\n",
    "    return ia"
   ]
  },
  {
   "cell_type": "code",
   "execution_count": 7,
   "metadata": {},
   "outputs": [],
   "source": [
    "df = pd.read_csv('GlucoCheck/Data/consolidatedDataForPackage.csv')     \n",
    "df['Display Time'] = df['Display Time'].apply(lambda x: pd.datetime.strptime(str(x), '%Y-%m-%d %H:%M:%S'))\n",
    "# data = data.set_index(['Display Time'], drop=True)\n",
    "df.drop(['subjectId'], axis=1, inplace=True)"
   ]
  },
  {
   "cell_type": "code",
   "execution_count": 8,
   "metadata": {},
   "outputs": [
    {
     "data": {
      "text/html": [
       "<div>\n",
       "<style scoped>\n",
       "    .dataframe tbody tr th:only-of-type {\n",
       "        vertical-align: middle;\n",
       "    }\n",
       "\n",
       "    .dataframe tbody tr th {\n",
       "        vertical-align: top;\n",
       "    }\n",
       "\n",
       "    .dataframe thead th {\n",
       "        text-align: right;\n",
       "    }\n",
       "</style>\n",
       "<table border=\"1\" class=\"dataframe\">\n",
       "  <thead>\n",
       "    <tr style=\"text-align: right;\">\n",
       "      <th></th>\n",
       "      <th>Display Time</th>\n",
       "      <th>GlucoseValue</th>\n",
       "    </tr>\n",
       "  </thead>\n",
       "  <tbody>\n",
       "    <tr>\n",
       "      <td>0</td>\n",
       "      <td>2016-06-21 00:00:00</td>\n",
       "      <td>197.0</td>\n",
       "    </tr>\n",
       "    <tr>\n",
       "      <td>1</td>\n",
       "      <td>2016-06-21 00:15:00</td>\n",
       "      <td>208.0</td>\n",
       "    </tr>\n",
       "    <tr>\n",
       "      <td>2</td>\n",
       "      <td>2016-06-21 00:30:00</td>\n",
       "      <td>226.0</td>\n",
       "    </tr>\n",
       "    <tr>\n",
       "      <td>3</td>\n",
       "      <td>2016-06-21 00:45:00</td>\n",
       "      <td>241.0</td>\n",
       "    </tr>\n",
       "    <tr>\n",
       "      <td>4</td>\n",
       "      <td>2016-06-21 01:00:00</td>\n",
       "      <td>250.0</td>\n",
       "    </tr>\n",
       "    <tr>\n",
       "      <td>...</td>\n",
       "      <td>...</td>\n",
       "      <td>...</td>\n",
       "    </tr>\n",
       "    <tr>\n",
       "      <td>316522</td>\n",
       "      <td>2025-06-28 23:36:00</td>\n",
       "      <td>206.0</td>\n",
       "    </tr>\n",
       "    <tr>\n",
       "      <td>316523</td>\n",
       "      <td>2025-06-28 23:41:00</td>\n",
       "      <td>208.0</td>\n",
       "    </tr>\n",
       "    <tr>\n",
       "      <td>316524</td>\n",
       "      <td>2025-06-28 23:46:00</td>\n",
       "      <td>213.0</td>\n",
       "    </tr>\n",
       "    <tr>\n",
       "      <td>316525</td>\n",
       "      <td>2025-06-28 23:51:00</td>\n",
       "      <td>224.0</td>\n",
       "    </tr>\n",
       "    <tr>\n",
       "      <td>316526</td>\n",
       "      <td>2025-06-28 23:56:00</td>\n",
       "      <td>235.0</td>\n",
       "    </tr>\n",
       "  </tbody>\n",
       "</table>\n",
       "<p>316527 rows × 2 columns</p>\n",
       "</div>"
      ],
      "text/plain": [
       "              Display Time  GlucoseValue\n",
       "0      2016-06-21 00:00:00         197.0\n",
       "1      2016-06-21 00:15:00         208.0\n",
       "2      2016-06-21 00:30:00         226.0\n",
       "3      2016-06-21 00:45:00         241.0\n",
       "4      2016-06-21 01:00:00         250.0\n",
       "...                    ...           ...\n",
       "316522 2025-06-28 23:36:00         206.0\n",
       "316523 2025-06-28 23:41:00         208.0\n",
       "316524 2025-06-28 23:46:00         213.0\n",
       "316525 2025-06-28 23:51:00         224.0\n",
       "316526 2025-06-28 23:56:00         235.0\n",
       "\n",
       "[316527 rows x 2 columns]"
      ]
     },
     "execution_count": 8,
     "metadata": {},
     "output_type": "execute_result"
    }
   ],
   "source": [
    "\n",
    "df"
   ]
  },
  {
   "cell_type": "code",
   "execution_count": 11,
   "metadata": {},
   "outputs": [],
   "source": [
    "from sklearn.preprocessing import MinMaxScaler\n",
    "data = df.sort_index(ascending=True, axis=0)\n",
    "new_data = pd.DataFrame(index=range(0,len(df)),columns=['Date', 'GV'])\n",
    "new_data['Date'] = data['Display Time']\n",
    "new_data['GV'] = data['GlucoseValue']\n"
   ]
  },
  {
   "cell_type": "code",
   "execution_count": 12,
   "metadata": {},
   "outputs": [],
   "source": [
    "new_data.index = new_data.Date\n",
    "new_data.drop('Date', axis=1, inplace=True)\n",
    "dataset = new_data.values\n",
    "scaler = MinMaxScaler(feature_range=(0, 1))\n",
    "scaled_data = scaler.fit_transform(dataset)\n",
    "train= scaled_data[:int(df.shape[0]*0.8)]\n",
    "valid = scaled_data[int(df.shape[0]*0.8):]\n",
    "\n"
   ]
  },
  {
   "cell_type": "code",
   "execution_count": 13,
   "metadata": {},
   "outputs": [],
   "source": [
    "x_train,y_train,x_test,y_test = [],[],[],[]\n",
    "for i in range(60,train.shape[0]):\n",
    "    x_train.append(train[i-60:i,0])\n",
    "    y_train.append(train[i,0])\n",
    "\n",
    "for z in range(60,valid.shape[0]):\n",
    "    x_test.append(valid[z-60:z,0])\n",
    "    y_test.append(valid[z,0])\n",
    "\n"
   ]
  },
  {
   "cell_type": "code",
   "execution_count": 14,
   "metadata": {},
   "outputs": [],
   "source": [
    "x_train, y_train,x_test,y_test = np.array(x_train), np.array(y_train),np.array(x_test),np.array(y_test)\n",
    "x_train = np.reshape(x_train, (x_train.shape[0],x_train.shape[1],1))\n",
    "x_test=np.reshape(x_test,(x_test.shape[0],x_test.shape[1],1))"
   ]
  },
  {
   "cell_type": "code",
   "execution_count": null,
   "metadata": {},
   "outputs": [],
   "source": []
  },
  {
   "cell_type": "code",
   "execution_count": null,
   "metadata": {},
   "outputs": [],
   "source": []
  },
  {
   "cell_type": "code",
   "execution_count": null,
   "metadata": {},
   "outputs": [
    {
     "name": "stdout",
     "output_type": "stream",
     "text": [
      "Train on 253161 samples, validate on 63246 samples\n",
      "Epoch 1/1\n",
      " 75096/253161 [=======>......................] - ETA: 7:02 - loss: 0.0036"
     ]
    }
   ],
   "source": [
    "from keras.models import Sequential\n",
    "from keras.layers import Dense, Dropout,LSTM\n",
    "from keras.optimizers import Adam\n",
    "model = Sequential()\n",
    "model.add(LSTM(units=100,input_shape=(x_train.shape[1],1),return_sequences=True))\n",
    "model.add(LSTM(units=100))\n",
    "model.add(Dropout(0.4))\n",
    "model.add(Dense(1))\n",
    "ADAM = Adam(0.0005, beta_1=0.9, beta_2=0.999, amsgrad=False)\n",
    "model.compile(loss='mean_squared_error', optimizer=ADAM)\n",
    "history = model.fit(x_train,y_train,epochs=1,batch_size=72,validation_data=(x_test,y_test),verbose=1,shuffle=False)\n",
    "plt.plot(history.history['loss'], label='train')\n",
    "plt.plot(history.history['val_loss'], label='test')\n",
    "plt.legend()\n",
    "plt.show()"
   ]
  },
  {
   "cell_type": "code",
   "execution_count": null,
   "metadata": {},
   "outputs": [],
   "source": []
  },
  {
   "cell_type": "code",
   "execution_count": null,
   "metadata": {},
   "outputs": [],
   "source": []
  },
  {
   "cell_type": "code",
   "execution_count": 4,
   "metadata": {},
   "outputs": [],
   "source": [
    "data = data[data['subjectId']=='1636-69-032']"
   ]
  },
  {
   "cell_type": "code",
   "execution_count": 131,
   "metadata": {},
   "outputs": [],
   "source": [
    "start = 800\n",
    "end = start+500\n",
    "data = data.reset_index(drop=True)\n",
    "data_with_missing = data.copy()\n",
    "data_with_missing = createGap(data_with_missing,start,end)\n",
    "\n",
    "data_with_missing.drop(['subjectId'], axis=1, inplace=True)\n",
    "\n",
    "b,e,g = (detectGap(data_with_missing))"
   ]
  },
  {
   "cell_type": "code",
   "execution_count": 132,
   "metadata": {},
   "outputs": [
    {
     "data": {
      "text/plain": [
       "(800, 1299, 499)"
      ]
     },
     "execution_count": 132,
     "metadata": {},
     "output_type": "execute_result"
    }
   ],
   "source": [
    "b,e,g"
   ]
  },
  {
   "cell_type": "code",
   "execution_count": null,
   "metadata": {},
   "outputs": [],
   "source": []
  },
  {
   "cell_type": "code",
   "execution_count": 133,
   "metadata": {},
   "outputs": [
    {
     "data": {
      "text/html": [
       "<div>\n",
       "<style scoped>\n",
       "    .dataframe tbody tr th:only-of-type {\n",
       "        vertical-align: middle;\n",
       "    }\n",
       "\n",
       "    .dataframe tbody tr th {\n",
       "        vertical-align: top;\n",
       "    }\n",
       "\n",
       "    .dataframe thead th {\n",
       "        text-align: right;\n",
       "    }\n",
       "</style>\n",
       "<table border=\"1\" class=\"dataframe\">\n",
       "  <thead>\n",
       "    <tr style=\"text-align: right;\">\n",
       "      <th></th>\n",
       "      <th>GlucoseValue</th>\n",
       "    </tr>\n",
       "    <tr>\n",
       "      <th>Display Time</th>\n",
       "      <th></th>\n",
       "    </tr>\n",
       "  </thead>\n",
       "  <tbody>\n",
       "    <tr>\n",
       "      <td>2016-01-13 12:58:17</td>\n",
       "      <td>122.0</td>\n",
       "    </tr>\n",
       "    <tr>\n",
       "      <td>2016-01-13 13:03:17</td>\n",
       "      <td>123.0</td>\n",
       "    </tr>\n",
       "    <tr>\n",
       "      <td>2016-01-13 13:08:17</td>\n",
       "      <td>124.0</td>\n",
       "    </tr>\n",
       "    <tr>\n",
       "      <td>2016-01-13 13:13:17</td>\n",
       "      <td>128.0</td>\n",
       "    </tr>\n",
       "    <tr>\n",
       "      <td>2016-01-13 13:18:17</td>\n",
       "      <td>133.0</td>\n",
       "    </tr>\n",
       "    <tr>\n",
       "      <td>...</td>\n",
       "      <td>...</td>\n",
       "    </tr>\n",
       "    <tr>\n",
       "      <td>2016-01-16 07:13:05</td>\n",
       "      <td>88.0</td>\n",
       "    </tr>\n",
       "    <tr>\n",
       "      <td>2016-01-16 07:18:05</td>\n",
       "      <td>95.0</td>\n",
       "    </tr>\n",
       "    <tr>\n",
       "      <td>2016-01-16 07:23:04</td>\n",
       "      <td>99.0</td>\n",
       "    </tr>\n",
       "    <tr>\n",
       "      <td>2016-01-16 07:28:04</td>\n",
       "      <td>97.0</td>\n",
       "    </tr>\n",
       "    <tr>\n",
       "      <td>2016-01-16 07:33:04</td>\n",
       "      <td>89.0</td>\n",
       "    </tr>\n",
       "  </tbody>\n",
       "</table>\n",
       "<p>800 rows × 1 columns</p>\n",
       "</div>"
      ],
      "text/plain": [
       "                     GlucoseValue\n",
       "Display Time                     \n",
       "2016-01-13 12:58:17         122.0\n",
       "2016-01-13 13:03:17         123.0\n",
       "2016-01-13 13:08:17         124.0\n",
       "2016-01-13 13:13:17         128.0\n",
       "2016-01-13 13:18:17         133.0\n",
       "...                           ...\n",
       "2016-01-16 07:13:05          88.0\n",
       "2016-01-16 07:18:05          95.0\n",
       "2016-01-16 07:23:04          99.0\n",
       "2016-01-16 07:28:04          97.0\n",
       "2016-01-16 07:33:04          89.0\n",
       "\n",
       "[800 rows x 1 columns]"
      ]
     },
     "execution_count": 133,
     "metadata": {},
     "output_type": "execute_result"
    }
   ],
   "source": []
  },
  {
   "cell_type": "code",
   "execution_count": 157,
   "metadata": {},
   "outputs": [
    {
     "data": {
      "text/plain": [
       "0.4175258611243552"
      ]
     },
     "execution_count": 157,
     "metadata": {},
     "output_type": "execute_result"
    }
   ],
   "source": [
    "index_agreement(np.asarray(o),np.asarray(s))"
   ]
  },
  {
   "cell_type": "code",
   "execution_count": null,
   "metadata": {},
   "outputs": [],
   "source": []
  }
 ],
 "metadata": {
  "kernelspec": {
   "display_name": "Python 3",
   "language": "python",
   "name": "python3"
  },
  "language_info": {
   "codemirror_mode": {
    "name": "ipython",
    "version": 3
   },
   "file_extension": ".py",
   "mimetype": "text/x-python",
   "name": "python",
   "nbconvert_exporter": "python",
   "pygments_lexer": "ipython3",
   "version": "3.7.4"
  }
 },
 "nbformat": 4,
 "nbformat_minor": 2
}
