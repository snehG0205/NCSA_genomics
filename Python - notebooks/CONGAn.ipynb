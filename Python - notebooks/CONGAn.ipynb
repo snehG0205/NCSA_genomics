{
 "cells": [
  {
   "cell_type": "code",
   "execution_count": 100,
   "metadata": {},
   "outputs": [],
   "source": [
    "import pandas as pd\n",
    "import numpy as np\n",
    "import matplotlib.pyplot as plt\n",
    "import seaborn as sns\n",
    "\n",
    "from datetime import datetime\n",
    "from statistics import mean\n",
    "from datetime import timedelta\n",
    "\n",
    "import math\n",
    "\n",
    "import warnings  \n",
    "warnings.filterwarnings('ignore')"
   ]
  },
  {
   "cell_type": "code",
   "execution_count": 101,
   "metadata": {},
   "outputs": [],
   "source": [
    "data = pd.read_csv(\"~/Desktop/NCSA_genomics/Python - notebooks/GlucoCheck/Data/consolidatedDataForPaper.csv\")\n",
    "data['Display Time'] = pd.to_datetime(data['Display Time'])\n",
    "data['GlucoseValue'] = pd.to_numeric(data['GlucoseValue'])"
   ]
  },
  {
   "cell_type": "code",
   "execution_count": 102,
   "metadata": {},
   "outputs": [],
   "source": [
    "def fullDay(data):\n",
    "        \n",
    "    dates = list()\n",
    "    data = data.reset_index(drop=True)\n",
    "    for i in range(0,len(data.index)):\n",
    "        dates.append(data['Display Time'][i].date())\n",
    "    data['Dates'] = dates\n",
    "    end = data['Dates'].iloc[-1]\n",
    "    start = data['Dates'].iloc[0]\n",
    "\n",
    "    indexVals = data[ data['Dates'] == start ].index\n",
    "    # indexVals\n",
    "    data.drop(indexVals , inplace=True)\n",
    "\n",
    "    indexVals = data[ data['Dates'] == end ].index\n",
    "    # indexVals\n",
    "    data.drop(indexVals , inplace=True)\n",
    "\n",
    "    data = data.reset_index(drop=True)\n",
    "\n",
    "    data.drop(['Dates'], axis=1, inplace=True)\n",
    "\n",
    "    return data"
   ]
  },
  {
   "cell_type": "code",
   "execution_count": 103,
   "metadata": {},
   "outputs": [],
   "source": [
    "def congaN(df, n):\n",
    "    day = df['Display Time'].iloc[-1]-df['Display Time'].iloc[0]\n",
    "    day = day.round(\"d\")\n",
    "    day = day.days\n",
    "    \n",
    "    df = df.set_index(['Display Time'])\n",
    "    t = str(n*3600)+'s'\n",
    "    gv = df['GlucoseValue'].resample(t).first()\n",
    "    \n",
    "    k = len(gv)\n",
    "    \n",
    "    frame = pd.DataFrame()\n",
    "    frame['GV'] = gv\n",
    "    frame['Dt'] = frame['GV'] - frame['GV'].shift(+1)\n",
    "    frame = frame.fillna(0)\n",
    "    \n",
    "    dBar = sum(frame['Dt']) / k\n",
    "    \n",
    "    s = 0\n",
    "    for i in frame['Dt']:\n",
    "        s += (i-dBar)**2\n",
    "        \n",
    "    conga = math.sqrt(s/(k-1))\n",
    "    \n",
    "    return round(conga/day, 3)\n",
    "    \n",
    "    \n",
    "    "
   ]
  },
  {
   "cell_type": "code",
   "execution_count": 104,
   "metadata": {},
   "outputs": [
    {
     "name": "stdout",
     "output_type": "stream",
     "text": [
      "GVP01\t9.103\t15.098\t24.613\n",
      "GVP03\t0.071\t0.096\t0.116\n",
      "ID01\t9.036\t14.448\t16.64\n",
      "ID02\t3.065\t3.028\t3.942\n",
      "ID03\t5.72\t7.817\t11.583\n",
      "ID11\t9.717\t14.784\t25.069\n",
      "ID12\t4.675\t8.115\t9.069\n",
      "ID13\t13.095\t20.574\t12.434\n",
      "ID21\t6.111\t8.892\t6.467\n",
      "ID22\t7.553\t10.99\t9.945\n",
      "ID23\t4.56\t6.433\t7.697\n",
      "ID29\t7.07\t10.241\t8.492\n",
      "ID30\t4.327\t5.266\t3.896\n",
      "ID31\t5.293\t6.34\t5.77\n",
      "ID32\t1.885\t1.894\t1.87\n",
      "ID33\t1.159\t1.364\t1.074\n",
      "OD540\t0.944\t1.349\t1.69\n",
      "OD544\t0.879\t1.36\t1.471\n",
      "OD552\t0.944\t1.403\t1.72\n",
      "OD559\t1.213\t1.813\t2.356\n",
      "OD563\t0.76\t1.168\t1.415\n",
      "OD567\t0.909\t1.397\t1.708\n",
      "OD570\t0.784\t1.264\t1.836\n",
      "OD575\t0.958\t1.462\t1.792\n",
      "OD584\t0.984\t1.446\t1.748\n",
      "OD588\t0.831\t1.209\t1.557\n",
      "OD591\t0.93\t1.306\t1.784\n",
      "OD596\t0.649\t1.012\t1.406\n"
     ]
    }
   ],
   "source": [
    "for subjectId, df in data.groupby('subjectId'):\n",
    "    df = fullDay(df)\n",
    "    conga_1 = congaN(df, 1)\n",
    "    conga_2 = congaN(df, 2)\n",
    "    conga_4 = congaN(df, 4)\n",
    "    print(\"{}\\t{}\\t{}\\t{}\".format(subjectId,conga_1,conga_2,conga_4))"
   ]
  },
  {
   "cell_type": "code",
   "execution_count": null,
   "metadata": {},
   "outputs": [],
   "source": []
  }
 ],
 "metadata": {
  "kernelspec": {
   "display_name": "Python 3",
   "language": "python",
   "name": "python3"
  },
  "language_info": {
   "codemirror_mode": {
    "name": "ipython",
    "version": 3
   },
   "file_extension": ".py",
   "mimetype": "text/x-python",
   "name": "python",
   "nbconvert_exporter": "python",
   "pygments_lexer": "ipython3",
   "version": "3.7.4"
  }
 },
 "nbformat": 4,
 "nbformat_minor": 2
}
