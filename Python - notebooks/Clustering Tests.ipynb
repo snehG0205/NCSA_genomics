{
 "cells": [
  {
   "cell_type": "code",
   "execution_count": 1,
   "metadata": {
    "ExecuteTime": {
     "end_time": "2020-10-14T16:06:48.949810Z",
     "start_time": "2020-10-14T16:06:42.542139Z"
    }
   },
   "outputs": [
    {
     "name": "stderr",
     "output_type": "stream",
     "text": [
      "/opt/anaconda3/lib/python3.7/site-packages/sklearn/utils/deprecation.py:143: FutureWarning: The sklearn.cluster.k_means_ module is  deprecated in version 0.22 and will be removed in version 0.24. The corresponding classes / functions should instead be imported from sklearn.cluster. Anything that cannot be imported from sklearn.cluster is now part of the private API.\n",
      "  warnings.warn(message, FutureWarning)\n"
     ]
    }
   ],
   "source": [
    "import pandas as pd\n",
    "import numpy as np\n",
    "\n",
    "from sklearn.cluster import KMeans\n",
    "from sklearn.metrics import accuracy_score\n",
    "from sklearn.tree import DecisionTreeClassifier\n",
    "from tslearn.clustering import TimeSeriesKMeans\n"
   ]
  },
  {
   "cell_type": "code",
   "execution_count": null,
   "metadata": {
    "ExecuteTime": {
     "end_time": "2020-10-07T08:05:00.674390Z",
     "start_time": "2020-10-07T08:05:00.656221Z"
    }
   },
   "outputs": [],
   "source": []
  },
  {
   "cell_type": "code",
   "execution_count": 2,
   "metadata": {
    "ExecuteTime": {
     "end_time": "2020-10-14T16:06:49.150020Z",
     "start_time": "2020-10-14T16:06:48.954225Z"
    }
   },
   "outputs": [],
   "source": [
    "data = pd.read_csv('GlucoCheck/Data/Hall/Hall_data.csv')\n",
    "meta = pd.read_csv('GlucoCheck/Data/Hall/Hall_meta.csv')"
   ]
  },
  {
   "cell_type": "code",
   "execution_count": 3,
   "metadata": {
    "ExecuteTime": {
     "end_time": "2020-10-14T16:06:49.194943Z",
     "start_time": "2020-10-14T16:06:49.167174Z"
    }
   },
   "outputs": [],
   "source": [
    "trainSubjects = ['1636-69-001','1636-69-001-2','1636-69-091','2133-004','2133-018',\n",
    "                 '1636-69-026','1636-69-032','1636-69-090','1636-69-114','1636-70-1005',\n",
    "                 '1636-69-028','1636-69-035','1636-69-048','1636-69-053','1636-69-060',\n",
    "                '2133-039','1636-70-1010','1636-69-064']\n",
    "\n",
    "testSubjects = ['2133-039','1636-70-1010','1636-69-064']"
   ]
  },
  {
   "cell_type": "code",
   "execution_count": 4,
   "metadata": {
    "ExecuteTime": {
     "end_time": "2020-10-14T16:06:49.549272Z",
     "start_time": "2020-10-14T16:06:49.215518Z"
    }
   },
   "outputs": [],
   "source": [
    "tsdata = []\n",
    "for subjectId, d in data.groupby('subjectId'):\n",
    "    l = []\n",
    "    l.append(subjectId)\n",
    "\n",
    "    for gv in d.GlucoseValue:\n",
    "        l.append(gv)\n",
    "    tsdata.append(l[:580])\n",
    "\n",
    "tsdf = pd.DataFrame.from_records(tsdata)\n",
    "# tsdf = tsdf.set_index([0],drop=True)\n",
    "\n",
    "tsdf['Y'] = meta['status'].tolist()\n",
    "tsdf['Y'] = tsdf['Y'].map({'diabetic': 0, 'pre-diabetic': 1, 'non-diabetic': 2})\n",
    "\n",
    "\n",
    "trainingSet = tsdf.loc[tsdf[0].isin(trainSubjects)]\n",
    "testingSet = tsdf.loc[tsdf[0].isin(testSubjects)]\n",
    "\n",
    "trainingSet = trainingSet.set_index([0],drop=True)\n",
    "testingSet = testingSet.set_index([0],drop=True)"
   ]
  },
  {
   "cell_type": "code",
   "execution_count": 6,
   "metadata": {
    "ExecuteTime": {
     "end_time": "2020-10-14T16:06:54.783890Z",
     "start_time": "2020-10-14T16:06:54.680145Z"
    }
   },
   "outputs": [
    {
     "data": {
      "text/html": [
       "<div>\n",
       "<style scoped>\n",
       "    .dataframe tbody tr th:only-of-type {\n",
       "        vertical-align: middle;\n",
       "    }\n",
       "\n",
       "    .dataframe tbody tr th {\n",
       "        vertical-align: top;\n",
       "    }\n",
       "\n",
       "    .dataframe thead th {\n",
       "        text-align: right;\n",
       "    }\n",
       "</style>\n",
       "<table border=\"1\" class=\"dataframe\">\n",
       "  <thead>\n",
       "    <tr style=\"text-align: right;\">\n",
       "      <th></th>\n",
       "      <th>1</th>\n",
       "      <th>2</th>\n",
       "      <th>3</th>\n",
       "      <th>4</th>\n",
       "      <th>5</th>\n",
       "      <th>6</th>\n",
       "      <th>7</th>\n",
       "      <th>8</th>\n",
       "      <th>9</th>\n",
       "      <th>10</th>\n",
       "      <th>...</th>\n",
       "      <th>571</th>\n",
       "      <th>572</th>\n",
       "      <th>573</th>\n",
       "      <th>574</th>\n",
       "      <th>575</th>\n",
       "      <th>576</th>\n",
       "      <th>577</th>\n",
       "      <th>578</th>\n",
       "      <th>579</th>\n",
       "      <th>Y</th>\n",
       "    </tr>\n",
       "    <tr>\n",
       "      <th>0</th>\n",
       "      <th></th>\n",
       "      <th></th>\n",
       "      <th></th>\n",
       "      <th></th>\n",
       "      <th></th>\n",
       "      <th></th>\n",
       "      <th></th>\n",
       "      <th></th>\n",
       "      <th></th>\n",
       "      <th></th>\n",
       "      <th></th>\n",
       "      <th></th>\n",
       "      <th></th>\n",
       "      <th></th>\n",
       "      <th></th>\n",
       "      <th></th>\n",
       "      <th></th>\n",
       "      <th></th>\n",
       "      <th></th>\n",
       "      <th></th>\n",
       "      <th></th>\n",
       "    </tr>\n",
       "  </thead>\n",
       "  <tbody>\n",
       "    <tr>\n",
       "      <td>1636-69-001</td>\n",
       "      <td>93</td>\n",
       "      <td>93</td>\n",
       "      <td>93</td>\n",
       "      <td>95</td>\n",
       "      <td>96</td>\n",
       "      <td>95</td>\n",
       "      <td>95</td>\n",
       "      <td>95</td>\n",
       "      <td>96</td>\n",
       "      <td>97</td>\n",
       "      <td>...</td>\n",
       "      <td>92</td>\n",
       "      <td>92</td>\n",
       "      <td>91</td>\n",
       "      <td>91</td>\n",
       "      <td>91</td>\n",
       "      <td>92</td>\n",
       "      <td>97</td>\n",
       "      <td>101</td>\n",
       "      <td>101</td>\n",
       "      <td>0</td>\n",
       "    </tr>\n",
       "    <tr>\n",
       "      <td>1636-69-001-2</td>\n",
       "      <td>100</td>\n",
       "      <td>111</td>\n",
       "      <td>113</td>\n",
       "      <td>114</td>\n",
       "      <td>116</td>\n",
       "      <td>121</td>\n",
       "      <td>125</td>\n",
       "      <td>137</td>\n",
       "      <td>143</td>\n",
       "      <td>148</td>\n",
       "      <td>...</td>\n",
       "      <td>123</td>\n",
       "      <td>127</td>\n",
       "      <td>139</td>\n",
       "      <td>148</td>\n",
       "      <td>154</td>\n",
       "      <td>158</td>\n",
       "      <td>157</td>\n",
       "      <td>156</td>\n",
       "      <td>148</td>\n",
       "      <td>0</td>\n",
       "    </tr>\n",
       "    <tr>\n",
       "      <td>1636-69-026</td>\n",
       "      <td>123</td>\n",
       "      <td>122</td>\n",
       "      <td>119</td>\n",
       "      <td>114</td>\n",
       "      <td>111</td>\n",
       "      <td>110</td>\n",
       "      <td>101</td>\n",
       "      <td>110</td>\n",
       "      <td>105</td>\n",
       "      <td>101</td>\n",
       "      <td>...</td>\n",
       "      <td>107</td>\n",
       "      <td>101</td>\n",
       "      <td>103</td>\n",
       "      <td>104</td>\n",
       "      <td>105</td>\n",
       "      <td>106</td>\n",
       "      <td>108</td>\n",
       "      <td>109</td>\n",
       "      <td>109</td>\n",
       "      <td>1</td>\n",
       "    </tr>\n",
       "    <tr>\n",
       "      <td>1636-69-028</td>\n",
       "      <td>129</td>\n",
       "      <td>131</td>\n",
       "      <td>132</td>\n",
       "      <td>137</td>\n",
       "      <td>133</td>\n",
       "      <td>133</td>\n",
       "      <td>128</td>\n",
       "      <td>137</td>\n",
       "      <td>142</td>\n",
       "      <td>143</td>\n",
       "      <td>...</td>\n",
       "      <td>89</td>\n",
       "      <td>86</td>\n",
       "      <td>82</td>\n",
       "      <td>82</td>\n",
       "      <td>80</td>\n",
       "      <td>82</td>\n",
       "      <td>84</td>\n",
       "      <td>89</td>\n",
       "      <td>93</td>\n",
       "      <td>2</td>\n",
       "    </tr>\n",
       "    <tr>\n",
       "      <td>1636-69-032</td>\n",
       "      <td>122</td>\n",
       "      <td>123</td>\n",
       "      <td>124</td>\n",
       "      <td>128</td>\n",
       "      <td>133</td>\n",
       "      <td>137</td>\n",
       "      <td>132</td>\n",
       "      <td>131</td>\n",
       "      <td>126</td>\n",
       "      <td>122</td>\n",
       "      <td>...</td>\n",
       "      <td>113</td>\n",
       "      <td>113</td>\n",
       "      <td>112</td>\n",
       "      <td>115</td>\n",
       "      <td>124</td>\n",
       "      <td>128</td>\n",
       "      <td>130</td>\n",
       "      <td>131</td>\n",
       "      <td>133</td>\n",
       "      <td>1</td>\n",
       "    </tr>\n",
       "    <tr>\n",
       "      <td>1636-69-035</td>\n",
       "      <td>112</td>\n",
       "      <td>110</td>\n",
       "      <td>105</td>\n",
       "      <td>104</td>\n",
       "      <td>104</td>\n",
       "      <td>101</td>\n",
       "      <td>99</td>\n",
       "      <td>100</td>\n",
       "      <td>105</td>\n",
       "      <td>104</td>\n",
       "      <td>...</td>\n",
       "      <td>103</td>\n",
       "      <td>113</td>\n",
       "      <td>116</td>\n",
       "      <td>122</td>\n",
       "      <td>124</td>\n",
       "      <td>123</td>\n",
       "      <td>124</td>\n",
       "      <td>127</td>\n",
       "      <td>130</td>\n",
       "      <td>2</td>\n",
       "    </tr>\n",
       "    <tr>\n",
       "      <td>1636-69-048</td>\n",
       "      <td>90</td>\n",
       "      <td>88</td>\n",
       "      <td>87</td>\n",
       "      <td>87</td>\n",
       "      <td>88</td>\n",
       "      <td>83</td>\n",
       "      <td>82</td>\n",
       "      <td>74</td>\n",
       "      <td>77</td>\n",
       "      <td>83</td>\n",
       "      <td>...</td>\n",
       "      <td>90</td>\n",
       "      <td>90</td>\n",
       "      <td>95</td>\n",
       "      <td>95</td>\n",
       "      <td>91</td>\n",
       "      <td>95</td>\n",
       "      <td>99</td>\n",
       "      <td>101</td>\n",
       "      <td>100</td>\n",
       "      <td>2</td>\n",
       "    </tr>\n",
       "    <tr>\n",
       "      <td>1636-69-053</td>\n",
       "      <td>65</td>\n",
       "      <td>65</td>\n",
       "      <td>55</td>\n",
       "      <td>51</td>\n",
       "      <td>43</td>\n",
       "      <td>57</td>\n",
       "      <td>66</td>\n",
       "      <td>89</td>\n",
       "      <td>114</td>\n",
       "      <td>124</td>\n",
       "      <td>...</td>\n",
       "      <td>110</td>\n",
       "      <td>112</td>\n",
       "      <td>115</td>\n",
       "      <td>114</td>\n",
       "      <td>111</td>\n",
       "      <td>108</td>\n",
       "      <td>108</td>\n",
       "      <td>107</td>\n",
       "      <td>106</td>\n",
       "      <td>2</td>\n",
       "    </tr>\n",
       "    <tr>\n",
       "      <td>1636-69-060</td>\n",
       "      <td>121</td>\n",
       "      <td>108</td>\n",
       "      <td>112</td>\n",
       "      <td>121</td>\n",
       "      <td>121</td>\n",
       "      <td>116</td>\n",
       "      <td>106</td>\n",
       "      <td>109</td>\n",
       "      <td>114</td>\n",
       "      <td>118</td>\n",
       "      <td>...</td>\n",
       "      <td>134</td>\n",
       "      <td>131</td>\n",
       "      <td>130</td>\n",
       "      <td>125</td>\n",
       "      <td>122</td>\n",
       "      <td>123</td>\n",
       "      <td>125</td>\n",
       "      <td>125</td>\n",
       "      <td>125</td>\n",
       "      <td>2</td>\n",
       "    </tr>\n",
       "    <tr>\n",
       "      <td>1636-69-064</td>\n",
       "      <td>93</td>\n",
       "      <td>86</td>\n",
       "      <td>90</td>\n",
       "      <td>86</td>\n",
       "      <td>94</td>\n",
       "      <td>90</td>\n",
       "      <td>87</td>\n",
       "      <td>85</td>\n",
       "      <td>89</td>\n",
       "      <td>93</td>\n",
       "      <td>...</td>\n",
       "      <td>100</td>\n",
       "      <td>105</td>\n",
       "      <td>108</td>\n",
       "      <td>107</td>\n",
       "      <td>110</td>\n",
       "      <td>108</td>\n",
       "      <td>98</td>\n",
       "      <td>92</td>\n",
       "      <td>87</td>\n",
       "      <td>2</td>\n",
       "    </tr>\n",
       "    <tr>\n",
       "      <td>1636-69-090</td>\n",
       "      <td>79</td>\n",
       "      <td>75</td>\n",
       "      <td>72</td>\n",
       "      <td>75</td>\n",
       "      <td>80</td>\n",
       "      <td>82</td>\n",
       "      <td>80</td>\n",
       "      <td>78</td>\n",
       "      <td>78</td>\n",
       "      <td>76</td>\n",
       "      <td>...</td>\n",
       "      <td>80</td>\n",
       "      <td>66</td>\n",
       "      <td>62</td>\n",
       "      <td>69</td>\n",
       "      <td>69</td>\n",
       "      <td>84</td>\n",
       "      <td>83</td>\n",
       "      <td>84</td>\n",
       "      <td>83</td>\n",
       "      <td>1</td>\n",
       "    </tr>\n",
       "    <tr>\n",
       "      <td>1636-69-091</td>\n",
       "      <td>126</td>\n",
       "      <td>120</td>\n",
       "      <td>112</td>\n",
       "      <td>111</td>\n",
       "      <td>109</td>\n",
       "      <td>114</td>\n",
       "      <td>114</td>\n",
       "      <td>117</td>\n",
       "      <td>120</td>\n",
       "      <td>119</td>\n",
       "      <td>...</td>\n",
       "      <td>94</td>\n",
       "      <td>96</td>\n",
       "      <td>93</td>\n",
       "      <td>100</td>\n",
       "      <td>104</td>\n",
       "      <td>105</td>\n",
       "      <td>106</td>\n",
       "      <td>109</td>\n",
       "      <td>111</td>\n",
       "      <td>0</td>\n",
       "    </tr>\n",
       "    <tr>\n",
       "      <td>1636-69-114</td>\n",
       "      <td>148</td>\n",
       "      <td>147</td>\n",
       "      <td>148</td>\n",
       "      <td>147</td>\n",
       "      <td>148</td>\n",
       "      <td>148</td>\n",
       "      <td>148</td>\n",
       "      <td>150</td>\n",
       "      <td>152</td>\n",
       "      <td>151</td>\n",
       "      <td>...</td>\n",
       "      <td>136</td>\n",
       "      <td>135</td>\n",
       "      <td>135</td>\n",
       "      <td>135</td>\n",
       "      <td>135</td>\n",
       "      <td>132</td>\n",
       "      <td>132</td>\n",
       "      <td>132</td>\n",
       "      <td>132</td>\n",
       "      <td>1</td>\n",
       "    </tr>\n",
       "    <tr>\n",
       "      <td>1636-70-1005</td>\n",
       "      <td>179</td>\n",
       "      <td>184</td>\n",
       "      <td>182</td>\n",
       "      <td>164</td>\n",
       "      <td>163</td>\n",
       "      <td>161</td>\n",
       "      <td>154</td>\n",
       "      <td>129</td>\n",
       "      <td>138</td>\n",
       "      <td>145</td>\n",
       "      <td>...</td>\n",
       "      <td>119</td>\n",
       "      <td>119</td>\n",
       "      <td>117</td>\n",
       "      <td>117</td>\n",
       "      <td>115</td>\n",
       "      <td>115</td>\n",
       "      <td>114</td>\n",
       "      <td>112</td>\n",
       "      <td>111</td>\n",
       "      <td>1</td>\n",
       "    </tr>\n",
       "    <tr>\n",
       "      <td>1636-70-1010</td>\n",
       "      <td>91</td>\n",
       "      <td>97</td>\n",
       "      <td>104</td>\n",
       "      <td>111</td>\n",
       "      <td>114</td>\n",
       "      <td>116</td>\n",
       "      <td>120</td>\n",
       "      <td>119</td>\n",
       "      <td>117</td>\n",
       "      <td>119</td>\n",
       "      <td>...</td>\n",
       "      <td>109</td>\n",
       "      <td>103</td>\n",
       "      <td>97</td>\n",
       "      <td>94</td>\n",
       "      <td>92</td>\n",
       "      <td>94</td>\n",
       "      <td>96</td>\n",
       "      <td>97</td>\n",
       "      <td>97</td>\n",
       "      <td>1</td>\n",
       "    </tr>\n",
       "    <tr>\n",
       "      <td>2133-004</td>\n",
       "      <td>142</td>\n",
       "      <td>142</td>\n",
       "      <td>137</td>\n",
       "      <td>135</td>\n",
       "      <td>132</td>\n",
       "      <td>129</td>\n",
       "      <td>123</td>\n",
       "      <td>122</td>\n",
       "      <td>123</td>\n",
       "      <td>122</td>\n",
       "      <td>...</td>\n",
       "      <td>171</td>\n",
       "      <td>171</td>\n",
       "      <td>172</td>\n",
       "      <td>174</td>\n",
       "      <td>174</td>\n",
       "      <td>174</td>\n",
       "      <td>174</td>\n",
       "      <td>172</td>\n",
       "      <td>167</td>\n",
       "      <td>0</td>\n",
       "    </tr>\n",
       "    <tr>\n",
       "      <td>2133-018</td>\n",
       "      <td>118</td>\n",
       "      <td>117</td>\n",
       "      <td>120</td>\n",
       "      <td>123</td>\n",
       "      <td>126</td>\n",
       "      <td>130</td>\n",
       "      <td>129</td>\n",
       "      <td>130</td>\n",
       "      <td>130</td>\n",
       "      <td>131</td>\n",
       "      <td>...</td>\n",
       "      <td>112</td>\n",
       "      <td>121</td>\n",
       "      <td>123</td>\n",
       "      <td>125</td>\n",
       "      <td>128</td>\n",
       "      <td>133</td>\n",
       "      <td>135</td>\n",
       "      <td>138</td>\n",
       "      <td>140</td>\n",
       "      <td>0</td>\n",
       "    </tr>\n",
       "    <tr>\n",
       "      <td>2133-039</td>\n",
       "      <td>129</td>\n",
       "      <td>111</td>\n",
       "      <td>105</td>\n",
       "      <td>102</td>\n",
       "      <td>99</td>\n",
       "      <td>103</td>\n",
       "      <td>100</td>\n",
       "      <td>99</td>\n",
       "      <td>99</td>\n",
       "      <td>100</td>\n",
       "      <td>...</td>\n",
       "      <td>98</td>\n",
       "      <td>96</td>\n",
       "      <td>96</td>\n",
       "      <td>96</td>\n",
       "      <td>96</td>\n",
       "      <td>96</td>\n",
       "      <td>95</td>\n",
       "      <td>95</td>\n",
       "      <td>95</td>\n",
       "      <td>0</td>\n",
       "    </tr>\n",
       "  </tbody>\n",
       "</table>\n",
       "<p>18 rows × 580 columns</p>\n",
       "</div>"
      ],
      "text/plain": [
       "                 1    2    3    4    5    6    7    8    9   10  ...  571  \\\n",
       "0                                                                ...        \n",
       "1636-69-001     93   93   93   95   96   95   95   95   96   97  ...   92   \n",
       "1636-69-001-2  100  111  113  114  116  121  125  137  143  148  ...  123   \n",
       "1636-69-026    123  122  119  114  111  110  101  110  105  101  ...  107   \n",
       "1636-69-028    129  131  132  137  133  133  128  137  142  143  ...   89   \n",
       "1636-69-032    122  123  124  128  133  137  132  131  126  122  ...  113   \n",
       "1636-69-035    112  110  105  104  104  101   99  100  105  104  ...  103   \n",
       "1636-69-048     90   88   87   87   88   83   82   74   77   83  ...   90   \n",
       "1636-69-053     65   65   55   51   43   57   66   89  114  124  ...  110   \n",
       "1636-69-060    121  108  112  121  121  116  106  109  114  118  ...  134   \n",
       "1636-69-064     93   86   90   86   94   90   87   85   89   93  ...  100   \n",
       "1636-69-090     79   75   72   75   80   82   80   78   78   76  ...   80   \n",
       "1636-69-091    126  120  112  111  109  114  114  117  120  119  ...   94   \n",
       "1636-69-114    148  147  148  147  148  148  148  150  152  151  ...  136   \n",
       "1636-70-1005   179  184  182  164  163  161  154  129  138  145  ...  119   \n",
       "1636-70-1010    91   97  104  111  114  116  120  119  117  119  ...  109   \n",
       "2133-004       142  142  137  135  132  129  123  122  123  122  ...  171   \n",
       "2133-018       118  117  120  123  126  130  129  130  130  131  ...  112   \n",
       "2133-039       129  111  105  102   99  103  100   99   99  100  ...   98   \n",
       "\n",
       "               572  573  574  575  576  577  578  579  Y  \n",
       "0                                                         \n",
       "1636-69-001     92   91   91   91   92   97  101  101  0  \n",
       "1636-69-001-2  127  139  148  154  158  157  156  148  0  \n",
       "1636-69-026    101  103  104  105  106  108  109  109  1  \n",
       "1636-69-028     86   82   82   80   82   84   89   93  2  \n",
       "1636-69-032    113  112  115  124  128  130  131  133  1  \n",
       "1636-69-035    113  116  122  124  123  124  127  130  2  \n",
       "1636-69-048     90   95   95   91   95   99  101  100  2  \n",
       "1636-69-053    112  115  114  111  108  108  107  106  2  \n",
       "1636-69-060    131  130  125  122  123  125  125  125  2  \n",
       "1636-69-064    105  108  107  110  108   98   92   87  2  \n",
       "1636-69-090     66   62   69   69   84   83   84   83  1  \n",
       "1636-69-091     96   93  100  104  105  106  109  111  0  \n",
       "1636-69-114    135  135  135  135  132  132  132  132  1  \n",
       "1636-70-1005   119  117  117  115  115  114  112  111  1  \n",
       "1636-70-1010   103   97   94   92   94   96   97   97  1  \n",
       "2133-004       171  172  174  174  174  174  172  167  0  \n",
       "2133-018       121  123  125  128  133  135  138  140  0  \n",
       "2133-039        96   96   96   96   96   95   95   95  0  \n",
       "\n",
       "[18 rows x 580 columns]"
      ]
     },
     "execution_count": 6,
     "metadata": {},
     "output_type": "execute_result"
    }
   ],
   "source": [
    "trainingSet.to_csv('~/Desktop/ClusteringTraining.csv')\n",
    "trainingSet"
   ]
  },
  {
   "cell_type": "code",
   "execution_count": 7,
   "metadata": {
    "ExecuteTime": {
     "end_time": "2020-10-14T16:07:36.748246Z",
     "start_time": "2020-10-14T16:07:36.703978Z"
    }
   },
   "outputs": [
    {
     "data": {
      "text/html": [
       "<div>\n",
       "<style scoped>\n",
       "    .dataframe tbody tr th:only-of-type {\n",
       "        vertical-align: middle;\n",
       "    }\n",
       "\n",
       "    .dataframe tbody tr th {\n",
       "        vertical-align: top;\n",
       "    }\n",
       "\n",
       "    .dataframe thead th {\n",
       "        text-align: right;\n",
       "    }\n",
       "</style>\n",
       "<table border=\"1\" class=\"dataframe\">\n",
       "  <thead>\n",
       "    <tr style=\"text-align: right;\">\n",
       "      <th></th>\n",
       "      <th>1</th>\n",
       "      <th>2</th>\n",
       "      <th>3</th>\n",
       "      <th>4</th>\n",
       "      <th>5</th>\n",
       "      <th>6</th>\n",
       "      <th>7</th>\n",
       "      <th>8</th>\n",
       "      <th>9</th>\n",
       "      <th>10</th>\n",
       "      <th>...</th>\n",
       "      <th>571</th>\n",
       "      <th>572</th>\n",
       "      <th>573</th>\n",
       "      <th>574</th>\n",
       "      <th>575</th>\n",
       "      <th>576</th>\n",
       "      <th>577</th>\n",
       "      <th>578</th>\n",
       "      <th>579</th>\n",
       "      <th>Y</th>\n",
       "    </tr>\n",
       "    <tr>\n",
       "      <th>0</th>\n",
       "      <th></th>\n",
       "      <th></th>\n",
       "      <th></th>\n",
       "      <th></th>\n",
       "      <th></th>\n",
       "      <th></th>\n",
       "      <th></th>\n",
       "      <th></th>\n",
       "      <th></th>\n",
       "      <th></th>\n",
       "      <th></th>\n",
       "      <th></th>\n",
       "      <th></th>\n",
       "      <th></th>\n",
       "      <th></th>\n",
       "      <th></th>\n",
       "      <th></th>\n",
       "      <th></th>\n",
       "      <th></th>\n",
       "      <th></th>\n",
       "      <th></th>\n",
       "    </tr>\n",
       "  </thead>\n",
       "  <tbody>\n",
       "    <tr>\n",
       "      <td>1636-69-064</td>\n",
       "      <td>93</td>\n",
       "      <td>86</td>\n",
       "      <td>90</td>\n",
       "      <td>86</td>\n",
       "      <td>94</td>\n",
       "      <td>90</td>\n",
       "      <td>87</td>\n",
       "      <td>85</td>\n",
       "      <td>89</td>\n",
       "      <td>93</td>\n",
       "      <td>...</td>\n",
       "      <td>100</td>\n",
       "      <td>105</td>\n",
       "      <td>108</td>\n",
       "      <td>107</td>\n",
       "      <td>110</td>\n",
       "      <td>108</td>\n",
       "      <td>98</td>\n",
       "      <td>92</td>\n",
       "      <td>87</td>\n",
       "      <td>2</td>\n",
       "    </tr>\n",
       "    <tr>\n",
       "      <td>1636-70-1010</td>\n",
       "      <td>91</td>\n",
       "      <td>97</td>\n",
       "      <td>104</td>\n",
       "      <td>111</td>\n",
       "      <td>114</td>\n",
       "      <td>116</td>\n",
       "      <td>120</td>\n",
       "      <td>119</td>\n",
       "      <td>117</td>\n",
       "      <td>119</td>\n",
       "      <td>...</td>\n",
       "      <td>109</td>\n",
       "      <td>103</td>\n",
       "      <td>97</td>\n",
       "      <td>94</td>\n",
       "      <td>92</td>\n",
       "      <td>94</td>\n",
       "      <td>96</td>\n",
       "      <td>97</td>\n",
       "      <td>97</td>\n",
       "      <td>1</td>\n",
       "    </tr>\n",
       "    <tr>\n",
       "      <td>2133-039</td>\n",
       "      <td>129</td>\n",
       "      <td>111</td>\n",
       "      <td>105</td>\n",
       "      <td>102</td>\n",
       "      <td>99</td>\n",
       "      <td>103</td>\n",
       "      <td>100</td>\n",
       "      <td>99</td>\n",
       "      <td>99</td>\n",
       "      <td>100</td>\n",
       "      <td>...</td>\n",
       "      <td>98</td>\n",
       "      <td>96</td>\n",
       "      <td>96</td>\n",
       "      <td>96</td>\n",
       "      <td>96</td>\n",
       "      <td>96</td>\n",
       "      <td>95</td>\n",
       "      <td>95</td>\n",
       "      <td>95</td>\n",
       "      <td>0</td>\n",
       "    </tr>\n",
       "  </tbody>\n",
       "</table>\n",
       "<p>3 rows × 580 columns</p>\n",
       "</div>"
      ],
      "text/plain": [
       "                1    2    3    4    5    6    7    8    9   10  ...  571  572  \\\n",
       "0                                                               ...             \n",
       "1636-69-064    93   86   90   86   94   90   87   85   89   93  ...  100  105   \n",
       "1636-70-1010   91   97  104  111  114  116  120  119  117  119  ...  109  103   \n",
       "2133-039      129  111  105  102   99  103  100   99   99  100  ...   98   96   \n",
       "\n",
       "              573  574  575  576  577  578  579  Y  \n",
       "0                                                   \n",
       "1636-69-064   108  107  110  108   98   92   87  2  \n",
       "1636-70-1010   97   94   92   94   96   97   97  1  \n",
       "2133-039       96   96   96   96   95   95   95  0  \n",
       "\n",
       "[3 rows x 580 columns]"
      ]
     },
     "execution_count": 7,
     "metadata": {},
     "output_type": "execute_result"
    }
   ],
   "source": [
    "testingSet.to_csv(\"~/Desktop/ClusteringTest.csv\")\n",
    "testingSet"
   ]
  },
  {
   "cell_type": "code",
   "execution_count": 8,
   "metadata": {
    "ExecuteTime": {
     "end_time": "2020-10-14T16:48:56.909886Z",
     "start_time": "2020-10-14T16:48:56.636004Z"
    }
   },
   "outputs": [],
   "source": [
    "X_train = trainingSet.drop(['Y'], axis=1)\n",
    "y_train = trainingSet['Y']\n",
    "\n",
    "X_test = testingSet.drop(['Y'], axis=1)\n",
    "y_test = testingSet['Y']"
   ]
  },
  {
   "cell_type": "code",
   "execution_count": 9,
   "metadata": {
    "ExecuteTime": {
     "end_time": "2020-10-14T16:48:57.025096Z",
     "start_time": "2020-10-14T16:48:57.004856Z"
    }
   },
   "outputs": [],
   "source": [
    "n_clusters = 3\n",
    "\n",
    "# for col in data.columns:\n",
    "# kmeans = KMeans(n_clusters=n_clusters)\n",
    "\n",
    "# kmeans.fit(X_train,y_train)\n"
   ]
  },
  {
   "cell_type": "code",
   "execution_count": 10,
   "metadata": {
    "ExecuteTime": {
     "end_time": "2020-10-14T16:48:57.858514Z",
     "start_time": "2020-10-14T16:48:57.855008Z"
    }
   },
   "outputs": [],
   "source": [
    "# y_p = kmeans.predict(X_test)\n",
    "# print (\"{}\".format(y_p))"
   ]
  },
  {
   "cell_type": "code",
   "execution_count": null,
   "metadata": {
    "ExecuteTime": {
     "end_time": "2020-10-07T08:12:50.796703Z",
     "start_time": "2020-10-07T08:12:50.783803Z"
    }
   },
   "outputs": [],
   "source": []
  },
  {
   "cell_type": "code",
   "execution_count": 11,
   "metadata": {
    "ExecuteTime": {
     "end_time": "2020-10-14T16:48:59.009218Z",
     "start_time": "2020-10-14T16:48:59.000338Z"
    }
   },
   "outputs": [],
   "source": [
    "\n",
    "# accuracy_score(y_p,y_test)"
   ]
  },
  {
   "cell_type": "code",
   "execution_count": null,
   "metadata": {},
   "outputs": [],
   "source": []
  },
  {
   "cell_type": "code",
   "execution_count": null,
   "metadata": {},
   "outputs": [],
   "source": []
  },
  {
   "cell_type": "code",
   "execution_count": null,
   "metadata": {
    "ExecuteTime": {
     "end_time": "2020-10-09T18:46:27.305480Z",
     "start_time": "2020-10-09T18:46:25.002Z"
    }
   },
   "outputs": [],
   "source": []
  },
  {
   "cell_type": "code",
   "execution_count": 12,
   "metadata": {
    "ExecuteTime": {
     "end_time": "2020-10-14T17:20:10.087191Z",
     "start_time": "2020-10-14T16:49:01.103984Z"
    }
   },
   "outputs": [
    {
     "name": "stdout",
     "output_type": "stream",
     "text": [
      "Init 1\n",
      "6870947296.366 --> 1149642087.237 --> 1086922471.381 --> 1086367952.560 --> 1085469147.350 --> 1085492176.783 --> 1084852224.455 --> 1085015735.813 --> 1084468865.537 --> 1084687074.016 --> 1084236416.641 --> 1084447808.782 --> 1084031830.999 --> 1084293255.211 --> 1083963857.008 --> 1083945210.913 --> 1083957531.962 --> 1083944847.038 --> 1083823417.938 --> 1083857865.631 --> 1083710017.299 --> 1083706022.939 --> 1083603126.441 --> 1083633231.516 --> 1083502730.735 --> 1083519407.804 --> 1083402717.731 --> 1083401852.674 --> 1083289405.465 --> 1083423350.561 --> 1083039356.605 --> 1082983763.712 --> 1082627457.016 --> 1082651014.949 --> 1082338331.954 --> 1082403513.624 --> 1082091517.604 --> 1082116975.516 --> 1081791281.254 --> 1081853198.518 --> 1081565392.668 --> 1081671017.660 --> 1081391368.535 --> 1081411105.767 --> 1081089902.701 --> 1081176473.932 --> 1080906165.608 --> 1081030085.609 --> 1080763511.078 --> 1080873493.346 --> 1080616096.996 --> 1080741155.439 --> 1080490799.945 --> 1080631552.820 --> 1080402018.767 --> 1080314285.280 --> 1080193332.902 --> 1080203242.609 --> 1080167415.990 --> 1080179082.585 --> 1080163961.963 --> 1080171009.575 --> 1080162717.701 --> 1080166898.415 --> 1080161209.063 --> 1080164105.303 --> 1080159409.511 --> 1080161870.711 --> 1080157696.688 --> 1080160036.456 --> 1080156077.851 --> 1080158408.541 --> 1080154391.327 --> 1080156781.906 --> 1080152447.625 --> 1080154924.675 --> 1080149909.332 --> 1080152395.454 --> 1080146776.971 --> 1080149210.717 --> 1080144053.762 --> 1080146514.683 --> 1080141771.486 --> 1080144180.354 --> 1080139924.037 --> 1080142171.448 --> 1080135600.626 --> 1080137443.281 --> 1080133549.913 --> 1080135335.597 --> 1080133225.912 --> 1080134876.897 --> 1080132923.436 --> 1080134458.368 --> 1080132604.169 --> 1080134053.090 --> 1080132211.495 --> 1080133615.321 --> 1080131619.689 --> 1080133027.490 --> \n",
      "Init 2\n",
      "6317258279.409 --> 1066708153.612 --> 1065366641.774 --> 1064506145.126 --> 1063890993.927 --> 1063352843.697 --> 1062950085.628 --> 1062616683.967 --> 1062405308.055 --> 1062271881.096 --> 1062156635.094 --> 1061971017.673 --> 1061930108.696 --> 1061644091.585 --> 1061739197.658 --> 1061358846.083 --> 1061468634.938 --> 1060865866.188 --> 1060664454.916 --> 1060170680.757 --> 1060098390.190 --> 1059666577.089 --> 1059665975.846 --> 1059182042.931 --> 1059104508.762 --> 1058753339.447 --> 1058781115.481 --> 1058526356.385 --> 1058586634.406 --> 1058362618.643 --> 1058438858.696 --> 1058233639.447 --> 1058332141.329 --> 1058136278.395 --> 1058240342.546 --> 1058045200.931 --> 1058149596.406 --> 1057948697.069 --> 1058022486.969 --> 1057803482.957 --> 1057865089.037 --> 1057655005.015 --> 1057728854.207 --> 1057533231.445 --> 1057618934.303 --> 1057429484.356 --> 1057496400.372 --> 1057289824.904 --> 1057377475.692 --> 1057196191.506 --> 1057305142.204 --> 1057040974.429 --> 1057010430.148 --> 1056949177.790 --> 1057009689.666 --> 1056892696.818 --> 1056858282.041 --> 1056869541.195 --> 1056852539.579 --> 1056855574.973 --> 1056844141.625 --> 1056847305.528 --> 1056837557.011 --> 1056840924.998 --> 1056832749.333 --> 1056836296.116 --> 1056829538.709 --> 1056832755.783 --> 1056827223.683 --> 1056829884.230 --> 1056825100.241 --> 1056827081.656 --> 1056822681.516 --> 1056823973.969 --> 1056817563.985 --> 1056819216.263 --> 1056765447.924 --> 1056751558.119 --> 1056670493.556 --> "
     ]
    },
    {
     "ename": "KeyboardInterrupt",
     "evalue": "",
     "output_type": "error",
     "traceback": [
      "\u001b[0;31m---------------------------------------------------------------------------\u001b[0m",
      "\u001b[0;31mKeyboardInterrupt\u001b[0m                         Traceback (most recent call last)",
      "\u001b[0;32m<ipython-input-12-aff3339fe5b6>\u001b[0m in \u001b[0;36m<module>\u001b[0;34m\u001b[0m\n\u001b[1;32m      1\u001b[0m \u001b[0mkm\u001b[0m \u001b[0;34m=\u001b[0m \u001b[0mTimeSeriesKMeans\u001b[0m\u001b[0;34m(\u001b[0m\u001b[0mn_clusters\u001b[0m\u001b[0;34m=\u001b[0m\u001b[0;36m3\u001b[0m\u001b[0;34m,\u001b[0m \u001b[0mmax_iter\u001b[0m\u001b[0;34m=\u001b[0m\u001b[0;36m100\u001b[0m\u001b[0;34m,\u001b[0m \u001b[0mmetric\u001b[0m\u001b[0;34m=\u001b[0m\u001b[0;34m\"softdtw\"\u001b[0m\u001b[0;34m,\u001b[0m \u001b[0mn_init\u001b[0m \u001b[0;34m=\u001b[0m \u001b[0;36m5\u001b[0m\u001b[0;34m,\u001b[0m \u001b[0mverbose\u001b[0m\u001b[0;34m=\u001b[0m\u001b[0;36m1\u001b[0m\u001b[0;34m)\u001b[0m\u001b[0;34m\u001b[0m\u001b[0;34m\u001b[0m\u001b[0m\n\u001b[0;32m----> 2\u001b[0;31m \u001b[0mkm\u001b[0m\u001b[0;34m.\u001b[0m\u001b[0mfit\u001b[0m\u001b[0;34m(\u001b[0m\u001b[0mX_train\u001b[0m\u001b[0;34m,\u001b[0m\u001b[0my_train\u001b[0m\u001b[0;34m)\u001b[0m\u001b[0;34m\u001b[0m\u001b[0;34m\u001b[0m\u001b[0m\n\u001b[0m",
      "\u001b[0;32m/opt/anaconda3/lib/python3.7/site-packages/tslearn/clustering.py\u001b[0m in \u001b[0;36mfit\u001b[0;34m(self, X, y)\u001b[0m\n\u001b[1;32m    978\u001b[0m                     \u001b[0mprint\u001b[0m\u001b[0;34m(\u001b[0m\u001b[0;34m\"Init %d\"\u001b[0m \u001b[0;34m%\u001b[0m \u001b[0;34m(\u001b[0m\u001b[0mn_successful\u001b[0m \u001b[0;34m+\u001b[0m \u001b[0;36m1\u001b[0m\u001b[0;34m)\u001b[0m\u001b[0;34m)\u001b[0m\u001b[0;34m\u001b[0m\u001b[0;34m\u001b[0m\u001b[0m\n\u001b[1;32m    979\u001b[0m                 \u001b[0mn_attempts\u001b[0m \u001b[0;34m+=\u001b[0m \u001b[0;36m1\u001b[0m\u001b[0;34m\u001b[0m\u001b[0;34m\u001b[0m\u001b[0m\n\u001b[0;32m--> 980\u001b[0;31m                 \u001b[0mself\u001b[0m\u001b[0;34m.\u001b[0m\u001b[0m_fit_one_init\u001b[0m\u001b[0;34m(\u001b[0m\u001b[0mX_\u001b[0m\u001b[0;34m,\u001b[0m \u001b[0mx_squared_norms\u001b[0m\u001b[0;34m,\u001b[0m \u001b[0mrs\u001b[0m\u001b[0;34m)\u001b[0m\u001b[0;34m\u001b[0m\u001b[0;34m\u001b[0m\u001b[0m\n\u001b[0m\u001b[1;32m    981\u001b[0m                 \u001b[0;32mif\u001b[0m \u001b[0mself\u001b[0m\u001b[0;34m.\u001b[0m\u001b[0minertia_\u001b[0m \u001b[0;34m<\u001b[0m \u001b[0mmin_inertia\u001b[0m\u001b[0;34m:\u001b[0m\u001b[0;34m\u001b[0m\u001b[0;34m\u001b[0m\u001b[0m\n\u001b[1;32m    982\u001b[0m                     \u001b[0mbest_correct_centroids\u001b[0m \u001b[0;34m=\u001b[0m \u001b[0mself\u001b[0m\u001b[0;34m.\u001b[0m\u001b[0mcluster_centers_\u001b[0m\u001b[0;34m.\u001b[0m\u001b[0mcopy\u001b[0m\u001b[0;34m(\u001b[0m\u001b[0;34m)\u001b[0m\u001b[0;34m\u001b[0m\u001b[0;34m\u001b[0m\u001b[0m\n",
      "\u001b[0;32m/opt/anaconda3/lib/python3.7/site-packages/tslearn/clustering.py\u001b[0m in \u001b[0;36m_fit_one_init\u001b[0;34m(self, X, x_squared_norms, rs)\u001b[0m\n\u001b[1;32m    860\u001b[0m \u001b[0;34m\u001b[0m\u001b[0m\n\u001b[1;32m    861\u001b[0m         \u001b[0;32mfor\u001b[0m \u001b[0mit\u001b[0m \u001b[0;32min\u001b[0m \u001b[0mrange\u001b[0m\u001b[0;34m(\u001b[0m\u001b[0mself\u001b[0m\u001b[0;34m.\u001b[0m\u001b[0mmax_iter\u001b[0m\u001b[0;34m)\u001b[0m\u001b[0;34m:\u001b[0m\u001b[0;34m\u001b[0m\u001b[0;34m\u001b[0m\u001b[0m\n\u001b[0;32m--> 862\u001b[0;31m             \u001b[0mself\u001b[0m\u001b[0;34m.\u001b[0m\u001b[0m_assign\u001b[0m\u001b[0;34m(\u001b[0m\u001b[0mX\u001b[0m\u001b[0;34m)\u001b[0m\u001b[0;34m\u001b[0m\u001b[0;34m\u001b[0m\u001b[0m\n\u001b[0m\u001b[1;32m    863\u001b[0m             \u001b[0;32mif\u001b[0m \u001b[0mself\u001b[0m\u001b[0;34m.\u001b[0m\u001b[0mverbose\u001b[0m\u001b[0;34m:\u001b[0m\u001b[0;34m\u001b[0m\u001b[0;34m\u001b[0m\u001b[0m\n\u001b[1;32m    864\u001b[0m                 \u001b[0mprint\u001b[0m\u001b[0;34m(\u001b[0m\u001b[0;34m\"%.3f\"\u001b[0m \u001b[0;34m%\u001b[0m \u001b[0mself\u001b[0m\u001b[0;34m.\u001b[0m\u001b[0minertia_\u001b[0m\u001b[0;34m,\u001b[0m \u001b[0mend\u001b[0m\u001b[0;34m=\u001b[0m\u001b[0;34m\" --> \"\u001b[0m\u001b[0;34m)\u001b[0m\u001b[0;34m\u001b[0m\u001b[0;34m\u001b[0m\u001b[0m\n",
      "\u001b[0;32m/opt/anaconda3/lib/python3.7/site-packages/tslearn/clustering.py\u001b[0m in \u001b[0;36m_assign\u001b[0;34m(self, X, update_class_attributes)\u001b[0m\n\u001b[1;32m    891\u001b[0m \u001b[0;34m\u001b[0m\u001b[0m\n\u001b[1;32m    892\u001b[0m     \u001b[0;32mdef\u001b[0m \u001b[0m_assign\u001b[0m\u001b[0;34m(\u001b[0m\u001b[0mself\u001b[0m\u001b[0;34m,\u001b[0m \u001b[0mX\u001b[0m\u001b[0;34m,\u001b[0m \u001b[0mupdate_class_attributes\u001b[0m\u001b[0;34m=\u001b[0m\u001b[0;32mTrue\u001b[0m\u001b[0;34m)\u001b[0m\u001b[0;34m:\u001b[0m\u001b[0;34m\u001b[0m\u001b[0;34m\u001b[0m\u001b[0m\n\u001b[0;32m--> 893\u001b[0;31m         \u001b[0mdists\u001b[0m \u001b[0;34m=\u001b[0m \u001b[0mself\u001b[0m\u001b[0;34m.\u001b[0m\u001b[0m_transform\u001b[0m\u001b[0;34m(\u001b[0m\u001b[0mX\u001b[0m\u001b[0;34m)\u001b[0m\u001b[0;34m\u001b[0m\u001b[0;34m\u001b[0m\u001b[0m\n\u001b[0m\u001b[1;32m    894\u001b[0m         \u001b[0mmatched_labels\u001b[0m \u001b[0;34m=\u001b[0m \u001b[0mdists\u001b[0m\u001b[0;34m.\u001b[0m\u001b[0margmin\u001b[0m\u001b[0;34m(\u001b[0m\u001b[0maxis\u001b[0m\u001b[0;34m=\u001b[0m\u001b[0;36m1\u001b[0m\u001b[0;34m)\u001b[0m\u001b[0;34m\u001b[0m\u001b[0;34m\u001b[0m\u001b[0m\n\u001b[1;32m    895\u001b[0m         \u001b[0;32mif\u001b[0m \u001b[0mupdate_class_attributes\u001b[0m\u001b[0;34m:\u001b[0m\u001b[0;34m\u001b[0m\u001b[0;34m\u001b[0m\u001b[0m\n",
      "\u001b[0;32m/opt/anaconda3/lib/python3.7/site-packages/tslearn/clustering.py\u001b[0m in \u001b[0;36m_transform\u001b[0;34m(self, X)\u001b[0m\n\u001b[1;32m    885\u001b[0m                               verbose=self.verbose, **metric_params)\n\u001b[1;32m    886\u001b[0m         \u001b[0;32melif\u001b[0m \u001b[0mself\u001b[0m\u001b[0;34m.\u001b[0m\u001b[0mmetric\u001b[0m \u001b[0;34m==\u001b[0m \u001b[0;34m\"softdtw\"\u001b[0m\u001b[0;34m:\u001b[0m\u001b[0;34m\u001b[0m\u001b[0;34m\u001b[0m\u001b[0m\n\u001b[0;32m--> 887\u001b[0;31m             \u001b[0;32mreturn\u001b[0m \u001b[0mcdist_soft_dtw\u001b[0m\u001b[0;34m(\u001b[0m\u001b[0mX\u001b[0m\u001b[0;34m,\u001b[0m \u001b[0mself\u001b[0m\u001b[0;34m.\u001b[0m\u001b[0mcluster_centers_\u001b[0m\u001b[0;34m,\u001b[0m \u001b[0;34m**\u001b[0m\u001b[0mmetric_params\u001b[0m\u001b[0;34m)\u001b[0m\u001b[0;34m\u001b[0m\u001b[0;34m\u001b[0m\u001b[0m\n\u001b[0m\u001b[1;32m    888\u001b[0m         \u001b[0;32melse\u001b[0m\u001b[0;34m:\u001b[0m\u001b[0;34m\u001b[0m\u001b[0;34m\u001b[0m\u001b[0m\n\u001b[1;32m    889\u001b[0m             raise ValueError(\"Incorrect metric: %s (should be one of 'dtw', \"\n",
      "\u001b[0;32m/opt/anaconda3/lib/python3.7/site-packages/tslearn/metrics.py\u001b[0m in \u001b[0;36mcdist_soft_dtw\u001b[0;34m(dataset1, dataset2, gamma)\u001b[0m\n\u001b[1;32m   1954\u001b[0m                 \u001b[0mdists\u001b[0m\u001b[0;34m[\u001b[0m\u001b[0mi\u001b[0m\u001b[0;34m,\u001b[0m \u001b[0mj\u001b[0m\u001b[0;34m]\u001b[0m \u001b[0;34m=\u001b[0m \u001b[0mdists\u001b[0m\u001b[0;34m[\u001b[0m\u001b[0mj\u001b[0m\u001b[0;34m,\u001b[0m \u001b[0mi\u001b[0m\u001b[0;34m]\u001b[0m\u001b[0;34m\u001b[0m\u001b[0;34m\u001b[0m\u001b[0m\n\u001b[1;32m   1955\u001b[0m             \u001b[0;32melse\u001b[0m\u001b[0;34m:\u001b[0m\u001b[0;34m\u001b[0m\u001b[0;34m\u001b[0m\u001b[0m\n\u001b[0;32m-> 1956\u001b[0;31m                 \u001b[0mdists\u001b[0m\u001b[0;34m[\u001b[0m\u001b[0mi\u001b[0m\u001b[0;34m,\u001b[0m \u001b[0mj\u001b[0m\u001b[0;34m]\u001b[0m \u001b[0;34m=\u001b[0m \u001b[0msoft_dtw\u001b[0m\u001b[0;34m(\u001b[0m\u001b[0mts1_short\u001b[0m\u001b[0;34m,\u001b[0m \u001b[0mts2_short\u001b[0m\u001b[0;34m,\u001b[0m \u001b[0mgamma\u001b[0m\u001b[0;34m=\u001b[0m\u001b[0mgamma\u001b[0m\u001b[0;34m)\u001b[0m\u001b[0;34m\u001b[0m\u001b[0;34m\u001b[0m\u001b[0m\n\u001b[0m\u001b[1;32m   1957\u001b[0m \u001b[0;34m\u001b[0m\u001b[0m\n\u001b[1;32m   1958\u001b[0m     \u001b[0;32mreturn\u001b[0m \u001b[0mdists\u001b[0m\u001b[0;34m\u001b[0m\u001b[0;34m\u001b[0m\u001b[0m\n",
      "\u001b[0;32m/opt/anaconda3/lib/python3.7/site-packages/tslearn/metrics.py\u001b[0m in \u001b[0;36msoft_dtw\u001b[0;34m(ts1, ts2, gamma)\u001b[0m\n\u001b[1;32m   1872\u001b[0m         \u001b[0;32mreturn\u001b[0m \u001b[0mdtw\u001b[0m\u001b[0;34m(\u001b[0m\u001b[0mts1\u001b[0m\u001b[0;34m,\u001b[0m \u001b[0mts2\u001b[0m\u001b[0;34m)\u001b[0m \u001b[0;34m**\u001b[0m \u001b[0;36m2\u001b[0m\u001b[0;34m\u001b[0m\u001b[0;34m\u001b[0m\u001b[0m\n\u001b[1;32m   1873\u001b[0m     return SoftDTW(SquaredEuclidean(ts1[:ts_size(ts1)], ts2[:ts_size(ts2)]),\n\u001b[0;32m-> 1874\u001b[0;31m                    gamma=gamma).compute()\n\u001b[0m\u001b[1;32m   1875\u001b[0m \u001b[0;34m\u001b[0m\u001b[0m\n\u001b[1;32m   1876\u001b[0m \u001b[0;34m\u001b[0m\u001b[0m\n",
      "\u001b[0;32m/opt/anaconda3/lib/python3.7/site-packages/tslearn/metrics.py\u001b[0m in \u001b[0;36mcompute\u001b[0;34m(self)\u001b[0m\n\u001b[1;32m   2071\u001b[0m         \u001b[0mm\u001b[0m\u001b[0;34m,\u001b[0m \u001b[0mn\u001b[0m \u001b[0;34m=\u001b[0m \u001b[0mself\u001b[0m\u001b[0;34m.\u001b[0m\u001b[0mD\u001b[0m\u001b[0;34m.\u001b[0m\u001b[0mshape\u001b[0m\u001b[0;34m\u001b[0m\u001b[0;34m\u001b[0m\u001b[0m\n\u001b[1;32m   2072\u001b[0m \u001b[0;34m\u001b[0m\u001b[0m\n\u001b[0;32m-> 2073\u001b[0;31m         \u001b[0m_soft_dtw\u001b[0m\u001b[0;34m(\u001b[0m\u001b[0mself\u001b[0m\u001b[0;34m.\u001b[0m\u001b[0mD\u001b[0m\u001b[0;34m,\u001b[0m \u001b[0mself\u001b[0m\u001b[0;34m.\u001b[0m\u001b[0mR_\u001b[0m\u001b[0;34m,\u001b[0m \u001b[0mgamma\u001b[0m\u001b[0;34m=\u001b[0m\u001b[0mself\u001b[0m\u001b[0;34m.\u001b[0m\u001b[0mgamma\u001b[0m\u001b[0;34m)\u001b[0m\u001b[0;34m\u001b[0m\u001b[0;34m\u001b[0m\u001b[0m\n\u001b[0m\u001b[1;32m   2074\u001b[0m \u001b[0;34m\u001b[0m\u001b[0m\n\u001b[1;32m   2075\u001b[0m         \u001b[0mself\u001b[0m\u001b[0;34m.\u001b[0m\u001b[0mcomputed\u001b[0m \u001b[0;34m=\u001b[0m \u001b[0;32mTrue\u001b[0m\u001b[0;34m\u001b[0m\u001b[0;34m\u001b[0m\u001b[0m\n",
      "\u001b[0;31mKeyboardInterrupt\u001b[0m: "
     ]
    }
   ],
   "source": [
    "km = TimeSeriesKMeans(n_clusters=3, max_iter=100, metric=\"softdtw\", n_init = 5, verbose=1)\n",
    "km.fit(X_train,y_train)"
   ]
  },
  {
   "cell_type": "code",
   "execution_count": null,
   "metadata": {
    "ExecuteTime": {
     "end_time": "2020-10-14T17:20:10.143279Z",
     "start_time": "2020-10-14T16:49:02.669Z"
    }
   },
   "outputs": [],
   "source": [
    "km.labels_"
   ]
  },
  {
   "cell_type": "code",
   "execution_count": null,
   "metadata": {
    "ExecuteTime": {
     "end_time": "2020-10-14T17:20:10.147087Z",
     "start_time": "2020-10-14T16:49:03.194Z"
    }
   },
   "outputs": [],
   "source": [
    "y_pred = km.predict(X_test)"
   ]
  },
  {
   "cell_type": "code",
   "execution_count": null,
   "metadata": {
    "ExecuteTime": {
     "end_time": "2020-10-14T17:20:10.156619Z",
     "start_time": "2020-10-14T16:49:03.617Z"
    }
   },
   "outputs": [],
   "source": [
    "y_pred"
   ]
  },
  {
   "cell_type": "code",
   "execution_count": null,
   "metadata": {
    "ExecuteTime": {
     "end_time": "2020-10-14T17:20:10.163085Z",
     "start_time": "2020-10-14T16:49:04.221Z"
    }
   },
   "outputs": [],
   "source": [
    "accuracy_score(y_pred,y_test)"
   ]
  },
  {
   "cell_type": "code",
   "execution_count": null,
   "metadata": {},
   "outputs": [],
   "source": []
  },
  {
   "cell_type": "code",
   "execution_count": null,
   "metadata": {
    "ExecuteTime": {
     "end_time": "2020-10-08T20:02:57.544867Z",
     "start_time": "2020-10-08T20:02:57.535136Z"
    }
   },
   "outputs": [],
   "source": []
  },
  {
   "cell_type": "code",
   "execution_count": 13,
   "metadata": {
    "ExecuteTime": {
     "end_time": "2020-10-14T17:20:11.717000Z",
     "start_time": "2020-10-14T17:20:11.603016Z"
    }
   },
   "outputs": [],
   "source": [
    "clf = DecisionTreeClassifier(random_state=42)\n",
    "clf.fit(X_train,y_train)\n",
    "y_pred = clf.predict(X_test)"
   ]
  },
  {
   "cell_type": "code",
   "execution_count": 14,
   "metadata": {
    "ExecuteTime": {
     "end_time": "2020-10-14T17:20:11.791729Z",
     "start_time": "2020-10-14T17:20:11.748400Z"
    }
   },
   "outputs": [
    {
     "data": {
      "text/plain": [
       "array([2, 1, 0])"
      ]
     },
     "execution_count": 14,
     "metadata": {},
     "output_type": "execute_result"
    }
   ],
   "source": [
    "y_pred"
   ]
  },
  {
   "cell_type": "code",
   "execution_count": 15,
   "metadata": {
    "ExecuteTime": {
     "end_time": "2020-10-14T17:20:12.057486Z",
     "start_time": "2020-10-14T17:20:11.999747Z"
    }
   },
   "outputs": [
    {
     "data": {
      "text/plain": [
       "0\n",
       "1636-69-064     2\n",
       "1636-70-1010    1\n",
       "2133-039        0\n",
       "Name: Y, dtype: int64"
      ]
     },
     "execution_count": 15,
     "metadata": {},
     "output_type": "execute_result"
    }
   ],
   "source": [
    "y_test"
   ]
  },
  {
   "cell_type": "code",
   "execution_count": 16,
   "metadata": {
    "ExecuteTime": {
     "end_time": "2020-10-14T17:20:12.505596Z",
     "start_time": "2020-10-14T17:20:12.476904Z"
    }
   },
   "outputs": [
    {
     "data": {
      "text/plain": [
       "1.0"
      ]
     },
     "execution_count": 16,
     "metadata": {},
     "output_type": "execute_result"
    }
   ],
   "source": [
    "\n",
    "acc = accuracy_score(y_test, y_pred)\n",
    "acc"
   ]
  },
  {
   "cell_type": "code",
   "execution_count": 17,
   "metadata": {
    "ExecuteTime": {
     "end_time": "2020-10-14T17:20:14.551867Z",
     "start_time": "2020-10-14T17:20:14.538308Z"
    }
   },
   "outputs": [
    {
     "data": {
      "text/plain": [
       "1.0"
      ]
     },
     "execution_count": 17,
     "metadata": {},
     "output_type": "execute_result"
    }
   ],
   "source": [
    "from sklearn.metrics.cluster import adjusted_rand_score\n",
    "adjusted_rand_score(y_test, y_pred)"
   ]
  },
  {
   "cell_type": "code",
   "execution_count": null,
   "metadata": {},
   "outputs": [],
   "source": []
  }
 ],
 "metadata": {
  "kernelspec": {
   "display_name": "Python 3",
   "language": "python",
   "name": "python3"
  },
  "language_info": {
   "codemirror_mode": {
    "name": "ipython",
    "version": 3
   },
   "file_extension": ".py",
   "mimetype": "text/x-python",
   "name": "python",
   "nbconvert_exporter": "python",
   "pygments_lexer": "ipython3",
   "version": "3.7.4"
  }
 },
 "nbformat": 4,
 "nbformat_minor": 2
}
