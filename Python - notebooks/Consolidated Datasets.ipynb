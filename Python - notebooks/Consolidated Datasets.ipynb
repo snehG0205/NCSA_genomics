{
 "cells": [
  {
   "cell_type": "code",
   "execution_count": 1,
   "metadata": {},
   "outputs": [],
   "source": [
    "import pandas as pd"
   ]
  },
  {
   "cell_type": "code",
   "execution_count": 2,
   "metadata": {},
   "outputs": [],
   "source": [
    "Gluvarpro = pd.read_csv('~/Desktop/NCSA_genomics/Python - notebooks/TSForecasting/Data/Gluvarpro/Gluvarpro.csv')"
   ]
  },
  {
   "cell_type": "code",
   "execution_count": 3,
   "metadata": {},
   "outputs": [],
   "source": [
    "Hall = pd.read_csv('~/Desktop/NCSA_genomics/Python - notebooks/TSForecasting/Data/Hall/Hall_data.csv')"
   ]
  },
  {
   "cell_type": "code",
   "execution_count": 4,
   "metadata": {},
   "outputs": [],
   "source": [
    "CGM = pd.read_csv('~/Desktop/NCSA_genomics/Python - notebooks/TSForecasting/Data/CGM/CGM_Analyzer_Appended.csv')"
   ]
  },
  {
   "cell_type": "code",
   "execution_count": 5,
   "metadata": {},
   "outputs": [],
   "source": [
    "Ohio = pd.read_csv('~/Desktop/NCSA_genomics/Python - notebooks/TSForecasting/Data/Ohio-Data/OhioTraining_consolidated.csv')"
   ]
  },
  {
   "cell_type": "code",
   "execution_count": 6,
   "metadata": {},
   "outputs": [],
   "source": [
    "consolidatedDataForPackage = pd.concat([Gluvarpro, Hall, CGM, Ohio], ignore_index = True, sort = False)"
   ]
  },
  {
   "cell_type": "code",
   "execution_count": 7,
   "metadata": {},
   "outputs": [],
   "source": [
    "consolidatedDataForPackage['Display Time'] = consolidatedDataForPackage['Display Time'].apply(lambda x: pd.datetime.strptime(x, '%Y-%m-%d %H:%M:%S'))\n",
    "consolidatedDataForPackage = consolidatedDataForPackage.set_index(['Display Time'], drop=True)"
   ]
  },
  {
   "cell_type": "code",
   "execution_count": 8,
   "metadata": {},
   "outputs": [
    {
     "data": {
      "text/html": [
       "<div>\n",
       "<style scoped>\n",
       "    .dataframe tbody tr th:only-of-type {\n",
       "        vertical-align: middle;\n",
       "    }\n",
       "\n",
       "    .dataframe tbody tr th {\n",
       "        vertical-align: top;\n",
       "    }\n",
       "\n",
       "    .dataframe thead th {\n",
       "        text-align: right;\n",
       "    }\n",
       "</style>\n",
       "<table border=\"1\" class=\"dataframe\">\n",
       "  <thead>\n",
       "    <tr style=\"text-align: right;\">\n",
       "      <th></th>\n",
       "      <th>Unnamed: 0</th>\n",
       "      <th>subjectId</th>\n",
       "      <th>GlucoseValue</th>\n",
       "    </tr>\n",
       "    <tr>\n",
       "      <th>Display Time</th>\n",
       "      <th></th>\n",
       "      <th></th>\n",
       "      <th></th>\n",
       "    </tr>\n",
       "  </thead>\n",
       "  <tbody>\n",
       "    <tr>\n",
       "      <td>2016-06-21 00:00:00</td>\n",
       "      <td>0.0</td>\n",
       "      <td>GVP01</td>\n",
       "      <td>197.0</td>\n",
       "    </tr>\n",
       "    <tr>\n",
       "      <td>2016-06-21 00:15:00</td>\n",
       "      <td>1.0</td>\n",
       "      <td>GVP01</td>\n",
       "      <td>208.0</td>\n",
       "    </tr>\n",
       "    <tr>\n",
       "      <td>2016-06-21 00:30:00</td>\n",
       "      <td>2.0</td>\n",
       "      <td>GVP01</td>\n",
       "      <td>226.0</td>\n",
       "    </tr>\n",
       "    <tr>\n",
       "      <td>2016-06-21 00:45:00</td>\n",
       "      <td>3.0</td>\n",
       "      <td>GVP01</td>\n",
       "      <td>241.0</td>\n",
       "    </tr>\n",
       "    <tr>\n",
       "      <td>2016-06-21 01:00:00</td>\n",
       "      <td>4.0</td>\n",
       "      <td>GVP01</td>\n",
       "      <td>250.0</td>\n",
       "    </tr>\n",
       "    <tr>\n",
       "      <td>...</td>\n",
       "      <td>...</td>\n",
       "      <td>...</td>\n",
       "      <td>...</td>\n",
       "    </tr>\n",
       "    <tr>\n",
       "      <td>2025-06-28 23:36:00</td>\n",
       "      <td>NaN</td>\n",
       "      <td>OD584</td>\n",
       "      <td>206.0</td>\n",
       "    </tr>\n",
       "    <tr>\n",
       "      <td>2025-06-28 23:41:00</td>\n",
       "      <td>NaN</td>\n",
       "      <td>OD584</td>\n",
       "      <td>208.0</td>\n",
       "    </tr>\n",
       "    <tr>\n",
       "      <td>2025-06-28 23:46:00</td>\n",
       "      <td>NaN</td>\n",
       "      <td>OD584</td>\n",
       "      <td>213.0</td>\n",
       "    </tr>\n",
       "    <tr>\n",
       "      <td>2025-06-28 23:51:00</td>\n",
       "      <td>NaN</td>\n",
       "      <td>OD584</td>\n",
       "      <td>224.0</td>\n",
       "    </tr>\n",
       "    <tr>\n",
       "      <td>2025-06-28 23:56:00</td>\n",
       "      <td>NaN</td>\n",
       "      <td>OD584</td>\n",
       "      <td>235.0</td>\n",
       "    </tr>\n",
       "  </tbody>\n",
       "</table>\n",
       "<p>316527 rows × 3 columns</p>\n",
       "</div>"
      ],
      "text/plain": [
       "                     Unnamed: 0 subjectId  GlucoseValue\n",
       "Display Time                                           \n",
       "2016-06-21 00:00:00         0.0     GVP01         197.0\n",
       "2016-06-21 00:15:00         1.0     GVP01         208.0\n",
       "2016-06-21 00:30:00         2.0     GVP01         226.0\n",
       "2016-06-21 00:45:00         3.0     GVP01         241.0\n",
       "2016-06-21 01:00:00         4.0     GVP01         250.0\n",
       "...                         ...       ...           ...\n",
       "2025-06-28 23:36:00         NaN     OD584         206.0\n",
       "2025-06-28 23:41:00         NaN     OD584         208.0\n",
       "2025-06-28 23:46:00         NaN     OD584         213.0\n",
       "2025-06-28 23:51:00         NaN     OD584         224.0\n",
       "2025-06-28 23:56:00         NaN     OD584         235.0\n",
       "\n",
       "[316527 rows x 3 columns]"
      ]
     },
     "execution_count": 8,
     "metadata": {},
     "output_type": "execute_result"
    }
   ],
   "source": [
    "consolidatedDataForPackage"
   ]
  },
  {
   "cell_type": "code",
   "execution_count": 9,
   "metadata": {},
   "outputs": [],
   "source": [
    "consolidatedDataForPackage.to_csv('~/Desktop/NCSA_genomics/Python - notebooks/TSForecasting/Data/consolidatedDataForPackage.csv')"
   ]
  },
  {
   "cell_type": "code",
   "execution_count": null,
   "metadata": {},
   "outputs": [],
   "source": []
  },
  {
   "cell_type": "code",
   "execution_count": 10,
   "metadata": {},
   "outputs": [],
   "source": [
    "consolidatedDataForPaper = pd.concat([Gluvarpro, CGM, Ohio], ignore_index = True, sort = False)"
   ]
  },
  {
   "cell_type": "code",
   "execution_count": 11,
   "metadata": {},
   "outputs": [],
   "source": [
    "consolidatedDataForPaper['Display Time'] = consolidatedDataForPaper['Display Time'].apply(lambda x: pd.datetime.strptime(x, '%Y-%m-%d %H:%M:%S'))\n",
    "consolidatedDataForPaper = consolidatedDataForPaper.set_index(['Display Time'], drop=True)"
   ]
  },
  {
   "cell_type": "code",
   "execution_count": 12,
   "metadata": {},
   "outputs": [
    {
     "data": {
      "text/html": [
       "<div>\n",
       "<style scoped>\n",
       "    .dataframe tbody tr th:only-of-type {\n",
       "        vertical-align: middle;\n",
       "    }\n",
       "\n",
       "    .dataframe tbody tr th {\n",
       "        vertical-align: top;\n",
       "    }\n",
       "\n",
       "    .dataframe thead th {\n",
       "        text-align: right;\n",
       "    }\n",
       "</style>\n",
       "<table border=\"1\" class=\"dataframe\">\n",
       "  <thead>\n",
       "    <tr style=\"text-align: right;\">\n",
       "      <th></th>\n",
       "      <th>Unnamed: 0</th>\n",
       "      <th>subjectId</th>\n",
       "      <th>GlucoseValue</th>\n",
       "    </tr>\n",
       "    <tr>\n",
       "      <th>Display Time</th>\n",
       "      <th></th>\n",
       "      <th></th>\n",
       "      <th></th>\n",
       "    </tr>\n",
       "  </thead>\n",
       "  <tbody>\n",
       "    <tr>\n",
       "      <td>2016-06-21 00:00:00</td>\n",
       "      <td>0.0</td>\n",
       "      <td>GVP01</td>\n",
       "      <td>197.0</td>\n",
       "    </tr>\n",
       "    <tr>\n",
       "      <td>2016-06-21 00:15:00</td>\n",
       "      <td>1.0</td>\n",
       "      <td>GVP01</td>\n",
       "      <td>208.0</td>\n",
       "    </tr>\n",
       "    <tr>\n",
       "      <td>2016-06-21 00:30:00</td>\n",
       "      <td>2.0</td>\n",
       "      <td>GVP01</td>\n",
       "      <td>226.0</td>\n",
       "    </tr>\n",
       "    <tr>\n",
       "      <td>2016-06-21 00:45:00</td>\n",
       "      <td>3.0</td>\n",
       "      <td>GVP01</td>\n",
       "      <td>241.0</td>\n",
       "    </tr>\n",
       "    <tr>\n",
       "      <td>2016-06-21 01:00:00</td>\n",
       "      <td>4.0</td>\n",
       "      <td>GVP01</td>\n",
       "      <td>250.0</td>\n",
       "    </tr>\n",
       "    <tr>\n",
       "      <td>...</td>\n",
       "      <td>...</td>\n",
       "      <td>...</td>\n",
       "      <td>...</td>\n",
       "    </tr>\n",
       "    <tr>\n",
       "      <td>2025-06-28 23:36:00</td>\n",
       "      <td>NaN</td>\n",
       "      <td>OD584</td>\n",
       "      <td>206.0</td>\n",
       "    </tr>\n",
       "    <tr>\n",
       "      <td>2025-06-28 23:41:00</td>\n",
       "      <td>NaN</td>\n",
       "      <td>OD584</td>\n",
       "      <td>208.0</td>\n",
       "    </tr>\n",
       "    <tr>\n",
       "      <td>2025-06-28 23:46:00</td>\n",
       "      <td>NaN</td>\n",
       "      <td>OD584</td>\n",
       "      <td>213.0</td>\n",
       "    </tr>\n",
       "    <tr>\n",
       "      <td>2025-06-28 23:51:00</td>\n",
       "      <td>NaN</td>\n",
       "      <td>OD584</td>\n",
       "      <td>224.0</td>\n",
       "    </tr>\n",
       "    <tr>\n",
       "      <td>2025-06-28 23:56:00</td>\n",
       "      <td>NaN</td>\n",
       "      <td>OD584</td>\n",
       "      <td>235.0</td>\n",
       "    </tr>\n",
       "  </tbody>\n",
       "</table>\n",
       "<p>212853 rows × 3 columns</p>\n",
       "</div>"
      ],
      "text/plain": [
       "                     Unnamed: 0 subjectId  GlucoseValue\n",
       "Display Time                                           \n",
       "2016-06-21 00:00:00         0.0     GVP01         197.0\n",
       "2016-06-21 00:15:00         1.0     GVP01         208.0\n",
       "2016-06-21 00:30:00         2.0     GVP01         226.0\n",
       "2016-06-21 00:45:00         3.0     GVP01         241.0\n",
       "2016-06-21 01:00:00         4.0     GVP01         250.0\n",
       "...                         ...       ...           ...\n",
       "2025-06-28 23:36:00         NaN     OD584         206.0\n",
       "2025-06-28 23:41:00         NaN     OD584         208.0\n",
       "2025-06-28 23:46:00         NaN     OD584         213.0\n",
       "2025-06-28 23:51:00         NaN     OD584         224.0\n",
       "2025-06-28 23:56:00         NaN     OD584         235.0\n",
       "\n",
       "[212853 rows x 3 columns]"
      ]
     },
     "execution_count": 12,
     "metadata": {},
     "output_type": "execute_result"
    }
   ],
   "source": [
    "consolidatedDataForPaper"
   ]
  },
  {
   "cell_type": "code",
   "execution_count": 13,
   "metadata": {},
   "outputs": [],
   "source": [
    "consolidatedDataForPaper.to_csv('~/Desktop/NCSA_genomics/Python - notebooks/TSForecasting/Data/consolidatedDataForPaper.csv')"
   ]
  },
  {
   "cell_type": "code",
   "execution_count": null,
   "metadata": {},
   "outputs": [],
   "source": []
  }
 ],
 "metadata": {
  "kernelspec": {
   "display_name": "Python 3",
   "language": "python",
   "name": "python3"
  },
  "language_info": {
   "codemirror_mode": {
    "name": "ipython",
    "version": 3
   },
   "file_extension": ".py",
   "mimetype": "text/x-python",
   "name": "python",
   "nbconvert_exporter": "python",
   "pygments_lexer": "ipython3",
   "version": "3.7.4"
  }
 },
 "nbformat": 4,
 "nbformat_minor": 2
}
