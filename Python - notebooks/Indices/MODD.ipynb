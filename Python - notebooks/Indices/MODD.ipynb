{
 "cells": [
  {
   "cell_type": "code",
   "execution_count": 1,
   "metadata": {},
   "outputs": [],
   "source": [
    "import pandas as pd\n",
    "import numpy as np\n",
    "import matplotlib.pyplot as plt\n",
    "import seaborn as sns\n",
    "\n",
    "from datetime import datetime\n",
    "from statistics import mean\n",
    "from datetime import timedelta\n",
    "\n",
    "import math\n",
    "\n",
    "import warnings  \n",
    "warnings.filterwarnings('ignore')"
   ]
  },
  {
   "cell_type": "code",
   "execution_count": 2,
   "metadata": {},
   "outputs": [],
   "source": [
    "data = pd.read_csv(\"~/Desktop/NCSA_genomics/prediabetic.csv\")\n",
    "data['DisplayTime'] = pd.to_datetime(data['DisplayTime'])\n",
    "data['GlucoseValue'] = pd.to_numeric(data['GlucoseValue'])"
   ]
  },
  {
   "cell_type": "code",
   "execution_count": 3,
   "metadata": {},
   "outputs": [],
   "source": [
    "def fullDay(data):\n",
    "        \n",
    "    dates = list()\n",
    "    data = data.reset_index(drop=True)\n",
    "    for i in range(0,len(data.index)):\n",
    "        dates.append(data['DisplayTime'][i].date())\n",
    "    data['Dates'] = dates\n",
    "    end = data['Dates'].iloc[-1]\n",
    "    start = data['Dates'].iloc[0]\n",
    "\n",
    "    indexVals = data[ data['Dates'] == start ].index\n",
    "    # indexVals\n",
    "    data.drop(indexVals , inplace=True)\n",
    "\n",
    "    indexVals = data[ data['Dates'] == end ].index\n",
    "    # indexVals\n",
    "    data.drop(indexVals , inplace=True)\n",
    "\n",
    "    data = data.reset_index(drop=True)\n",
    "\n",
    "    data.drop(['Dates'], axis=1, inplace=True)\n",
    "\n",
    "    return data"
   ]
  },
  {
   "cell_type": "code",
   "execution_count": 4,
   "metadata": {},
   "outputs": [],
   "source": [
    "def subSample(data):\n",
    "    data = data.reset_index(drop=True)\n",
    "    data['DisplayTime'] = pd.to_datetime(data['DisplayTime'])\n",
    "    data['time_gap'] = data['DisplayTime'].shift(1)-data['DisplayTime'][0]\n",
    "    data['time_gap'][0] = '00:00:00'\n",
    "    mods = [0,870,871,872,873,874,875,876,877,878,879,880,881,882,883,884,885,886,887,888,889,890,891,892,893,894,895,896,897,898,899]\n",
    "    subset = pd.DataFrame()\n",
    "    for i in range(1,len(data.index)):\n",
    "        seconds = data['time_gap'][i].total_seconds()\n",
    "        if (seconds%900) in mods:\n",
    "            subj_id = data['subjectId'][i]\n",
    "            gv = data['GlucoseValue'][i]\n",
    "            dt = data['DisplayTime'][i]\n",
    "            temp_df = pd.DataFrame({'Display Time':[dt], 'GlucoseValue':[gv], 'subjectId':[subj_id]})\n",
    "            subset = pd.concat([temp_df,subset],ignore_index=True)\n",
    "    subset = subset.iloc[::-1]\n",
    "    subset = subset.reset_index(drop=True)\n",
    "    data.drop(['time_gap'], axis=1, inplace=True)\n",
    "    return subset"
   ]
  },
  {
   "cell_type": "code",
   "execution_count": 5,
   "metadata": {},
   "outputs": [],
   "source": [
    "def modd(data):\n",
    "    data['DisplayTime'] = data['DisplayTime'].dt.round('5min') \n",
    "    \n",
    "    times = []\n",
    "    for i in range(len(data.index)):\n",
    "        times.append(data['DisplayTime'][i].time())\n",
    "    data['Time'] = times  \n",
    "\n",
    "\n",
    "    Modd = [] \n",
    "    s = 0\n",
    "    gvDiff = 0\n",
    "\n",
    "    for Time, df in data.groupby('Time'):\n",
    "        gvDiff = df['GlucoseValue'] - df['GlucoseValue'].shift(-1)\n",
    "        s = round(gvDiff.sum(),3)\n",
    "        Modd.append(s)\n",
    "    return round(mean(Modd),3)\n",
    "    "
   ]
  },
  {
   "cell_type": "code",
   "execution_count": 6,
   "metadata": {},
   "outputs": [],
   "source": [
    "# for subjectId, df in data.groupby('subjectId'):\n",
    "#     df = fullDay(df)\n",
    "#     df = subSample(df)\n",
    "#     modd_value = modd(df)\n",
    "#     print(subjectId, modd_value)"
   ]
  },
  {
   "cell_type": "code",
   "execution_count": 7,
   "metadata": {},
   "outputs": [
    {
     "name": "stdout",
     "output_type": "stream",
     "text": [
      "4.42\n"
     ]
    }
   ],
   "source": [
    "xx = data[data['subjectId'] == \"1636-69-032\"]\n",
    "# xx = fullDay(xx)\n",
    "# xx = subSample(xx)\n",
    "print(modd(xx))"
   ]
  },
  {
   "cell_type": "code",
   "execution_count": 8,
   "metadata": {},
   "outputs": [
    {
     "data": {
      "text/html": [
       "<div>\n",
       "<style scoped>\n",
       "    .dataframe tbody tr th:only-of-type {\n",
       "        vertical-align: middle;\n",
       "    }\n",
       "\n",
       "    .dataframe tbody tr th {\n",
       "        vertical-align: top;\n",
       "    }\n",
       "\n",
       "    .dataframe thead th {\n",
       "        text-align: right;\n",
       "    }\n",
       "</style>\n",
       "<table border=\"1\" class=\"dataframe\">\n",
       "  <thead>\n",
       "    <tr style=\"text-align: right;\">\n",
       "      <th></th>\n",
       "      <th>Unnamed: 0</th>\n",
       "      <th>subjectId</th>\n",
       "      <th>DisplayTime</th>\n",
       "      <th>GlucoseValue</th>\n",
       "      <th>Time</th>\n",
       "      <th>Date</th>\n",
       "    </tr>\n",
       "  </thead>\n",
       "  <tbody>\n",
       "    <tr>\n",
       "      <td>0</td>\n",
       "      <td>1</td>\n",
       "      <td>1636-69-032</td>\n",
       "      <td>2016-01-14 00:05:00</td>\n",
       "      <td>120</td>\n",
       "      <td>00:05:00</td>\n",
       "      <td>2016-01-14</td>\n",
       "    </tr>\n",
       "    <tr>\n",
       "      <td>1</td>\n",
       "      <td>2</td>\n",
       "      <td>1636-69-032</td>\n",
       "      <td>2016-01-14 00:10:00</td>\n",
       "      <td>120</td>\n",
       "      <td>00:10:00</td>\n",
       "      <td>2016-01-14</td>\n",
       "    </tr>\n",
       "    <tr>\n",
       "      <td>2</td>\n",
       "      <td>3</td>\n",
       "      <td>1636-69-032</td>\n",
       "      <td>2016-01-14 00:15:00</td>\n",
       "      <td>123</td>\n",
       "      <td>00:15:00</td>\n",
       "      <td>2016-01-14</td>\n",
       "    </tr>\n",
       "    <tr>\n",
       "      <td>3</td>\n",
       "      <td>4</td>\n",
       "      <td>1636-69-032</td>\n",
       "      <td>2016-01-14 00:20:00</td>\n",
       "      <td>126</td>\n",
       "      <td>00:20:00</td>\n",
       "      <td>2016-01-14</td>\n",
       "    </tr>\n",
       "    <tr>\n",
       "      <td>4</td>\n",
       "      <td>5</td>\n",
       "      <td>1636-69-032</td>\n",
       "      <td>2016-01-14 00:25:00</td>\n",
       "      <td>127</td>\n",
       "      <td>00:25:00</td>\n",
       "      <td>2016-01-14</td>\n",
       "    </tr>\n",
       "    <tr>\n",
       "      <td>...</td>\n",
       "      <td>...</td>\n",
       "      <td>...</td>\n",
       "      <td>...</td>\n",
       "      <td>...</td>\n",
       "      <td>...</td>\n",
       "      <td>...</td>\n",
       "    </tr>\n",
       "    <tr>\n",
       "      <td>1434</td>\n",
       "      <td>1435</td>\n",
       "      <td>1636-69-032</td>\n",
       "      <td>2016-01-18 23:35:00</td>\n",
       "      <td>136</td>\n",
       "      <td>23:35:00</td>\n",
       "      <td>2016-01-18</td>\n",
       "    </tr>\n",
       "    <tr>\n",
       "      <td>1435</td>\n",
       "      <td>1436</td>\n",
       "      <td>1636-69-032</td>\n",
       "      <td>2016-01-18 23:40:00</td>\n",
       "      <td>126</td>\n",
       "      <td>23:40:00</td>\n",
       "      <td>2016-01-18</td>\n",
       "    </tr>\n",
       "    <tr>\n",
       "      <td>1436</td>\n",
       "      <td>1437</td>\n",
       "      <td>1636-69-032</td>\n",
       "      <td>2016-01-18 23:45:00</td>\n",
       "      <td>132</td>\n",
       "      <td>23:45:00</td>\n",
       "      <td>2016-01-18</td>\n",
       "    </tr>\n",
       "    <tr>\n",
       "      <td>1437</td>\n",
       "      <td>1438</td>\n",
       "      <td>1636-69-032</td>\n",
       "      <td>2016-01-18 23:50:00</td>\n",
       "      <td>135</td>\n",
       "      <td>23:50:00</td>\n",
       "      <td>2016-01-18</td>\n",
       "    </tr>\n",
       "    <tr>\n",
       "      <td>1438</td>\n",
       "      <td>1439</td>\n",
       "      <td>1636-69-032</td>\n",
       "      <td>2016-01-18 23:55:00</td>\n",
       "      <td>128</td>\n",
       "      <td>23:55:00</td>\n",
       "      <td>2016-01-18</td>\n",
       "    </tr>\n",
       "  </tbody>\n",
       "</table>\n",
       "<p>1439 rows × 6 columns</p>\n",
       "</div>"
      ],
      "text/plain": [
       "      Unnamed: 0    subjectId         DisplayTime  GlucoseValue      Time  \\\n",
       "0              1  1636-69-032 2016-01-14 00:05:00           120  00:05:00   \n",
       "1              2  1636-69-032 2016-01-14 00:10:00           120  00:10:00   \n",
       "2              3  1636-69-032 2016-01-14 00:15:00           123  00:15:00   \n",
       "3              4  1636-69-032 2016-01-14 00:20:00           126  00:20:00   \n",
       "4              5  1636-69-032 2016-01-14 00:25:00           127  00:25:00   \n",
       "...          ...          ...                 ...           ...       ...   \n",
       "1434        1435  1636-69-032 2016-01-18 23:35:00           136  23:35:00   \n",
       "1435        1436  1636-69-032 2016-01-18 23:40:00           126  23:40:00   \n",
       "1436        1437  1636-69-032 2016-01-18 23:45:00           132  23:45:00   \n",
       "1437        1438  1636-69-032 2016-01-18 23:50:00           135  23:50:00   \n",
       "1438        1439  1636-69-032 2016-01-18 23:55:00           128  23:55:00   \n",
       "\n",
       "            Date  \n",
       "0     2016-01-14  \n",
       "1     2016-01-14  \n",
       "2     2016-01-14  \n",
       "3     2016-01-14  \n",
       "4     2016-01-14  \n",
       "...          ...  \n",
       "1434  2016-01-18  \n",
       "1435  2016-01-18  \n",
       "1436  2016-01-18  \n",
       "1437  2016-01-18  \n",
       "1438  2016-01-18  \n",
       "\n",
       "[1439 rows x 6 columns]"
      ]
     },
     "execution_count": 8,
     "metadata": {},
     "output_type": "execute_result"
    }
   ],
   "source": [
    "xx['DisplayTime'] = xx['DisplayTime'].dt.round('5min') \n",
    "dates = []\n",
    "times = []\n",
    "for i in range(len(xx.index)):\n",
    "    dates.append(xx['DisplayTime'][i].date())\n",
    "    times.append(xx['DisplayTime'][i].time())\n",
    "xx['Date'] = dates   \n",
    "xx['Time'] = times\n",
    "xx"
   ]
  },
  {
   "cell_type": "code",
   "execution_count": 9,
   "metadata": {},
   "outputs": [
    {
     "data": {
      "text/plain": [
       "4"
      ]
     },
     "execution_count": 9,
     "metadata": {},
     "output_type": "execute_result"
    }
   ],
   "source": [
    "day = xx['Date'].iloc[-1]-xx['Date'].iloc[0]\n",
    "day = day.days\n",
    "day"
   ]
  },
  {
   "cell_type": "code",
   "execution_count": 28,
   "metadata": {},
   "outputs": [],
   "source": [
    "Modd = []\n",
    "s = []\n",
    "gvDiff = 0\n",
    "for Time, df in xx.groupby('Time'):\n",
    "    gvDiff = abs(df['GlucoseValue'] - df['GlucoseValue'].shift(-1))\n",
    "    gvDiff = gvDiff.dropna()\n",
    "    s.append(mean(gvDiff))\n",
    "#     s = (gvDiff.sum())\n",
    "#     Modd.append(s)\n",
    "# print(mean(Modd))\n",
    "\n"
   ]
  },
  {
   "cell_type": "code",
   "execution_count": 24,
   "metadata": {},
   "outputs": [
    {
     "data": {
      "text/plain": [
       "11.0"
      ]
     },
     "execution_count": 24,
     "metadata": {},
     "output_type": "execute_result"
    }
   ],
   "source": [
    "mean(gvDiff)"
   ]
  },
  {
   "cell_type": "code",
   "execution_count": 30,
   "metadata": {},
   "outputs": [
    {
     "data": {
      "text/plain": [
       "16.223206018518518"
      ]
     },
     "execution_count": 30,
     "metadata": {},
     "output_type": "execute_result"
    }
   ],
   "source": [
    "mean(s)"
   ]
  },
  {
   "cell_type": "code",
   "execution_count": null,
   "metadata": {},
   "outputs": [],
   "source": []
  }
 ],
 "metadata": {
  "kernelspec": {
   "display_name": "Python 3",
   "language": "python",
   "name": "python3"
  },
  "language_info": {
   "codemirror_mode": {
    "name": "ipython",
    "version": 3
   },
   "file_extension": ".py",
   "mimetype": "text/x-python",
   "name": "python",
   "nbconvert_exporter": "python",
   "pygments_lexer": "ipython3",
   "version": "3.7.4"
  }
 },
 "nbformat": 4,
 "nbformat_minor": 2
}
