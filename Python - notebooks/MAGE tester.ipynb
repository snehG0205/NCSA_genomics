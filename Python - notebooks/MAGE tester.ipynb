{
 "cells": [
  {
   "cell_type": "code",
   "execution_count": 28,
   "metadata": {},
   "outputs": [],
   "source": [
    "import pandas as pd\n",
    "import numpy as np\n",
    "import matplotlib.pyplot as plt\n",
    "from TSForecasting.mage_calc import MageDataSet"
   ]
  },
  {
   "cell_type": "code",
   "execution_count": 35,
   "metadata": {},
   "outputs": [],
   "source": [
    "data = pd.read_csv('~/Desktop/NCSA_genomics/Python - notebooks//TSForecasting/Data/consolidatedDataForPackage.csv')\n",
    "\n",
    "meta = pd.read_csv('~/Desktop/NCSA_genomics/Python - notebooks//TSForecasting/Data/consolidatedMetadata.csv')"
   ]
  },
  {
   "cell_type": "code",
   "execution_count": 36,
   "metadata": {},
   "outputs": [
    {
     "name": "stdout",
     "output_type": "stream",
     "text": [
      "Here is a glimpse of the data:\n",
      "\n",
      "         Display Time subjectId  GlucoseValue\n",
      "0 2016-06-21 00:00:00     GVP01         197.0\n",
      "1 2016-06-21 00:15:00     GVP01         208.0\n",
      "2 2016-06-21 00:30:00     GVP01         226.0\n",
      "3 2016-06-21 00:45:00     GVP01         241.0\n",
      "4 2016-06-21 01:00:00     GVP01         250.0\n"
     ]
    }
   ],
   "source": [
    "data['Display Time'] = data['Display Time'].apply(lambda x: pd.datetime.strptime(x, '%Y-%m-%d %H:%M:%S'))\n",
    "print(\"Here is a glimpse of the data:\\n\")\n",
    "print(data.head())"
   ]
  },
  {
   "cell_type": "code",
   "execution_count": 37,
   "metadata": {},
   "outputs": [
    {
     "name": "stdout",
     "output_type": "stream",
     "text": [
      "Subject\tMage Score\n",
      "1636-69-001\t94.91666666666667\n",
      "1636-69-001-2\t66.65714285714286\n",
      "1636-69-026\t55.710144927536234\n",
      "1636-69-028\t36.70175438596491\n",
      "1636-69-032\t29.62264150943396\n",
      "1636-69-035\t62.82539682539682\n",
      "1636-69-048\t27.65714285714286\n",
      "1636-69-053\t42.56716417910448\n",
      "1636-69-060\t35.48717948717949\n",
      "1636-69-064\t56.810810810810814\n",
      "1636-69-069\t49.666666666666664\n",
      "1636-69-090\t57.23529411764706\n",
      "1636-69-091\t36.44\n",
      "1636-69-100\t28.29850746268657\n",
      "1636-69-104\t36.09756097560975\n",
      "1636-69-104-2\t35.80597014925373\n",
      "1636-69-107\t42.875\n",
      "1636-69-111\t26.976470588235294\n",
      "1636-69-114\t35.77333333333333\n",
      "1636-69-123\t29.847619047619048\n",
      "1636-70-1002\t42.45977011494253\n",
      "1636-70-1003\t39.75581395348837\n",
      "1636-70-1005\t60.50704225352113\n",
      "1636-70-1008\t61.707317073170735\n",
      "1636-70-1010\t48.625\n",
      "2133-001\t36.361702127659576\n",
      "2133-002\t33.59375\n",
      "2133-003\t58.19298245614035\n",
      "2133-004\t78.86206896551724\n",
      "2133-006\t33.4375\n",
      "2133-007\t47.83098591549296\n",
      "2133-008\t30.567010309278352\n",
      "2133-009\t45.1\n",
      "2133-010\t30.287037037037038\n",
      "2133-011\t45.38961038961039\n",
      "2133-012\t36.120879120879124\n",
      "2133-013\t46.46268656716418\n",
      "2133-015\t47.79710144927536\n",
      "2133-017\t53.517857142857146\n",
      "2133-018\t128.2\n",
      "2133-019\t45.166666666666664\n",
      "2133-019-2\t51.421052631578945\n",
      "2133-020\t70.41818181818182\n",
      "2133-021\t83.35555555555555\n",
      "2133-022\t60.59322033898305\n",
      "2133-023\t31.50588235294118\n",
      "2133-024\t46.38709677419355\n",
      "2133-025\t32.52577319587629\n",
      "2133-026\t37.14772727272727\n",
      "2133-027\t33.625\n",
      "2133-028\t21.235955056179776\n",
      "2133-030\t36.596774193548384\n",
      "2133-032\t34.36507936507937\n",
      "2133-033\t43.05194805194805\n",
      "2133-035\t44.03225806451613\n",
      "2133-036\t63.84126984126984\n",
      "2133-037\t39.96739130434783\n",
      "2133-039\t60.892857142857146\n",
      "2133-040\t40.56\n",
      "2133-041\t45.493975903614455\n",
      "GVP01\t189.59375\n",
      "GVP03\t119.87924416888102\n",
      "ID01\t137.19991304347826\n",
      "ID02\t40.234656434999984\n",
      "ID03\t179.6076794\n",
      "ID11\t124.30588235294117\n",
      "ID12\t78.64615384615382\n",
      "ID13\t81.94628571428572\n",
      "ID21\t68.14285714285714\n",
      "ID22\t56.7535\n",
      "ID23\t87.13542857142855\n",
      "ID29\t57.16000000000002\n",
      "ID30\t39.56470588235295\n",
      "ID31\t48.568386839999995\n",
      "ID32\t55.223880597014926\n",
      "ID33\t33.99272727272727\n",
      "OD540\t125.28125\n",
      "OD544\t139.44878048780487\n",
      "OD552\t125.32291666666667\n",
      "OD559\t179.03030303030303\n",
      "OD563\t119.38793103448276\n",
      "OD567\t145.0164609053498\n",
      "OD570\t145.63333333333333\n",
      "OD575\t140.91015625\n",
      "OD584\t143.5663082437276\n",
      "OD588\t112.81939799331104\n",
      "OD591\t133.2509225092251\n",
      "OD596\t121.87562189054727\n"
     ]
    }
   ],
   "source": [
    "print(\"Subject\\tMage Score\")\n",
    "for subjectId, df in data.groupby('subjectId'):\n",
    "    glucs = df['GlucoseValue'].to_list()\n",
    "    indices = [1*i for i in range(len(glucs))]\n",
    "    m = MageDataSet(indices, glucs)\n",
    "    k = m.getMAGE()\n",
    "#     k=0\n",
    "    print(subjectId+\"\\t\"+str(k))\n",
    "    \n"
   ]
  },
  {
   "cell_type": "code",
   "execution_count": null,
   "metadata": {},
   "outputs": [],
   "source": []
  }
 ],
 "metadata": {
  "kernelspec": {
   "display_name": "Python 3",
   "language": "python",
   "name": "python3"
  },
  "language_info": {
   "codemirror_mode": {
    "name": "ipython",
    "version": 3
   },
   "file_extension": ".py",
   "mimetype": "text/x-python",
   "name": "python",
   "nbconvert_exporter": "python",
   "pygments_lexer": "ipython3",
   "version": "3.7.4"
  }
 },
 "nbformat": 4,
 "nbformat_minor": 2
}
