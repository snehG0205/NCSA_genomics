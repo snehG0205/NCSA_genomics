{
 "cells": [
  {
   "cell_type": "markdown",
   "metadata": {},
   "source": [
    "Vector Autoregression (VAR) model is an extension of univariate autoregression model to multivariate time series data\n",
    "\n",
    "https://www.statsmodels.org/dev/vector_ar.html\n",
    "\n",
    "http://www.ams.sunysb.edu/~zhu/ams586/VAR_Lecture2.pdf"
   ]
  },
  {
   "cell_type": "code",
   "execution_count": 1,
   "metadata": {},
   "outputs": [],
   "source": [
    "#import required packages\n",
    "import pandas as pd\n",
    "import statsmodels.api as sm\n",
    "from statsmodels.tsa.api import VAR\n",
    "\n",
    "import glob\n",
    "import warnings  \n",
    "warnings.filterwarnings('ignore')"
   ]
  },
  {
   "cell_type": "code",
   "execution_count": 8,
   "metadata": {},
   "outputs": [],
   "source": [
    "def getOutput(data,fname):\n",
    "    df = data\n",
    "    areaname = str(data['Areaname'][0])\n",
    "    stcou = str(data['STCOU'][0])\n",
    "    df.YEAR = pd.to_datetime(df.YEAR, format='%Y')\n",
    "    df.index = df.YEAR\n",
    "    df = df.drop(['YEAR','Areaname','STCOU'], axis=1)\n",
    "    \n",
    "    model = VAR(df)\n",
    "    model.fit()\n",
    "    results = model.fit()\n",
    "    \n",
    "    pred = results.forecast(results.y, steps=10)\n",
    "    pred_df = pd.DataFrame(pred.astype(int))\n",
    "    dates = ['2010-01-01','2011-01-01','2012-01-01','2013-01-01','2014-01-01','2015-01-01','2016-01-01','2017-01-01', '2018-01-01','2019-01-01']\n",
    "    pred_df['YEAR'] = dates\n",
    "    pred_df.YEAR = pd.to_datetime(pred_df.YEAR, format='%Y-%m-%d')\n",
    "    pred_df = pred_df.set_index(['YEAR'], drop=True)\n",
    "    pred_df.columns = ['Median_Household_Income', 'Poverty_number_of_people', 'Poverty_percent_of_people', 'Public_school_enrollment_Fall']\n",
    "\n",
    "    df = df.append(pred_df)\n",
    "    df.insert(0,'Areaname',areaname)\n",
    "    df.insert(1,'STCOU',stcou)\n",
    "    #replace path here for output files\n",
    "    df.to_csv(\"~/Desktop/NCSA_genomics/SocioEconomic_county_files/outputs/\"+fname)\n"
   ]
  },
  {
   "cell_type": "code",
   "execution_count": 9,
   "metadata": {},
   "outputs": [],
   "source": [
    "#here, enter the path to the directory\n",
    "l = glob.glob(\"/Users/snehgajiwala/Desktop/NCSA_genomics/SocioEconomic_county_files/*.csv\")\n",
    "\n",
    "for s in l:\n",
    "    x = s.rfind(\"/\")\n",
    "    fname = s[x+1:]\n",
    "    #read the data\n",
    "    df = pd.read_csv(s)\n",
    "    getOutput(df,fname)\n",
    "\n",
    "    \n",
    "    \n"
   ]
  },
  {
   "cell_type": "code",
   "execution_count": null,
   "metadata": {},
   "outputs": [],
   "source": []
  }
 ],
 "metadata": {
  "kernelspec": {
   "display_name": "Python 3",
   "language": "python",
   "name": "python3"
  },
  "language_info": {
   "codemirror_mode": {
    "name": "ipython",
    "version": 3
   },
   "file_extension": ".py",
   "mimetype": "text/x-python",
   "name": "python",
   "nbconvert_exporter": "python",
   "pygments_lexer": "ipython3",
   "version": "3.7.4"
  }
 },
 "nbformat": 4,
 "nbformat_minor": 2
}
