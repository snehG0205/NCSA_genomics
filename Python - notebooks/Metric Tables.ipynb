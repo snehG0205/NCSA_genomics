{
 "cells": [
  {
   "cell_type": "code",
   "execution_count": null,
   "metadata": {
    "ExecuteTime": {
     "end_time": "2020-10-07T21:21:01.472263Z",
     "start_time": "2020-10-07T21:20:49.906730Z"
    }
   },
   "outputs": [],
   "source": []
  },
  {
   "cell_type": "code",
   "execution_count": 1,
   "metadata": {
    "ExecuteTime": {
     "end_time": "2020-10-16T20:27:49.749400Z",
     "start_time": "2020-10-16T20:27:36.320755Z"
    }
   },
   "outputs": [
    {
     "name": "stderr",
     "output_type": "stream",
     "text": [
      "Using TensorFlow backend.\n"
     ]
    }
   ],
   "source": [
    "from GlucoCheck.glucoCheck import glucoCheckOps\n",
    "import pandas as pd\n",
    "import random\n",
    "import numpy as np\n",
    "from tqdm.auto import tqdm\n",
    "\n",
    "from scipy import stats\n",
    "\n",
    "import random\n",
    "import re\n",
    "from dateutil.parser import parse\n",
    "\n",
    "import warnings  \n",
    "warnings.filterwarnings('ignore')\n",
    "\n",
    "import os\n"
   ]
  },
  {
   "cell_type": "code",
   "execution_count": 2,
   "metadata": {
    "ExecuteTime": {
     "end_time": "2020-10-16T20:27:49.788389Z",
     "start_time": "2020-10-16T20:27:49.760259Z"
    }
   },
   "outputs": [],
   "source": [
    "def createGap(df,start,end):\n",
    "    \"\"\"\n",
    "    Creating a Gap\n",
    "    input:\n",
    "        start: seed\n",
    "        end: seed + gap\n",
    "    output:\n",
    "        df: dataframe with index => DisplayTime value => GlucoseValues and a gap from start to end (inputs)\n",
    "    \"\"\"\n",
    "\n",
    "    #df = readData()\n",
    "    l = len(df.index)\n",
    "    if end>l:\n",
    "        end = l\n",
    "        \n",
    "    for i in range(start,end):\n",
    "        df['GlucoseValue'][i]=0\n",
    "    \n",
    "    return df"
   ]
  },
  {
   "cell_type": "code",
   "execution_count": 3,
   "metadata": {
    "ExecuteTime": {
     "end_time": "2020-10-16T20:27:50.219377Z",
     "start_time": "2020-10-16T20:27:49.807632Z"
    }
   },
   "outputs": [],
   "source": [
    "#Extract Data\n",
    "data = pd.read_csv(\"~/Desktop/NCSA_genomics/Python - notebooks/GlucoCheck/Data/Ohio-Data/OhioFullConsolidated.csv\")\n"
   ]
  },
  {
   "cell_type": "code",
   "execution_count": 4,
   "metadata": {
    "ExecuteTime": {
     "end_time": "2020-10-16T20:27:50.285935Z",
     "start_time": "2020-10-16T20:27:50.235970Z"
    }
   },
   "outputs": [],
   "source": [
    "data = data[data['subjectId']=='OD552']\n",
    "data = data.reset_index(drop=True)"
   ]
  },
  {
   "cell_type": "code",
   "execution_count": 5,
   "metadata": {
    "ExecuteTime": {
     "end_time": "2020-10-16T20:27:50.484207Z",
     "start_time": "2020-10-16T20:27:50.297945Z"
    }
   },
   "outputs": [
    {
     "data": {
      "text/html": [
       "<div>\n",
       "<style scoped>\n",
       "    .dataframe tbody tr th:only-of-type {\n",
       "        vertical-align: middle;\n",
       "    }\n",
       "\n",
       "    .dataframe tbody tr th {\n",
       "        vertical-align: top;\n",
       "    }\n",
       "\n",
       "    .dataframe thead th {\n",
       "        text-align: right;\n",
       "    }\n",
       "</style>\n",
       "<table border=\"1\" class=\"dataframe\">\n",
       "  <thead>\n",
       "    <tr style=\"text-align: right;\">\n",
       "      <th></th>\n",
       "      <th>subjectId</th>\n",
       "      <th>Display Time</th>\n",
       "      <th>GlucoseValue</th>\n",
       "    </tr>\n",
       "  </thead>\n",
       "  <tbody>\n",
       "    <tr>\n",
       "      <td>0</td>\n",
       "      <td>OD552</td>\n",
       "      <td>4/16/25 11:17</td>\n",
       "      <td>95</td>\n",
       "    </tr>\n",
       "    <tr>\n",
       "      <td>1</td>\n",
       "      <td>OD552</td>\n",
       "      <td>4/16/25 11:22</td>\n",
       "      <td>86</td>\n",
       "    </tr>\n",
       "    <tr>\n",
       "      <td>2</td>\n",
       "      <td>OD552</td>\n",
       "      <td>4/16/25 11:27</td>\n",
       "      <td>81</td>\n",
       "    </tr>\n",
       "    <tr>\n",
       "      <td>3</td>\n",
       "      <td>OD552</td>\n",
       "      <td>4/16/25 11:32</td>\n",
       "      <td>81</td>\n",
       "    </tr>\n",
       "    <tr>\n",
       "      <td>4</td>\n",
       "      <td>OD552</td>\n",
       "      <td>4/16/25 11:37</td>\n",
       "      <td>82</td>\n",
       "    </tr>\n",
       "    <tr>\n",
       "      <td>...</td>\n",
       "      <td>...</td>\n",
       "      <td>...</td>\n",
       "      <td>...</td>\n",
       "    </tr>\n",
       "    <tr>\n",
       "      <td>11439</td>\n",
       "      <td>OD552</td>\n",
       "      <td>6/7/25 16:49</td>\n",
       "      <td>238</td>\n",
       "    </tr>\n",
       "    <tr>\n",
       "      <td>11440</td>\n",
       "      <td>OD552</td>\n",
       "      <td>6/7/25 16:54</td>\n",
       "      <td>233</td>\n",
       "    </tr>\n",
       "    <tr>\n",
       "      <td>11441</td>\n",
       "      <td>OD552</td>\n",
       "      <td>6/7/25 16:59</td>\n",
       "      <td>229</td>\n",
       "    </tr>\n",
       "    <tr>\n",
       "      <td>11442</td>\n",
       "      <td>OD552</td>\n",
       "      <td>6/7/25 17:04</td>\n",
       "      <td>224</td>\n",
       "    </tr>\n",
       "    <tr>\n",
       "      <td>11443</td>\n",
       "      <td>OD552</td>\n",
       "      <td>6/7/25 17:09</td>\n",
       "      <td>215</td>\n",
       "    </tr>\n",
       "  </tbody>\n",
       "</table>\n",
       "<p>11444 rows × 3 columns</p>\n",
       "</div>"
      ],
      "text/plain": [
       "      subjectId   Display Time  GlucoseValue\n",
       "0         OD552  4/16/25 11:17            95\n",
       "1         OD552  4/16/25 11:22            86\n",
       "2         OD552  4/16/25 11:27            81\n",
       "3         OD552  4/16/25 11:32            81\n",
       "4         OD552  4/16/25 11:37            82\n",
       "...         ...            ...           ...\n",
       "11439     OD552   6/7/25 16:49           238\n",
       "11440     OD552   6/7/25 16:54           233\n",
       "11441     OD552   6/7/25 16:59           229\n",
       "11442     OD552   6/7/25 17:04           224\n",
       "11443     OD552   6/7/25 17:09           215\n",
       "\n",
       "[11444 rows x 3 columns]"
      ]
     },
     "execution_count": 5,
     "metadata": {},
     "output_type": "execute_result"
    }
   ],
   "source": [
    "# data.drop(['subjectId'], axis=1, inplace=True)\n",
    "# data['Display Time'] = data['Display Time'].apply(lambda x: pd.datetime.strptime(x, '%Y-%m-%d %H:%M:%S'))\n",
    "# data = data.set_index(['Display Time'], drop=True)\n",
    "# data.to_csv(\"~/Desktop/original.csv\")\n",
    "data\n"
   ]
  },
  {
   "cell_type": "code",
   "execution_count": 6,
   "metadata": {
    "ExecuteTime": {
     "end_time": "2020-10-16T20:27:50.506463Z",
     "start_time": "2020-10-16T20:27:50.492469Z"
    }
   },
   "outputs": [
    {
     "name": "stdout",
     "output_type": "stream",
     "text": [
      "Object Created!\n"
     ]
    }
   ],
   "source": [
    "obj = glucoCheckOps()"
   ]
  },
  {
   "cell_type": "code",
   "execution_count": 61,
   "metadata": {
    "ExecuteTime": {
     "end_time": "2020-10-16T21:22:21.978212Z",
     "start_time": "2020-10-16T21:22:21.752274Z"
    }
   },
   "outputs": [],
   "source": [
    "# pd.read_csv(\"~/Desktop/NCSA_genomics/Python - notebooks/GlucoCheck/Data/Ohio-Data/OhioFullConsolidated.csv\")\n",
    "fullData = pd.read_csv(\"~/Desktop/NCSA_genomics/Python - notebooks/GlucoCheck/Data/Ohio-Data/OhioFullConsolidated.csv\")\n",
    "fullData = fullData.reset_index(drop=True)"
   ]
  },
  {
   "cell_type": "code",
   "execution_count": 62,
   "metadata": {
    "ExecuteTime": {
     "end_time": "2020-10-16T21:22:22.920666Z",
     "start_time": "2020-10-16T21:22:22.902381Z"
    }
   },
   "outputs": [
    {
     "data": {
      "text/html": [
       "<div>\n",
       "<style scoped>\n",
       "    .dataframe tbody tr th:only-of-type {\n",
       "        vertical-align: middle;\n",
       "    }\n",
       "\n",
       "    .dataframe tbody tr th {\n",
       "        vertical-align: top;\n",
       "    }\n",
       "\n",
       "    .dataframe thead th {\n",
       "        text-align: right;\n",
       "    }\n",
       "</style>\n",
       "<table border=\"1\" class=\"dataframe\">\n",
       "  <thead>\n",
       "    <tr style=\"text-align: right;\">\n",
       "      <th></th>\n",
       "      <th>subjectId</th>\n",
       "      <th>Display Time</th>\n",
       "      <th>GlucoseValue</th>\n",
       "    </tr>\n",
       "  </thead>\n",
       "  <tbody>\n",
       "    <tr>\n",
       "      <td>0</td>\n",
       "      <td>OD570</td>\n",
       "      <td>12/7/21 16:29</td>\n",
       "      <td>101</td>\n",
       "    </tr>\n",
       "    <tr>\n",
       "      <td>1</td>\n",
       "      <td>OD570</td>\n",
       "      <td>12/7/21 16:34</td>\n",
       "      <td>100</td>\n",
       "    </tr>\n",
       "    <tr>\n",
       "      <td>2</td>\n",
       "      <td>OD570</td>\n",
       "      <td>12/7/21 16:39</td>\n",
       "      <td>100</td>\n",
       "    </tr>\n",
       "    <tr>\n",
       "      <td>3</td>\n",
       "      <td>OD570</td>\n",
       "      <td>12/7/21 16:44</td>\n",
       "      <td>99</td>\n",
       "    </tr>\n",
       "    <tr>\n",
       "      <td>4</td>\n",
       "      <td>OD570</td>\n",
       "      <td>12/7/21 16:49</td>\n",
       "      <td>98</td>\n",
       "    </tr>\n",
       "    <tr>\n",
       "      <td>...</td>\n",
       "      <td>...</td>\n",
       "      <td>...</td>\n",
       "      <td>...</td>\n",
       "    </tr>\n",
       "    <tr>\n",
       "      <td>166528</td>\n",
       "      <td>OD552</td>\n",
       "      <td>6/7/25 16:49</td>\n",
       "      <td>238</td>\n",
       "    </tr>\n",
       "    <tr>\n",
       "      <td>166529</td>\n",
       "      <td>OD552</td>\n",
       "      <td>6/7/25 16:54</td>\n",
       "      <td>233</td>\n",
       "    </tr>\n",
       "    <tr>\n",
       "      <td>166530</td>\n",
       "      <td>OD552</td>\n",
       "      <td>6/7/25 16:59</td>\n",
       "      <td>229</td>\n",
       "    </tr>\n",
       "    <tr>\n",
       "      <td>166531</td>\n",
       "      <td>OD552</td>\n",
       "      <td>6/7/25 17:04</td>\n",
       "      <td>224</td>\n",
       "    </tr>\n",
       "    <tr>\n",
       "      <td>166532</td>\n",
       "      <td>OD552</td>\n",
       "      <td>6/7/25 17:09</td>\n",
       "      <td>215</td>\n",
       "    </tr>\n",
       "  </tbody>\n",
       "</table>\n",
       "<p>166533 rows × 3 columns</p>\n",
       "</div>"
      ],
      "text/plain": [
       "       subjectId   Display Time  GlucoseValue\n",
       "0          OD570  12/7/21 16:29           101\n",
       "1          OD570  12/7/21 16:34           100\n",
       "2          OD570  12/7/21 16:39           100\n",
       "3          OD570  12/7/21 16:44            99\n",
       "4          OD570  12/7/21 16:49            98\n",
       "...          ...            ...           ...\n",
       "166528     OD552   6/7/25 16:49           238\n",
       "166529     OD552   6/7/25 16:54           233\n",
       "166530     OD552   6/7/25 16:59           229\n",
       "166531     OD552   6/7/25 17:04           224\n",
       "166532     OD552   6/7/25 17:09           215\n",
       "\n",
       "[166533 rows x 3 columns]"
      ]
     },
     "execution_count": 62,
     "metadata": {},
     "output_type": "execute_result"
    }
   ],
   "source": [
    "fullData"
   ]
  },
  {
   "cell_type": "code",
   "execution_count": 63,
   "metadata": {
    "ExecuteTime": {
     "end_time": "2020-10-16T21:39:44.310904Z",
     "start_time": "2020-10-16T21:22:23.956932Z"
    }
   },
   "outputs": [
    {
     "name": "stdout",
     "output_type": "stream",
     "text": [
      "Model trained successfully!\n"
     ]
    }
   ],
   "source": [
    "obj.train(fullData)"
   ]
  },
  {
   "cell_type": "code",
   "execution_count": 121,
   "metadata": {
    "ExecuteTime": {
     "end_time": "2020-10-16T21:47:55.527696Z",
     "start_time": "2020-10-16T21:47:55.521245Z"
    }
   },
   "outputs": [],
   "source": [
    "\n",
    "seed_points = [10990,11050,11110,11199,11208]"
   ]
  },
  {
   "cell_type": "code",
   "execution_count": null,
   "metadata": {
    "ExecuteTime": {
     "end_time": "2020-10-07T18:02:49.575199Z",
     "start_time": "2020-10-07T18:02:49.556924Z"
    }
   },
   "outputs": [],
   "source": []
  },
  {
   "cell_type": "code",
   "execution_count": 122,
   "metadata": {
    "ExecuteTime": {
     "end_time": "2020-10-16T21:47:57.968455Z",
     "start_time": "2020-10-16T21:47:56.249487Z"
    }
   },
   "outputs": [
    {
     "data": {
      "application/vnd.jupyter.widget-view+json": {
       "model_id": "73cd4ebc2bb64e6d99ff8ab384f0c718",
       "version_major": 2,
       "version_minor": 0
      },
      "text/plain": [
       "HBox(children=(IntProgress(value=0, max=5), HTML(value='')))"
      ]
     },
     "metadata": {},
     "output_type": "display_data"
    },
    {
     "name": "stdout",
     "output_type": "stream",
     "text": [
      "\n"
     ]
    }
   ],
   "source": [
    "#for gap size 100\n",
    "ioa_gap100 = list()\n",
    "fb_gap100 = list()\n",
    "mad_gap100 = list()\n",
    "rmse_gap100 = list()\n",
    "mape_gap100 = list()\n",
    "\n",
    "for seed in tqdm(seed_points):\n",
    "    start = seed\n",
    "    end = seed+99\n",
    "    data_with_missing = data.copy()\n",
    "    data_with_missing = createGap(data_with_missing,start,end)\n",
    "\n",
    "    imputed_data = obj.impute(data_with_missing,1)\n",
    "\n",
    "    mad = obj.mad(np.asarray(imputed_data['GlucoseValue'][start:end-1].tolist()),np.asarray(data['GlucoseValue'][start:end-1].tolist()))\n",
    "    ioa = obj.index_agreement(np.asarray(imputed_data['GlucoseValue'][start:end-1].tolist()),np.asarray(data['GlucoseValue'][start:end-1].tolist()))\n",
    "    fb = obj.fracBias(np.asarray(imputed_data['GlucoseValue'][start:end-1].tolist()),np.asarray(data['GlucoseValue'][start:end-1].tolist()))\n",
    "    rmse = obj.rmse(np.asarray(imputed_data['GlucoseValue'][start:end-1].tolist()),np.asarray(data['GlucoseValue'][start:end-1].tolist()))\n",
    "    mape = obj.mape(np.asarray(imputed_data['GlucoseValue'][start:end-1].tolist()),np.asarray(data['GlucoseValue'][start:end-1].tolist()))\n",
    "\n",
    "    mad_gap100.append(mad)\n",
    "    ioa_gap100.append(ioa)\n",
    "    fb_gap100.append(fb)\n",
    "    rmse_gap100.append(rmse)\n",
    "    mape_gap100.append(mape)\n",
    "\n"
   ]
  },
  {
   "cell_type": "code",
   "execution_count": 123,
   "metadata": {
    "ExecuteTime": {
     "end_time": "2020-10-16T21:47:58.975781Z",
     "start_time": "2020-10-16T21:47:57.986547Z"
    }
   },
   "outputs": [
    {
     "data": {
      "application/vnd.jupyter.widget-view+json": {
       "model_id": "e93f4c67d19c43c2af9905307f38db41",
       "version_major": 2,
       "version_minor": 0
      },
      "text/plain": [
       "HBox(children=(IntProgress(value=0, max=5), HTML(value='')))"
      ]
     },
     "metadata": {},
     "output_type": "display_data"
    },
    {
     "name": "stdout",
     "output_type": "stream",
     "text": [
      "\n"
     ]
    }
   ],
   "source": [
    "#for gap size 50\n",
    "ioa_gap50 = list()\n",
    "fb_gap50 = list()\n",
    "mad_gap50 = list()\n",
    "rmse_gap50 = list()\n",
    "mape_gap50 = list()\n",
    "\n",
    "for seed in tqdm(seed_points):\n",
    "    start = seed\n",
    "    end = seed+49\n",
    "    data_with_missing = data.copy()\n",
    "    data_with_missing = createGap(data_with_missing,start,end)\n",
    "\n",
    "    imputed_data = obj.impute(data_with_missing,1)\n",
    "\n",
    "    mad = obj.mad(np.asarray(imputed_data['GlucoseValue'][start:end-1].tolist()),np.asarray(data['GlucoseValue'][start:end-1].tolist()))\n",
    "    ioa = obj.index_agreement(np.asarray(imputed_data['GlucoseValue'][start:end-1].tolist()),np.asarray(data['GlucoseValue'][start:end-1].tolist()))\n",
    "    fb = obj.fracBias(np.asarray(imputed_data['GlucoseValue'][start:end-1].tolist()),np.asarray(data['GlucoseValue'][start:end-1].tolist()))\n",
    "    rmse = obj.rmse(np.asarray(imputed_data['GlucoseValue'][start:end-1].tolist()),np.asarray(data['GlucoseValue'][start:end-1].tolist()))\n",
    "    mape = obj.mape(np.asarray(imputed_data['GlucoseValue'][start:end-1].tolist()),np.asarray(data['GlucoseValue'][start:end-1].tolist()))\n",
    "\n",
    "    mad_gap50.append(mad)\n",
    "    ioa_gap50.append(ioa)\n",
    "    fb_gap50.append(fb)\n",
    "    rmse_gap50.append(rmse)\n",
    "    mape_gap50.append(mape)\n",
    "\n"
   ]
  },
  {
   "cell_type": "code",
   "execution_count": 124,
   "metadata": {
    "ExecuteTime": {
     "end_time": "2020-10-16T21:47:59.467069Z",
     "start_time": "2020-10-16T21:47:58.995674Z"
    }
   },
   "outputs": [
    {
     "data": {
      "application/vnd.jupyter.widget-view+json": {
       "model_id": "908656188572473e8decc30e0388c1f8",
       "version_major": 2,
       "version_minor": 0
      },
      "text/plain": [
       "HBox(children=(IntProgress(value=0, max=5), HTML(value='')))"
      ]
     },
     "metadata": {},
     "output_type": "display_data"
    },
    {
     "name": "stdout",
     "output_type": "stream",
     "text": [
      "\n"
     ]
    }
   ],
   "source": [
    "#for gap size 30\n",
    "ioa_gap30 = list()\n",
    "fb_gap30 = list()\n",
    "mad_gap30 = list()\n",
    "rmse_gap30 = list()\n",
    "mape_gap30 = list()\n",
    "\n",
    "for seed in tqdm(seed_points):\n",
    "    start = seed\n",
    "    end = start+29\n",
    "    data_with_missing = data.copy()\n",
    "    data_with_missing = createGap(data_with_missing,start,end)\n",
    "\n",
    "    imputed_data = obj.impute(data_with_missing,1)\n",
    "\n",
    "    mad = obj.mad(np.asarray(imputed_data['GlucoseValue'][start:end-1].tolist()),np.asarray(data['GlucoseValue'][start:end-1].tolist()))\n",
    "    ioa = obj.index_agreement(np.asarray(imputed_data['GlucoseValue'][start:end-1].tolist()),np.asarray(data['GlucoseValue'][start:end-1].tolist()))\n",
    "    fb = obj.fracBias(np.asarray(imputed_data['GlucoseValue'][start:end-1].tolist()),np.asarray(data['GlucoseValue'][start:end-1].tolist()))\n",
    "    rmse = obj.rmse(np.asarray(imputed_data['GlucoseValue'][start:end-1].tolist()),np.asarray(data['GlucoseValue'][start:end-1].tolist()))\n",
    "    mape = obj.mape(np.asarray(imputed_data['GlucoseValue'][start:end-1].tolist()),np.asarray(data['GlucoseValue'][start:end-1].tolist()))\n",
    "\n",
    "    mad_gap30.append(mad)\n",
    "    ioa_gap30.append(ioa)\n",
    "    fb_gap30.append(fb)\n",
    "    rmse_gap30.append(rmse)\n",
    "    mape_gap30.append(mape)\n",
    "\n"
   ]
  },
  {
   "cell_type": "code",
   "execution_count": 125,
   "metadata": {
    "ExecuteTime": {
     "end_time": "2020-10-16T21:47:59.911095Z",
     "start_time": "2020-10-16T21:47:59.495607Z"
    }
   },
   "outputs": [
    {
     "data": {
      "application/vnd.jupyter.widget-view+json": {
       "model_id": "c5ef59c324804f158781656fd831f32f",
       "version_major": 2,
       "version_minor": 0
      },
      "text/plain": [
       "HBox(children=(IntProgress(value=0, max=5), HTML(value='')))"
      ]
     },
     "metadata": {},
     "output_type": "display_data"
    },
    {
     "name": "stdout",
     "output_type": "stream",
     "text": [
      "\n"
     ]
    }
   ],
   "source": [
    "#for gap size 15\n",
    "ioa_gap15 = list()\n",
    "fb_gap15 = list()\n",
    "mad_gap15 = list()\n",
    "rmse_gap15 = list()\n",
    "mape_gap15 = list()\n",
    "\n",
    "for seed in tqdm(seed_points):\n",
    "    start = seed\n",
    "    end = start+14\n",
    "    data_with_missing = data.copy()\n",
    "    data_with_missing = createGap(data_with_missing,start,end)\n",
    "\n",
    "    imputed_data = obj.impute(data_with_missing,1)\n",
    "\n",
    "    mad = obj.mad(np.asarray(imputed_data['GlucoseValue'][start:end-1].tolist()),np.asarray(data['GlucoseValue'][start:end-1].tolist()))\n",
    "    ioa = obj.index_agreement(np.asarray(imputed_data['GlucoseValue'][start:end-1].tolist()),np.asarray(data['GlucoseValue'][start:end-1].tolist()))\n",
    "    fb = obj.fracBias(np.asarray(imputed_data['GlucoseValue'][start:end-1].tolist()),np.asarray(data['GlucoseValue'][start:end-1].tolist()))\n",
    "    rmse = obj.rmse(np.asarray(imputed_data['GlucoseValue'][start:end-1].tolist()),np.asarray(data['GlucoseValue'][start:end-1].tolist()))\n",
    "    mape = obj.mape(np.asarray(imputed_data['GlucoseValue'][start:end-1].tolist()),np.asarray(data['GlucoseValue'][start:end-1].tolist()))\n",
    "\n",
    "    mad_gap15.append(mad)\n",
    "    ioa_gap15.append(ioa)\n",
    "    fb_gap15.append(fb)\n",
    "    rmse_gap15.append(rmse)\n",
    "    mape_gap15.append(mape)\n",
    "\n",
    "    "
   ]
  },
  {
   "cell_type": "code",
   "execution_count": 126,
   "metadata": {
    "ExecuteTime": {
     "end_time": "2020-10-16T21:48:00.224909Z",
     "start_time": "2020-10-16T21:47:59.924764Z"
    }
   },
   "outputs": [
    {
     "data": {
      "application/vnd.jupyter.widget-view+json": {
       "model_id": "402cff3b48d14fa4b2a437caf4e5c497",
       "version_major": 2,
       "version_minor": 0
      },
      "text/plain": [
       "HBox(children=(IntProgress(value=0, max=5), HTML(value='')))"
      ]
     },
     "metadata": {},
     "output_type": "display_data"
    },
    {
     "name": "stdout",
     "output_type": "stream",
     "text": [
      "\n"
     ]
    }
   ],
   "source": [
    "#for gap size 5\n",
    "ioa_gap5 = list()\n",
    "fb_gap5 = list()\n",
    "mad_gap5 = list()\n",
    "rmse_gap5 = list()\n",
    "mape_gap5 = list()\n",
    "\n",
    "for seed in tqdm(seed_points):\n",
    "    start = seed\n",
    "    end = start+4\n",
    "    data_with_missing = data.copy()\n",
    "    data_with_missing = createGap(data_with_missing,start,end)\n",
    "\n",
    "    imputed_data = obj.impute(data_with_missing,1)\n",
    "\n",
    "    mad = obj.mad(np.asarray(imputed_data['GlucoseValue'][start:end-1].tolist()),np.asarray(data['GlucoseValue'][start:end-1].tolist()))\n",
    "    ioa = obj.index_agreement(np.asarray(imputed_data['GlucoseValue'][start:end-1].tolist()),np.asarray(data['GlucoseValue'][start:end-1].tolist()))\n",
    "    fb = obj.fracBias(np.asarray(imputed_data['GlucoseValue'][start:end-1].tolist()),np.asarray(data['GlucoseValue'][start:end-1].tolist()))\n",
    "    rmse = obj.rmse(np.asarray(imputed_data['GlucoseValue'][start:end-1].tolist()),np.asarray(data['GlucoseValue'][start:end-1].tolist()))\n",
    "    mape = obj.mape(np.asarray(imputed_data['GlucoseValue'][start:end-1].tolist()),np.asarray(data['GlucoseValue'][start:end-1].tolist()))\n",
    "\n",
    "    mad_gap5.append(mad)\n",
    "    ioa_gap5.append(ioa)\n",
    "    fb_gap5.append(fb)\n",
    "    rmse_gap5.append(rmse)\n",
    "    mape_gap5.append(mape)\n",
    "\n"
   ]
  },
  {
   "cell_type": "code",
   "execution_count": 127,
   "metadata": {
    "ExecuteTime": {
     "end_time": "2020-10-16T21:48:00.267537Z",
     "start_time": "2020-10-16T21:48:00.235132Z"
    }
   },
   "outputs": [
    {
     "data": {
      "text/html": [
       "<div>\n",
       "<style scoped>\n",
       "    .dataframe tbody tr th:only-of-type {\n",
       "        vertical-align: middle;\n",
       "    }\n",
       "\n",
       "    .dataframe tbody tr th {\n",
       "        vertical-align: top;\n",
       "    }\n",
       "\n",
       "    .dataframe thead th {\n",
       "        text-align: right;\n",
       "    }\n",
       "</style>\n",
       "<table border=\"1\" class=\"dataframe\">\n",
       "  <thead>\n",
       "    <tr style=\"text-align: right;\">\n",
       "      <th></th>\n",
       "      <th>Gap:5</th>\n",
       "      <th>Gap:15</th>\n",
       "      <th>Gap:30</th>\n",
       "      <th>Gap:50</th>\n",
       "      <th>Gap:100</th>\n",
       "    </tr>\n",
       "  </thead>\n",
       "  <tbody>\n",
       "    <tr>\n",
       "      <td>0</td>\n",
       "      <td>0.475248</td>\n",
       "      <td>0.453916</td>\n",
       "      <td>0.319875</td>\n",
       "      <td>0.475964</td>\n",
       "      <td>0.429539</td>\n",
       "    </tr>\n",
       "    <tr>\n",
       "      <td>1</td>\n",
       "      <td>0.077369</td>\n",
       "      <td>0.227582</td>\n",
       "      <td>0.734335</td>\n",
       "      <td>0.440854</td>\n",
       "      <td>0.587769</td>\n",
       "    </tr>\n",
       "    <tr>\n",
       "      <td>2</td>\n",
       "      <td>0.327869</td>\n",
       "      <td>0.503874</td>\n",
       "      <td>0.583719</td>\n",
       "      <td>0.584878</td>\n",
       "      <td>0.600314</td>\n",
       "    </tr>\n",
       "    <tr>\n",
       "      <td>3</td>\n",
       "      <td>0.284153</td>\n",
       "      <td>0.484870</td>\n",
       "      <td>0.875514</td>\n",
       "      <td>0.952714</td>\n",
       "      <td>0.850313</td>\n",
       "    </tr>\n",
       "    <tr>\n",
       "      <td>4</td>\n",
       "      <td>0.690749</td>\n",
       "      <td>0.983056</td>\n",
       "      <td>0.992466</td>\n",
       "      <td>0.966034</td>\n",
       "      <td>0.808447</td>\n",
       "    </tr>\n",
       "  </tbody>\n",
       "</table>\n",
       "</div>"
      ],
      "text/plain": [
       "      Gap:5    Gap:15    Gap:30    Gap:50   Gap:100\n",
       "0  0.475248  0.453916  0.319875  0.475964  0.429539\n",
       "1  0.077369  0.227582  0.734335  0.440854  0.587769\n",
       "2  0.327869  0.503874  0.583719  0.584878  0.600314\n",
       "3  0.284153  0.484870  0.875514  0.952714  0.850313\n",
       "4  0.690749  0.983056  0.992466  0.966034  0.808447"
      ]
     },
     "execution_count": 127,
     "metadata": {},
     "output_type": "execute_result"
    }
   ],
   "source": [
    "IOA = pd.DataFrame({'Gap:5':ioa_gap5, 'Gap:15':ioa_gap15, 'Gap:30':ioa_gap30, 'Gap:50':ioa_gap50,'Gap:100':ioa_gap100})\n",
    "IOA\n"
   ]
  },
  {
   "cell_type": "code",
   "execution_count": 128,
   "metadata": {
    "ExecuteTime": {
     "end_time": "2020-10-16T21:48:00.287469Z",
     "start_time": "2020-10-16T21:48:00.280718Z"
    }
   },
   "outputs": [],
   "source": [
    "import matplotlib.pyplot as plt\n",
    "import matplotlib.ticker as ticker\n",
    "import seaborn as sns"
   ]
  },
  {
   "cell_type": "code",
   "execution_count": 129,
   "metadata": {
    "ExecuteTime": {
     "end_time": "2020-10-16T21:48:00.302793Z",
     "start_time": "2020-10-16T21:48:00.295790Z"
    }
   },
   "outputs": [],
   "source": [
    "# IOA"
   ]
  },
  {
   "cell_type": "code",
   "execution_count": 131,
   "metadata": {
    "ExecuteTime": {
     "end_time": "2020-10-16T21:48:29.732310Z",
     "start_time": "2020-10-16T21:48:29.719641Z"
    }
   },
   "outputs": [
    {
     "data": {
      "text/plain": [
       "[0.37107754408519095,\n",
       " 0.5306596177405669,\n",
       " 0.7011815931580399,\n",
       " 0.6840887504136014,\n",
       " 0.6552766834062994]"
      ]
     },
     "execution_count": 131,
     "metadata": {},
     "output_type": "execute_result"
    }
   ],
   "source": [
    "gaps = [5,15,30,50,100]\n",
    "ioa = []\n",
    "ioa.append(IOA['Gap:5'].mean())\n",
    "ioa.append(IOA['Gap:15'].mean())\n",
    "ioa.append(IOA['Gap:30'].mean())\n",
    "ioa.append(IOA['Gap:50'].mean())\n",
    "ioa.append(IOA['Gap:100'].mean())\n",
    "ioa"
   ]
  },
  {
   "cell_type": "code",
   "execution_count": 132,
   "metadata": {
    "ExecuteTime": {
     "end_time": "2020-10-16T21:48:31.443915Z",
     "start_time": "2020-10-16T21:48:30.963310Z"
    }
   },
   "outputs": [
    {
     "data": {
      "text/plain": [
       "Text(0, 0.5, 'IOA value')"
      ]
     },
     "execution_count": 132,
     "metadata": {},
     "output_type": "execute_result"
    },
    {
     "data": {
      "image/png": "[encoded data removed]",
      "text/plain": [
       "<Figure size 1008x576 with 1 Axes>"
      ]
     },
     "metadata": {},
     "output_type": "display_data"
    }
   ],
   "source": [
    "plt.figure(figsize=(14,8))\n",
    "plt.title(\"Avg. IOA vs Gap size\")\n",
    "sns.set(style=\"white\")\n",
    "fig = sns.lineplot(x = gaps, y = ioa, palette=\"tab10\", linewidth=1.25)\n",
    "sns.despine()\n",
    "\n",
    "fig.set_xlabel('Gaps')\n",
    "fig.set_ylabel('IOA value')"
   ]
  },
  {
   "cell_type": "code",
   "execution_count": null,
   "metadata": {},
   "outputs": [],
   "source": []
  },
  {
   "cell_type": "code",
   "execution_count": null,
   "metadata": {
    "ExecuteTime": {
     "end_time": "2020-10-14T19:05:45.526332Z",
     "start_time": "2020-10-14T19:05:45.518683Z"
    }
   },
   "outputs": [],
   "source": []
  },
  {
   "cell_type": "code",
   "execution_count": 133,
   "metadata": {
    "ExecuteTime": {
     "end_time": "2020-10-16T21:48:37.128816Z",
     "start_time": "2020-10-16T21:48:36.657275Z"
    }
   },
   "outputs": [
    {
     "data": {
      "text/plain": [
       "Text(0, 0.5, 'IOA value')"
      ]
     },
     "execution_count": 133,
     "metadata": {},
     "output_type": "execute_result"
    },
    {
     "data": {
      "image/png": "[encoded data removed]",
      "text/plain": [
       "<Figure size 1008x576 with 1 Axes>"
      ]
     },
     "metadata": {},
     "output_type": "display_data"
    }
   ],
   "source": [
    "\n",
    "plt.figure(figsize=(14,8))\n",
    "plt.title(\"IOA for Gap:5\")\n",
    "sns.set(style=\"white\")\n",
    "fig = sns.lineplot(x = seed_points, y = IOA['Gap:5'], data = IOA, palette=\"tab10\", linewidth=1.25)\n",
    "sns.despine()\n",
    "\n",
    "fig.set_xlabel('Gap Seeds')\n",
    "fig.set_ylabel('IOA value')"
   ]
  },
  {
   "cell_type": "code",
   "execution_count": 134,
   "metadata": {
    "ExecuteTime": {
     "end_time": "2020-10-16T21:48:40.048818Z",
     "start_time": "2020-10-16T21:48:39.582060Z"
    }
   },
   "outputs": [
    {
     "data": {
      "text/plain": [
       "Text(0, 0.5, 'IOA value')"
      ]
     },
     "execution_count": 134,
     "metadata": {},
     "output_type": "execute_result"
    },
    {
     "data": {
      "image/png": "[encoded data removed]",
      "text/plain": [
       "<Figure size 1008x576 with 1 Axes>"
      ]
     },
     "metadata": {},
     "output_type": "display_data"
    }
   ],
   "source": [
    "\n",
    "plt.figure(figsize=(14,8))\n",
    "plt.title(\"IOA for Gap:15\")\n",
    "sns.set(style=\"white\")\n",
    "fig = sns.lineplot(x = seed_points, y = IOA['Gap:15'], data = IOA, palette=\"tab10\", linewidth=1.25)\n",
    "sns.despine()\n",
    "\n",
    "fig.set_xlabel('Gap Seeds')\n",
    "fig.set_ylabel('IOA value')"
   ]
  },
  {
   "cell_type": "code",
   "execution_count": 135,
   "metadata": {
    "ExecuteTime": {
     "end_time": "2020-10-16T21:48:47.263863Z",
     "start_time": "2020-10-16T21:48:46.793797Z"
    }
   },
   "outputs": [
    {
     "data": {
      "text/plain": [
       "Text(0, 0.5, 'IOA value')"
      ]
     },
     "execution_count": 135,
     "metadata": {},
     "output_type": "execute_result"
    },
    {
     "data": {
      "image/png": "[encoded data removed]",
      "text/plain": [
       "<Figure size 1008x576 with 1 Axes>"
      ]
     },
     "metadata": {},
     "output_type": "display_data"
    }
   ],
   "source": [
    "\n",
    "plt.figure(figsize=(14,8))\n",
    "plt.title(\"IOA for Gap:30\")\n",
    "sns.set(style=\"white\")\n",
    "fig = sns.lineplot(x = seed_points, y = IOA['Gap:30'], data = IOA, palette=\"tab10\", linewidth=1.25)\n",
    "sns.despine()\n",
    "\n",
    "fig.set_xlabel('Gap Seeds')\n",
    "fig.set_ylabel('IOA value')"
   ]
  },
  {
   "cell_type": "code",
   "execution_count": 136,
   "metadata": {
    "ExecuteTime": {
     "end_time": "2020-10-16T21:48:48.204755Z",
     "start_time": "2020-10-16T21:48:47.749618Z"
    }
   },
   "outputs": [
    {
     "data": {
      "text/plain": [
       "Text(0, 0.5, 'IOA value')"
      ]
     },
     "execution_count": 136,
     "metadata": {},
     "output_type": "execute_result"
    },
    {
     "data": {
      "image/png": "[encoded data removed]",
      "text/plain": [
       "<Figure size 1008x576 with 1 Axes>"
      ]
     },
     "metadata": {},
     "output_type": "display_data"
    }
   ],
   "source": [
    "\n",
    "plt.figure(figsize=(14,8))\n",
    "plt.title(\"IOA for Gap:50\")\n",
    "sns.set(style=\"white\")\n",
    "fig = sns.lineplot(x = seed_points, y = IOA['Gap:50'], data = IOA, palette=\"tab10\", linewidth=1.25)\n",
    "sns.despine()\n",
    "\n",
    "fig.set_xlabel('Gap Seeds')\n",
    "fig.set_ylabel('IOA value')"
   ]
  },
  {
   "cell_type": "code",
   "execution_count": 137,
   "metadata": {
    "ExecuteTime": {
     "end_time": "2020-10-16T21:48:49.417920Z",
     "start_time": "2020-10-16T21:48:48.973675Z"
    }
   },
   "outputs": [
    {
     "data": {
      "text/plain": [
       "Text(0, 0.5, 'IOA value')"
      ]
     },
     "execution_count": 137,
     "metadata": {},
     "output_type": "execute_result"
    },
    {
     "data": {
      "image/png": "[encoded data removed]",
      "text/plain": [
       "<Figure size 1008x576 with 1 Axes>"
      ]
     },
     "metadata": {},
     "output_type": "display_data"
    }
   ],
   "source": [
    "\n",
    "plt.figure(figsize=(14,8))\n",
    "plt.title(\"IOA for Gap:100\")\n",
    "sns.set(style=\"white\")\n",
    "fig = sns.lineplot(x = seed_points, y = IOA['Gap:100'], data = IOA, palette=\"tab10\", linewidth=1.25)\n",
    "sns.despine()\n",
    "fig.set_xlabel('Gap Seeds')\n",
    "fig.set_ylabel('IOA value')"
   ]
  },
  {
   "cell_type": "code",
   "execution_count": null,
   "metadata": {},
   "outputs": [],
   "source": []
  },
  {
   "cell_type": "code",
   "execution_count": null,
   "metadata": {},
   "outputs": [],
   "source": []
  },
  {
   "cell_type": "code",
   "execution_count": 138,
   "metadata": {
    "ExecuteTime": {
     "end_time": "2020-10-16T21:48:50.737275Z",
     "start_time": "2020-10-16T21:48:50.721504Z"
    }
   },
   "outputs": [
    {
     "data": {
      "text/html": [
       "<div>\n",
       "<style scoped>\n",
       "    .dataframe tbody tr th:only-of-type {\n",
       "        vertical-align: middle;\n",
       "    }\n",
       "\n",
       "    .dataframe tbody tr th {\n",
       "        vertical-align: top;\n",
       "    }\n",
       "\n",
       "    .dataframe thead th {\n",
       "        text-align: right;\n",
       "    }\n",
       "</style>\n",
       "<table border=\"1\" class=\"dataframe\">\n",
       "  <thead>\n",
       "    <tr style=\"text-align: right;\">\n",
       "      <th></th>\n",
       "      <th>Gap:5</th>\n",
       "      <th>Gap:15</th>\n",
       "      <th>Gap:30</th>\n",
       "      <th>Gap:50</th>\n",
       "      <th>Gap:100</th>\n",
       "    </tr>\n",
       "  </thead>\n",
       "  <tbody>\n",
       "    <tr>\n",
       "      <td>0</td>\n",
       "      <td>3.000000</td>\n",
       "      <td>11.230769</td>\n",
       "      <td>16.214286</td>\n",
       "      <td>30.208333</td>\n",
       "      <td>44.163265</td>\n",
       "    </tr>\n",
       "    <tr>\n",
       "      <td>1</td>\n",
       "      <td>3.666667</td>\n",
       "      <td>11.692308</td>\n",
       "      <td>17.000000</td>\n",
       "      <td>30.541667</td>\n",
       "      <td>34.438776</td>\n",
       "    </tr>\n",
       "    <tr>\n",
       "      <td>2</td>\n",
       "      <td>3.000000</td>\n",
       "      <td>13.307692</td>\n",
       "      <td>40.285714</td>\n",
       "      <td>45.187500</td>\n",
       "      <td>89.459184</td>\n",
       "    </tr>\n",
       "    <tr>\n",
       "      <td>3</td>\n",
       "      <td>15.666667</td>\n",
       "      <td>31.692308</td>\n",
       "      <td>27.357143</td>\n",
       "      <td>18.625000</td>\n",
       "      <td>33.040816</td>\n",
       "    </tr>\n",
       "    <tr>\n",
       "      <td>4</td>\n",
       "      <td>4.666667</td>\n",
       "      <td>5.307692</td>\n",
       "      <td>5.071429</td>\n",
       "      <td>9.458333</td>\n",
       "      <td>27.469388</td>\n",
       "    </tr>\n",
       "  </tbody>\n",
       "</table>\n",
       "</div>"
      ],
      "text/plain": [
       "       Gap:5     Gap:15     Gap:30     Gap:50    Gap:100\n",
       "0   3.000000  11.230769  16.214286  30.208333  44.163265\n",
       "1   3.666667  11.692308  17.000000  30.541667  34.438776\n",
       "2   3.000000  13.307692  40.285714  45.187500  89.459184\n",
       "3  15.666667  31.692308  27.357143  18.625000  33.040816\n",
       "4   4.666667   5.307692   5.071429   9.458333  27.469388"
      ]
     },
     "execution_count": 138,
     "metadata": {},
     "output_type": "execute_result"
    }
   ],
   "source": [
    "MAD = pd.DataFrame({'Gap:5':mad_gap5, 'Gap:15':mad_gap15, 'Gap:30':mad_gap30, 'Gap:50':mad_gap50, 'Gap:100':mad_gap100})\n",
    "MAD"
   ]
  },
  {
   "cell_type": "code",
   "execution_count": 139,
   "metadata": {
    "ExecuteTime": {
     "end_time": "2020-10-16T21:48:50.992122Z",
     "start_time": "2020-10-16T21:48:50.969581Z"
    }
   },
   "outputs": [
    {
     "data": {
      "text/html": [
       "<div>\n",
       "<style scoped>\n",
       "    .dataframe tbody tr th:only-of-type {\n",
       "        vertical-align: middle;\n",
       "    }\n",
       "\n",
       "    .dataframe tbody tr th {\n",
       "        vertical-align: top;\n",
       "    }\n",
       "\n",
       "    .dataframe thead th {\n",
       "        text-align: right;\n",
       "    }\n",
       "</style>\n",
       "<table border=\"1\" class=\"dataframe\">\n",
       "  <thead>\n",
       "    <tr style=\"text-align: right;\">\n",
       "      <th></th>\n",
       "      <th>Gap:5</th>\n",
       "      <th>Gap:15</th>\n",
       "      <th>Gap:30</th>\n",
       "      <th>Gap:50</th>\n",
       "      <th>Gap:100</th>\n",
       "    </tr>\n",
       "  </thead>\n",
       "  <tbody>\n",
       "    <tr>\n",
       "      <td>0</td>\n",
       "      <td>0.019488</td>\n",
       "      <td>0.070604</td>\n",
       "      <td>0.113353</td>\n",
       "      <td>0.231264</td>\n",
       "      <td>0.357808</td>\n",
       "    </tr>\n",
       "    <tr>\n",
       "      <td>1</td>\n",
       "      <td>0.043914</td>\n",
       "      <td>0.128076</td>\n",
       "      <td>0.168665</td>\n",
       "      <td>0.272745</td>\n",
       "      <td>0.294568</td>\n",
       "    </tr>\n",
       "    <tr>\n",
       "      <td>2</td>\n",
       "      <td>0.039331</td>\n",
       "      <td>0.131501</td>\n",
       "      <td>0.326147</td>\n",
       "      <td>0.344957</td>\n",
       "      <td>0.486606</td>\n",
       "    </tr>\n",
       "    <tr>\n",
       "      <td>3</td>\n",
       "      <td>0.053860</td>\n",
       "      <td>0.117162</td>\n",
       "      <td>0.115180</td>\n",
       "      <td>0.083971</td>\n",
       "      <td>0.207565</td>\n",
       "    </tr>\n",
       "    <tr>\n",
       "      <td>4</td>\n",
       "      <td>0.016994</td>\n",
       "      <td>0.021815</td>\n",
       "      <td>0.025364</td>\n",
       "      <td>0.056876</td>\n",
       "      <td>0.189024</td>\n",
       "    </tr>\n",
       "  </tbody>\n",
       "</table>\n",
       "</div>"
      ],
      "text/plain": [
       "      Gap:5    Gap:15    Gap:30    Gap:50   Gap:100\n",
       "0  0.019488  0.070604  0.113353  0.231264  0.357808\n",
       "1  0.043914  0.128076  0.168665  0.272745  0.294568\n",
       "2  0.039331  0.131501  0.326147  0.344957  0.486606\n",
       "3  0.053860  0.117162  0.115180  0.083971  0.207565\n",
       "4  0.016994  0.021815  0.025364  0.056876  0.189024"
      ]
     },
     "execution_count": 139,
     "metadata": {},
     "output_type": "execute_result"
    }
   ],
   "source": [
    "FB = pd.DataFrame({'Gap:5':fb_gap5, 'Gap:15':fb_gap15, 'Gap:30':fb_gap30, 'Gap:50':fb_gap50, 'Gap:100':fb_gap100})\n",
    "FB"
   ]
  },
  {
   "cell_type": "code",
   "execution_count": 140,
   "metadata": {
    "ExecuteTime": {
     "end_time": "2020-10-16T21:48:51.261801Z",
     "start_time": "2020-10-16T21:48:51.237697Z"
    }
   },
   "outputs": [
    {
     "data": {
      "text/html": [
       "<div>\n",
       "<style scoped>\n",
       "    .dataframe tbody tr th:only-of-type {\n",
       "        vertical-align: middle;\n",
       "    }\n",
       "\n",
       "    .dataframe tbody tr th {\n",
       "        vertical-align: top;\n",
       "    }\n",
       "\n",
       "    .dataframe thead th {\n",
       "        text-align: right;\n",
       "    }\n",
       "</style>\n",
       "<table border=\"1\" class=\"dataframe\">\n",
       "  <thead>\n",
       "    <tr style=\"text-align: right;\">\n",
       "      <th></th>\n",
       "      <th>Gap:5</th>\n",
       "      <th>Gap:15</th>\n",
       "      <th>Gap:30</th>\n",
       "      <th>Gap:50</th>\n",
       "      <th>Gap:100</th>\n",
       "    </tr>\n",
       "  </thead>\n",
       "  <tbody>\n",
       "    <tr>\n",
       "      <td>0</td>\n",
       "      <td>4.203173</td>\n",
       "      <td>13.502137</td>\n",
       "      <td>19.994642</td>\n",
       "      <td>35.809682</td>\n",
       "      <td>49.263763</td>\n",
       "    </tr>\n",
       "    <tr>\n",
       "      <td>1</td>\n",
       "      <td>4.203173</td>\n",
       "      <td>13.202564</td>\n",
       "      <td>19.460583</td>\n",
       "      <td>37.355276</td>\n",
       "      <td>43.530308</td>\n",
       "    </tr>\n",
       "    <tr>\n",
       "      <td>2</td>\n",
       "      <td>3.696846</td>\n",
       "      <td>21.247624</td>\n",
       "      <td>48.834268</td>\n",
       "      <td>50.300969</td>\n",
       "      <td>101.999150</td>\n",
       "    </tr>\n",
       "    <tr>\n",
       "      <td>3</td>\n",
       "      <td>17.483325</td>\n",
       "      <td>33.214918</td>\n",
       "      <td>28.809721</td>\n",
       "      <td>22.597013</td>\n",
       "      <td>39.112867</td>\n",
       "    </tr>\n",
       "    <tr>\n",
       "      <td>4</td>\n",
       "      <td>5.099020</td>\n",
       "      <td>6.095395</td>\n",
       "      <td>6.425396</td>\n",
       "      <td>15.190458</td>\n",
       "      <td>35.742275</td>\n",
       "    </tr>\n",
       "  </tbody>\n",
       "</table>\n",
       "</div>"
      ],
      "text/plain": [
       "       Gap:5     Gap:15     Gap:30     Gap:50     Gap:100\n",
       "0   4.203173  13.502137  19.994642  35.809682   49.263763\n",
       "1   4.203173  13.202564  19.460583  37.355276   43.530308\n",
       "2   3.696846  21.247624  48.834268  50.300969  101.999150\n",
       "3  17.483325  33.214918  28.809721  22.597013   39.112867\n",
       "4   5.099020   6.095395   6.425396  15.190458   35.742275"
      ]
     },
     "execution_count": 140,
     "metadata": {},
     "output_type": "execute_result"
    }
   ],
   "source": [
    "RMSE = pd.DataFrame({'Gap:5':rmse_gap5, 'Gap:15':rmse_gap15, 'Gap:30':rmse_gap30, 'Gap:50':rmse_gap50, 'Gap:100':rmse_gap100})\n",
    "RMSE"
   ]
  },
  {
   "cell_type": "code",
   "execution_count": 141,
   "metadata": {
    "ExecuteTime": {
     "end_time": "2020-10-16T21:48:51.762582Z",
     "start_time": "2020-10-16T21:48:51.742680Z"
    }
   },
   "outputs": [
    {
     "data": {
      "text/html": [
       "<div>\n",
       "<style scoped>\n",
       "    .dataframe tbody tr th:only-of-type {\n",
       "        vertical-align: middle;\n",
       "    }\n",
       "\n",
       "    .dataframe tbody tr th {\n",
       "        vertical-align: top;\n",
       "    }\n",
       "\n",
       "    .dataframe thead th {\n",
       "        text-align: right;\n",
       "    }\n",
       "</style>\n",
       "<table border=\"1\" class=\"dataframe\">\n",
       "  <thead>\n",
       "    <tr style=\"text-align: right;\">\n",
       "      <th></th>\n",
       "      <th>Gap:5</th>\n",
       "      <th>Gap:15</th>\n",
       "      <th>Gap:30</th>\n",
       "      <th>Gap:50</th>\n",
       "      <th>Gap:100</th>\n",
       "    </tr>\n",
       "  </thead>\n",
       "  <tbody>\n",
       "    <tr>\n",
       "      <td>0</td>\n",
       "      <td>1.912523</td>\n",
       "      <td>6.722870</td>\n",
       "      <td>12.159192</td>\n",
       "      <td>27.822804</td>\n",
       "      <td>46.846021</td>\n",
       "    </tr>\n",
       "    <tr>\n",
       "      <td>1</td>\n",
       "      <td>4.521730</td>\n",
       "      <td>13.922610</td>\n",
       "      <td>19.023976</td>\n",
       "      <td>34.488102</td>\n",
       "      <td>39.349392</td>\n",
       "    </tr>\n",
       "    <tr>\n",
       "      <td>2</td>\n",
       "      <td>4.055516</td>\n",
       "      <td>11.678735</td>\n",
       "      <td>26.661147</td>\n",
       "      <td>28.577715</td>\n",
       "      <td>38.149327</td>\n",
       "    </tr>\n",
       "    <tr>\n",
       "      <td>3</td>\n",
       "      <td>5.212237</td>\n",
       "      <td>10.998132</td>\n",
       "      <td>10.847201</td>\n",
       "      <td>7.962030</td>\n",
       "      <td>18.021913</td>\n",
       "    </tr>\n",
       "    <tr>\n",
       "      <td>4</td>\n",
       "      <td>1.682263</td>\n",
       "      <td>2.190004</td>\n",
       "      <td>2.579704</td>\n",
       "      <td>5.373610</td>\n",
       "      <td>16.397837</td>\n",
       "    </tr>\n",
       "  </tbody>\n",
       "</table>\n",
       "</div>"
      ],
      "text/plain": [
       "      Gap:5     Gap:15     Gap:30     Gap:50    Gap:100\n",
       "0  1.912523   6.722870  12.159192  27.822804  46.846021\n",
       "1  4.521730  13.922610  19.023976  34.488102  39.349392\n",
       "2  4.055516  11.678735  26.661147  28.577715  38.149327\n",
       "3  5.212237  10.998132  10.847201   7.962030  18.021913\n",
       "4  1.682263   2.190004   2.579704   5.373610  16.397837"
      ]
     },
     "execution_count": 141,
     "metadata": {},
     "output_type": "execute_result"
    }
   ],
   "source": [
    "MAPE = pd.DataFrame({'Gap:5':mape_gap5, 'Gap:15':mape_gap15, 'Gap:30':mape_gap30, 'Gap:50':mape_gap50, 'Gap:100':mape_gap100})\n",
    "MAPE"
   ]
  },
  {
   "cell_type": "code",
   "execution_count": 142,
   "metadata": {
    "ExecuteTime": {
     "end_time": "2020-10-16T21:48:52.612597Z",
     "start_time": "2020-10-16T21:48:52.601553Z"
    }
   },
   "outputs": [],
   "source": [
    "# IOA.to_csv(\"~/Desktop/NCSA_genomics/Python - notebooks/GlucoCheck/Metrics/IOA.csv\")\n",
    "# FB.to_csv(\"~/Desktop/NCSA_genomics/Python - notebooks/GlucoCheck/Metrics/FB.csv\")\n",
    "# RMSE.to_csv(\"~/Desktop/NCSA_genomics/Python - notebooks/GlucoCheck/Metrics/RMSE.csv\")\n",
    "# MAPE.to_csv(\"~/Desktop/NCSA_genomics/Python - notebooks/GlucoCheck/Metrics/MAPE.csv\")\n",
    "# MAD.to_csv(\"~/Desktop/NCSA_genomics/Python - notebooks/GlucoCheck/Metrics/MAD.csv\")"
   ]
  },
  {
   "cell_type": "code",
   "execution_count": null,
   "metadata": {},
   "outputs": [],
   "source": []
  }
 ],
 "metadata": {
  "kernelspec": {
   "display_name": "Python 3",
   "language": "python",
   "name": "python3"
  },
  "language_info": {
   "codemirror_mode": {
    "name": "ipython",
    "version": 3
   },
   "file_extension": ".py",
   "mimetype": "text/x-python",
   "name": "python",
   "nbconvert_exporter": "python",
   "pygments_lexer": "ipython3",
   "version": "3.7.4"
  }
 },
 "nbformat": 4,
 "nbformat_minor": 2
}
