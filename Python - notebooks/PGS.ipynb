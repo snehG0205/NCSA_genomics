{
 "cells": [
  {
   "cell_type": "code",
   "execution_count": 17,
   "metadata": {},
   "outputs": [],
   "source": [
    "import pandas as pd\n",
    "import numpy as np\n",
    "import matplotlib.pyplot as plt\n",
    "import seaborn as sns\n",
    "\n",
    "data = pd.read_csv(\"~/Desktop/NCSA_genomics/Python - notebooks/TSForecasting/Data/consolidatedDataForPackage.csv\", sep=\",\") # pre-processed by removing entry \"Low\"\n",
    "#data"
   ]
  },
  {
   "cell_type": "code",
   "execution_count": 18,
   "metadata": {},
   "outputs": [],
   "source": [
    "from datetime import datetime\n",
    "from statistics import mean"
   ]
  },
  {
   "cell_type": "code",
   "execution_count": 50,
   "metadata": {},
   "outputs": [
    {
     "data": {
      "text/plain": [
       "Display Time    datetime64[ns]\n",
       "GlucoseValue           float64\n",
       "subjectId               object\n",
       "dtype: object"
      ]
     },
     "execution_count": 50,
     "metadata": {},
     "output_type": "execute_result"
    }
   ],
   "source": [
    "data['Display Time'] = pd.to_datetime(data['Display Time'])\n",
    "data['GlucoseValue'] = pd.to_numeric(data['GlucoseValue'])\n",
    "xx = data[data['subjectId'] == \"1636-69-032\"]\n",
    "xx.dtypes"
   ]
  },
  {
   "cell_type": "code",
   "execution_count": 51,
   "metadata": {},
   "outputs": [],
   "source": [
    "def fullDay(data):\n",
    "        \n",
    "    dates = list()\n",
    "    data = data.reset_index(drop=True)\n",
    "    for i in range(0,len(data.index)):\n",
    "        dates.append(data['Display Time'][i].date())\n",
    "    data['Dates'] = dates\n",
    "    end = data['Dates'].iloc[-1]\n",
    "    start = data['Dates'].iloc[0]\n",
    "\n",
    "    indexVals = data[ data['Dates'] == start ].index\n",
    "    # indexVals\n",
    "    data.drop(indexVals , inplace=True)\n",
    "\n",
    "    indexVals = data[ data['Dates'] == end ].index\n",
    "    # indexVals\n",
    "    data.drop(indexVals , inplace=True)\n",
    "\n",
    "    data = data.reset_index(drop=True)\n",
    "\n",
    "    data.drop(['Dates'], axis=1, inplace=True)\n",
    "\n",
    "    return data"
   ]
  },
  {
   "cell_type": "code",
   "execution_count": 52,
   "metadata": {},
   "outputs": [
    {
     "data": {
      "text/html": [
       "<div>\n",
       "<style scoped>\n",
       "    .dataframe tbody tr th:only-of-type {\n",
       "        vertical-align: middle;\n",
       "    }\n",
       "\n",
       "    .dataframe tbody tr th {\n",
       "        vertical-align: top;\n",
       "    }\n",
       "\n",
       "    .dataframe thead th {\n",
       "        text-align: right;\n",
       "    }\n",
       "</style>\n",
       "<table border=\"1\" class=\"dataframe\">\n",
       "  <thead>\n",
       "    <tr style=\"text-align: right;\">\n",
       "      <th></th>\n",
       "      <th>Display Time</th>\n",
       "      <th>GlucoseValue</th>\n",
       "      <th>subjectId</th>\n",
       "    </tr>\n",
       "  </thead>\n",
       "  <tbody>\n",
       "    <tr>\n",
       "      <td>0</td>\n",
       "      <td>2016-01-14 00:03:15</td>\n",
       "      <td>120.0</td>\n",
       "      <td>1636-69-032</td>\n",
       "    </tr>\n",
       "    <tr>\n",
       "      <td>1</td>\n",
       "      <td>2016-01-14 00:08:15</td>\n",
       "      <td>120.0</td>\n",
       "      <td>1636-69-032</td>\n",
       "    </tr>\n",
       "    <tr>\n",
       "      <td>2</td>\n",
       "      <td>2016-01-14 00:13:15</td>\n",
       "      <td>123.0</td>\n",
       "      <td>1636-69-032</td>\n",
       "    </tr>\n",
       "    <tr>\n",
       "      <td>3</td>\n",
       "      <td>2016-01-14 00:18:15</td>\n",
       "      <td>126.0</td>\n",
       "      <td>1636-69-032</td>\n",
       "    </tr>\n",
       "    <tr>\n",
       "      <td>4</td>\n",
       "      <td>2016-01-14 00:23:15</td>\n",
       "      <td>127.0</td>\n",
       "      <td>1636-69-032</td>\n",
       "    </tr>\n",
       "  </tbody>\n",
       "</table>\n",
       "</div>"
      ],
      "text/plain": [
       "         Display Time  GlucoseValue    subjectId\n",
       "0 2016-01-14 00:03:15         120.0  1636-69-032\n",
       "1 2016-01-14 00:08:15         120.0  1636-69-032\n",
       "2 2016-01-14 00:13:15         123.0  1636-69-032\n",
       "3 2016-01-14 00:18:15         126.0  1636-69-032\n",
       "4 2016-01-14 00:23:15         127.0  1636-69-032"
      ]
     },
     "execution_count": 52,
     "metadata": {},
     "output_type": "execute_result"
    }
   ],
   "source": [
    "xx = fullDay(xx)\n",
    "xx.head()"
   ]
  },
  {
   "cell_type": "code",
   "execution_count": 53,
   "metadata": {},
   "outputs": [],
   "source": [
    "length = xx['Display Time'].iloc[-1]-xx['Display Time'].iloc[0]\n",
    "length = length.round(\"d\")\n",
    "days = length.days"
   ]
  },
  {
   "cell_type": "code",
   "execution_count": 54,
   "metadata": {},
   "outputs": [
    {
     "data": {
      "text/plain": [
       "5"
      ]
     },
     "execution_count": 54,
     "metadata": {},
     "output_type": "execute_result"
    }
   ],
   "source": [
    "days"
   ]
  },
  {
   "cell_type": "code",
   "execution_count": 55,
   "metadata": {},
   "outputs": [],
   "source": [
    "def gvp(x, units):\n",
    "    if (units != 'mg'):\n",
    "        return print('units can only be mg')\n",
    "    \n",
    "    dt = x.iloc[:, 0].diff()/np.timedelta64(1,'m') # assuming that sampling can not necessarily be equally spaced\n",
    "    dy = x.iloc[:, 1].diff()\n",
    "    \n",
    "    L = np.sum(np.sqrt(dt**2 + dy**2))\n",
    "    L_0 = np.sum(dt)\n",
    "    \n",
    "    GVP = (L/L_0 -1) *100\n",
    "    return pd.DataFrame({'GVP(%)':[GVP]})"
   ]
  },
  {
   "cell_type": "code",
   "execution_count": 56,
   "metadata": {},
   "outputs": [],
   "source": [
    "# Personal Glycemic State\n",
    "# The PGS is an additive composite metric calculated using the following simple equation\n",
    "# PGS  = F(GVP) + F(MG) + F(PTIR) + F(H),\n",
    "# where F(GVP) is a function of the glycemic variability percentage, \n",
    "# F(MG) is a function of the mean glucose, \n",
    "# F(PTIR) is a function of the percent time in range (from 70 to 180 mg/ dL), and \n",
    "# F(H) is a function of the incidence of the number of hypoglycemic episodes per week.\n",
    "# The hypoglycemia function incorporates two distinct thresholds (54 and 70 mg/dL) and is \n",
    "# the sum of two terms: F54(H) and F70(H).\n",
    "# PGS is computed per week and then averaged across all weeks.\n",
    "# The min value of the PGS metric is 4.6 corresponding to excellent glycemic control \n",
    "# (no diabetes or patients with diabetes under superb glycemic control). \n",
    "# The max value of the PGS metric is 40 corresponding to a poor quality of glycemic control \n",
    "# that would be seen in patients with elevated A1c values, high mean glucose, and low percent of time \n",
    "# in the euglycemic range.\n",
    "\n",
    "# DESCRIPTION: Takes in a sequesnce of continuous glucose values and computes\n",
    "# glycemic variability percentage SDRC.\n",
    "# Operated on data given either in mmol/L or mg/dL.\n",
    "\n",
    "# FUNCTION PARAMETERS: x - is Pandas dataframe, in the fist column is given subject ID, \n",
    "# in the second - Pandas time stamp, and in the fird - numeric values of \n",
    "# continuous glucose readings.\n",
    "\n",
    "# RETRUN: Output is Pandas dataframe that contains numeric value for DT.\n",
    "\n",
    "# REFERENCES:\n",
    "# -  I. B. Hirsch, A. K. Balo, K. Sayer, A. Garcia, B. A. Buckingham, and T. A.Peyser. \n",
    "# A simple composite metric for the assessment of glycemic status fromcontinuous glucose \n",
    "# monitoring data: implications for clinical practice and theartificial pancreas. \n",
    "# Diabetes technology & therapeutics, 19(S3):S–38, 2017.\n",
    "\n",
    "def pgs(x, units):\n",
    "    if (units != 'mg'):\n",
    "        return print('units can only be mg')\n",
    "    \n",
    "    N54 = len(x[x.iloc[:,1]<=54])\n",
    "    F_54H = 0.5 + 4.5 * (1 - np.exp(-0.81093*N54))\n",
    "    \n",
    "    N70 = len(x[x.iloc[:,1]<70]) - N54\n",
    "    \n",
    "    if (N70 <= 7.65):\n",
    "        F_70H = 0.5714 * N70 + 0.625\n",
    "    else:\n",
    "        F_70H = 5\n",
    "        \n",
    "    F_H = F_54H + F_70H\n",
    "    GVP = gvp(x, units=units)\n",
    "\n",
    "    F_GVP = 1 + 9/(1 + np.exp(-0.049*(GVP-65.47)))\n",
    "    \n",
    "    \n",
    "    TIR  =  len(x) - len(x[x.iloc[:,1]<70].iloc[:,1]) - len(x[x.iloc[:,1]>180].iloc[:,1])\n",
    "    PTIR = TIR*100/len(x)\n",
    "    \n",
    "    F_PTIR = 1 + 9/(1 + np.exp(0.0833*(PTIR - 55.04)))\n",
    "    \n",
    "    MG = np.mean(x.iloc[:, 1])\n",
    "    F_MG = 1 + 9 * ( 1/(1 + np.exp(0.1139*(MG-72.08))) + 1/(1 + np.exp(-0.09195*(MG-157.57))) )\n",
    "    \n",
    "    PGS = F_GVP + F_MG + F_PTIR + F_H\n",
    "    PGS.columns=['PGS']\n",
    "    return PGS['PGS'][0]\n",
    "\n"
   ]
  },
  {
   "cell_type": "code",
   "execution_count": 57,
   "metadata": {},
   "outputs": [
    {
     "data": {
      "text/plain": [
       "6.13428315674699"
      ]
     },
     "execution_count": 57,
     "metadata": {},
     "output_type": "execute_result"
    }
   ],
   "source": [
    "x = pgs(xx, units='mg')\n",
    "x"
   ]
  },
  {
   "cell_type": "code",
   "execution_count": 58,
   "metadata": {},
   "outputs": [],
   "source": [
    "dates = []\n",
    "for i in range(len(xx.index)):\n",
    "    dates.append(xx['Display Time'][i].date())\n",
    "    "
   ]
  },
  {
   "cell_type": "code",
   "execution_count": 59,
   "metadata": {},
   "outputs": [
    {
     "data": {
      "text/html": [
       "<div>\n",
       "<style scoped>\n",
       "    .dataframe tbody tr th:only-of-type {\n",
       "        vertical-align: middle;\n",
       "    }\n",
       "\n",
       "    .dataframe tbody tr th {\n",
       "        vertical-align: top;\n",
       "    }\n",
       "\n",
       "    .dataframe thead th {\n",
       "        text-align: right;\n",
       "    }\n",
       "</style>\n",
       "<table border=\"1\" class=\"dataframe\">\n",
       "  <thead>\n",
       "    <tr style=\"text-align: right;\">\n",
       "      <th></th>\n",
       "      <th>Display Time</th>\n",
       "      <th>GlucoseValue</th>\n",
       "      <th>subjectId</th>\n",
       "      <th>Date</th>\n",
       "    </tr>\n",
       "  </thead>\n",
       "  <tbody>\n",
       "    <tr>\n",
       "      <td>0</td>\n",
       "      <td>2016-01-14 00:03:15</td>\n",
       "      <td>120.0</td>\n",
       "      <td>1636-69-032</td>\n",
       "      <td>2016-01-14</td>\n",
       "    </tr>\n",
       "    <tr>\n",
       "      <td>1</td>\n",
       "      <td>2016-01-14 00:08:15</td>\n",
       "      <td>120.0</td>\n",
       "      <td>1636-69-032</td>\n",
       "      <td>2016-01-14</td>\n",
       "    </tr>\n",
       "    <tr>\n",
       "      <td>2</td>\n",
       "      <td>2016-01-14 00:13:15</td>\n",
       "      <td>123.0</td>\n",
       "      <td>1636-69-032</td>\n",
       "      <td>2016-01-14</td>\n",
       "    </tr>\n",
       "    <tr>\n",
       "      <td>3</td>\n",
       "      <td>2016-01-14 00:18:15</td>\n",
       "      <td>126.0</td>\n",
       "      <td>1636-69-032</td>\n",
       "      <td>2016-01-14</td>\n",
       "    </tr>\n",
       "    <tr>\n",
       "      <td>4</td>\n",
       "      <td>2016-01-14 00:23:15</td>\n",
       "      <td>127.0</td>\n",
       "      <td>1636-69-032</td>\n",
       "      <td>2016-01-14</td>\n",
       "    </tr>\n",
       "    <tr>\n",
       "      <td>...</td>\n",
       "      <td>...</td>\n",
       "      <td>...</td>\n",
       "      <td>...</td>\n",
       "      <td>...</td>\n",
       "    </tr>\n",
       "    <tr>\n",
       "      <td>1434</td>\n",
       "      <td>2016-01-18 23:37:52</td>\n",
       "      <td>136.0</td>\n",
       "      <td>1636-69-032</td>\n",
       "      <td>2016-01-18</td>\n",
       "    </tr>\n",
       "    <tr>\n",
       "      <td>1435</td>\n",
       "      <td>2016-01-18 23:42:52</td>\n",
       "      <td>126.0</td>\n",
       "      <td>1636-69-032</td>\n",
       "      <td>2016-01-18</td>\n",
       "    </tr>\n",
       "    <tr>\n",
       "      <td>1436</td>\n",
       "      <td>2016-01-18 23:47:52</td>\n",
       "      <td>132.0</td>\n",
       "      <td>1636-69-032</td>\n",
       "      <td>2016-01-18</td>\n",
       "    </tr>\n",
       "    <tr>\n",
       "      <td>1437</td>\n",
       "      <td>2016-01-18 23:52:52</td>\n",
       "      <td>135.0</td>\n",
       "      <td>1636-69-032</td>\n",
       "      <td>2016-01-18</td>\n",
       "    </tr>\n",
       "    <tr>\n",
       "      <td>1438</td>\n",
       "      <td>2016-01-18 23:57:52</td>\n",
       "      <td>128.0</td>\n",
       "      <td>1636-69-032</td>\n",
       "      <td>2016-01-18</td>\n",
       "    </tr>\n",
       "  </tbody>\n",
       "</table>\n",
       "<p>1439 rows × 4 columns</p>\n",
       "</div>"
      ],
      "text/plain": [
       "            Display Time  GlucoseValue    subjectId        Date\n",
       "0    2016-01-14 00:03:15         120.0  1636-69-032  2016-01-14\n",
       "1    2016-01-14 00:08:15         120.0  1636-69-032  2016-01-14\n",
       "2    2016-01-14 00:13:15         123.0  1636-69-032  2016-01-14\n",
       "3    2016-01-14 00:18:15         126.0  1636-69-032  2016-01-14\n",
       "4    2016-01-14 00:23:15         127.0  1636-69-032  2016-01-14\n",
       "...                  ...           ...          ...         ...\n",
       "1434 2016-01-18 23:37:52         136.0  1636-69-032  2016-01-18\n",
       "1435 2016-01-18 23:42:52         126.0  1636-69-032  2016-01-18\n",
       "1436 2016-01-18 23:47:52         132.0  1636-69-032  2016-01-18\n",
       "1437 2016-01-18 23:52:52         135.0  1636-69-032  2016-01-18\n",
       "1438 2016-01-18 23:57:52         128.0  1636-69-032  2016-01-18\n",
       "\n",
       "[1439 rows x 4 columns]"
      ]
     },
     "execution_count": 59,
     "metadata": {},
     "output_type": "execute_result"
    }
   ],
   "source": [
    "xx['Date'] = dates\n",
    "xx"
   ]
  },
  {
   "cell_type": "code",
   "execution_count": 60,
   "metadata": {},
   "outputs": [],
   "source": [
    "pgs_daily = []\n",
    "for Date, df in xx.groupby('Date'):\n",
    "#     print(type(df))\n",
    "    pgs_daily.append(pgs(df, units='mg'))"
   ]
  },
  {
   "cell_type": "code",
   "execution_count": 61,
   "metadata": {},
   "outputs": [
    {
     "data": {
      "text/plain": [
       "[5.385984980695627,\n",
       " 6.080240047318844,\n",
       " 5.850877511070355,\n",
       " 5.436273573106833,\n",
       " 5.86907828520549]"
      ]
     },
     "execution_count": 61,
     "metadata": {},
     "output_type": "execute_result"
    }
   ],
   "source": [
    "pgs_daily"
   ]
  },
  {
   "cell_type": "code",
   "execution_count": 62,
   "metadata": {},
   "outputs": [
    {
     "data": {
      "text/plain": [
       "5.72449087947943"
      ]
     },
     "execution_count": 62,
     "metadata": {},
     "output_type": "execute_result"
    }
   ],
   "source": [
    "mean(pgs_daily)"
   ]
  },
  {
   "cell_type": "code",
   "execution_count": null,
   "metadata": {},
   "outputs": [],
   "source": []
  }
 ],
 "metadata": {
  "kernelspec": {
   "display_name": "Python 3",
   "language": "python",
   "name": "python3"
  },
  "language_info": {
   "codemirror_mode": {
    "name": "ipython",
    "version": 3
   },
   "file_extension": ".py",
   "mimetype": "text/x-python",
   "name": "python",
   "nbconvert_exporter": "python",
   "pygments_lexer": "ipython3",
   "version": "3.7.4"
  }
 },
 "nbformat": 4,
 "nbformat_minor": 2
}
