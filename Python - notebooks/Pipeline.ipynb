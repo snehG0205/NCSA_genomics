{
 "cells": [
  {
   "cell_type": "markdown",
   "metadata": {},
   "source": [
    "The package used below will have to be explicitly imported\n",
    "\n",
    "Package name: TSForecasting\n",
    "\n",
    "All the packages mentioned below will be installed automatically installed in case they are missing :\n",
    " - pandas\n",
    " - numpy\n",
    " - matplotlib\n",
    " - dateutil\n",
    " - re\n",
    "\n",
    "The pandas package that is explicitly imported will be used to read the data supplied by you"
   ]
  },
  {
   "cell_type": "code",
   "execution_count": 1,
   "metadata": {},
   "outputs": [
    {
     "name": "stderr",
     "output_type": "stream",
     "text": [
      "Using TensorFlow backend.\n"
     ]
    }
   ],
   "source": [
    "from GlucoCheck.glucoCheck import glucoCheckOps\n",
    "import pandas as pd\n",
    "\n",
    "pd.set_option('display.max_columns', None)\n",
    "pd.set_option('display.max_rows', None)\n"
   ]
  },
  {
   "cell_type": "markdown",
   "metadata": {},
   "source": [
    "========================================================================================================="
   ]
  },
  {
   "cell_type": "markdown",
   "metadata": {},
   "source": [
    "***\n",
    "***\n",
    "To read the documentation of the class, just run the following code"
   ]
  },
  {
   "cell_type": "code",
   "execution_count": 2,
   "metadata": {},
   "outputs": [],
   "source": [
    "glucoCheckOps?"
   ]
  },
  {
   "cell_type": "markdown",
   "metadata": {},
   "source": [
    "Now, we create an object of the glucoCheckOps class\n",
    "\n",
    "This is object which has the model and methods to predict the imputed values"
   ]
  },
  {
   "cell_type": "code",
   "execution_count": 3,
   "metadata": {},
   "outputs": [
    {
     "name": "stdout",
     "output_type": "stream",
     "text": [
      "Object Created!\n"
     ]
    }
   ],
   "source": [
    "obj = glucoCheckOps()"
   ]
  },
  {
   "cell_type": "markdown",
   "metadata": {},
   "source": [
    "***\n",
    "***\n",
    "To read the documentation of any method:\n",
    "1. Place the cursor inside the parenthesis of the function, hold down shift and press tab\n",
    "2. Run the following code (substitute 'impute' with the name of the method)"
   ]
  },
  {
   "cell_type": "code",
   "execution_count": 4,
   "metadata": {},
   "outputs": [],
   "source": [
    "# obj.impute?"
   ]
  },
  {
   "cell_type": "markdown",
   "metadata": {},
   "source": [
    "================================================================================================================"
   ]
  },
  {
   "cell_type": "markdown",
   "metadata": {},
   "source": [
    "***\n",
    "***\n",
    "The following method describes the __consolidated data__ used to train the model\n",
    "***"
   ]
  },
  {
   "cell_type": "code",
   "execution_count": 5,
   "metadata": {
    "scrolled": true
   },
   "outputs": [
    {
     "name": "stdout",
     "output_type": "stream",
     "text": [
      "\n",
      "Total Readings in the data:200018\n",
      "\n",
      "\n",
      "\n",
      "\n",
      "Here is the statistical analysis of the data:\n",
      "\n"
     ]
    },
    {
     "data": {
      "text/html": [
       "<div>\n",
       "<style scoped>\n",
       "    .dataframe tbody tr th:only-of-type {\n",
       "        vertical-align: middle;\n",
       "    }\n",
       "\n",
       "    .dataframe tbody tr th {\n",
       "        vertical-align: top;\n",
       "    }\n",
       "\n",
       "    .dataframe thead th {\n",
       "        text-align: right;\n",
       "    }\n",
       "</style>\n",
       "<table border=\"1\" class=\"dataframe\">\n",
       "  <thead>\n",
       "    <tr style=\"text-align: right;\">\n",
       "      <th></th>\n",
       "      <th>Length of readings</th>\n",
       "      <th>Max. Glucose Value</th>\n",
       "      <th>Min. Glucose Value</th>\n",
       "      <th>MAGE Score</th>\n",
       "      <th>Excursions</th>\n",
       "      <th>Days</th>\n",
       "      <th>Daytime Mean:</th>\n",
       "      <th>Nighttime Mean</th>\n",
       "    </tr>\n",
       "    <tr>\n",
       "      <th>Subject ID</th>\n",
       "      <th></th>\n",
       "      <th></th>\n",
       "      <th></th>\n",
       "      <th></th>\n",
       "      <th></th>\n",
       "      <th></th>\n",
       "      <th></th>\n",
       "      <th></th>\n",
       "    </tr>\n",
       "  </thead>\n",
       "  <tbody>\n",
       "    <tr>\n",
       "      <td>GVP01</td>\n",
       "      <td>384</td>\n",
       "      <td>320.00</td>\n",
       "      <td>52.00</td>\n",
       "      <td>171.766</td>\n",
       "      <td>38.0</td>\n",
       "      <td>4</td>\n",
       "      <td>147.489</td>\n",
       "      <td>123.840</td>\n",
       "    </tr>\n",
       "    <tr>\n",
       "      <td>GVP03</td>\n",
       "      <td>45504</td>\n",
       "      <td>429.00</td>\n",
       "      <td>25.00</td>\n",
       "      <td>137.062</td>\n",
       "      <td>6483.0</td>\n",
       "      <td>565</td>\n",
       "      <td>143.349</td>\n",
       "      <td>140.319</td>\n",
       "    </tr>\n",
       "    <tr>\n",
       "      <td>ID01</td>\n",
       "      <td>1920</td>\n",
       "      <td>291.37</td>\n",
       "      <td>55.39</td>\n",
       "      <td>156.196</td>\n",
       "      <td>129.0</td>\n",
       "      <td>4</td>\n",
       "      <td>141.120</td>\n",
       "      <td>112.949</td>\n",
       "    </tr>\n",
       "    <tr>\n",
       "      <td>ID02</td>\n",
       "      <td>2400</td>\n",
       "      <td>170.98</td>\n",
       "      <td>66.35</td>\n",
       "      <td>93.969</td>\n",
       "      <td>188.0</td>\n",
       "      <td>5</td>\n",
       "      <td>97.876</td>\n",
       "      <td>90.971</td>\n",
       "    </tr>\n",
       "    <tr>\n",
       "      <td>ID03</td>\n",
       "      <td>2400</td>\n",
       "      <td>508.71</td>\n",
       "      <td>61.25</td>\n",
       "      <td>208.081</td>\n",
       "      <td>154.0</td>\n",
       "      <td>5</td>\n",
       "      <td>181.297</td>\n",
       "      <td>222.207</td>\n",
       "    </tr>\n",
       "    <tr>\n",
       "      <td>ID11</td>\n",
       "      <td>1440</td>\n",
       "      <td>315.00</td>\n",
       "      <td>95.40</td>\n",
       "      <td>69.697</td>\n",
       "      <td>104.5</td>\n",
       "      <td>3</td>\n",
       "      <td>183.188</td>\n",
       "      <td>146.605</td>\n",
       "    </tr>\n",
       "    <tr>\n",
       "      <td>ID12</td>\n",
       "      <td>2400</td>\n",
       "      <td>271.80</td>\n",
       "      <td>93.60</td>\n",
       "      <td>84.503</td>\n",
       "      <td>168.5</td>\n",
       "      <td>5</td>\n",
       "      <td>182.104</td>\n",
       "      <td>153.708</td>\n",
       "    </tr>\n",
       "    <tr>\n",
       "      <td>ID13</td>\n",
       "      <td>960</td>\n",
       "      <td>244.73</td>\n",
       "      <td>94.75</td>\n",
       "      <td>122.384</td>\n",
       "      <td>51.0</td>\n",
       "      <td>2</td>\n",
       "      <td>149.884</td>\n",
       "      <td>123.279</td>\n",
       "    </tr>\n",
       "    <tr>\n",
       "      <td>ID21</td>\n",
       "      <td>1920</td>\n",
       "      <td>214.20</td>\n",
       "      <td>79.20</td>\n",
       "      <td>52.120</td>\n",
       "      <td>143.5</td>\n",
       "      <td>4</td>\n",
       "      <td>133.148</td>\n",
       "      <td>105.653</td>\n",
       "    </tr>\n",
       "    <tr>\n",
       "      <td>ID22</td>\n",
       "      <td>1440</td>\n",
       "      <td>170.39</td>\n",
       "      <td>34.20</td>\n",
       "      <td>66.590</td>\n",
       "      <td>104.0</td>\n",
       "      <td>3</td>\n",
       "      <td>99.752</td>\n",
       "      <td>74.828</td>\n",
       "    </tr>\n",
       "    <tr>\n",
       "      <td>ID23</td>\n",
       "      <td>2880</td>\n",
       "      <td>326.83</td>\n",
       "      <td>64.53</td>\n",
       "      <td>131.186</td>\n",
       "      <td>254.0</td>\n",
       "      <td>6</td>\n",
       "      <td>155.833</td>\n",
       "      <td>127.447</td>\n",
       "    </tr>\n",
       "    <tr>\n",
       "      <td>ID29</td>\n",
       "      <td>1440</td>\n",
       "      <td>185.94</td>\n",
       "      <td>75.15</td>\n",
       "      <td>107.207</td>\n",
       "      <td>127.0</td>\n",
       "      <td>3</td>\n",
       "      <td>118.939</td>\n",
       "      <td>106.211</td>\n",
       "    </tr>\n",
       "    <tr>\n",
       "      <td>ID30</td>\n",
       "      <td>1920</td>\n",
       "      <td>158.40</td>\n",
       "      <td>59.40</td>\n",
       "      <td>57.162</td>\n",
       "      <td>175.0</td>\n",
       "      <td>4</td>\n",
       "      <td>100.554</td>\n",
       "      <td>103.976</td>\n",
       "    </tr>\n",
       "    <tr>\n",
       "      <td>ID31</td>\n",
       "      <td>960</td>\n",
       "      <td>169.92</td>\n",
       "      <td>72.55</td>\n",
       "      <td>110.850</td>\n",
       "      <td>90.0</td>\n",
       "      <td>2</td>\n",
       "      <td>110.909</td>\n",
       "      <td>112.361</td>\n",
       "    </tr>\n",
       "    <tr>\n",
       "      <td>ID32</td>\n",
       "      <td>1249</td>\n",
       "      <td>202.00</td>\n",
       "      <td>47.00</td>\n",
       "      <td>92.380</td>\n",
       "      <td>322.0</td>\n",
       "      <td>13</td>\n",
       "      <td>101.422</td>\n",
       "      <td>94.364</td>\n",
       "    </tr>\n",
       "    <tr>\n",
       "      <td>ID33</td>\n",
       "      <td>1203</td>\n",
       "      <td>163.80</td>\n",
       "      <td>46.80</td>\n",
       "      <td>75.511</td>\n",
       "      <td>298.0</td>\n",
       "      <td>13</td>\n",
       "      <td>103.058</td>\n",
       "      <td>87.040</td>\n",
       "    </tr>\n",
       "    <tr>\n",
       "      <td>OD540</td>\n",
       "      <td>11592</td>\n",
       "      <td>369.00</td>\n",
       "      <td>40.00</td>\n",
       "      <td>120.787</td>\n",
       "      <td>941.5</td>\n",
       "      <td>44</td>\n",
       "      <td>134.925</td>\n",
       "      <td>139.176</td>\n",
       "    </tr>\n",
       "    <tr>\n",
       "      <td>OD544</td>\n",
       "      <td>10090</td>\n",
       "      <td>400.00</td>\n",
       "      <td>48.00</td>\n",
       "      <td>143.732</td>\n",
       "      <td>824.5</td>\n",
       "      <td>42</td>\n",
       "      <td>174.001</td>\n",
       "      <td>142.254</td>\n",
       "    </tr>\n",
       "    <tr>\n",
       "      <td>OD552</td>\n",
       "      <td>8744</td>\n",
       "      <td>345.00</td>\n",
       "      <td>45.00</td>\n",
       "      <td>123.582</td>\n",
       "      <td>767.0</td>\n",
       "      <td>37</td>\n",
       "      <td>144.886</td>\n",
       "      <td>140.881</td>\n",
       "    </tr>\n",
       "    <tr>\n",
       "      <td>OD559</td>\n",
       "      <td>10280</td>\n",
       "      <td>400.00</td>\n",
       "      <td>40.00</td>\n",
       "      <td>131.301</td>\n",
       "      <td>875.0</td>\n",
       "      <td>40</td>\n",
       "      <td>175.467</td>\n",
       "      <td>151.754</td>\n",
       "    </tr>\n",
       "    <tr>\n",
       "      <td>OD563</td>\n",
       "      <td>11701</td>\n",
       "      <td>400.00</td>\n",
       "      <td>40.00</td>\n",
       "      <td>87.185</td>\n",
       "      <td>896.5</td>\n",
       "      <td>44</td>\n",
       "      <td>149.925</td>\n",
       "      <td>134.748</td>\n",
       "    </tr>\n",
       "    <tr>\n",
       "      <td>OD567</td>\n",
       "      <td>10348</td>\n",
       "      <td>400.00</td>\n",
       "      <td>40.00</td>\n",
       "      <td>130.058</td>\n",
       "      <td>884.5</td>\n",
       "      <td>45</td>\n",
       "      <td>165.792</td>\n",
       "      <td>124.850</td>\n",
       "    </tr>\n",
       "    <tr>\n",
       "      <td>OD570</td>\n",
       "      <td>10606</td>\n",
       "      <td>377.00</td>\n",
       "      <td>46.00</td>\n",
       "      <td>121.315</td>\n",
       "      <td>895.5</td>\n",
       "      <td>39</td>\n",
       "      <td>184.608</td>\n",
       "      <td>201.401</td>\n",
       "    </tr>\n",
       "    <tr>\n",
       "      <td>OD575</td>\n",
       "      <td>11483</td>\n",
       "      <td>400.00</td>\n",
       "      <td>40.00</td>\n",
       "      <td>114.765</td>\n",
       "      <td>1002.5</td>\n",
       "      <td>44</td>\n",
       "      <td>141.965</td>\n",
       "      <td>140.154</td>\n",
       "    </tr>\n",
       "    <tr>\n",
       "      <td>OD584</td>\n",
       "      <td>11576</td>\n",
       "      <td>400.00</td>\n",
       "      <td>40.00</td>\n",
       "      <td>169.562</td>\n",
       "      <td>1094.0</td>\n",
       "      <td>44</td>\n",
       "      <td>187.664</td>\n",
       "      <td>208.647</td>\n",
       "    </tr>\n",
       "    <tr>\n",
       "      <td>OD588</td>\n",
       "      <td>12206</td>\n",
       "      <td>400.00</td>\n",
       "      <td>40.00</td>\n",
       "      <td>116.908</td>\n",
       "      <td>1157.0</td>\n",
       "      <td>44</td>\n",
       "      <td>165.765</td>\n",
       "      <td>163.866</td>\n",
       "    </tr>\n",
       "    <tr>\n",
       "      <td>OD591</td>\n",
       "      <td>10476</td>\n",
       "      <td>397.00</td>\n",
       "      <td>40.00</td>\n",
       "      <td>129.309</td>\n",
       "      <td>937.0</td>\n",
       "      <td>43</td>\n",
       "      <td>158.817</td>\n",
       "      <td>152.903</td>\n",
       "    </tr>\n",
       "    <tr>\n",
       "      <td>OD596</td>\n",
       "      <td>10496</td>\n",
       "      <td>367.00</td>\n",
       "      <td>40.00</td>\n",
       "      <td>115.950</td>\n",
       "      <td>939.5</td>\n",
       "      <td>46</td>\n",
       "      <td>148.104</td>\n",
       "      <td>136.780</td>\n",
       "    </tr>\n",
       "  </tbody>\n",
       "</table>\n",
       "</div>"
      ],
      "text/plain": [
       "            Length of readings  Max. Glucose Value  Min. Glucose Value  \\\n",
       "Subject ID                                                               \n",
       "GVP01                      384              320.00               52.00   \n",
       "GVP03                    45504              429.00               25.00   \n",
       "ID01                      1920              291.37               55.39   \n",
       "ID02                      2400              170.98               66.35   \n",
       "ID03                      2400              508.71               61.25   \n",
       "ID11                      1440              315.00               95.40   \n",
       "ID12                      2400              271.80               93.60   \n",
       "ID13                       960              244.73               94.75   \n",
       "ID21                      1920              214.20               79.20   \n",
       "ID22                      1440              170.39               34.20   \n",
       "ID23                      2880              326.83               64.53   \n",
       "ID29                      1440              185.94               75.15   \n",
       "ID30                      1920              158.40               59.40   \n",
       "ID31                       960              169.92               72.55   \n",
       "ID32                      1249              202.00               47.00   \n",
       "ID33                      1203              163.80               46.80   \n",
       "OD540                    11592              369.00               40.00   \n",
       "OD544                    10090              400.00               48.00   \n",
       "OD552                     8744              345.00               45.00   \n",
       "OD559                    10280              400.00               40.00   \n",
       "OD563                    11701              400.00               40.00   \n",
       "OD567                    10348              400.00               40.00   \n",
       "OD570                    10606              377.00               46.00   \n",
       "OD575                    11483              400.00               40.00   \n",
       "OD584                    11576              400.00               40.00   \n",
       "OD588                    12206              400.00               40.00   \n",
       "OD591                    10476              397.00               40.00   \n",
       "OD596                    10496              367.00               40.00   \n",
       "\n",
       "            MAGE Score  Excursions  Days  Daytime Mean:  Nighttime Mean  \n",
       "Subject ID                                                               \n",
       "GVP01          171.766        38.0     4        147.489         123.840  \n",
       "GVP03          137.062      6483.0   565        143.349         140.319  \n",
       "ID01           156.196       129.0     4        141.120         112.949  \n",
       "ID02            93.969       188.0     5         97.876          90.971  \n",
       "ID03           208.081       154.0     5        181.297         222.207  \n",
       "ID11            69.697       104.5     3        183.188         146.605  \n",
       "ID12            84.503       168.5     5        182.104         153.708  \n",
       "ID13           122.384        51.0     2        149.884         123.279  \n",
       "ID21            52.120       143.5     4        133.148         105.653  \n",
       "ID22            66.590       104.0     3         99.752          74.828  \n",
       "ID23           131.186       254.0     6        155.833         127.447  \n",
       "ID29           107.207       127.0     3        118.939         106.211  \n",
       "ID30            57.162       175.0     4        100.554         103.976  \n",
       "ID31           110.850        90.0     2        110.909         112.361  \n",
       "ID32            92.380       322.0    13        101.422          94.364  \n",
       "ID33            75.511       298.0    13        103.058          87.040  \n",
       "OD540          120.787       941.5    44        134.925         139.176  \n",
       "OD544          143.732       824.5    42        174.001         142.254  \n",
       "OD552          123.582       767.0    37        144.886         140.881  \n",
       "OD559          131.301       875.0    40        175.467         151.754  \n",
       "OD563           87.185       896.5    44        149.925         134.748  \n",
       "OD567          130.058       884.5    45        165.792         124.850  \n",
       "OD570          121.315       895.5    39        184.608         201.401  \n",
       "OD575          114.765      1002.5    44        141.965         140.154  \n",
       "OD584          169.562      1094.0    44        187.664         208.647  \n",
       "OD588          116.908      1157.0    44        165.765         163.866  \n",
       "OD591          129.309       937.0    43        158.817         152.903  \n",
       "OD596          115.950       939.5    46        148.104         136.780  "
      ]
     },
     "metadata": {},
     "output_type": "display_data"
    },
    {
     "name": "stdout",
     "output_type": "stream",
     "text": [
      "\n",
      "\n",
      "\n"
     ]
    }
   ],
   "source": [
    "obj.dataDescribe()"
   ]
  },
  {
   "cell_type": "markdown",
   "metadata": {},
   "source": [
    "***\n",
    "Let's have a look at the glucose variability indices of individuals in the consolidated data\n",
    "***"
   ]
  },
  {
   "cell_type": "code",
   "execution_count": null,
   "metadata": {
    "scrolled": false
   },
   "outputs": [],
   "source": [
    "obj.gvIndices()"
   ]
  },
  {
   "cell_type": "markdown",
   "metadata": {},
   "source": [
    "***\n",
    "***\n",
    "To see what a specific individual's glucose values look like, run the following line. \n",
    "\n",
    "In between the quotes, pass the Subject ID of that individual\n",
    "\n",
    "The different subject ID's can be found in the description table above\n",
    "***"
   ]
  },
  {
   "cell_type": "code",
   "execution_count": null,
   "metadata": {},
   "outputs": [],
   "source": [
    "obj.plotIndividual('ID01')"
   ]
  },
  {
   "cell_type": "markdown",
   "metadata": {},
   "source": [
    "***\n",
    "To view an individuals description, pass the Subject ID of that individual in the quotes \n",
    "***"
   ]
  },
  {
   "cell_type": "code",
   "execution_count": null,
   "metadata": {},
   "outputs": [],
   "source": [
    "obj.individualDescribe('ID01')"
   ]
  },
  {
   "cell_type": "markdown",
   "metadata": {},
   "source": [
    "***\n",
    "To view an individuals glucose variability indices, pass the Subject ID of that individual in the quotes \n",
    "***"
   ]
  },
  {
   "cell_type": "code",
   "execution_count": null,
   "metadata": {},
   "outputs": [],
   "source": [
    "obj.individualGvIndices('ID01')"
   ]
  },
  {
   "cell_type": "markdown",
   "metadata": {},
   "source": [
    "***\n",
    "***\n",
    "Training the model on the preloaded dataset (described above)\n",
    "***"
   ]
  },
  {
   "cell_type": "code",
   "execution_count": null,
   "metadata": {},
   "outputs": [],
   "source": [
    "obj.train()"
   ]
  },
  {
   "cell_type": "markdown",
   "metadata": {},
   "source": [
    "***\n",
    "***\n",
    "To test the pretrained model, write the path of the testing dataset below:\n",
    "***\n",
    "Here, we use a pre loaded testing file"
   ]
  },
  {
   "cell_type": "code",
   "execution_count": null,
   "metadata": {},
   "outputs": [],
   "source": [
    "testing_data = pd.read_csv(\"~/Desktop/NCSA_genomics/Python - notebooks/GlucoCheck/Data/test/Training-TestFile.csv\")\n",
    "testing_data.head(10)"
   ]
  },
  {
   "cell_type": "markdown",
   "metadata": {},
   "source": [
    "***\n",
    "***\n",
    "Now, we run the imputation model on the data you supplied above\n",
    "\n",
    "The graph you see is the imputed glucose values\n",
    "***"
   ]
  },
  {
   "cell_type": "code",
   "execution_count": null,
   "metadata": {},
   "outputs": [],
   "source": [
    "obj.impute(testing_data)"
   ]
  },
  {
   "cell_type": "markdown",
   "metadata": {},
   "source": [
    "***\n",
    "Let's have a look at the imputed values\n",
    "***"
   ]
  },
  {
   "cell_type": "code",
   "execution_count": null,
   "metadata": {},
   "outputs": [],
   "source": [
    "imputed_values = pd.read_csv(\"~/Desktop/NCSA_genomics/Python - notebooks/GlucoCheck/Data/Output/ImputedValues.csv\")\n",
    "imputed_values.head(10)"
   ]
  },
  {
   "cell_type": "markdown",
   "metadata": {},
   "source": [
    "***\n",
    "Let's see a description of the imputed values\n",
    "***"
   ]
  },
  {
   "cell_type": "code",
   "execution_count": null,
   "metadata": {},
   "outputs": [],
   "source": [
    "obj.individualDescribe('T101',imputed_values)"
   ]
  },
  {
   "cell_type": "markdown",
   "metadata": {},
   "source": [
    "***\n",
    "Let's see the glucose variability indices of the imputed values\n",
    "***"
   ]
  },
  {
   "cell_type": "code",
   "execution_count": null,
   "metadata": {},
   "outputs": [],
   "source": [
    "obj.individualGvIndices('T101',imputed_values)"
   ]
  },
  {
   "cell_type": "markdown",
   "metadata": {},
   "source": [
    "==============================================================================================================="
   ]
  },
  {
   "cell_type": "markdown",
   "metadata": {},
   "source": [
    "In case you wish to train your own model, use the following code\n",
    "\n",
    "Write the path to your file for the training and test set\n",
    "\n",
    "\n",
    "\n",
    "Be careful of the following:\n",
    "1. Enter the path of your file\n",
    "2. The file should have only two columns in the following order with the exact names: Timestamp, GlucoseValue\n",
    "3. The date of the timestamp should have the entire year (all 4 digits). Make sure the data is numeric (irrespective of the delimiter)\n",
    "\n"
   ]
  },
  {
   "cell_type": "code",
   "execution_count": null,
   "metadata": {},
   "outputs": [],
   "source": [
    "training_data = pd.read_csv(\"~/Desktop/NCSA_genomics/Python - notebooks/GlucoCheck/Data/Gluvarpro/Gluvarpro.csv\")\n",
    "training_data.head(10)"
   ]
  },
  {
   "cell_type": "markdown",
   "metadata": {},
   "source": [
    "***\n",
    "***\n",
    "Use the following function to train the model on the data you just supplied\n",
    "***"
   ]
  },
  {
   "cell_type": "code",
   "execution_count": null,
   "metadata": {},
   "outputs": [],
   "source": [
    "obj.train(training_data)"
   ]
  },
  {
   "cell_type": "markdown",
   "metadata": {},
   "source": [
    "***\n",
    "***\n",
    "To test the model you just trained, wuse the following code\n",
    "***\n",
    "Here's a glimpse of the preloaded training file"
   ]
  },
  {
   "cell_type": "code",
   "execution_count": null,
   "metadata": {},
   "outputs": [],
   "source": [
    "testing_data.head(10)"
   ]
  },
  {
   "cell_type": "markdown",
   "metadata": {},
   "source": [
    "***\n",
    "***\n",
    "Now, we run the imputation model on the data you supplied above\n",
    "***"
   ]
  },
  {
   "cell_type": "code",
   "execution_count": null,
   "metadata": {},
   "outputs": [],
   "source": [
    "obj.impute(testing_data)"
   ]
  },
  {
   "cell_type": "markdown",
   "metadata": {},
   "source": [
    "***\n",
    "Let's have a look at the imputed values\n",
    "***"
   ]
  },
  {
   "cell_type": "code",
   "execution_count": null,
   "metadata": {},
   "outputs": [],
   "source": [
    "imputed_values = pd.read_csv(\"/Users/snehgajiwala/Desktop/NCSA_genomics/Python - notebooks/GlucoCheck/Data/Output/ImputedValues.csv\")\n",
    "imputed_values.head(10)"
   ]
  },
  {
   "cell_type": "markdown",
   "metadata": {},
   "source": [
    "***\n",
    "Let's see a description of the imputed values\n",
    "***"
   ]
  },
  {
   "cell_type": "code",
   "execution_count": null,
   "metadata": {},
   "outputs": [],
   "source": [
    "obj.individualDescribe('T101',imputed_values)"
   ]
  },
  {
   "cell_type": "markdown",
   "metadata": {},
   "source": [
    "***\n",
    "Let's see the glucose variability indices of the imputed values\n",
    "***"
   ]
  },
  {
   "cell_type": "code",
   "execution_count": null,
   "metadata": {},
   "outputs": [],
   "source": [
    "obj.individualGvIndices('T101',imputed_values)"
   ]
  },
  {
   "cell_type": "code",
   "execution_count": null,
   "metadata": {},
   "outputs": [],
   "source": []
  }
 ],
 "metadata": {
  "kernelspec": {
   "display_name": "Python 3",
   "language": "python",
   "name": "python3"
  },
  "language_info": {
   "codemirror_mode": {
    "name": "ipython",
    "version": 3
   },
   "file_extension": ".py",
   "mimetype": "text/x-python",
   "name": "python",
   "nbconvert_exporter": "python",
   "pygments_lexer": "ipython3",
   "version": "3.7.4"
  }
 },
 "nbformat": 4,
 "nbformat_minor": 2
}
