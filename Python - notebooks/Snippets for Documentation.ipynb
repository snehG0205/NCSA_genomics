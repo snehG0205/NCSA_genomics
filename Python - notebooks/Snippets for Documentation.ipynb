{
 "cells": [
  {
   "cell_type": "code",
   "execution_count": 1,
   "metadata": {},
   "outputs": [
    {
     "name": "stderr",
     "output_type": "stream",
     "text": [
      "Using TensorFlow backend.\n"
     ]
    },
    {
     "name": "stdout",
     "output_type": "stream",
     "text": [
      "Object Created!\n"
     ]
    }
   ],
   "source": [
    "from GlucoCheck.glucoCheck import glucoCheckOps\n",
    "glucoCheckObject = glucoCheckOps()"
   ]
  },
  {
   "cell_type": "code",
   "execution_count": 2,
   "metadata": {},
   "outputs": [
    {
     "data": {
      "text/html": [
       "<div>\n",
       "<style scoped>\n",
       "    .dataframe tbody tr th:only-of-type {\n",
       "        vertical-align: middle;\n",
       "    }\n",
       "\n",
       "    .dataframe tbody tr th {\n",
       "        vertical-align: top;\n",
       "    }\n",
       "\n",
       "    .dataframe thead th {\n",
       "        text-align: right;\n",
       "    }\n",
       "</style>\n",
       "<table border=\"1\" class=\"dataframe\">\n",
       "  <thead>\n",
       "    <tr style=\"text-align: right;\">\n",
       "      <th></th>\n",
       "      <th>Display Time</th>\n",
       "      <th>GlucoseValue</th>\n",
       "      <th>subjectId</th>\n",
       "    </tr>\n",
       "  </thead>\n",
       "  <tbody>\n",
       "    <tr>\n",
       "      <td>0</td>\n",
       "      <td>2016-06-21 00:00:00</td>\n",
       "      <td>197.0</td>\n",
       "      <td>GVP01</td>\n",
       "    </tr>\n",
       "    <tr>\n",
       "      <td>1</td>\n",
       "      <td>2016-06-21 00:15:00</td>\n",
       "      <td>208.0</td>\n",
       "      <td>GVP01</td>\n",
       "    </tr>\n",
       "    <tr>\n",
       "      <td>2</td>\n",
       "      <td>2016-06-21 00:30:00</td>\n",
       "      <td>226.0</td>\n",
       "      <td>GVP01</td>\n",
       "    </tr>\n",
       "    <tr>\n",
       "      <td>3</td>\n",
       "      <td>2016-06-21 00:45:00</td>\n",
       "      <td>241.0</td>\n",
       "      <td>GVP01</td>\n",
       "    </tr>\n",
       "    <tr>\n",
       "      <td>4</td>\n",
       "      <td>2016-06-21 01:00:00</td>\n",
       "      <td>250.0</td>\n",
       "      <td>GVP01</td>\n",
       "    </tr>\n",
       "    <tr>\n",
       "      <td>...</td>\n",
       "      <td>...</td>\n",
       "      <td>...</td>\n",
       "      <td>...</td>\n",
       "    </tr>\n",
       "    <tr>\n",
       "      <td>316522</td>\n",
       "      <td>2025-06-28 23:36:00</td>\n",
       "      <td>206.0</td>\n",
       "      <td>OD584</td>\n",
       "    </tr>\n",
       "    <tr>\n",
       "      <td>316523</td>\n",
       "      <td>2025-06-28 23:41:00</td>\n",
       "      <td>208.0</td>\n",
       "      <td>OD584</td>\n",
       "    </tr>\n",
       "    <tr>\n",
       "      <td>316524</td>\n",
       "      <td>2025-06-28 23:46:00</td>\n",
       "      <td>213.0</td>\n",
       "      <td>OD584</td>\n",
       "    </tr>\n",
       "    <tr>\n",
       "      <td>316525</td>\n",
       "      <td>2025-06-28 23:51:00</td>\n",
       "      <td>224.0</td>\n",
       "      <td>OD584</td>\n",
       "    </tr>\n",
       "    <tr>\n",
       "      <td>316526</td>\n",
       "      <td>2025-06-28 23:56:00</td>\n",
       "      <td>235.0</td>\n",
       "      <td>OD584</td>\n",
       "    </tr>\n",
       "  </tbody>\n",
       "</table>\n",
       "<p>316527 rows × 3 columns</p>\n",
       "</div>"
      ],
      "text/plain": [
       "               Display Time  GlucoseValue subjectId\n",
       "0       2016-06-21 00:00:00         197.0     GVP01\n",
       "1       2016-06-21 00:15:00         208.0     GVP01\n",
       "2       2016-06-21 00:30:00         226.0     GVP01\n",
       "3       2016-06-21 00:45:00         241.0     GVP01\n",
       "4       2016-06-21 01:00:00         250.0     GVP01\n",
       "...                     ...           ...       ...\n",
       "316522  2025-06-28 23:36:00         206.0     OD584\n",
       "316523  2025-06-28 23:41:00         208.0     OD584\n",
       "316524  2025-06-28 23:46:00         213.0     OD584\n",
       "316525  2025-06-28 23:51:00         224.0     OD584\n",
       "316526  2025-06-28 23:56:00         235.0     OD584\n",
       "\n",
       "[316527 rows x 3 columns]"
      ]
     },
     "execution_count": 2,
     "metadata": {},
     "output_type": "execute_result"
    }
   ],
   "source": [
    "glucoCheckObject.consolidatedData"
   ]
  },
  {
   "cell_type": "code",
   "execution_count": 2,
   "metadata": {},
   "outputs": [
    {
     "data": {
      "text/html": [
       "<div>\n",
       "<style scoped>\n",
       "    .dataframe tbody tr th:only-of-type {\n",
       "        vertical-align: middle;\n",
       "    }\n",
       "\n",
       "    .dataframe tbody tr th {\n",
       "        vertical-align: top;\n",
       "    }\n",
       "\n",
       "    .dataframe thead th {\n",
       "        text-align: right;\n",
       "    }\n",
       "</style>\n",
       "<table border=\"1\" class=\"dataframe\">\n",
       "  <thead>\n",
       "    <tr style=\"text-align: right;\">\n",
       "      <th></th>\n",
       "      <th>ID</th>\n",
       "      <th>status</th>\n",
       "    </tr>\n",
       "  </thead>\n",
       "  <tbody>\n",
       "    <tr>\n",
       "      <td>0</td>\n",
       "      <td>ID01</td>\n",
       "      <td>DIABETIC-1</td>\n",
       "    </tr>\n",
       "    <tr>\n",
       "      <td>1</td>\n",
       "      <td>ID02</td>\n",
       "      <td>DIABETIC-1</td>\n",
       "    </tr>\n",
       "    <tr>\n",
       "      <td>2</td>\n",
       "      <td>ID03</td>\n",
       "      <td>DIABETIC-1</td>\n",
       "    </tr>\n",
       "    <tr>\n",
       "      <td>3</td>\n",
       "      <td>ID11</td>\n",
       "      <td>DIABETIC-2</td>\n",
       "    </tr>\n",
       "    <tr>\n",
       "      <td>4</td>\n",
       "      <td>ID12</td>\n",
       "      <td>DIABETIC-2</td>\n",
       "    </tr>\n",
       "    <tr>\n",
       "      <td>...</td>\n",
       "      <td>...</td>\n",
       "      <td>...</td>\n",
       "    </tr>\n",
       "    <tr>\n",
       "      <td>84</td>\n",
       "      <td>OD552</td>\n",
       "      <td>NAN</td>\n",
       "    </tr>\n",
       "    <tr>\n",
       "      <td>85</td>\n",
       "      <td>OD567</td>\n",
       "      <td>NAN</td>\n",
       "    </tr>\n",
       "    <tr>\n",
       "      <td>86</td>\n",
       "      <td>OD584</td>\n",
       "      <td>NAN</td>\n",
       "    </tr>\n",
       "    <tr>\n",
       "      <td>87</td>\n",
       "      <td>OD596</td>\n",
       "      <td>NAN</td>\n",
       "    </tr>\n",
       "    <tr>\n",
       "      <td>88</td>\n",
       "      <td>GVP03</td>\n",
       "      <td>NAN</td>\n",
       "    </tr>\n",
       "  </tbody>\n",
       "</table>\n",
       "<p>89 rows × 2 columns</p>\n",
       "</div>"
      ],
      "text/plain": [
       "       ID      status\n",
       "0    ID01  DIABETIC-1\n",
       "1    ID02  DIABETIC-1\n",
       "2    ID03  DIABETIC-1\n",
       "3    ID11  DIABETIC-2\n",
       "4    ID12  DIABETIC-2\n",
       "..    ...         ...\n",
       "84  OD552         NAN\n",
       "85  OD567         NAN\n",
       "86  OD584         NAN\n",
       "87  OD596         NAN\n",
       "88  GVP03         NAN\n",
       "\n",
       "[89 rows x 2 columns]"
      ]
     },
     "execution_count": 2,
     "metadata": {},
     "output_type": "execute_result"
    }
   ],
   "source": [
    "glucoCheckObject.consolidated_meta"
   ]
  },
  {
   "cell_type": "code",
   "execution_count": null,
   "metadata": {},
   "outputs": [],
   "source": []
  },
  {
   "cell_type": "code",
   "execution_count": 3,
   "metadata": {},
   "outputs": [],
   "source": [
    "# from GlucoCheck.glucoCheck import glucoCheckOps\n",
    "import pandas as pd"
   ]
  },
  {
   "cell_type": "code",
   "execution_count": 4,
   "metadata": {},
   "outputs": [
    {
     "name": "stdout",
     "output_type": "stream",
     "text": [
      "Object Created!\n"
     ]
    }
   ],
   "source": [
    "glucoCheckObject = glucoCheckOps()"
   ]
  },
  {
   "cell_type": "code",
   "execution_count": 5,
   "metadata": {},
   "outputs": [
    {
     "name": "stdout",
     "output_type": "stream",
     "text": [
      "Training Model...\n",
      "\n",
      "\n",
      "Epoch 1/1\n",
      "200017/200017 [==============================] - 561s 3ms/step - loss: 5.7406e-04\n",
      "Model trained successfully!\n"
     ]
    }
   ],
   "source": [
    "glucoCheckObject.train()"
   ]
  },
  {
   "cell_type": "code",
   "execution_count": 6,
   "metadata": {},
   "outputs": [],
   "source": [
    "testing_data = pd.read_csv(\"~/Desktop/NCSA_genomics/Python - notebooks/GlucoCheck/Data/test/Training-TestFile.csv\")\n"
   ]
  },
  {
   "cell_type": "code",
   "execution_count": 7,
   "metadata": {},
   "outputs": [
    {
     "name": "stdout",
     "output_type": "stream",
     "text": [
      "Imputations performed!\n",
      "File saved!\n",
      "Location:/Users/snehgajiwala/Desktop/NCSA_genomics/Python - notebooks/GlucoCheck/Data/Output/ImputedValues.csv\n"
     ]
    },
    {
     "data": {
      "image/png": "[encoded data removed]",
      "text/plain": [
       "<Figure size 1152x576 with 1 Axes>"
      ]
     },
     "metadata": {
      "needs_background": "light"
     },
     "output_type": "display_data"
    }
   ],
   "source": [
    "glucoCheckObject.impute(testing_data)"
   ]
  },
  {
   "cell_type": "code",
   "execution_count": 8,
   "metadata": {},
   "outputs": [],
   "source": [
    "d = pd.read_csv(\"/Users/snehgajiwala/Desktop/NCSA_genomics/Python - notebooks/GlucoCheck/Data/Output/ImputedValues.csv\")"
   ]
  },
  {
   "cell_type": "code",
   "execution_count": 9,
   "metadata": {},
   "outputs": [
    {
     "data": {
      "image/png": "[encoded data removed]",
      "text/plain": [
       "<Figure size 1152x576 with 1 Axes>"
      ]
     },
     "metadata": {},
     "output_type": "display_data"
    }
   ],
   "source": [
    "glucoCheckObject.plot(d)"
   ]
  },
  {
   "cell_type": "code",
   "execution_count": 10,
   "metadata": {},
   "outputs": [
    {
     "data": {
      "text/html": [
       "<div>\n",
       "<style scoped>\n",
       "    .dataframe tbody tr th:only-of-type {\n",
       "        vertical-align: middle;\n",
       "    }\n",
       "\n",
       "    .dataframe tbody tr th {\n",
       "        vertical-align: top;\n",
       "    }\n",
       "\n",
       "    .dataframe thead th {\n",
       "        text-align: right;\n",
       "    }\n",
       "</style>\n",
       "<table border=\"1\" class=\"dataframe\">\n",
       "  <thead>\n",
       "    <tr style=\"text-align: right;\">\n",
       "      <th></th>\n",
       "      <th>GlucoseValue</th>\n",
       "      <th>subjectId</th>\n",
       "    </tr>\n",
       "    <tr>\n",
       "      <th>Display Time</th>\n",
       "      <th></th>\n",
       "      <th></th>\n",
       "    </tr>\n",
       "  </thead>\n",
       "  <tbody>\n",
       "    <tr>\n",
       "      <td>2015-11-24 00:37:00</td>\n",
       "      <td>123</td>\n",
       "      <td>T101</td>\n",
       "    </tr>\n",
       "    <tr>\n",
       "      <td>2015-11-24 00:42:00</td>\n",
       "      <td>122</td>\n",
       "      <td>T101</td>\n",
       "    </tr>\n",
       "    <tr>\n",
       "      <td>2015-11-24 00:47:00</td>\n",
       "      <td>119</td>\n",
       "      <td>T101</td>\n",
       "    </tr>\n",
       "    <tr>\n",
       "      <td>2015-11-24 00:52:00</td>\n",
       "      <td>114</td>\n",
       "      <td>T101</td>\n",
       "    </tr>\n",
       "    <tr>\n",
       "      <td>2015-11-24 00:57:00</td>\n",
       "      <td>111</td>\n",
       "      <td>T101</td>\n",
       "    </tr>\n",
       "    <tr>\n",
       "      <td>...</td>\n",
       "      <td>...</td>\n",
       "      <td>...</td>\n",
       "    </tr>\n",
       "    <tr>\n",
       "      <td>2015-12-01 01:46:00</td>\n",
       "      <td>86</td>\n",
       "      <td>T101</td>\n",
       "    </tr>\n",
       "    <tr>\n",
       "      <td>2015-12-01 01:51:00</td>\n",
       "      <td>82</td>\n",
       "      <td>T101</td>\n",
       "    </tr>\n",
       "    <tr>\n",
       "      <td>2015-12-01 01:56:00</td>\n",
       "      <td>82</td>\n",
       "      <td>T101</td>\n",
       "    </tr>\n",
       "    <tr>\n",
       "      <td>2015-12-01 02:01:00</td>\n",
       "      <td>83</td>\n",
       "      <td>T101</td>\n",
       "    </tr>\n",
       "    <tr>\n",
       "      <td>2015-12-01 02:06:00</td>\n",
       "      <td>84</td>\n",
       "      <td>T101</td>\n",
       "    </tr>\n",
       "  </tbody>\n",
       "</table>\n",
       "<p>1796 rows × 2 columns</p>\n",
       "</div>"
      ],
      "text/plain": [
       "                     GlucoseValue subjectId\n",
       "Display Time                               \n",
       "2015-11-24 00:37:00           123      T101\n",
       "2015-11-24 00:42:00           122      T101\n",
       "2015-11-24 00:47:00           119      T101\n",
       "2015-11-24 00:52:00           114      T101\n",
       "2015-11-24 00:57:00           111      T101\n",
       "...                           ...       ...\n",
       "2015-12-01 01:46:00            86      T101\n",
       "2015-12-01 01:51:00            82      T101\n",
       "2015-12-01 01:56:00            82      T101\n",
       "2015-12-01 02:01:00            83      T101\n",
       "2015-12-01 02:06:00            84      T101\n",
       "\n",
       "[1796 rows x 2 columns]"
      ]
     },
     "execution_count": 10,
     "metadata": {},
     "output_type": "execute_result"
    }
   ],
   "source": [
    "y = glucoCheckObject.impute(testing_data,1)\n",
    "y"
   ]
  },
  {
   "cell_type": "code",
   "execution_count": null,
   "metadata": {},
   "outputs": [],
   "source": [
    "glucoCheckObject.dataDescribe()"
   ]
  },
  {
   "cell_type": "code",
   "execution_count": null,
   "metadata": {},
   "outputs": [],
   "source": [
    "glucoCheckObject.gvIndices()"
   ]
  },
  {
   "cell_type": "code",
   "execution_count": 3,
   "metadata": {},
   "outputs": [
    {
     "data": {
      "image/png": "[encoded data removed]",
      "text/plain": [
       "<Figure size 1152x576 with 1 Axes>"
      ]
     },
     "metadata": {
      "needs_background": "light"
     },
     "output_type": "display_data"
    }
   ],
   "source": [
    "glucoCheckObject.plotIndividual('1636-69-032')"
   ]
  },
  {
   "cell_type": "code",
   "execution_count": 4,
   "metadata": {},
   "outputs": [
    {
     "data": {
      "text/html": [
       "<div>\n",
       "<style scoped>\n",
       "    .dataframe tbody tr th:only-of-type {\n",
       "        vertical-align: middle;\n",
       "    }\n",
       "\n",
       "    .dataframe tbody tr th {\n",
       "        vertical-align: top;\n",
       "    }\n",
       "\n",
       "    .dataframe thead th {\n",
       "        text-align: right;\n",
       "    }\n",
       "</style>\n",
       "<table border=\"1\" class=\"dataframe\">\n",
       "  <thead>\n",
       "    <tr style=\"text-align: right;\">\n",
       "      <th></th>\n",
       "      <th>Length of readings</th>\n",
       "      <th>Max. Glucose Value</th>\n",
       "      <th>Min. Glucose Value</th>\n",
       "      <th>MAGE Score</th>\n",
       "      <th>Excursions</th>\n",
       "      <th>Days</th>\n",
       "      <th>Daytime Mean</th>\n",
       "      <th>Nighttime Mean</th>\n",
       "    </tr>\n",
       "    <tr>\n",
       "      <th>Subject ID</th>\n",
       "      <th></th>\n",
       "      <th></th>\n",
       "      <th></th>\n",
       "      <th></th>\n",
       "      <th></th>\n",
       "      <th></th>\n",
       "      <th></th>\n",
       "      <th></th>\n",
       "    </tr>\n",
       "  </thead>\n",
       "  <tbody>\n",
       "    <tr>\n",
       "      <td>1636-69-032</td>\n",
       "      <td>1439</td>\n",
       "      <td>156.0</td>\n",
       "      <td>67.0</td>\n",
       "      <td>48.134</td>\n",
       "      <td>186.5</td>\n",
       "      <td>5</td>\n",
       "      <td>108.126</td>\n",
       "      <td>103.581</td>\n",
       "    </tr>\n",
       "  </tbody>\n",
       "</table>\n",
       "</div>"
      ],
      "text/plain": [
       "             Length of readings  Max. Glucose Value  Min. Glucose Value  \\\n",
       "Subject ID                                                                \n",
       "1636-69-032                1439               156.0                67.0   \n",
       "\n",
       "             MAGE Score  Excursions  Days  Daytime Mean  Nighttime Mean  \n",
       "Subject ID                                                               \n",
       "1636-69-032      48.134       186.5     5       108.126         103.581  "
      ]
     },
     "metadata": {},
     "output_type": "display_data"
    }
   ],
   "source": [
    "glucoCheckObject.individualDescribe('1636-69-032')"
   ]
  },
  {
   "cell_type": "code",
   "execution_count": 5,
   "metadata": {},
   "outputs": [
    {
     "data": {
      "text/html": [
       "<div>\n",
       "<style scoped>\n",
       "    .dataframe tbody tr th:only-of-type {\n",
       "        vertical-align: middle;\n",
       "    }\n",
       "\n",
       "    .dataframe tbody tr th {\n",
       "        vertical-align: top;\n",
       "    }\n",
       "\n",
       "    .dataframe thead th {\n",
       "        text-align: right;\n",
       "    }\n",
       "</style>\n",
       "<table border=\"1\" class=\"dataframe\">\n",
       "  <thead>\n",
       "    <tr style=\"text-align: right;\">\n",
       "      <th></th>\n",
       "      <th>GFI</th>\n",
       "      <th>GCF</th>\n",
       "      <th>LBGI</th>\n",
       "      <th>HBGI</th>\n",
       "      <th>BGRI</th>\n",
       "      <th>GRADE</th>\n",
       "      <th>HypoG_P</th>\n",
       "      <th>EuG_P</th>\n",
       "      <th>HyperG_P</th>\n",
       "      <th>J Index</th>\n",
       "      <th>...</th>\n",
       "      <th>Hyperglycemic Episodes</th>\n",
       "      <th>IGC</th>\n",
       "      <th>Hypoglycemic Index</th>\n",
       "      <th>Hyperglycemic Index</th>\n",
       "      <th>Liability Index</th>\n",
       "      <th>ADDR</th>\n",
       "      <th>MODD</th>\n",
       "      <th>CONGA1</th>\n",
       "      <th>CONGA2</th>\n",
       "      <th>CONGA4</th>\n",
       "    </tr>\n",
       "    <tr>\n",
       "      <th>Subject ID</th>\n",
       "      <th></th>\n",
       "      <th></th>\n",
       "      <th></th>\n",
       "      <th></th>\n",
       "      <th></th>\n",
       "      <th></th>\n",
       "      <th></th>\n",
       "      <th></th>\n",
       "      <th></th>\n",
       "      <th></th>\n",
       "      <th></th>\n",
       "      <th></th>\n",
       "      <th></th>\n",
       "      <th></th>\n",
       "      <th></th>\n",
       "      <th></th>\n",
       "      <th></th>\n",
       "      <th></th>\n",
       "      <th></th>\n",
       "      <th></th>\n",
       "      <th></th>\n",
       "    </tr>\n",
       "  </thead>\n",
       "  <tbody>\n",
       "    <tr>\n",
       "      <td>1636-69-032</td>\n",
       "      <td>4.033</td>\n",
       "      <td>0.038</td>\n",
       "      <td>0.603</td>\n",
       "      <td>0.141</td>\n",
       "      <td>0.744</td>\n",
       "      <td>194.183</td>\n",
       "      <td>0.069</td>\n",
       "      <td>97.637</td>\n",
       "      <td>2.293</td>\n",
       "      <td>14.717</td>\n",
       "      <td>...</td>\n",
       "      <td>0</td>\n",
       "      <td>1.741</td>\n",
       "      <td>1.466</td>\n",
       "      <td>0.274</td>\n",
       "      <td>59.34</td>\n",
       "      <td>3.174</td>\n",
       "      <td>4.49</td>\n",
       "      <td>2.542</td>\n",
       "      <td>3.379</td>\n",
       "      <td>3.843</td>\n",
       "    </tr>\n",
       "  </tbody>\n",
       "</table>\n",
       "<p>1 rows × 41 columns</p>\n",
       "</div>"
      ],
      "text/plain": [
       "               GFI    GCF   LBGI   HBGI   BGRI    GRADE  HypoG_P   EuG_P  \\\n",
       "Subject ID                                                                 \n",
       "1636-69-032  4.033  0.038  0.603  0.141  0.744  194.183    0.069  97.637   \n",
       "\n",
       "             HyperG_P  J Index  ...  Hyperglycemic Episodes    IGC  \\\n",
       "Subject ID                      ...                                  \n",
       "1636-69-032     2.293   14.717  ...                       0  1.741   \n",
       "\n",
       "             Hypoglycemic Index  Hyperglycemic Index  Liability Index   ADDR  \\\n",
       "Subject ID                                                                     \n",
       "1636-69-032               1.466                0.274            59.34  3.174   \n",
       "\n",
       "             MODD  CONGA1  CONGA2  CONGA4  \n",
       "Subject ID                                 \n",
       "1636-69-032  4.49   2.542   3.379   3.843  \n",
       "\n",
       "[1 rows x 41 columns]"
      ]
     },
     "metadata": {},
     "output_type": "display_data"
    }
   ],
   "source": [
    "glucoCheckObject.individualGvIndices('1636-69-032')"
   ]
  },
  {
   "cell_type": "code",
   "execution_count": null,
   "metadata": {},
   "outputs": [],
   "source": [
    "y = glucoCheckObject.smoothing(x)\n",
    "y.tail()"
   ]
  },
  {
   "cell_type": "code",
   "execution_count": null,
   "metadata": {},
   "outputs": [],
   "source": [
    "x = testing_data"
   ]
  },
  {
   "cell_type": "code",
   "execution_count": null,
   "metadata": {},
   "outputs": [],
   "source": [
    "y = glucoCheckObject.subSample(x)\n",
    "y.head()"
   ]
  },
  {
   "cell_type": "code",
   "execution_count": null,
   "metadata": {},
   "outputs": [],
   "source": [
    "y = glucoCheckObject.convertUnits(x, 'mmol')\n",
    "y.head()"
   ]
  },
  {
   "cell_type": "code",
   "execution_count": null,
   "metadata": {},
   "outputs": [],
   "source": [
    "y = glucoCheckObject.fullDaysOnly(x)\n",
    "y"
   ]
  },
  {
   "cell_type": "code",
   "execution_count": null,
   "metadata": {},
   "outputs": [],
   "source": [
    "glucoCheckObject.meanCalculations(x)\n"
   ]
  },
  {
   "cell_type": "code",
   "execution_count": null,
   "metadata": {},
   "outputs": [],
   "source": [
    "y = glucoCheckObject.hourlySamples(x)\n",
    "y"
   ]
  },
  {
   "cell_type": "code",
   "execution_count": 11,
   "metadata": {},
   "outputs": [
    {
     "data": {
      "text/html": [
       "<div>\n",
       "<style scoped>\n",
       "    .dataframe tbody tr th:only-of-type {\n",
       "        vertical-align: middle;\n",
       "    }\n",
       "\n",
       "    .dataframe tbody tr th {\n",
       "        vertical-align: top;\n",
       "    }\n",
       "\n",
       "    .dataframe thead th {\n",
       "        text-align: right;\n",
       "    }\n",
       "</style>\n",
       "<table border=\"1\" class=\"dataframe\">\n",
       "  <thead>\n",
       "    <tr style=\"text-align: right;\">\n",
       "      <th></th>\n",
       "      <th>Display Time</th>\n",
       "      <th>GlucoseValue</th>\n",
       "      <th>subjectId</th>\n",
       "    </tr>\n",
       "  </thead>\n",
       "  <tbody>\n",
       "    <tr>\n",
       "      <td>51457</td>\n",
       "      <td>2016-01-13 12:58:17</td>\n",
       "      <td>122.0</td>\n",
       "      <td>1636-69-032</td>\n",
       "    </tr>\n",
       "    <tr>\n",
       "      <td>51458</td>\n",
       "      <td>2016-01-13 13:03:17</td>\n",
       "      <td>123.0</td>\n",
       "      <td>1636-69-032</td>\n",
       "    </tr>\n",
       "    <tr>\n",
       "      <td>51459</td>\n",
       "      <td>2016-01-13 13:08:17</td>\n",
       "      <td>124.0</td>\n",
       "      <td>1636-69-032</td>\n",
       "    </tr>\n",
       "    <tr>\n",
       "      <td>51460</td>\n",
       "      <td>2016-01-13 13:13:17</td>\n",
       "      <td>128.0</td>\n",
       "      <td>1636-69-032</td>\n",
       "    </tr>\n",
       "    <tr>\n",
       "      <td>51461</td>\n",
       "      <td>2016-01-13 13:18:17</td>\n",
       "      <td>133.0</td>\n",
       "      <td>1636-69-032</td>\n",
       "    </tr>\n",
       "    <tr>\n",
       "      <td>...</td>\n",
       "      <td>...</td>\n",
       "      <td>...</td>\n",
       "      <td>...</td>\n",
       "    </tr>\n",
       "    <tr>\n",
       "      <td>53235</td>\n",
       "      <td>2016-01-19 17:12:49</td>\n",
       "      <td>101.0</td>\n",
       "      <td>1636-69-032</td>\n",
       "    </tr>\n",
       "    <tr>\n",
       "      <td>53236</td>\n",
       "      <td>2016-01-19 17:17:49</td>\n",
       "      <td>98.0</td>\n",
       "      <td>1636-69-032</td>\n",
       "    </tr>\n",
       "    <tr>\n",
       "      <td>53237</td>\n",
       "      <td>2016-01-19 17:22:49</td>\n",
       "      <td>101.0</td>\n",
       "      <td>1636-69-032</td>\n",
       "    </tr>\n",
       "    <tr>\n",
       "      <td>53238</td>\n",
       "      <td>2016-01-19 17:27:49</td>\n",
       "      <td>106.0</td>\n",
       "      <td>1636-69-032</td>\n",
       "    </tr>\n",
       "    <tr>\n",
       "      <td>53239</td>\n",
       "      <td>2016-01-19 17:32:49</td>\n",
       "      <td>107.0</td>\n",
       "      <td>1636-69-032</td>\n",
       "    </tr>\n",
       "  </tbody>\n",
       "</table>\n",
       "<p>1783 rows × 3 columns</p>\n",
       "</div>"
      ],
      "text/plain": [
       "              Display Time  GlucoseValue    subjectId\n",
       "51457  2016-01-13 12:58:17         122.0  1636-69-032\n",
       "51458  2016-01-13 13:03:17         123.0  1636-69-032\n",
       "51459  2016-01-13 13:08:17         124.0  1636-69-032\n",
       "51460  2016-01-13 13:13:17         128.0  1636-69-032\n",
       "51461  2016-01-13 13:18:17         133.0  1636-69-032\n",
       "...                    ...           ...          ...\n",
       "53235  2016-01-19 17:12:49         101.0  1636-69-032\n",
       "53236  2016-01-19 17:17:49          98.0  1636-69-032\n",
       "53237  2016-01-19 17:22:49         101.0  1636-69-032\n",
       "53238  2016-01-19 17:27:49         106.0  1636-69-032\n",
       "53239  2016-01-19 17:32:49         107.0  1636-69-032\n",
       "\n",
       "[1783 rows x 3 columns]"
      ]
     },
     "execution_count": 11,
     "metadata": {},
     "output_type": "execute_result"
    }
   ],
   "source": [
    "x = glucoCheckObject.consolidatedData[glucoCheckObject.consolidatedData['subjectId']=='1636-69-032']\n",
    "x"
   ]
  },
  {
   "cell_type": "code",
   "execution_count": 12,
   "metadata": {},
   "outputs": [
    {
     "name": "stdout",
     "output_type": "stream",
     "text": [
      "\n",
      "Total Readings in the data:1439\n",
      "\n",
      "\n",
      "\n",
      "\n",
      "Here is the statistical analysis of the data:\n",
      "\n"
     ]
    },
    {
     "data": {
      "text/html": [
       "<div>\n",
       "<style scoped>\n",
       "    .dataframe tbody tr th:only-of-type {\n",
       "        vertical-align: middle;\n",
       "    }\n",
       "\n",
       "    .dataframe tbody tr th {\n",
       "        vertical-align: top;\n",
       "    }\n",
       "\n",
       "    .dataframe thead th {\n",
       "        text-align: right;\n",
       "    }\n",
       "</style>\n",
       "<table border=\"1\" class=\"dataframe\">\n",
       "  <thead>\n",
       "    <tr style=\"text-align: right;\">\n",
       "      <th></th>\n",
       "      <th>Length of readings</th>\n",
       "      <th>Max. Glucose Value</th>\n",
       "      <th>Min. Glucose Value</th>\n",
       "      <th>Days</th>\n",
       "      <th>Daytime Mean</th>\n",
       "      <th>Nighttime Mean</th>\n",
       "    </tr>\n",
       "    <tr>\n",
       "      <th>Subject ID</th>\n",
       "      <th></th>\n",
       "      <th></th>\n",
       "      <th></th>\n",
       "      <th></th>\n",
       "      <th></th>\n",
       "      <th></th>\n",
       "    </tr>\n",
       "  </thead>\n",
       "  <tbody>\n",
       "    <tr>\n",
       "      <td>1636-69-032</td>\n",
       "      <td>1439</td>\n",
       "      <td>156.0</td>\n",
       "      <td>67.0</td>\n",
       "      <td>5</td>\n",
       "      <td>108.126</td>\n",
       "      <td>103.581</td>\n",
       "    </tr>\n",
       "  </tbody>\n",
       "</table>\n",
       "</div>"
      ],
      "text/plain": [
       "             Length of readings  Max. Glucose Value  Min. Glucose Value  Days  \\\n",
       "Subject ID                                                                      \n",
       "1636-69-032                1439               156.0                67.0     5   \n",
       "\n",
       "             Daytime Mean  Nighttime Mean  \n",
       "Subject ID                                 \n",
       "1636-69-032       108.126         103.581  "
      ]
     },
     "metadata": {},
     "output_type": "display_data"
    },
    {
     "name": "stdout",
     "output_type": "stream",
     "text": [
      "\n",
      "\n",
      "\n"
     ]
    }
   ],
   "source": [
    "glucoCheckObject.dataDescribe(x)"
   ]
  },
  {
   "cell_type": "code",
   "execution_count": 16,
   "metadata": {},
   "outputs": [
    {
     "data": {
      "text/html": [
       "<div>\n",
       "<style scoped>\n",
       "    .dataframe tbody tr th:only-of-type {\n",
       "        vertical-align: middle;\n",
       "    }\n",
       "\n",
       "    .dataframe tbody tr th {\n",
       "        vertical-align: top;\n",
       "    }\n",
       "\n",
       "    .dataframe thead th {\n",
       "        text-align: right;\n",
       "    }\n",
       "</style>\n",
       "<table border=\"1\" class=\"dataframe\">\n",
       "  <thead>\n",
       "    <tr style=\"text-align: right;\">\n",
       "      <th></th>\n",
       "      <th>Display Time</th>\n",
       "      <th>GlucoseValue</th>\n",
       "      <th>subjectId</th>\n",
       "      <th>F(BG)</th>\n",
       "    </tr>\n",
       "  </thead>\n",
       "  <tbody>\n",
       "    <tr>\n",
       "      <td>0</td>\n",
       "      <td>2016-01-13 12:58:17</td>\n",
       "      <td>122.0</td>\n",
       "      <td>1636-69-032</td>\n",
       "      <td>2.889827</td>\n",
       "    </tr>\n",
       "    <tr>\n",
       "      <td>1</td>\n",
       "      <td>2016-01-13 13:03:17</td>\n",
       "      <td>123.0</td>\n",
       "      <td>1636-69-032</td>\n",
       "      <td>2.905063</td>\n",
       "    </tr>\n",
       "    <tr>\n",
       "      <td>2</td>\n",
       "      <td>2016-01-13 13:08:17</td>\n",
       "      <td>124.0</td>\n",
       "      <td>1636-69-032</td>\n",
       "      <td>2.920178</td>\n",
       "    </tr>\n",
       "    <tr>\n",
       "      <td>3</td>\n",
       "      <td>2016-01-13 13:13:17</td>\n",
       "      <td>128.0</td>\n",
       "      <td>1636-69-032</td>\n",
       "      <td>2.979463</td>\n",
       "    </tr>\n",
       "    <tr>\n",
       "      <td>4</td>\n",
       "      <td>2016-01-13 13:18:17</td>\n",
       "      <td>133.0</td>\n",
       "      <td>1636-69-032</td>\n",
       "      <td>3.051059</td>\n",
       "    </tr>\n",
       "    <tr>\n",
       "      <td>...</td>\n",
       "      <td>...</td>\n",
       "      <td>...</td>\n",
       "      <td>...</td>\n",
       "      <td>...</td>\n",
       "    </tr>\n",
       "    <tr>\n",
       "      <td>1778</td>\n",
       "      <td>2016-01-19 17:12:49</td>\n",
       "      <td>101.0</td>\n",
       "      <td>1636-69-032</td>\n",
       "      <td>2.537878</td>\n",
       "    </tr>\n",
       "    <tr>\n",
       "      <td>1779</td>\n",
       "      <td>2016-01-19 17:17:49</td>\n",
       "      <td>98.0</td>\n",
       "      <td>1636-69-032</td>\n",
       "      <td>2.481809</td>\n",
       "    </tr>\n",
       "    <tr>\n",
       "      <td>1780</td>\n",
       "      <td>2016-01-19 17:22:49</td>\n",
       "      <td>101.0</td>\n",
       "      <td>1636-69-032</td>\n",
       "      <td>2.537878</td>\n",
       "    </tr>\n",
       "    <tr>\n",
       "      <td>1781</td>\n",
       "      <td>2016-01-19 17:27:49</td>\n",
       "      <td>106.0</td>\n",
       "      <td>1636-69-032</td>\n",
       "      <td>2.627789</td>\n",
       "    </tr>\n",
       "    <tr>\n",
       "      <td>1782</td>\n",
       "      <td>2016-01-19 17:32:49</td>\n",
       "      <td>107.0</td>\n",
       "      <td>1636-69-032</td>\n",
       "      <td>2.645271</td>\n",
       "    </tr>\n",
       "  </tbody>\n",
       "</table>\n",
       "<p>1783 rows × 4 columns</p>\n",
       "</div>"
      ],
      "text/plain": [
       "             Display Time  GlucoseValue    subjectId     F(BG)\n",
       "0     2016-01-13 12:58:17         122.0  1636-69-032  2.889827\n",
       "1     2016-01-13 13:03:17         123.0  1636-69-032  2.905063\n",
       "2     2016-01-13 13:08:17         124.0  1636-69-032  2.920178\n",
       "3     2016-01-13 13:13:17         128.0  1636-69-032  2.979463\n",
       "4     2016-01-13 13:18:17         133.0  1636-69-032  3.051059\n",
       "...                   ...           ...          ...       ...\n",
       "1778  2016-01-19 17:12:49         101.0  1636-69-032  2.537878\n",
       "1779  2016-01-19 17:17:49          98.0  1636-69-032  2.481809\n",
       "1780  2016-01-19 17:22:49         101.0  1636-69-032  2.537878\n",
       "1781  2016-01-19 17:27:49         106.0  1636-69-032  2.627789\n",
       "1782  2016-01-19 17:32:49         107.0  1636-69-032  2.645271\n",
       "\n",
       "[1783 rows x 4 columns]"
      ]
     },
     "execution_count": 16,
     "metadata": {},
     "output_type": "execute_result"
    }
   ],
   "source": [
    "x.reset_index(drop=True, inplace=True)\n",
    "x"
   ]
  },
  {
   "cell_type": "code",
   "execution_count": 18,
   "metadata": {},
   "outputs": [
    {
     "data": {
      "text/html": [
       "<div>\n",
       "<style scoped>\n",
       "    .dataframe tbody tr th:only-of-type {\n",
       "        vertical-align: middle;\n",
       "    }\n",
       "\n",
       "    .dataframe tbody tr th {\n",
       "        vertical-align: top;\n",
       "    }\n",
       "\n",
       "    .dataframe thead th {\n",
       "        text-align: right;\n",
       "    }\n",
       "</style>\n",
       "<table border=\"1\" class=\"dataframe\">\n",
       "  <thead>\n",
       "    <tr style=\"text-align: right;\">\n",
       "      <th></th>\n",
       "      <th>Display Time</th>\n",
       "      <th>GlucoseValue</th>\n",
       "      <th>subjectId</th>\n",
       "      <th>F(BG)</th>\n",
       "    </tr>\n",
       "  </thead>\n",
       "  <tbody>\n",
       "    <tr>\n",
       "      <td>0</td>\n",
       "      <td>2016-01-14 00:03:15</td>\n",
       "      <td>120.0</td>\n",
       "      <td>1636-69-032</td>\n",
       "      <td>2.858984</td>\n",
       "    </tr>\n",
       "    <tr>\n",
       "      <td>1</td>\n",
       "      <td>2016-01-14 00:08:15</td>\n",
       "      <td>120.0</td>\n",
       "      <td>1636-69-032</td>\n",
       "      <td>2.858984</td>\n",
       "    </tr>\n",
       "    <tr>\n",
       "      <td>2</td>\n",
       "      <td>2016-01-14 00:13:15</td>\n",
       "      <td>123.0</td>\n",
       "      <td>1636-69-032</td>\n",
       "      <td>2.905063</td>\n",
       "    </tr>\n",
       "    <tr>\n",
       "      <td>3</td>\n",
       "      <td>2016-01-14 00:18:15</td>\n",
       "      <td>126.0</td>\n",
       "      <td>1636-69-032</td>\n",
       "      <td>2.950052</td>\n",
       "    </tr>\n",
       "    <tr>\n",
       "      <td>4</td>\n",
       "      <td>2016-01-14 00:23:15</td>\n",
       "      <td>127.0</td>\n",
       "      <td>1636-69-032</td>\n",
       "      <td>2.964814</td>\n",
       "    </tr>\n",
       "    <tr>\n",
       "      <td>...</td>\n",
       "      <td>...</td>\n",
       "      <td>...</td>\n",
       "      <td>...</td>\n",
       "      <td>...</td>\n",
       "    </tr>\n",
       "    <tr>\n",
       "      <td>1434</td>\n",
       "      <td>2016-01-18 23:37:52</td>\n",
       "      <td>136.0</td>\n",
       "      <td>1636-69-032</td>\n",
       "      <td>3.092758</td>\n",
       "    </tr>\n",
       "    <tr>\n",
       "      <td>1435</td>\n",
       "      <td>2016-01-18 23:42:52</td>\n",
       "      <td>126.0</td>\n",
       "      <td>1636-69-032</td>\n",
       "      <td>2.950052</td>\n",
       "    </tr>\n",
       "    <tr>\n",
       "      <td>1436</td>\n",
       "      <td>2016-01-18 23:47:52</td>\n",
       "      <td>132.0</td>\n",
       "      <td>1636-69-032</td>\n",
       "      <td>3.036954</td>\n",
       "    </tr>\n",
       "    <tr>\n",
       "      <td>1437</td>\n",
       "      <td>2016-01-18 23:52:52</td>\n",
       "      <td>135.0</td>\n",
       "      <td>1636-69-032</td>\n",
       "      <td>3.078960</td>\n",
       "    </tr>\n",
       "    <tr>\n",
       "      <td>1438</td>\n",
       "      <td>2016-01-18 23:57:52</td>\n",
       "      <td>128.0</td>\n",
       "      <td>1636-69-032</td>\n",
       "      <td>2.979463</td>\n",
       "    </tr>\n",
       "  </tbody>\n",
       "</table>\n",
       "<p>1439 rows × 4 columns</p>\n",
       "</div>"
      ],
      "text/plain": [
       "            Display Time  GlucoseValue    subjectId     F(BG)\n",
       "0    2016-01-14 00:03:15         120.0  1636-69-032  2.858984\n",
       "1    2016-01-14 00:08:15         120.0  1636-69-032  2.858984\n",
       "2    2016-01-14 00:13:15         123.0  1636-69-032  2.905063\n",
       "3    2016-01-14 00:18:15         126.0  1636-69-032  2.950052\n",
       "4    2016-01-14 00:23:15         127.0  1636-69-032  2.964814\n",
       "...                  ...           ...          ...       ...\n",
       "1434 2016-01-18 23:37:52         136.0  1636-69-032  3.092758\n",
       "1435 2016-01-18 23:42:52         126.0  1636-69-032  2.950052\n",
       "1436 2016-01-18 23:47:52         132.0  1636-69-032  3.036954\n",
       "1437 2016-01-18 23:52:52         135.0  1636-69-032  3.078960\n",
       "1438 2016-01-18 23:57:52         128.0  1636-69-032  2.979463\n",
       "\n",
       "[1439 rows x 4 columns]"
      ]
     },
     "execution_count": 18,
     "metadata": {},
     "output_type": "execute_result"
    }
   ],
   "source": [
    "df = glucoCheckObject.fullDaysOnly(x)\n",
    "df['Display Time'] = pd.to_datetime(df['Display Time'])\n",
    "df"
   ]
  },
  {
   "cell_type": "code",
   "execution_count": 19,
   "metadata": {},
   "outputs": [
    {
     "data": {
      "text/plain": [
       "3.17"
      ]
     },
     "execution_count": 19,
     "metadata": {},
     "output_type": "execute_result"
    }
   ],
   "source": [
    "glucoCheckObject.adrr(df,'mg')"
   ]
  },
  {
   "cell_type": "code",
   "execution_count": 20,
   "metadata": {},
   "outputs": [
    {
     "data": {
      "text/plain": [
       "(0.6, 0.14, 0.74)"
      ]
     },
     "execution_count": 20,
     "metadata": {},
     "output_type": "execute_result"
    }
   ],
   "source": [
    "glucoCheckObject.bgri(df,'mg')"
   ]
  },
  {
   "cell_type": "code",
   "execution_count": 21,
   "metadata": {},
   "outputs": [
    {
     "data": {
      "text/plain": [
       "2.54"
      ]
     },
     "execution_count": 21,
     "metadata": {},
     "output_type": "execute_result"
    }
   ],
   "source": [
    "glucoCheckObject.congaN(df,1)"
   ]
  },
  {
   "cell_type": "code",
   "execution_count": 23,
   "metadata": {},
   "outputs": [
    {
     "data": {
      "text/plain": [
       "3.38"
      ]
     },
     "execution_count": 23,
     "metadata": {},
     "output_type": "execute_result"
    }
   ],
   "source": [
    "glucoCheckObject.congaN(df,2)"
   ]
  },
  {
   "cell_type": "code",
   "execution_count": 24,
   "metadata": {},
   "outputs": [
    {
     "data": {
      "text/plain": [
       "3.84"
      ]
     },
     "execution_count": 24,
     "metadata": {},
     "output_type": "execute_result"
    }
   ],
   "source": [
    "glucoCheckObject.congaN(df,4)"
   ]
  },
  {
   "cell_type": "code",
   "execution_count": 25,
   "metadata": {},
   "outputs": [
    {
     "data": {
      "text/plain": [
       "3986.0"
      ]
     },
     "execution_count": 25,
     "metadata": {},
     "output_type": "execute_result"
    }
   ],
   "source": [
    "glucoCheckObject.dt(df)"
   ]
  },
  {
   "cell_type": "code",
   "execution_count": 26,
   "metadata": {},
   "outputs": [
    {
     "data": {
      "text/plain": [
       "5.36"
      ]
     },
     "execution_count": 26,
     "metadata": {},
     "output_type": "execute_result"
    }
   ],
   "source": [
    "glucoCheckObject.ehba1c(df)"
   ]
  },
  {
   "cell_type": "code",
   "execution_count": 27,
   "metadata": {},
   "outputs": [
    {
     "data": {
      "text/plain": [
       "(4.03, 0.04)"
      ]
     },
     "execution_count": 27,
     "metadata": {},
     "output_type": "execute_result"
    }
   ],
   "source": [
    "glucoCheckObject.gfi(df)"
   ]
  },
  {
   "cell_type": "code",
   "execution_count": 30,
   "metadata": {},
   "outputs": [
    {
     "data": {
      "text/plain": [
       "59.34"
      ]
     },
     "execution_count": 30,
     "metadata": {},
     "output_type": "execute_result"
    }
   ],
   "source": [
    "glucoCheckObject.glucoseLiabilityIndex(df, 'mg')"
   ]
  },
  {
   "cell_type": "code",
   "execution_count": 31,
   "metadata": {},
   "outputs": [
    {
     "data": {
      "text/plain": [
       "5.86917403752606"
      ]
     },
     "execution_count": 31,
     "metadata": {},
     "output_type": "execute_result"
    }
   ],
   "source": [
    "glucoCheckObject.gmi(df, 'mg')"
   ]
  },
  {
   "cell_type": "code",
   "execution_count": 32,
   "metadata": {},
   "outputs": [
    {
     "data": {
      "text/plain": [
       "(194.18, 0.07, 97.64, 2.29)"
      ]
     },
     "execution_count": 32,
     "metadata": {},
     "output_type": "execute_result"
    }
   ],
   "source": [
    "glucoCheckObject.grade(df, 'mg')"
   ]
  },
  {
   "cell_type": "code",
   "execution_count": 33,
   "metadata": {},
   "outputs": [
    {
     "data": {
      "text/plain": [
       "22.52"
      ]
     },
     "execution_count": 33,
     "metadata": {},
     "output_type": "execute_result"
    }
   ],
   "source": [
    "glucoCheckObject.gvp(df, 'mg')"
   ]
  },
  {
   "cell_type": "code",
   "execution_count": 35,
   "metadata": {},
   "outputs": [
    {
     "data": {
      "text/plain": [
       "(1.74, 1.47, 0.27)"
      ]
     },
     "execution_count": 35,
     "metadata": {},
     "output_type": "execute_result"
    }
   ],
   "source": [
    "glucoCheckObject.IGC(df, 'mg', lltr = 80, ultr = 140, a = 1.1, b = 2.0, c = 30, d = 30)"
   ]
  },
  {
   "cell_type": "code",
   "execution_count": 36,
   "metadata": {},
   "outputs": [
    {
     "data": {
      "text/plain": [
       "14.72"
      ]
     },
     "execution_count": 36,
     "metadata": {},
     "output_type": "execute_result"
    }
   ],
   "source": [
    "glucoCheckObject.j_index(df,'mg')"
   ]
  },
  {
   "cell_type": "code",
   "execution_count": 37,
   "metadata": {},
   "outputs": [
    {
     "data": {
      "text/plain": [
       "(124.0, 191.0, 67.0)"
      ]
     },
     "execution_count": 37,
     "metadata": {},
     "output_type": "execute_result"
    }
   ],
   "source": [
    "glucoCheckObject.lage(x)"
   ]
  },
  {
   "cell_type": "code",
   "execution_count": 38,
   "metadata": {},
   "outputs": [
    {
     "data": {
      "text/plain": [
       "8.79"
      ]
     },
     "execution_count": 38,
     "metadata": {},
     "output_type": "execute_result"
    }
   ],
   "source": [
    "glucoCheckObject.m_value(x,'mg',120)"
   ]
  },
  {
   "cell_type": "code",
   "execution_count": 39,
   "metadata": {},
   "outputs": [
    {
     "data": {
      "text/plain": [
       "0.0"
      ]
     },
     "execution_count": 39,
     "metadata": {},
     "output_type": "execute_result"
    }
   ],
   "source": [
    "glucoCheckObject.mad_index(df)"
   ]
  },
  {
   "cell_type": "code",
   "execution_count": 40,
   "metadata": {},
   "outputs": [
    {
     "data": {
      "text/plain": [
       "0.07"
      ]
     },
     "execution_count": 40,
     "metadata": {},
     "output_type": "execute_result"
    }
   ],
   "source": [
    "glucoCheckObject.mag(df)"
   ]
  },
  {
   "cell_type": "code",
   "execution_count": 41,
   "metadata": {},
   "outputs": [
    {
     "data": {
      "text/plain": [
       "(24.91, 381.5)"
      ]
     },
     "execution_count": 41,
     "metadata": {},
     "output_type": "execute_result"
    }
   ],
   "source": [
    "glucoCheckObject.mageCalculation(df)"
   ]
  },
  {
   "cell_type": "code",
   "execution_count": 42,
   "metadata": {},
   "outputs": [
    {
     "data": {
      "text/plain": [
       "4.49"
      ]
     },
     "execution_count": 42,
     "metadata": {},
     "output_type": "execute_result"
    }
   ],
   "source": [
    "glucoCheckObject.modd(df)"
   ]
  },
  {
   "cell_type": "code",
   "execution_count": 43,
   "metadata": {},
   "outputs": [
    {
     "data": {
      "text/plain": [
       "6.13"
      ]
     },
     "execution_count": 43,
     "metadata": {},
     "output_type": "execute_result"
    }
   ],
   "source": [
    "glucoCheckObject.pgs(df, 'mg')"
   ]
  },
  {
   "cell_type": "code",
   "execution_count": 44,
   "metadata": {},
   "outputs": [
    {
     "data": {
      "text/plain": [
       "0.81"
      ]
     },
     "execution_count": 44,
     "metadata": {},
     "output_type": "execute_result"
    }
   ],
   "source": [
    "glucoCheckObject.rc(df)"
   ]
  },
  {
   "cell_type": "code",
   "execution_count": 45,
   "metadata": {},
   "outputs": [
    {
     "data": {
      "text/plain": [
       "(106.99, 14.32, 0.13, 19.0)"
      ]
     },
     "execution_count": 45,
     "metadata": {},
     "output_type": "execute_result"
    }
   ],
   "source": [
    "glucoCheckObject.sumstats(df)"
   ]
  },
  {
   "cell_type": "code",
   "execution_count": 46,
   "metadata": {},
   "outputs": [
    {
     "data": {
      "text/plain": [
       "(0.0, 0.0, 99.93050729673384, 0.06949270326615706, 0.0)"
      ]
     },
     "execution_count": 46,
     "metadata": {},
     "output_type": "execute_result"
    }
   ],
   "source": [
    "glucoCheckObject.tir(df, 'mg')"
   ]
  },
  {
   "cell_type": "code",
   "execution_count": 48,
   "metadata": {},
   "outputs": [
    {
     "data": {
      "text/plain": [
       "(0, 0)"
      ]
     },
     "execution_count": 48,
     "metadata": {},
     "output_type": "execute_result"
    }
   ],
   "source": [
    "glucoCheckObject.variabilityEpisodes(df, 'mg')"
   ]
  },
  {
   "cell_type": "code",
   "execution_count": null,
   "metadata": {},
   "outputs": [],
   "source": []
  },
  {
   "cell_type": "code",
   "execution_count": null,
   "metadata": {},
   "outputs": [],
   "source": []
  },
  {
   "cell_type": "code",
   "execution_count": null,
   "metadata": {},
   "outputs": [],
   "source": [
    "mad = tsfObj.mad(np.asarray(imputed_data['GlucoseValue'].tolist()),np.asarray(data['GlucoseValue'].tolist()))\n",
    "ioa = tsfObj.index_agreement(np.asarray(imputed_data['GlucoseValue'].tolist()),np.asarray(data['GlucoseValue'].tolist()))\n",
    "fb = tsfObj.fracBias(np.asarray(imputed_data['GlucoseValue'].tolist()),np.asarray(data['GlucoseValue'].tolist()))\n",
    "rmse = tsfObj.rmse(np.asarray(imputed_data['GlucoseValue'].tolist()),np.asarray(data['GlucoseValue'].tolist()))\n",
    "mape = tsfObj.mape(np.asarray(imputed_data['GlucoseValue'].tolist()),np.asarray(data['GlucoseValue'].tolist()))"
   ]
  },
  {
   "cell_type": "code",
   "execution_count": null,
   "metadata": {},
   "outputs": [],
   "source": [
    "original_data = testing_data"
   ]
  },
  {
   "cell_type": "code",
   "execution_count": null,
   "metadata": {},
   "outputs": [],
   "source": [
    "original_data"
   ]
  },
  {
   "cell_type": "code",
   "execution_count": null,
   "metadata": {},
   "outputs": [],
   "source": [
    "predicted_data = y\n",
    "predicted_data"
   ]
  },
  {
   "cell_type": "code",
   "execution_count": null,
   "metadata": {},
   "outputs": [],
   "source": [
    "import numpy as np"
   ]
  },
  {
   "cell_type": "code",
   "execution_count": null,
   "metadata": {},
   "outputs": [],
   "source": [
    "glucoCheckObject.mad(np.asarray(predicted_data['GlucoseValue'].tolist()),np.asarray(original_data['GlucoseValue'].tolist()))"
   ]
  },
  {
   "cell_type": "code",
   "execution_count": null,
   "metadata": {},
   "outputs": [],
   "source": [
    "glucoCheckObject.index_agreement(np.asarray(predicted_data['GlucoseValue'].tolist()),np.asarray(original_data['GlucoseValue'].tolist()))"
   ]
  },
  {
   "cell_type": "code",
   "execution_count": null,
   "metadata": {},
   "outputs": [],
   "source": [
    "glucoCheckObject.fracBias(np.asarray(predicted_data['GlucoseValue'].tolist()),np.asarray(original_data['GlucoseValue'].tolist()))"
   ]
  },
  {
   "cell_type": "code",
   "execution_count": null,
   "metadata": {},
   "outputs": [],
   "source": [
    "glucoCheckObject.rmse(np.asarray(predicted_data['GlucoseValue'].tolist()),np.asarray(original_data['GlucoseValue'].tolist()))"
   ]
  },
  {
   "cell_type": "code",
   "execution_count": null,
   "metadata": {},
   "outputs": [],
   "source": [
    "glucoCheckObject.mape(np.asarray(predicted_data['GlucoseValue'].tolist()),np.asarray(original_data['GlucoseValue'].tolist()))"
   ]
  },
  {
   "cell_type": "code",
   "execution_count": null,
   "metadata": {},
   "outputs": [],
   "source": []
  },
  {
   "cell_type": "code",
   "execution_count": 7,
   "metadata": {},
   "outputs": [],
   "source": [
    "x = glucoCheckObject.consolidatedData[glucoCheckObject.consolidatedData['subjectId'] == \"1636-69-032\"]"
   ]
  },
  {
   "cell_type": "code",
   "execution_count": 8,
   "metadata": {},
   "outputs": [
    {
     "ename": "KeyError",
     "evalue": "0",
     "output_type": "error",
     "traceback": [
      "\u001b[0;31m---------------------------------------------------------------------------\u001b[0m",
      "\u001b[0;31mKeyError\u001b[0m                                  Traceback (most recent call last)",
      "\u001b[0;32m<ipython-input-8-55ffd6d15492>\u001b[0m in \u001b[0;36m<module>\u001b[0;34m\u001b[0m\n\u001b[0;32m----> 1\u001b[0;31m \u001b[0mglucoCheckObject\u001b[0m\u001b[0;34m.\u001b[0m\u001b[0mmageCalculation\u001b[0m\u001b[0;34m(\u001b[0m\u001b[0mx\u001b[0m\u001b[0;34m,\u001b[0m \u001b[0mstd\u001b[0m\u001b[0;34m=\u001b[0m\u001b[0;36m3\u001b[0m\u001b[0;34m)\u001b[0m\u001b[0;34m\u001b[0m\u001b[0;34m\u001b[0m\u001b[0m\n\u001b[0m",
      "\u001b[0;32m~/Desktop/NCSA_genomics/Python - notebooks/GlucoCheck/glucoCheck.py\u001b[0m in \u001b[0;36mmageCalculation\u001b[0;34m(self, df, std)\u001b[0m\n\u001b[1;32m   1696\u001b[0m         \u001b[0mk\u001b[0m\u001b[0;34m=\u001b[0m\u001b[0;36m0\u001b[0m\u001b[0;34m\u001b[0m\u001b[0;34m\u001b[0m\u001b[0m\n\u001b[1;32m   1697\u001b[0m         \u001b[0;32mfor\u001b[0m \u001b[0mi\u001b[0m \u001b[0;32min\u001b[0m \u001b[0mrange\u001b[0m\u001b[0;34m(\u001b[0m\u001b[0mlen\u001b[0m\u001b[0;34m(\u001b[0m\u001b[0mpeaks\u001b[0m\u001b[0;34m)\u001b[0m\u001b[0;34m)\u001b[0m\u001b[0;34m:\u001b[0m\u001b[0;34m\u001b[0m\u001b[0;34m\u001b[0m\u001b[0m\n\u001b[0;32m-> 1698\u001b[0;31m             \u001b[0mexcursion_points\u001b[0m\u001b[0;34m.\u001b[0m\u001b[0mloc\u001b[0m\u001b[0;34m[\u001b[0m\u001b[0mk\u001b[0m\u001b[0;34m]\u001b[0m \u001b[0;34m=\u001b[0m \u001b[0;34m[\u001b[0m\u001b[0mpeaks\u001b[0m\u001b[0;34m[\u001b[0m\u001b[0mi\u001b[0m\u001b[0;34m]\u001b[0m\u001b[0;34m]\u001b[0m \u001b[0;34m+\u001b[0m \u001b[0;34m[\u001b[0m\u001b[0mdf\u001b[0m\u001b[0;34m[\u001b[0m\u001b[0;34m'Display Time'\u001b[0m\u001b[0;34m]\u001b[0m\u001b[0;34m[\u001b[0m\u001b[0mk\u001b[0m\u001b[0;34m]\u001b[0m\u001b[0;34m]\u001b[0m \u001b[0;34m+\u001b[0m \u001b[0;34m[\u001b[0m\u001b[0mdf\u001b[0m\u001b[0;34m[\u001b[0m\u001b[0;34m'GlucoseValue'\u001b[0m\u001b[0;34m]\u001b[0m\u001b[0;34m[\u001b[0m\u001b[0mk\u001b[0m\u001b[0;34m]\u001b[0m\u001b[0;34m]\u001b[0m \u001b[0;34m+\u001b[0m \u001b[0;34m[\u001b[0m\u001b[0;34m\"P\"\u001b[0m\u001b[0;34m]\u001b[0m\u001b[0;34m\u001b[0m\u001b[0;34m\u001b[0m\u001b[0m\n\u001b[0m\u001b[1;32m   1699\u001b[0m             \u001b[0mk\u001b[0m\u001b[0;34m+=\u001b[0m\u001b[0;36m1\u001b[0m\u001b[0;34m\u001b[0m\u001b[0;34m\u001b[0m\u001b[0m\n\u001b[1;32m   1700\u001b[0m \u001b[0;34m\u001b[0m\u001b[0m\n",
      "\u001b[0;32m/opt/anaconda3/lib/python3.7/site-packages/pandas/core/series.py\u001b[0m in \u001b[0;36m__getitem__\u001b[0;34m(self, key)\u001b[0m\n\u001b[1;32m   1066\u001b[0m         \u001b[0mkey\u001b[0m \u001b[0;34m=\u001b[0m \u001b[0mcom\u001b[0m\u001b[0;34m.\u001b[0m\u001b[0mapply_if_callable\u001b[0m\u001b[0;34m(\u001b[0m\u001b[0mkey\u001b[0m\u001b[0;34m,\u001b[0m \u001b[0mself\u001b[0m\u001b[0;34m)\u001b[0m\u001b[0;34m\u001b[0m\u001b[0;34m\u001b[0m\u001b[0m\n\u001b[1;32m   1067\u001b[0m         \u001b[0;32mtry\u001b[0m\u001b[0;34m:\u001b[0m\u001b[0;34m\u001b[0m\u001b[0;34m\u001b[0m\u001b[0m\n\u001b[0;32m-> 1068\u001b[0;31m             \u001b[0mresult\u001b[0m \u001b[0;34m=\u001b[0m \u001b[0mself\u001b[0m\u001b[0;34m.\u001b[0m\u001b[0mindex\u001b[0m\u001b[0;34m.\u001b[0m\u001b[0mget_value\u001b[0m\u001b[0;34m(\u001b[0m\u001b[0mself\u001b[0m\u001b[0;34m,\u001b[0m \u001b[0mkey\u001b[0m\u001b[0;34m)\u001b[0m\u001b[0;34m\u001b[0m\u001b[0;34m\u001b[0m\u001b[0m\n\u001b[0m\u001b[1;32m   1069\u001b[0m \u001b[0;34m\u001b[0m\u001b[0m\n\u001b[1;32m   1070\u001b[0m             \u001b[0;32mif\u001b[0m \u001b[0;32mnot\u001b[0m \u001b[0mis_scalar\u001b[0m\u001b[0;34m(\u001b[0m\u001b[0mresult\u001b[0m\u001b[0;34m)\u001b[0m\u001b[0;34m:\u001b[0m\u001b[0;34m\u001b[0m\u001b[0;34m\u001b[0m\u001b[0m\n",
      "\u001b[0;32m/opt/anaconda3/lib/python3.7/site-packages/pandas/core/indexes/base.py\u001b[0m in \u001b[0;36mget_value\u001b[0;34m(self, series, key)\u001b[0m\n\u001b[1;32m   4728\u001b[0m         \u001b[0mk\u001b[0m \u001b[0;34m=\u001b[0m \u001b[0mself\u001b[0m\u001b[0;34m.\u001b[0m\u001b[0m_convert_scalar_indexer\u001b[0m\u001b[0;34m(\u001b[0m\u001b[0mk\u001b[0m\u001b[0;34m,\u001b[0m \u001b[0mkind\u001b[0m\u001b[0;34m=\u001b[0m\u001b[0;34m\"getitem\"\u001b[0m\u001b[0;34m)\u001b[0m\u001b[0;34m\u001b[0m\u001b[0;34m\u001b[0m\u001b[0m\n\u001b[1;32m   4729\u001b[0m         \u001b[0;32mtry\u001b[0m\u001b[0;34m:\u001b[0m\u001b[0;34m\u001b[0m\u001b[0;34m\u001b[0m\u001b[0m\n\u001b[0;32m-> 4730\u001b[0;31m             \u001b[0;32mreturn\u001b[0m \u001b[0mself\u001b[0m\u001b[0;34m.\u001b[0m\u001b[0m_engine\u001b[0m\u001b[0;34m.\u001b[0m\u001b[0mget_value\u001b[0m\u001b[0;34m(\u001b[0m\u001b[0ms\u001b[0m\u001b[0;34m,\u001b[0m \u001b[0mk\u001b[0m\u001b[0;34m,\u001b[0m \u001b[0mtz\u001b[0m\u001b[0;34m=\u001b[0m\u001b[0mgetattr\u001b[0m\u001b[0;34m(\u001b[0m\u001b[0mseries\u001b[0m\u001b[0;34m.\u001b[0m\u001b[0mdtype\u001b[0m\u001b[0;34m,\u001b[0m \u001b[0;34m\"tz\"\u001b[0m\u001b[0;34m,\u001b[0m \u001b[0;32mNone\u001b[0m\u001b[0;34m)\u001b[0m\u001b[0;34m)\u001b[0m\u001b[0;34m\u001b[0m\u001b[0;34m\u001b[0m\u001b[0m\n\u001b[0m\u001b[1;32m   4731\u001b[0m         \u001b[0;32mexcept\u001b[0m \u001b[0mKeyError\u001b[0m \u001b[0;32mas\u001b[0m \u001b[0me1\u001b[0m\u001b[0;34m:\u001b[0m\u001b[0;34m\u001b[0m\u001b[0;34m\u001b[0m\u001b[0m\n\u001b[1;32m   4732\u001b[0m             \u001b[0;32mif\u001b[0m \u001b[0mlen\u001b[0m\u001b[0;34m(\u001b[0m\u001b[0mself\u001b[0m\u001b[0;34m)\u001b[0m \u001b[0;34m>\u001b[0m \u001b[0;36m0\u001b[0m \u001b[0;32mand\u001b[0m \u001b[0;34m(\u001b[0m\u001b[0mself\u001b[0m\u001b[0;34m.\u001b[0m\u001b[0mholds_integer\u001b[0m\u001b[0;34m(\u001b[0m\u001b[0;34m)\u001b[0m \u001b[0;32mor\u001b[0m \u001b[0mself\u001b[0m\u001b[0;34m.\u001b[0m\u001b[0mis_boolean\u001b[0m\u001b[0;34m(\u001b[0m\u001b[0;34m)\u001b[0m\u001b[0;34m)\u001b[0m\u001b[0;34m:\u001b[0m\u001b[0;34m\u001b[0m\u001b[0;34m\u001b[0m\u001b[0m\n",
      "\u001b[0;32mpandas/_libs/index.pyx\u001b[0m in \u001b[0;36mpandas._libs.index.IndexEngine.get_value\u001b[0;34m()\u001b[0m\n",
      "\u001b[0;32mpandas/_libs/index.pyx\u001b[0m in \u001b[0;36mpandas._libs.index.IndexEngine.get_value\u001b[0;34m()\u001b[0m\n",
      "\u001b[0;32mpandas/_libs/index.pyx\u001b[0m in \u001b[0;36mpandas._libs.index.IndexEngine.get_loc\u001b[0;34m()\u001b[0m\n",
      "\u001b[0;32mpandas/_libs/hashtable_class_helper.pxi\u001b[0m in \u001b[0;36mpandas._libs.hashtable.Int64HashTable.get_item\u001b[0;34m()\u001b[0m\n",
      "\u001b[0;32mpandas/_libs/hashtable_class_helper.pxi\u001b[0m in \u001b[0;36mpandas._libs.hashtable.Int64HashTable.get_item\u001b[0;34m()\u001b[0m\n",
      "\u001b[0;31mKeyError\u001b[0m: 0"
     ]
    }
   ],
   "source": [
    "glucoCheckObject.mageCalculation(x)"
   ]
  },
  {
   "cell_type": "code",
   "execution_count": null,
   "metadata": {},
   "outputs": [],
   "source": []
  }
 ],
 "metadata": {
  "kernelspec": {
   "display_name": "Python 3",
   "language": "python",
   "name": "python3"
  },
  "language_info": {
   "codemirror_mode": {
    "name": "ipython",
    "version": 3
   },
   "file_extension": ".py",
   "mimetype": "text/x-python",
   "name": "python",
   "nbconvert_exporter": "python",
   "pygments_lexer": "ipython3",
   "version": "3.7.4"
  }
 },
 "nbformat": 4,
 "nbformat_minor": 2
}
