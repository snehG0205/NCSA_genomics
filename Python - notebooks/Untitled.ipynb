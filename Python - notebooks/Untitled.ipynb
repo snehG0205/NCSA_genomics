{
 "cells": [
  {
   "cell_type": "code",
   "execution_count": 1,
   "metadata": {},
   "outputs": [
    {
     "name": "stderr",
     "output_type": "stream",
     "text": [
      "Using TensorFlow backend.\n"
     ]
    }
   ],
   "source": [
    "from TSForecasting.TsForecasting import TimeSeriesForecast"
   ]
  },
  {
   "cell_type": "code",
   "execution_count": 2,
   "metadata": {},
   "outputs": [
    {
     "ename": "ModuleNotFoundError",
     "evalue": "No module named 'dateparser'",
     "output_type": "error",
     "traceback": [
      "\u001b[0;31m---------------------------------------------------------------------------\u001b[0m",
      "\u001b[0;31mModuleNotFoundError\u001b[0m                       Traceback (most recent call last)",
      "\u001b[0;32m<ipython-input-2-b16dd8b80396>\u001b[0m in \u001b[0;36m<module>\u001b[0;34m\u001b[0m\n\u001b[0;32m----> 1\u001b[0;31m \u001b[0;32mimport\u001b[0m \u001b[0mdateparser\u001b[0m\u001b[0;34m\u001b[0m\u001b[0;34m\u001b[0m\u001b[0m\n\u001b[0m",
      "\u001b[0;31mModuleNotFoundError\u001b[0m: No module named 'dateparser'"
     ]
    }
   ],
   "source": [
    "import dateparser"
   ]
  },
  {
   "cell_type": "code",
   "execution_count": 2,
   "metadata": {},
   "outputs": [],
   "source": [
    "import dateutil.parser as dparser"
   ]
  },
  {
   "cell_type": "code",
   "execution_count": 22,
   "metadata": {},
   "outputs": [
    {
     "data": {
      "text/plain": [
       "datetime.datetime(2016, 12, 26, 10, 47)"
      ]
     },
     "execution_count": 22,
     "metadata": {},
     "output_type": "execute_result"
    }
   ],
   "source": [
    "dparser.parse(\"201612261047\",fuzzy=True)"
   ]
  },
  {
   "cell_type": "code",
   "execution_count": 23,
   "metadata": {},
   "outputs": [
    {
     "data": {
      "text/plain": [
       "'201612261047'"
      ]
     },
     "execution_count": 23,
     "metadata": {},
     "output_type": "execute_result"
    }
   ],
   "source": [
    "s = \"2016:12:26:10:47\"\n",
    "k = ''.join(e for e in s if e.isalnum())\n",
    "k"
   ]
  },
  {
   "cell_type": "code",
   "execution_count": 25,
   "metadata": {},
   "outputs": [],
   "source": [
    "z = dparser.parse(k,fuzzy=True)"
   ]
  },
  {
   "cell_type": "code",
   "execution_count": 28,
   "metadata": {},
   "outputs": [
    {
     "data": {
      "text/plain": [
       "datetime.datetime"
      ]
     },
     "execution_count": 28,
     "metadata": {},
     "output_type": "execute_result"
    }
   ],
   "source": [
    "type(z)"
   ]
  },
  {
   "cell_type": "code",
   "execution_count": 27,
   "metadata": {},
   "outputs": [
    {
     "data": {
      "text/plain": [
       "2016"
      ]
     },
     "execution_count": 27,
     "metadata": {},
     "output_type": "execute_result"
    }
   ],
   "source": [
    "z.year"
   ]
  },
  {
   "cell_type": "code",
   "execution_count": 92,
   "metadata": {},
   "outputs": [],
   "source": [
    "import pandas as pd\n",
    "import numpy as np\n",
    "import dateutil.parser as dparser"
   ]
  },
  {
   "cell_type": "code",
   "execution_count": 97,
   "metadata": {},
   "outputs": [],
   "source": [
    "cgmdata = pd.read_csv(\"~/Desktop/NCSA_genomics/Data/CGManalyzer.csv\") #use your path"
   ]
  },
  {
   "cell_type": "code",
   "execution_count": 98,
   "metadata": {},
   "outputs": [
    {
     "data": {
      "text/plain": [
       "29189"
      ]
     },
     "execution_count": 98,
     "metadata": {},
     "output_type": "execute_result"
    }
   ],
   "source": [
    "length = cgmdata.shape[0]\n",
    "length"
   ]
  },
  {
   "cell_type": "code",
   "execution_count": 99,
   "metadata": {},
   "outputs": [],
   "source": [
    "for i in range(0,length):\n",
    "    s = str(cgmdata.iloc[i]['timeStamp'])\n",
    "    k=None\n",
    "    k = ''.join(e for e in s if e.isalnum())\n",
    "    z = dparser.parse(k,fuzzy=True)\n",
    "    x = \"\"+str(z.year)+\"-\"+str(z.month)+\"-\"+str(z.day)+\" \"+str(z.hour)+\":\"+str(z.minute)+\":\"+str(z.second)\n",
    "    cgmdata = cgmdata.replace(to_replace = s, value = x)"
   ]
  },
  {
   "cell_type": "code",
   "execution_count": 100,
   "metadata": {},
   "outputs": [
    {
     "data": {
      "text/html": [
       "<div>\n",
       "<style scoped>\n",
       "    .dataframe tbody tr th:only-of-type {\n",
       "        vertical-align: middle;\n",
       "    }\n",
       "\n",
       "    .dataframe tbody tr th {\n",
       "        vertical-align: top;\n",
       "    }\n",
       "\n",
       "    .dataframe thead th {\n",
       "        text-align: right;\n",
       "    }\n",
       "</style>\n",
       "<table border=\"1\" class=\"dataframe\">\n",
       "  <thead>\n",
       "    <tr style=\"text-align: right;\">\n",
       "      <th></th>\n",
       "      <th>ID</th>\n",
       "      <th>timeStamp</th>\n",
       "      <th>glucoseValue</th>\n",
       "    </tr>\n",
       "  </thead>\n",
       "  <tbody>\n",
       "    <tr>\n",
       "      <td>0</td>\n",
       "      <td>ID01</td>\n",
       "      <td>2016-6-25 9:14:0</td>\n",
       "      <td>6.000000</td>\n",
       "    </tr>\n",
       "    <tr>\n",
       "      <td>1</td>\n",
       "      <td>ID01</td>\n",
       "      <td>2016-6-25 9:17:0</td>\n",
       "      <td>6.000000</td>\n",
       "    </tr>\n",
       "    <tr>\n",
       "      <td>2</td>\n",
       "      <td>ID01</td>\n",
       "      <td>2016-6-25 9:20:0</td>\n",
       "      <td>6.000000</td>\n",
       "    </tr>\n",
       "    <tr>\n",
       "      <td>3</td>\n",
       "      <td>ID01</td>\n",
       "      <td>2016-6-25 9:23:0</td>\n",
       "      <td>5.981000</td>\n",
       "    </tr>\n",
       "    <tr>\n",
       "      <td>4</td>\n",
       "      <td>ID01</td>\n",
       "      <td>2016-6-25 9:26:0</td>\n",
       "      <td>5.972000</td>\n",
       "    </tr>\n",
       "    <tr>\n",
       "      <td>...</td>\n",
       "      <td>...</td>\n",
       "      <td>...</td>\n",
       "      <td>...</td>\n",
       "    </tr>\n",
       "    <tr>\n",
       "      <td>29184</td>\n",
       "      <td>ID31</td>\n",
       "      <td>2016-6-9 16:49:0</td>\n",
       "      <td>4.161802</td>\n",
       "    </tr>\n",
       "    <tr>\n",
       "      <td>29185</td>\n",
       "      <td>ID31</td>\n",
       "      <td>2016-6-9 16:52:0</td>\n",
       "      <td>4.104440</td>\n",
       "    </tr>\n",
       "    <tr>\n",
       "      <td>29186</td>\n",
       "      <td>ID31</td>\n",
       "      <td>2016-6-9 16:55:0</td>\n",
       "      <td>4.013856</td>\n",
       "    </tr>\n",
       "    <tr>\n",
       "      <td>29187</td>\n",
       "      <td>ID31</td>\n",
       "      <td>2016-6-9 16:58:0</td>\n",
       "      <td>3.895511</td>\n",
       "    </tr>\n",
       "    <tr>\n",
       "      <td>29188</td>\n",
       "      <td>ID31</td>\n",
       "      <td>2016-6-9 17:1:0</td>\n",
       "      <td>3.902727</td>\n",
       "    </tr>\n",
       "  </tbody>\n",
       "</table>\n",
       "<p>29189 rows × 3 columns</p>\n",
       "</div>"
      ],
      "text/plain": [
       "         ID         timeStamp  glucoseValue\n",
       "0      ID01  2016-6-25 9:14:0      6.000000\n",
       "1      ID01  2016-6-25 9:17:0      6.000000\n",
       "2      ID01  2016-6-25 9:20:0      6.000000\n",
       "3      ID01  2016-6-25 9:23:0      5.981000\n",
       "4      ID01  2016-6-25 9:26:0      5.972000\n",
       "...     ...               ...           ...\n",
       "29184  ID31  2016-6-9 16:49:0      4.161802\n",
       "29185  ID31  2016-6-9 16:52:0      4.104440\n",
       "29186  ID31  2016-6-9 16:55:0      4.013856\n",
       "29187  ID31  2016-6-9 16:58:0      3.895511\n",
       "29188  ID31   2016-6-9 17:1:0      3.902727\n",
       "\n",
       "[29189 rows x 3 columns]"
      ]
     },
     "execution_count": 100,
     "metadata": {},
     "output_type": "execute_result"
    }
   ],
   "source": [
    "cgmdata"
   ]
  },
  {
   "cell_type": "code",
   "execution_count": 64,
   "metadata": {},
   "outputs": [
    {
     "data": {
      "text/plain": [
       "'2016:06:25:09:14'"
      ]
     },
     "execution_count": 64,
     "metadata": {},
     "output_type": "execute_result"
    }
   ],
   "source": [
    "cgmdata.iloc[0]['timeStamp']"
   ]
  },
  {
   "cell_type": "code",
   "execution_count": null,
   "metadata": {},
   "outputs": [],
   "source": []
  },
  {
   "cell_type": "code",
   "execution_count": 67,
   "metadata": {},
   "outputs": [],
   "source": [
    "s = str(cgmdata.iloc[0]['timeStamp'])\n",
    "k = ''.join(e for e in s if e.isalnum())\n",
    "z = dparser.parse(k,fuzzy=True)\n",
    "x = \"\"+str(z.year)+\"-\"+str(z.month)+\"-\"+str(z.day)+\" \"+str(z.hour)+\":\"+str(z.minute)+\":\"+str(z.second)\n",
    "cgmdata = cgmdata.replace(to_replace = s, value = x)"
   ]
  },
  {
   "cell_type": "code",
   "execution_count": 7,
   "metadata": {},
   "outputs": [],
   "source": [
    "from datetime import datetime"
   ]
  },
  {
   "cell_type": "code",
   "execution_count": 9,
   "metadata": {},
   "outputs": [
    {
     "name": "stdout",
     "output_type": "stream",
     "text": [
      "2016-06-25 09:14:56\n"
     ]
    }
   ],
   "source": [
    "s = \"20160625091456\"\n",
    "k = ''.join(e for e in s if e.isalnum())\n",
    "z = dparser.parse(k,fuzzy=True)\n",
    "x = \"\"+str(z.year)+\"-\"+str(z.month)+\"-\"+str(z.day)+\" \"+str(z.hour)+\":\"+str(z.minute)+\":\"+str(z.second)\n",
    "y = datetime.strptime(x, '%Y-%m-%d %H:%M:%S')\n",
    "print(y)"
   ]
  },
  {
   "cell_type": "code",
   "execution_count": 68,
   "metadata": {},
   "outputs": [
    {
     "data": {
      "text/plain": [
       "'2016-6-25 9:14:0'"
      ]
     },
     "execution_count": 68,
     "metadata": {},
     "output_type": "execute_result"
    }
   ],
   "source": []
  },
  {
   "cell_type": "code",
   "execution_count": null,
   "metadata": {},
   "outputs": [],
   "source": []
  }
 ],
 "metadata": {
  "kernelspec": {
   "display_name": "Python 3",
   "language": "python",
   "name": "python3"
  },
  "language_info": {
   "codemirror_mode": {
    "name": "ipython",
    "version": 3
   },
   "file_extension": ".py",
   "mimetype": "text/x-python",
   "name": "python",
   "nbconvert_exporter": "python",
   "pygments_lexer": "ipython3",
   "version": "3.7.4"
  }
 },
 "nbformat": 4,
 "nbformat_minor": 2
}
