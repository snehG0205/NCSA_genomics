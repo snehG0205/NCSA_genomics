{
 "cells": [
  {
   "cell_type": "code",
   "execution_count": 2,
   "metadata": {},
   "outputs": [],
   "source": [
    "import numpy as np\n",
    "import pandas as pd\n",
    "from statsmodels.tsa.statespace.sarimax import SARIMAX\n",
    "from statsmodels.graphics.tsaplots import plot_acf,plot_pacf \n",
    "from statsmodels.tsa.seasonal import seasonal_decompose \n",
    "from pmdarima import auto_arima                        \n",
    "from sklearn.metrics import mean_squared_error\n",
    "from statsmodels.tools.eval_measures import rmse\n",
    "import warnings\n",
    "warnings.filterwarnings(\"ignore\")\n"
   ]
  },
  {
   "cell_type": "code",
   "execution_count": 3,
   "metadata": {},
   "outputs": [
    {
     "data": {
      "text/html": [
       "<div>\n",
       "<style scoped>\n",
       "    .dataframe tbody tr th:only-of-type {\n",
       "        vertical-align: middle;\n",
       "    }\n",
       "\n",
       "    .dataframe tbody tr th {\n",
       "        vertical-align: top;\n",
       "    }\n",
       "\n",
       "    .dataframe thead th {\n",
       "        text-align: right;\n",
       "    }\n",
       "</style>\n",
       "<table border=\"1\" class=\"dataframe\">\n",
       "  <thead>\n",
       "    <tr style=\"text-align: right;\">\n",
       "      <th></th>\n",
       "      <th>Display Time</th>\n",
       "      <th>subjectId</th>\n",
       "      <th>GlucoseValue</th>\n",
       "    </tr>\n",
       "  </thead>\n",
       "  <tbody>\n",
       "    <tr>\n",
       "      <td>0</td>\n",
       "      <td>2016-06-25 09:14:00</td>\n",
       "      <td>ID01</td>\n",
       "      <td>108.000</td>\n",
       "    </tr>\n",
       "    <tr>\n",
       "      <td>1</td>\n",
       "      <td>2016-06-25 09:17:00</td>\n",
       "      <td>ID01</td>\n",
       "      <td>108.000</td>\n",
       "    </tr>\n",
       "    <tr>\n",
       "      <td>2</td>\n",
       "      <td>2016-06-25 09:20:00</td>\n",
       "      <td>ID01</td>\n",
       "      <td>108.000</td>\n",
       "    </tr>\n",
       "    <tr>\n",
       "      <td>3</td>\n",
       "      <td>2016-06-25 09:23:00</td>\n",
       "      <td>ID01</td>\n",
       "      <td>107.658</td>\n",
       "    </tr>\n",
       "    <tr>\n",
       "      <td>4</td>\n",
       "      <td>2016-06-25 09:26:00</td>\n",
       "      <td>ID01</td>\n",
       "      <td>107.496</td>\n",
       "    </tr>\n",
       "  </tbody>\n",
       "</table>\n",
       "</div>"
      ],
      "text/plain": [
       "          Display Time subjectId  GlucoseValue\n",
       "0  2016-06-25 09:14:00      ID01       108.000\n",
       "1  2016-06-25 09:17:00      ID01       108.000\n",
       "2  2016-06-25 09:20:00      ID01       108.000\n",
       "3  2016-06-25 09:23:00      ID01       107.658\n",
       "4  2016-06-25 09:26:00      ID01       107.496"
      ]
     },
     "execution_count": 3,
     "metadata": {},
     "output_type": "execute_result"
    }
   ],
   "source": [
    "df = pd.read_csv('GlucoCheck/Data/CGM/CGM_Analyzer_Appended.csv')\n",
    "df.head()"
   ]
  },
  {
   "cell_type": "code",
   "execution_count": 4,
   "metadata": {},
   "outputs": [
    {
     "data": {
      "text/html": [
       "<div>\n",
       "<style scoped>\n",
       "    .dataframe tbody tr th:only-of-type {\n",
       "        vertical-align: middle;\n",
       "    }\n",
       "\n",
       "    .dataframe tbody tr th {\n",
       "        vertical-align: top;\n",
       "    }\n",
       "\n",
       "    .dataframe thead th {\n",
       "        text-align: right;\n",
       "    }\n",
       "</style>\n",
       "<table border=\"1\" class=\"dataframe\">\n",
       "  <thead>\n",
       "    <tr style=\"text-align: right;\">\n",
       "      <th></th>\n",
       "      <th>GlucoseValue</th>\n",
       "    </tr>\n",
       "    <tr>\n",
       "      <th>Display Time</th>\n",
       "      <th></th>\n",
       "    </tr>\n",
       "  </thead>\n",
       "  <tbody>\n",
       "    <tr>\n",
       "      <td>2016-06-25 09:14:00</td>\n",
       "      <td>108.000</td>\n",
       "    </tr>\n",
       "    <tr>\n",
       "      <td>2016-06-25 09:17:00</td>\n",
       "      <td>108.000</td>\n",
       "    </tr>\n",
       "    <tr>\n",
       "      <td>2016-06-25 09:20:00</td>\n",
       "      <td>108.000</td>\n",
       "    </tr>\n",
       "    <tr>\n",
       "      <td>2016-06-25 09:23:00</td>\n",
       "      <td>107.658</td>\n",
       "    </tr>\n",
       "    <tr>\n",
       "      <td>2016-06-25 09:26:00</td>\n",
       "      <td>107.496</td>\n",
       "    </tr>\n",
       "  </tbody>\n",
       "</table>\n",
       "</div>"
      ],
      "text/plain": [
       "                     GlucoseValue\n",
       "Display Time                     \n",
       "2016-06-25 09:14:00       108.000\n",
       "2016-06-25 09:17:00       108.000\n",
       "2016-06-25 09:20:00       108.000\n",
       "2016-06-25 09:23:00       107.658\n",
       "2016-06-25 09:26:00       107.496"
      ]
     },
     "execution_count": 4,
     "metadata": {},
     "output_type": "execute_result"
    }
   ],
   "source": [
    "df['Display Time'] = pd.to_datetime(df['Display Time'])\n",
    "df = df.set_index(\"Display Time\")\n",
    "df.drop(['subjectId'], axis=1, inplace=True)\n",
    "df.head()"
   ]
  },
  {
   "cell_type": "code",
   "execution_count": 5,
   "metadata": {},
   "outputs": [],
   "source": [
    "train_data = df[:len(df)-500]\n",
    "test_data = df[len(df)-500:]"
   ]
  },
  {
   "cell_type": "code",
   "execution_count": 6,
   "metadata": {},
   "outputs": [
    {
     "data": {
      "text/html": [
       "<table class=\"simpletable\">\n",
       "<caption>SARIMAX Results</caption>\n",
       "<tr>\n",
       "  <th>Dep. Variable:</th>                    <td>y</td>                  <th>  No. Observations:  </th>   <td>1000</td>   \n",
       "</tr>\n",
       "<tr>\n",
       "  <th>Model:</th>           <td>SARIMAX(2, 0, 0)x(0, 0, [1, 2], 12)</td> <th>  Log Likelihood     </th> <td>-1735.879</td>\n",
       "</tr>\n",
       "<tr>\n",
       "  <th>Date:</th>                     <td>Thu, 20 Aug 2020</td>           <th>  AIC                </th> <td>3483.757</td> \n",
       "</tr>\n",
       "<tr>\n",
       "  <th>Time:</th>                         <td>14:12:58</td>               <th>  BIC                </th> <td>3513.204</td> \n",
       "</tr>\n",
       "<tr>\n",
       "  <th>Sample:</th>                           <td>0</td>                  <th>  HQIC               </th> <td>3494.949</td> \n",
       "</tr>\n",
       "<tr>\n",
       "  <th></th>                               <td> - 1000</td>               <th>                     </th>     <td> </td>    \n",
       "</tr>\n",
       "<tr>\n",
       "  <th>Covariance Type:</th>                 <td>opg</td>                 <th>                     </th>     <td> </td>    \n",
       "</tr>\n",
       "</table>\n",
       "<table class=\"simpletable\">\n",
       "<tr>\n",
       "      <td></td>         <th>coef</th>     <th>std err</th>      <th>z</th>      <th>P>|z|</th>  <th>[0.025</th>    <th>0.975]</th>  \n",
       "</tr>\n",
       "<tr>\n",
       "  <th>intercept</th> <td>    0.4777</td> <td>    0.149</td> <td>    3.202</td> <td> 0.001</td> <td>    0.185</td> <td>    0.770</td>\n",
       "</tr>\n",
       "<tr>\n",
       "  <th>ar.L1</th>     <td>    1.8128</td> <td>    0.011</td> <td>  166.263</td> <td> 0.000</td> <td>    1.791</td> <td>    1.834</td>\n",
       "</tr>\n",
       "<tr>\n",
       "  <th>ar.L2</th>     <td>   -0.8168</td> <td>    0.010</td> <td>  -78.562</td> <td> 0.000</td> <td>   -0.837</td> <td>   -0.796</td>\n",
       "</tr>\n",
       "<tr>\n",
       "  <th>ma.S.L12</th>  <td>    0.0158</td> <td>    0.044</td> <td>    0.361</td> <td> 0.718</td> <td>   -0.070</td> <td>    0.102</td>\n",
       "</tr>\n",
       "<tr>\n",
       "  <th>ma.S.L24</th>  <td>    0.0429</td> <td>    0.034</td> <td>    1.255</td> <td> 0.209</td> <td>   -0.024</td> <td>    0.110</td>\n",
       "</tr>\n",
       "<tr>\n",
       "  <th>sigma2</th>    <td>    1.8703</td> <td>    0.027</td> <td>   69.704</td> <td> 0.000</td> <td>    1.818</td> <td>    1.923</td>\n",
       "</tr>\n",
       "</table>\n",
       "<table class=\"simpletable\">\n",
       "<tr>\n",
       "  <th>Ljung-Box (Q):</th>          <td>48.20</td> <th>  Jarque-Bera (JB):  </th> <td>49818.64</td>\n",
       "</tr>\n",
       "<tr>\n",
       "  <th>Prob(Q):</th>                <td>0.18</td>  <th>  Prob(JB):          </th>   <td>0.00</td>  \n",
       "</tr>\n",
       "<tr>\n",
       "  <th>Heteroskedasticity (H):</th> <td>5.99</td>  <th>  Skew:              </th>   <td>1.34</td>  \n",
       "</tr>\n",
       "<tr>\n",
       "  <th>Prob(H) (two-sided):</th>    <td>0.00</td>  <th>  Kurtosis:          </th>   <td>37.47</td> \n",
       "</tr>\n",
       "</table><br/><br/>Warnings:<br/>[1] Covariance matrix calculated using the outer product of gradients (complex-step)."
      ],
      "text/plain": [
       "<class 'statsmodels.iolib.summary.Summary'>\n",
       "\"\"\"\n",
       "                                        SARIMAX Results                                        \n",
       "===============================================================================================\n",
       "Dep. Variable:                                       y   No. Observations:                 1000\n",
       "Model:             SARIMAX(2, 0, 0)x(0, 0, [1, 2], 12)   Log Likelihood               -1735.879\n",
       "Date:                                 Thu, 20 Aug 2020   AIC                           3483.757\n",
       "Time:                                         14:12:58   BIC                           3513.204\n",
       "Sample:                                              0   HQIC                          3494.949\n",
       "                                                - 1000                                         \n",
       "Covariance Type:                                   opg                                         \n",
       "==============================================================================\n",
       "                 coef    std err          z      P>|z|      [0.025      0.975]\n",
       "------------------------------------------------------------------------------\n",
       "intercept      0.4777      0.149      3.202      0.001       0.185       0.770\n",
       "ar.L1          1.8128      0.011    166.263      0.000       1.791       1.834\n",
       "ar.L2         -0.8168      0.010    -78.562      0.000      -0.837      -0.796\n",
       "ma.S.L12       0.0158      0.044      0.361      0.718      -0.070       0.102\n",
       "ma.S.L24       0.0429      0.034      1.255      0.209      -0.024       0.110\n",
       "sigma2         1.8703      0.027     69.704      0.000       1.818       1.923\n",
       "===================================================================================\n",
       "Ljung-Box (Q):                       48.20   Jarque-Bera (JB):             49818.64\n",
       "Prob(Q):                              0.18   Prob(JB):                         0.00\n",
       "Heteroskedasticity (H):               5.99   Skew:                             1.34\n",
       "Prob(H) (two-sided):                  0.00   Kurtosis:                        37.47\n",
       "===================================================================================\n",
       "\n",
       "Warnings:\n",
       "[1] Covariance matrix calculated using the outer product of gradients (complex-step).\n",
       "\"\"\""
      ]
     },
     "execution_count": 6,
     "metadata": {},
     "output_type": "execute_result"
    }
   ],
   "source": [
    "auto_arima(df['GlucoseValue'][0:1000], \n",
    "           seasonal=True, m=12, max_p=3, max_d=3,max_q=3, max_P=4, max_D=4,max_Q=4).summary()"
   ]
  },
  {
   "cell_type": "code",
   "execution_count": 8,
   "metadata": {},
   "outputs": [
    {
     "data": {
      "text/html": [
       "<table class=\"simpletable\">\n",
       "<caption>SARIMAX Results</caption>\n",
       "<tr>\n",
       "  <th>Dep. Variable:</th>     <td>GlucoseValue</td>   <th>  No. Observations:  </th>    <td>31291</td>  \n",
       "</tr>\n",
       "<tr>\n",
       "  <th>Model:</th>           <td>SARIMAX(5, 2, 2)</td> <th>  Log Likelihood     </th> <td>-91520.705</td>\n",
       "</tr>\n",
       "<tr>\n",
       "  <th>Date:</th>            <td>Thu, 20 Aug 2020</td> <th>  AIC                </th> <td>183057.411</td>\n",
       "</tr>\n",
       "<tr>\n",
       "  <th>Time:</th>                <td>14:38:15</td>     <th>  BIC                </th> <td>183124.219</td>\n",
       "</tr>\n",
       "<tr>\n",
       "  <th>Sample:</th>                  <td>0</td>        <th>  HQIC               </th> <td>183078.804</td>\n",
       "</tr>\n",
       "<tr>\n",
       "  <th></th>                     <td> - 31291</td>     <th>                     </th>      <td> </td>    \n",
       "</tr>\n",
       "<tr>\n",
       "  <th>Covariance Type:</th>        <td>opg</td>       <th>                     </th>      <td> </td>    \n",
       "</tr>\n",
       "</table>\n",
       "<table class=\"simpletable\">\n",
       "<tr>\n",
       "     <td></td>       <th>coef</th>     <th>std err</th>      <th>z</th>      <th>P>|z|</th>  <th>[0.025</th>    <th>0.975]</th>  \n",
       "</tr>\n",
       "<tr>\n",
       "  <th>ar.L1</th>  <td>   -0.7062</td> <td>    0.024</td> <td>  -29.793</td> <td> 0.000</td> <td>   -0.753</td> <td>   -0.660</td>\n",
       "</tr>\n",
       "<tr>\n",
       "  <th>ar.L2</th>  <td>    0.2358</td> <td>    0.007</td> <td>   33.625</td> <td> 0.000</td> <td>    0.222</td> <td>    0.250</td>\n",
       "</tr>\n",
       "<tr>\n",
       "  <th>ar.L3</th>  <td>   -0.0497</td> <td>    0.003</td> <td>  -15.830</td> <td> 0.000</td> <td>   -0.056</td> <td>   -0.044</td>\n",
       "</tr>\n",
       "<tr>\n",
       "  <th>ar.L4</th>  <td>    0.0277</td> <td>    0.003</td> <td>    8.876</td> <td> 0.000</td> <td>    0.022</td> <td>    0.034</td>\n",
       "</tr>\n",
       "<tr>\n",
       "  <th>ar.L5</th>  <td>    0.0390</td> <td>    0.002</td> <td>   15.850</td> <td> 0.000</td> <td>    0.034</td> <td>    0.044</td>\n",
       "</tr>\n",
       "<tr>\n",
       "  <th>ma.L1</th>  <td>   -0.0141</td> <td>    0.024</td> <td>   -0.597</td> <td> 0.550</td> <td>   -0.061</td> <td>    0.032</td>\n",
       "</tr>\n",
       "<tr>\n",
       "  <th>ma.L2</th>  <td>   -0.9857</td> <td>    0.024</td> <td>  -41.319</td> <td> 0.000</td> <td>   -1.033</td> <td>   -0.939</td>\n",
       "</tr>\n",
       "<tr>\n",
       "  <th>sigma2</th> <td>   20.3246</td> <td>    0.028</td> <td>  728.008</td> <td> 0.000</td> <td>   20.270</td> <td>   20.379</td>\n",
       "</tr>\n",
       "</table>\n",
       "<table class=\"simpletable\">\n",
       "<tr>\n",
       "  <th>Ljung-Box (Q):</th>          <td>148.35</td> <th>  Jarque-Bera (JB):  </th> <td>9165280104.68</td>\n",
       "</tr>\n",
       "<tr>\n",
       "  <th>Prob(Q):</th>                 <td>0.00</td>  <th>  Prob(JB):          </th>     <td>0.00</td>     \n",
       "</tr>\n",
       "<tr>\n",
       "  <th>Heteroskedasticity (H):</th>  <td>0.86</td>  <th>  Skew:              </th>     <td>24.18</td>    \n",
       "</tr>\n",
       "<tr>\n",
       "  <th>Prob(H) (two-sided):</th>     <td>0.00</td>  <th>  Kurtosis:          </th>    <td>2654.00</td>   \n",
       "</tr>\n",
       "</table><br/><br/>Warnings:<br/>[1] Covariance matrix calculated using the outer product of gradients (complex-step)."
      ],
      "text/plain": [
       "<class 'statsmodels.iolib.summary.Summary'>\n",
       "\"\"\"\n",
       "                               SARIMAX Results                                \n",
       "==============================================================================\n",
       "Dep. Variable:           GlucoseValue   No. Observations:                31291\n",
       "Model:               SARIMAX(5, 2, 2)   Log Likelihood              -91520.705\n",
       "Date:                Thu, 20 Aug 2020   AIC                         183057.411\n",
       "Time:                        14:38:15   BIC                         183124.219\n",
       "Sample:                             0   HQIC                        183078.804\n",
       "                              - 31291                                         \n",
       "Covariance Type:                  opg                                         \n",
       "==============================================================================\n",
       "                 coef    std err          z      P>|z|      [0.025      0.975]\n",
       "------------------------------------------------------------------------------\n",
       "ar.L1         -0.7062      0.024    -29.793      0.000      -0.753      -0.660\n",
       "ar.L2          0.2358      0.007     33.625      0.000       0.222       0.250\n",
       "ar.L3         -0.0497      0.003    -15.830      0.000      -0.056      -0.044\n",
       "ar.L4          0.0277      0.003      8.876      0.000       0.022       0.034\n",
       "ar.L5          0.0390      0.002     15.850      0.000       0.034       0.044\n",
       "ma.L1         -0.0141      0.024     -0.597      0.550      -0.061       0.032\n",
       "ma.L2         -0.9857      0.024    -41.319      0.000      -1.033      -0.939\n",
       "sigma2        20.3246      0.028    728.008      0.000      20.270      20.379\n",
       "===================================================================================\n",
       "Ljung-Box (Q):                      148.35   Jarque-Bera (JB):        9165280104.68\n",
       "Prob(Q):                              0.00   Prob(JB):                         0.00\n",
       "Heteroskedasticity (H):               0.86   Skew:                            24.18\n",
       "Prob(H) (two-sided):                  0.00   Kurtosis:                      2654.00\n",
       "===================================================================================\n",
       "\n",
       "Warnings:\n",
       "[1] Covariance matrix calculated using the outer product of gradients (complex-step).\n",
       "\"\"\""
      ]
     },
     "execution_count": 8,
     "metadata": {},
     "output_type": "execute_result"
    }
   ],
   "source": [
    "arima_model = SARIMAX(train_data['GlucoseValue'], order = (5,2,2))\n",
    "arima_result = arima_model.fit()\n",
    "arima_result.summary()"
   ]
  },
  {
   "cell_type": "code",
   "execution_count": 9,
   "metadata": {},
   "outputs": [
    {
     "data": {
      "text/plain": [
       "31291    86.418329\n",
       "31292    85.789368\n",
       "31293    85.046078\n",
       "31294    84.387435\n",
       "31295    84.164698\n",
       "           ...    \n",
       "31786    82.873820\n",
       "31787    82.871456\n",
       "31788    82.869094\n",
       "31789    82.866729\n",
       "31790    82.864367\n",
       "Name: ARIMA Predictions, Length: 500, dtype: float64"
      ]
     },
     "execution_count": 9,
     "metadata": {},
     "output_type": "execute_result"
    }
   ],
   "source": [
    "arima_pred = arima_result.predict(start = len(train_data), end = len(df)-1, typ=\"levels\").rename(\"ARIMA Predictions\")\n",
    "arima_pred"
   ]
  },
  {
   "cell_type": "code",
   "execution_count": 12,
   "metadata": {},
   "outputs": [],
   "source": [
    "s = (arima_pred.tolist())"
   ]
  },
  {
   "cell_type": "code",
   "execution_count": 13,
   "metadata": {},
   "outputs": [],
   "source": [
    "o = test_data.GlucoseValue.tolist()"
   ]
  },
  {
   "cell_type": "code",
   "execution_count": 14,
   "metadata": {},
   "outputs": [],
   "source": [
    "def index_agreement(o,s):\n",
    "        \n",
    "    ia = 1 -(np.sum((o-s)**2))/(np.sum((np.abs(s-np.mean(o))+np.abs(o-np.mean(o)))**2))\n",
    "\n",
    "    return ia"
   ]
  },
  {
   "cell_type": "code",
   "execution_count": 15,
   "metadata": {},
   "outputs": [
    {
     "data": {
      "text/plain": [
       "0.43892552984254984"
      ]
     },
     "execution_count": 15,
     "metadata": {},
     "output_type": "execute_result"
    }
   ],
   "source": [
    "index_agreement(np.asarray(o),np.asarray(s))"
   ]
  },
  {
   "cell_type": "code",
   "execution_count": null,
   "metadata": {},
   "outputs": [],
   "source": [
    "fig = plt.figure(figsize=(36, 18))\n",
    "plt.plot(test_df['Display Time'], test_df['GlucoseValue'], color='red')\n",
    "plt.plot(test_df['Display Time'], test_df['Preds'], color='green')\n",
    "\n",
    "plt.xlabel('Indexes')\n",
    "plt.ylabel('Glucose Values')\n",
    "plt.show()"
   ]
  }
 ],
 "metadata": {
  "kernelspec": {
   "display_name": "Python 3",
   "language": "python",
   "name": "python3"
  },
  "language_info": {
   "codemirror_mode": {
    "name": "ipython",
    "version": 3
   },
   "file_extension": ".py",
   "mimetype": "text/x-python",
   "name": "python",
   "nbconvert_exporter": "python",
   "pygments_lexer": "ipython3",
   "version": "3.7.4"
  }
 },
 "nbformat": 4,
 "nbformat_minor": 2
}
