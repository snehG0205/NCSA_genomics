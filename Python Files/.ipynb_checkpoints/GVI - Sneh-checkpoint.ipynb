{
 "cells": [
  {
   "cell_type": "code",
   "execution_count": 2,
   "metadata": {},
   "outputs": [],
   "source": [
    "import pandas as pd\n",
    "import numpy as np\n",
    "import matplotlib.pyplot as plt\n",
    "import seaborn as sns\n",
    "\n",
    "from datetime import datetime\n",
    "from statistics import mean\n",
    "from datetime import timedelta\n",
    "\n",
    "import math\n",
    "\n",
    "import warnings  \n",
    "warnings.filterwarnings('ignore')"
   ]
  },
  {
   "cell_type": "code",
   "execution_count": 6,
   "metadata": {},
   "outputs": [],
   "source": [
    "data = pd.read_csv(\"~/Desktop/NCSA_genomics/Python - notebooks/GlucoCheck/Data/consolidatedDataForPackage.csv\")\n",
    "data['Display Time'] = pd.to_datetime(data['Display Time'])\n",
    "data['GlucoseValue'] = pd.to_numeric(data['GlucoseValue'])"
   ]
  },
  {
   "cell_type": "code",
   "execution_count": 7,
   "metadata": {},
   "outputs": [],
   "source": [
    "def fullDay(data):\n",
    "    dates = list()\n",
    "    data = data.reset_index(drop=True)\n",
    "    for i in range(0,len(data.index)):\n",
    "        dates.append(data['Display Time'][i].date())\n",
    "    data['Dates'] = dates\n",
    "    end = data['Dates'].iloc[-1]\n",
    "    start = data['Dates'].iloc[0]\n",
    "\n",
    "    indexVals = data[ data['Dates'] == start ].index\n",
    "    # indexVals\n",
    "    data.drop(indexVals , inplace=True)\n",
    "\n",
    "    indexVals = data[ data['Dates'] == end ].index\n",
    "    # indexVals\n",
    "    data.drop(indexVals , inplace=True)\n",
    "\n",
    "    data = data.reset_index(drop=True)\n",
    "\n",
    "    data.drop(['Dates'], axis=1, inplace=True)\n",
    "\n",
    "    return data\n",
    "\n",
    "def hourlySamples(df):\n",
    "    groupkey = df['Display Time'].values.astype('datetime64[h]')\n",
    "    result = df.groupby(groupkey).mean()\n",
    "    result = result.reset_index(drop=True)\n",
    "    return (result)\n",
    "\n",
    "def subSample(data):\n",
    "    data = data.reset_index(drop=True)\n",
    "    data['Display Time'] = pd.to_datetime(data['Display Time'])\n",
    "    data['time_gap'] = data['Display Time'].shift(1)-data['Display Time'][0]\n",
    "    data['time_gap'][0] = '00:00:00'\n",
    "    mods = [0,870,871,872,873,874,875,876,877,878,879,880,881,882,883,884,885,886,887,888,889,890,891,892,893,894,895,896,897,898,899]\n",
    "    subset = pd.DataFrame()\n",
    "    for i in range(1,len(data.index)):\n",
    "        seconds = data['time_gap'][i].total_seconds()\n",
    "        if (seconds%900) in mods:\n",
    "            subj_id = data['subjectId'][i]\n",
    "            gv = data['GlucoseValue'][i]\n",
    "            dt = data['Display Time'][i]\n",
    "            temp_df = pd.DataFrame({'Display Time':[dt], 'GlucoseValue':[gv], 'subjectId':[subj_id]})\n",
    "            subset = pd.concat([temp_df,subset],ignore_index=True)\n",
    "    subset = subset.iloc[::-1]\n",
    "    subset = subset.reset_index(drop=True)\n",
    "    data.drop(['time_gap'], axis=1, inplace=True)\n",
    "    return subset"
   ]
  },
  {
   "cell_type": "code",
   "execution_count": 8,
   "metadata": {},
   "outputs": [],
   "source": [
    "def IGC(df, unit, lltr = 80, ultr = 140, a = 1.1, b = 2.0, c = 30, d = 30):\n",
    "    if unit == 'mg':\n",
    "        gv = df['GlucoseValue']\n",
    "    elif unit == 'mmol':\n",
    "        gv = 18*df['GlucoseValue']\n",
    "    else:\n",
    "        print('Unit should either be mg or mmol')\n",
    "        return 0\n",
    "    \n",
    "    lower_gv = gv[gv < 90]\n",
    "    upper_gv = gv[gv > 140]\n",
    "    \n",
    "    \n",
    "    count_lower = len(lower_gv.index)\n",
    "    count_upper = len(upper_gv.index)\n",
    "    \n",
    "    hypoglycemicIndex = np.sum(np.power((lltr - lower_gv), b)) / (count_lower*d)   \n",
    "    hyperglycemicIndex = np.sum(np.power((upper_gv - ultr), a)) / (count_upper*c)\n",
    "    \n",
    "    if np.isnan(hypoglycemicIndex):\n",
    "        hypoglycemicIndex = 0\n",
    "    if np.isnan(hyperglycemicIndex):\n",
    "        hyperglycemicIndex=0\n",
    "    \n",
    "    igc = hypoglycemicIndex + hyperglycemicIndex\n",
    "    return igc, hypoglycemicIndex, hyperglycemicIndex"
   ]
  },
  {
   "cell_type": "code",
   "execution_count": 9,
   "metadata": {},
   "outputs": [],
   "source": [
    "def glucoseLiabilityIndex(data, unit):\n",
    "    data = hourlySamples(data)\n",
    "    if unit == 'mg':\n",
    "        data['GlucoseValue'] = data['GlucoseValue']/18\n",
    "    gli = np.sum(np.power(data['GlucoseValue'][i] - data['GlucoseValue'][i+1],2) for i in range(0, len(data.index)-1))\n",
    "    return round(gli)"
   ]
  },
  {
   "cell_type": "code",
   "execution_count": 10,
   "metadata": {},
   "outputs": [],
   "source": [
    "def adrr(xx, unit):\n",
    "    \n",
    "    if unit == 'mg':\n",
    "        f_bg = 1.509*(np.log(xx['GlucoseValue'])**1.084)-5.381\n",
    "        xx['F(BG)'] = f_bg\n",
    "    elif unit == 'mmol':\n",
    "        f_bg = 1.509*(np.log(xx['GlucoseValue']*18)**1.084)-5.381\n",
    "        xx['F(BG)'] = f_bg\n",
    "    else:\n",
    "        print('Unit should either be mg or mmol')\n",
    "        return 0\n",
    "    \n",
    "    dates = []\n",
    "    for i in range(len(xx.index)):\n",
    "        dates.append(xx['Display Time'][i].date())\n",
    "    xx['Date'] = dates \n",
    "    \n",
    "\n",
    "    for Date, df in xx.groupby('Date'):\n",
    "        r_BG = 0\n",
    "        rl_BG = [0]\n",
    "        rh_BG = [0]\n",
    "        LR = 0\n",
    "        HR = 0\n",
    "        ADDR_daily = []\n",
    "        for f_BG in df['F(BG)']:\n",
    "            if f_BG < 0:\n",
    "                rl_BG.append(f_BG)\n",
    "            else:\n",
    "                rh_BG.append(f_BG)\n",
    "\n",
    "        LR = max(rl_BG)\n",
    "        HR = max(rh_BG)\n",
    "        ADDR_daily.append(LR+HR)\n",
    "    \n",
    "    \n",
    "    return round(mean(ADDR_daily),3)\n",
    "        \n",
    "            "
   ]
  },
  {
   "cell_type": "code",
   "execution_count": 11,
   "metadata": {},
   "outputs": [],
   "source": [
    "def modd(data):\n",
    "    data = subSample(data)\n",
    "    data['Display Time'] = data['Display Time'].dt.round('5min') \n",
    "    \n",
    "    times = []\n",
    "    for i in range(len(data.index)):\n",
    "        times.append(data['Display Time'][i].time())\n",
    "    data['Time'] = times  \n",
    "\n",
    "\n",
    "    Modd = [] \n",
    "    s = 0\n",
    "    gvDiff = 0\n",
    "\n",
    "    for Time, df in data.groupby('Time'):\n",
    "        gvDiff = df['GlucoseValue'] - df['GlucoseValue'].shift(-1)\n",
    "        s = round(gvDiff.sum(),3)\n",
    "        Modd.append(s)\n",
    "    return round(mean(Modd),3)\n",
    "    "
   ]
  },
  {
   "cell_type": "code",
   "execution_count": 19,
   "metadata": {},
   "outputs": [],
   "source": [
    "def congaN(df, n):\n",
    "    day = df['Display Time'].iloc[-1]-df['Display Time'].iloc[0]\n",
    "    day = day.round(\"d\")\n",
    "    day = day.days\n",
    "    \n",
    "    df = df.set_index(['Display Time'])\n",
    "    t = str(n*3600)+'s'\n",
    "    gv = df['GlucoseValue'].resample(t).first()\n",
    "    \n",
    "    k = len(gv)\n",
    "    \n",
    "    frame = pd.DataFrame()\n",
    "    frame['GV'] = gv\n",
    "    frame['Dt'] = frame['GV'] - frame['GV'].shift(+1)\n",
    "    frame = frame.fillna(0)\n",
    "    \n",
    "    dBar = sum(frame['Dt']) / k\n",
    "    \n",
    "    s = 0\n",
    "    for i in frame['Dt']:\n",
    "        s += (i-dBar)**2\n",
    "        \n",
    "    conga = math.sqrt(s/(k-1))\n",
    "    \n",
    "    return round(conga/day, 3)\n",
    "    "
   ]
  },
  {
   "cell_type": "code",
   "execution_count": 27,
   "metadata": {},
   "outputs": [],
   "source": [
    "xx = data[data['subjectId'] == \"1636-69-032\"]\n",
    "xx = fullDay(xx)"
   ]
  },
  {
   "cell_type": "code",
   "execution_count": 28,
   "metadata": {},
   "outputs": [
    {
     "data": {
      "text/plain": [
       "(1.740718384240811, 1.4662309368191722, 0.2744874474216389)"
      ]
     },
     "execution_count": 28,
     "metadata": {},
     "output_type": "execute_result"
    }
   ],
   "source": [
    "IGC(xx, 'mg')"
   ]
  },
  {
   "cell_type": "code",
   "execution_count": 29,
   "metadata": {},
   "outputs": [
    {
     "data": {
      "text/plain": [
       "25.0"
      ]
     },
     "execution_count": 29,
     "metadata": {},
     "output_type": "execute_result"
    }
   ],
   "source": [
    "glucoseLiabilityIndex(xx, 'mg')"
   ]
  },
  {
   "cell_type": "code",
   "execution_count": 30,
   "metadata": {},
   "outputs": [
    {
     "data": {
      "text/plain": [
       "3.174"
      ]
     },
     "execution_count": 30,
     "metadata": {},
     "output_type": "execute_result"
    }
   ],
   "source": [
    "adrr(xx, 'mg')"
   ]
  },
  {
   "cell_type": "code",
   "execution_count": 31,
   "metadata": {},
   "outputs": [
    {
     "data": {
      "text/plain": [
       "4.49"
      ]
     },
     "execution_count": 31,
     "metadata": {},
     "output_type": "execute_result"
    }
   ],
   "source": [
    "modd(xx)"
   ]
  },
  {
   "cell_type": "code",
   "execution_count": 32,
   "metadata": {},
   "outputs": [
    {
     "name": "stdout",
     "output_type": "stream",
     "text": [
      "2.542\t3.379\t3.843\n"
     ]
    }
   ],
   "source": [
    "conga_1 = congaN(xx, 1)\n",
    "conga_2 = congaN(xx, 2)\n",
    "conga_4 = congaN(xx, 4)\n",
    "print(\"{}\\t{}\\t{}\".format(conga_1,conga_2,conga_4))"
   ]
  },
  {
   "cell_type": "code",
   "execution_count": null,
   "metadata": {},
   "outputs": [],
   "source": []
  }
 ],
 "metadata": {
  "kernelspec": {
   "display_name": "Python 3",
   "language": "python",
   "name": "python3"
  },
  "language_info": {
   "codemirror_mode": {
    "name": "ipython",
    "version": 3
   },
   "file_extension": ".py",
   "mimetype": "text/x-python",
   "name": "python",
   "nbconvert_exporter": "python",
   "pygments_lexer": "ipython3",
   "version": "3.7.4"
  }
 },
 "nbformat": 4,
 "nbformat_minor": 2
}
