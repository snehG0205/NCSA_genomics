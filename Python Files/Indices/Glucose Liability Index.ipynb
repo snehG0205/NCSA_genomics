{
 "cells": [
  {
   "cell_type": "code",
   "execution_count": 1,
   "metadata": {},
   "outputs": [],
   "source": [
    "import pandas as pd\n",
    "import numpy as np\n",
    "import matplotlib.pyplot as plt\n",
    "import seaborn as sns\n",
    "\n",
    "from datetime import datetime\n",
    "from statistics import mean\n",
    "from datetime import timedelta\n",
    "\n",
    "import math\n",
    "\n",
    "import warnings  \n",
    "warnings.filterwarnings('ignore')\n"
   ]
  },
  {
   "cell_type": "code",
   "execution_count": 2,
   "metadata": {},
   "outputs": [],
   "source": [
    "data = pd.read_csv(\"~/Desktop/NCSA_genomics/Python - notebooks/TSForecasting/Data/consolidatedDataForPackage.csv\")\n",
    "data['Display Time'] = pd.to_datetime(data['Display Time'])\n",
    "data['GlucoseValue'] = pd.to_numeric(data['GlucoseValue'])"
   ]
  },
  {
   "cell_type": "code",
   "execution_count": 3,
   "metadata": {},
   "outputs": [],
   "source": [
    "def fullDay(data):\n",
    "        \n",
    "    dates = list()\n",
    "    data = data.reset_index(drop=True)\n",
    "    for i in range(0,len(data.index)):\n",
    "        dates.append(data['Display Time'][i].date())\n",
    "    data['Dates'] = dates\n",
    "    end = data['Dates'].iloc[-1]\n",
    "    start = data['Dates'].iloc[0]\n",
    "\n",
    "    indexVals = data[ data['Dates'] == start ].index\n",
    "    # indexVals\n",
    "    data.drop(indexVals , inplace=True)\n",
    "\n",
    "    indexVals = data[ data['Dates'] == end ].index\n",
    "    # indexVals\n",
    "    data.drop(indexVals , inplace=True)\n",
    "\n",
    "    data = data.reset_index(drop=True)\n",
    "\n",
    "    data.drop(['Dates'], axis=1, inplace=True)\n",
    "\n",
    "    return data"
   ]
  },
  {
   "cell_type": "code",
   "execution_count": 23,
   "metadata": {},
   "outputs": [],
   "source": [
    "def hourlySamples(df):\n",
    "    groupkey = df['Display Time'].values.astype('datetime64[h]')\n",
    "    result = df.groupby(groupkey).mean()\n",
    "    result = result.reset_index(drop=True)\n",
    "    return (result)"
   ]
  },
  {
   "cell_type": "code",
   "execution_count": 38,
   "metadata": {},
   "outputs": [],
   "source": [
    "def glucoseLiabilityIndex(data, unit):\n",
    "    if unit == 'mg':\n",
    "        data['GlucoseValue'] = data['GlucoseValue']/18\n",
    "    gli = np.sum(np.power(data['GlucoseValue'][i] - data['GlucoseValue'][i+1],2) for i in range(0, len(data.index)-1))\n",
    "    return round(gli)\n",
    "    \n",
    "    "
   ]
  },
  {
   "cell_type": "code",
   "execution_count": 43,
   "metadata": {},
   "outputs": [
    {
     "name": "stdout",
     "output_type": "stream",
     "text": [
      "Display Time    datetime64[ns]\n",
      "GlucoseValue           float64\n",
      "subjectId               object\n",
      "dtype: object\n"
     ]
    }
   ],
   "source": [
    "xx = data[data['subjectId'] == \"1636-69-032\"]\n",
    "print(xx.dtypes)\n",
    "xx = fullDay(xx)\n",
    "xx = hourlySamples(xx)"
   ]
  },
  {
   "cell_type": "code",
   "execution_count": null,
   "metadata": {},
   "outputs": [],
   "source": []
  },
  {
   "cell_type": "code",
   "execution_count": 44,
   "metadata": {},
   "outputs": [
    {
     "data": {
      "text/html": [
       "<div>\n",
       "<style scoped>\n",
       "    .dataframe tbody tr th:only-of-type {\n",
       "        vertical-align: middle;\n",
       "    }\n",
       "\n",
       "    .dataframe tbody tr th {\n",
       "        vertical-align: top;\n",
       "    }\n",
       "\n",
       "    .dataframe thead th {\n",
       "        text-align: right;\n",
       "    }\n",
       "</style>\n",
       "<table border=\"1\" class=\"dataframe\">\n",
       "  <thead>\n",
       "    <tr style=\"text-align: right;\">\n",
       "      <th></th>\n",
       "      <th>GlucoseValue</th>\n",
       "    </tr>\n",
       "  </thead>\n",
       "  <tbody>\n",
       "    <tr>\n",
       "      <td>0</td>\n",
       "      <td>126.833333</td>\n",
       "    </tr>\n",
       "    <tr>\n",
       "      <td>1</td>\n",
       "      <td>125.166667</td>\n",
       "    </tr>\n",
       "    <tr>\n",
       "      <td>2</td>\n",
       "      <td>122.000000</td>\n",
       "    </tr>\n",
       "    <tr>\n",
       "      <td>3</td>\n",
       "      <td>112.333333</td>\n",
       "    </tr>\n",
       "    <tr>\n",
       "      <td>4</td>\n",
       "      <td>104.333333</td>\n",
       "    </tr>\n",
       "    <tr>\n",
       "      <td>...</td>\n",
       "      <td>...</td>\n",
       "    </tr>\n",
       "    <tr>\n",
       "      <td>115</td>\n",
       "      <td>113.083333</td>\n",
       "    </tr>\n",
       "    <tr>\n",
       "      <td>116</td>\n",
       "      <td>129.250000</td>\n",
       "    </tr>\n",
       "    <tr>\n",
       "      <td>117</td>\n",
       "      <td>134.250000</td>\n",
       "    </tr>\n",
       "    <tr>\n",
       "      <td>118</td>\n",
       "      <td>114.500000</td>\n",
       "    </tr>\n",
       "    <tr>\n",
       "      <td>119</td>\n",
       "      <td>124.500000</td>\n",
       "    </tr>\n",
       "  </tbody>\n",
       "</table>\n",
       "<p>120 rows × 1 columns</p>\n",
       "</div>"
      ],
      "text/plain": [
       "     GlucoseValue\n",
       "0      126.833333\n",
       "1      125.166667\n",
       "2      122.000000\n",
       "3      112.333333\n",
       "4      104.333333\n",
       "..            ...\n",
       "115    113.083333\n",
       "116    129.250000\n",
       "117    134.250000\n",
       "118    114.500000\n",
       "119    124.500000\n",
       "\n",
       "[120 rows x 1 columns]"
      ]
     },
     "execution_count": 44,
     "metadata": {},
     "output_type": "execute_result"
    }
   ],
   "source": [
    "xx"
   ]
  },
  {
   "cell_type": "code",
   "execution_count": 45,
   "metadata": {},
   "outputs": [
    {
     "name": "stdout",
     "output_type": "stream",
     "text": [
      "25.0\n"
     ]
    }
   ],
   "source": [
    "LI = glucoseLiabilityIndex(xx, 'mg')\n",
    "print(LI)"
   ]
  },
  {
   "cell_type": "code",
   "execution_count": 41,
   "metadata": {},
   "outputs": [
    {
     "name": "stdout",
     "output_type": "stream",
     "text": [
      "1636-69-001 79.0\n",
      "1636-69-001-2 92.0\n",
      "1636-69-026 166.0\n",
      "1636-69-028 34.0\n",
      "1636-69-032 25.0\n",
      "1636-69-035 225.0\n",
      "1636-69-048 41.0\n",
      "1636-69-053 97.0\n",
      "1636-69-060 58.0\n",
      "1636-69-064 170.0\n",
      "1636-69-069 95.0\n",
      "1636-69-090 126.0\n",
      "1636-69-091 47.0\n",
      "1636-69-100 28.0\n",
      "1636-69-104 48.0\n",
      "1636-69-104-2 41.0\n",
      "1636-69-107 83.0\n",
      "1636-69-111 20.0\n",
      "1636-69-114 35.0\n",
      "1636-69-123 48.0\n",
      "1636-70-1002 90.0\n",
      "1636-70-1003 72.0\n",
      "1636-70-1005 239.0\n",
      "1636-70-1008 127.0\n",
      "1636-70-1010 78.0\n",
      "2133-001 62.0\n",
      "2133-002 63.0\n",
      "2133-003 184.0\n",
      "2133-004 197.0\n",
      "2133-006 31.0\n",
      "2133-007 113.0\n",
      "2133-008 44.0\n",
      "2133-009 76.0\n",
      "2133-010 48.0\n",
      "2133-011 85.0\n",
      "2133-012 59.0\n",
      "2133-013 140.0\n",
      "2133-015 78.0\n",
      "2133-017 116.0\n",
      "2133-018 359.0\n",
      "2133-019 31.0\n",
      "2133-019-2 5.0\n",
      "2133-020 185.0\n",
      "2133-021 228.0\n",
      "2133-022 191.0\n",
      "2133-023 48.0\n",
      "2133-024 122.0\n",
      "2133-025 70.0\n",
      "2133-026 42.0\n",
      "2133-027 52.0\n",
      "2133-028 24.0\n",
      "2133-030 34.0\n",
      "2133-032 38.0\n",
      "2133-033 71.0\n",
      "2133-035 84.0\n",
      "2133-036 273.0\n",
      "2133-037 63.0\n",
      "2133-039 242.0\n",
      "2133-040 52.0\n",
      "2133-041 111.0\n",
      "GVP01 351.0\n",
      "GVP03 49190.0\n",
      "ID01 321.0\n",
      "ID02 67.0\n",
      "ID03 222.0\n",
      "ID11 139.0\n",
      "ID12 171.0\n",
      "ID13 88.0\n",
      "ID21 142.0\n",
      "ID22 77.0\n",
      "ID23 283.0\n",
      "ID29 64.0\n",
      "ID30 43.0\n",
      "ID31 13.0\n",
      "ID32 382.0\n",
      "ID33 104.0\n",
      "OD540 4332.0\n",
      "OD544 3459.0\n",
      "OD552 2970.0\n",
      "OD559 5748.0\n",
      "OD563 3014.0\n",
      "OD567 5168.0\n",
      "OD570 2248.0\n",
      "OD575 5172.0\n",
      "OD584 5272.0\n",
      "OD588 3052.0\n",
      "OD591 4623.0\n",
      "OD596 2492.0\n"
     ]
    }
   ],
   "source": [
    "for subjectId, df in data.groupby('subjectId'):\n",
    "    df = fullDay(df)\n",
    "    df = hourlySamples(df)\n",
    "    LI = glucoseLiabilityIndex(df, 'mg')\n",
    "    print(subjectId,LI)"
   ]
  },
  {
   "cell_type": "code",
   "execution_count": null,
   "metadata": {},
   "outputs": [],
   "source": []
  }
 ],
 "metadata": {
  "kernelspec": {
   "display_name": "Python 3",
   "language": "python",
   "name": "python3"
  },
  "language_info": {
   "codemirror_mode": {
    "name": "ipython",
    "version": 3
   },
   "file_extension": ".py",
   "mimetype": "text/x-python",
   "name": "python",
   "nbconvert_exporter": "python",
   "pygments_lexer": "ipython3",
   "version": "3.7.4"
  }
 },
 "nbformat": 4,
 "nbformat_minor": 2
}
