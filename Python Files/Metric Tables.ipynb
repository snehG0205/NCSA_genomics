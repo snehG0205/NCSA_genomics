{
 "cells": [
  {
   "cell_type": "code",
   "execution_count": null,
   "metadata": {
    "ExecuteTime": {
     "end_time": "2020-10-07T21:21:01.472263Z",
     "start_time": "2020-10-07T21:20:49.906730Z"
    }
   },
   "outputs": [],
   "source": []
  },
  {
   "cell_type": "code",
   "execution_count": 1,
   "metadata": {
    "ExecuteTime": {
     "end_time": "2020-10-28T17:22:58.000722Z",
     "start_time": "2020-10-28T17:22:45.193216Z"
    }
   },
   "outputs": [
    {
     "name": "stderr",
     "output_type": "stream",
     "text": [
      "Using TensorFlow backend.\n"
     ]
    }
   ],
   "source": [
    "from GlucoCheck.glucoCheck import glucoCheckOps\n",
    "import pandas as pd\n",
    "import random\n",
    "import numpy as np\n",
    "from tqdm.auto import tqdm\n",
    "\n",
    "from scipy import stats\n",
    "\n",
    "import random\n",
    "import re\n",
    "from dateutil.parser import parse\n",
    "\n",
    "import warnings  \n",
    "warnings.filterwarnings('ignore')\n",
    "\n",
    "import os\n"
   ]
  },
  {
   "cell_type": "code",
   "execution_count": 2,
   "metadata": {
    "ExecuteTime": {
     "end_time": "2020-10-28T17:22:58.096036Z",
     "start_time": "2020-10-28T17:22:58.053873Z"
    }
   },
   "outputs": [],
   "source": [
    "def createGap(df,start,end):\n",
    "    \"\"\"\n",
    "    Creating a Gap\n",
    "    input:\n",
    "        start: seed\n",
    "        end: seed + gap\n",
    "    output:\n",
    "        df: dataframe with index => DisplayTime value => GlucoseValues and a gap from start to end (inputs)\n",
    "    \"\"\"\n",
    "\n",
    "    #df = readData()\n",
    "    l = len(df.index)\n",
    "    if end>l:\n",
    "        end = l\n",
    "        \n",
    "    for i in range(start,end):\n",
    "        df['GlucoseValue'][i]=float(\"NaN\")\n",
    "    \n",
    "    return df"
   ]
  },
  {
   "cell_type": "code",
   "execution_count": 3,
   "metadata": {
    "ExecuteTime": {
     "end_time": "2020-10-28T17:22:58.660791Z",
     "start_time": "2020-10-28T17:22:58.136044Z"
    }
   },
   "outputs": [
    {
     "data": {
      "text/html": [
       "<div>\n",
       "<style scoped>\n",
       "    .dataframe tbody tr th:only-of-type {\n",
       "        vertical-align: middle;\n",
       "    }\n",
       "\n",
       "    .dataframe tbody tr th {\n",
       "        vertical-align: top;\n",
       "    }\n",
       "\n",
       "    .dataframe thead th {\n",
       "        text-align: right;\n",
       "    }\n",
       "</style>\n",
       "<table border=\"1\" class=\"dataframe\">\n",
       "  <thead>\n",
       "    <tr style=\"text-align: right;\">\n",
       "      <th></th>\n",
       "      <th>subjectId</th>\n",
       "      <th>Display Time</th>\n",
       "      <th>GlucoseValue</th>\n",
       "    </tr>\n",
       "  </thead>\n",
       "  <tbody>\n",
       "    <tr>\n",
       "      <td>0</td>\n",
       "      <td>OD552</td>\n",
       "      <td>4/16/25 11:17</td>\n",
       "      <td>95</td>\n",
       "    </tr>\n",
       "    <tr>\n",
       "      <td>1</td>\n",
       "      <td>OD552</td>\n",
       "      <td>4/16/25 11:22</td>\n",
       "      <td>86</td>\n",
       "    </tr>\n",
       "    <tr>\n",
       "      <td>2</td>\n",
       "      <td>OD552</td>\n",
       "      <td>4/16/25 11:27</td>\n",
       "      <td>81</td>\n",
       "    </tr>\n",
       "    <tr>\n",
       "      <td>3</td>\n",
       "      <td>OD552</td>\n",
       "      <td>4/16/25 11:32</td>\n",
       "      <td>81</td>\n",
       "    </tr>\n",
       "    <tr>\n",
       "      <td>4</td>\n",
       "      <td>OD552</td>\n",
       "      <td>4/16/25 11:37</td>\n",
       "      <td>82</td>\n",
       "    </tr>\n",
       "    <tr>\n",
       "      <td>...</td>\n",
       "      <td>...</td>\n",
       "      <td>...</td>\n",
       "      <td>...</td>\n",
       "    </tr>\n",
       "    <tr>\n",
       "      <td>11439</td>\n",
       "      <td>OD552</td>\n",
       "      <td>6/7/25 16:49</td>\n",
       "      <td>238</td>\n",
       "    </tr>\n",
       "    <tr>\n",
       "      <td>11440</td>\n",
       "      <td>OD552</td>\n",
       "      <td>6/7/25 16:54</td>\n",
       "      <td>233</td>\n",
       "    </tr>\n",
       "    <tr>\n",
       "      <td>11441</td>\n",
       "      <td>OD552</td>\n",
       "      <td>6/7/25 16:59</td>\n",
       "      <td>229</td>\n",
       "    </tr>\n",
       "    <tr>\n",
       "      <td>11442</td>\n",
       "      <td>OD552</td>\n",
       "      <td>6/7/25 17:04</td>\n",
       "      <td>224</td>\n",
       "    </tr>\n",
       "    <tr>\n",
       "      <td>11443</td>\n",
       "      <td>OD552</td>\n",
       "      <td>6/7/25 17:09</td>\n",
       "      <td>215</td>\n",
       "    </tr>\n",
       "  </tbody>\n",
       "</table>\n",
       "<p>11444 rows × 3 columns</p>\n",
       "</div>"
      ],
      "text/plain": [
       "      subjectId   Display Time  GlucoseValue\n",
       "0         OD552  4/16/25 11:17            95\n",
       "1         OD552  4/16/25 11:22            86\n",
       "2         OD552  4/16/25 11:27            81\n",
       "3         OD552  4/16/25 11:32            81\n",
       "4         OD552  4/16/25 11:37            82\n",
       "...         ...            ...           ...\n",
       "11439     OD552   6/7/25 16:49           238\n",
       "11440     OD552   6/7/25 16:54           233\n",
       "11441     OD552   6/7/25 16:59           229\n",
       "11442     OD552   6/7/25 17:04           224\n",
       "11443     OD552   6/7/25 17:09           215\n",
       "\n",
       "[11444 rows x 3 columns]"
      ]
     },
     "execution_count": 3,
     "metadata": {},
     "output_type": "execute_result"
    }
   ],
   "source": [
    "#Extract Data\n",
    "data = pd.read_csv(\"~/Desktop/NCSA_genomics/Python - notebooks/Data/Ohio-Data/OhioFullConsolidated.csv\")\n",
    "data = data[data['subjectId']=='OD552']\n",
    "data = data.reset_index(drop=True)\n",
    "data"
   ]
  },
  {
   "cell_type": "code",
   "execution_count": null,
   "metadata": {
    "ExecuteTime": {
     "end_time": "2020-10-16T20:27:50.285935Z",
     "start_time": "2020-10-16T20:27:50.235970Z"
    }
   },
   "outputs": [],
   "source": []
  },
  {
   "cell_type": "code",
   "execution_count": 106,
   "metadata": {
    "ExecuteTime": {
     "end_time": "2020-10-28T20:52:05.245984Z",
     "start_time": "2020-10-28T20:52:05.238986Z"
    }
   },
   "outputs": [],
   "source": [
    "#1 week after : 1890, 1974, 2003, 2196, 2378, 2581, 2751, 3190, 3223, 3301\n",
    "#2 weeks after: 3600, 3797, 3828, 3939, 4210, 4353, 4567, 4890, 5102, 5200\n",
    "#3 weeks after: 5500, 5681, 5727, 5893, 5919, 6060, 6143, 6250, 6492, 6600\n",
    "#4 weeks after: 7000, 7296, 7384, 7557, 7572, 7698, 7839, 7934, 8190, 8250\n",
    "#5 weeks after: 8500, 8670, 8792, 8810, 8972, 9009, 9380, 9592, 9715, 9800\n",
    "#6 weeks after: 10100, 10274, 10453, 10679, 10712, 10890, 109100, 11069, 11170, 11200\n",
    "seed_points = [10100, 10274, 10453, 10679, 10712, 10890, 10910, 11069, 11170, 11200]\n",
    "\n",
    "# "
   ]
  },
  {
   "cell_type": "code",
   "execution_count": 107,
   "metadata": {
    "ExecuteTime": {
     "end_time": "2020-10-28T20:52:05.720727Z",
     "start_time": "2020-10-28T20:52:05.698139Z"
    }
   },
   "outputs": [],
   "source": [
    "# obj = glucoCheckOps()"
   ]
  },
  {
   "cell_type": "code",
   "execution_count": null,
   "metadata": {
    "ExecuteTime": {
     "end_time": "2020-10-23T05:11:30.937878Z",
     "start_time": "2020-10-23T05:11:30.932745Z"
    }
   },
   "outputs": [],
   "source": []
  },
  {
   "cell_type": "code",
   "execution_count": 108,
   "metadata": {
    "ExecuteTime": {
     "end_time": "2020-10-28T21:26:16.230534Z",
     "start_time": "2020-10-28T20:52:06.598845Z"
    }
   },
   "outputs": [
    {
     "data": {
      "application/vnd.jupyter.widget-view+json": {
       "model_id": "152449fe4e904d78a8c412656a20b45e",
       "version_major": 2,
       "version_minor": 0
      },
      "text/plain": [
       "HBox(children=(IntProgress(value=0, max=10), HTML(value='')))"
      ]
     },
     "metadata": {},
     "output_type": "display_data"
    },
    {
     "name": "stdout",
     "output_type": "stream",
     "text": [
      "Gap < 50; We use LSTM imputations\n",
      "Training Model...\n",
      "\n",
      "\n",
      "Model trained successfully!\n",
      "Gap < 50; We use LSTM imputations\n",
      "Training Model...\n",
      "\n",
      "\n",
      "Model trained successfully!\n",
      "Gap < 50; We use LSTM imputations\n",
      "Training Model...\n",
      "\n",
      "\n",
      "Model trained successfully!\n",
      "Gap < 50; We use LSTM imputations\n",
      "Training Model...\n",
      "\n",
      "\n",
      "Model trained successfully!\n",
      "Gap < 50; We use LSTM imputations\n",
      "Training Model...\n",
      "\n",
      "\n",
      "Model trained successfully!\n",
      "Gap < 50; We use LSTM imputations\n",
      "Training Model...\n",
      "\n",
      "\n",
      "Model trained successfully!\n",
      "Gap < 50; We use LSTM imputations\n",
      "Training Model...\n",
      "\n",
      "\n",
      "Model trained successfully!\n",
      "Gap < 50; We use LSTM imputations\n",
      "Training Model...\n",
      "\n",
      "\n",
      "Model trained successfully!\n",
      "Gap < 50; We use LSTM imputations\n",
      "Training Model...\n",
      "\n",
      "\n",
      "Model trained successfully!\n",
      "Gap < 50; We use LSTM imputations\n",
      "Training Model...\n",
      "\n",
      "\n",
      "Model trained successfully!\n",
      "\n"
     ]
    },
    {
     "data": {
      "text/plain": [
       "[0.6152307064249909,\n",
       " 0.42340234137098764,\n",
       " 0.31026570895699146,\n",
       " 0.806537720973527,\n",
       " 0.0881566266364906,\n",
       " 0.40890147884062344,\n",
       " 0.45974380624878497,\n",
       " 0.08291213593607172,\n",
       " 0.07768133944301148,\n",
       " 0.90984842839771]"
      ]
     },
     "execution_count": 108,
     "metadata": {},
     "output_type": "execute_result"
    }
   ],
   "source": [
    "\n",
    "#for gap size 50\n",
    "ioa_gap50 = list()\n",
    "\n",
    "\n",
    "for seed in tqdm(seed_points):\n",
    "    start = seed\n",
    "    end = seed+49\n",
    "    \n",
    "    dataWithMissing = data.copy()\n",
    "    dataWithMissing = createGap(dataWithMissing,start,end)\n",
    "    \n",
    "    dataBeforeGap = dataWithMissing[:seed]\n",
    "    \n",
    "    obj = glucoCheckOps()\n",
    "#     obj.train(dataBeforeGap);\n",
    "    imputed_data = obj.impute(dataWithMissing)\n",
    "\n",
    "    ioa = obj.index_agreement(np.asarray(imputed_data['GlucoseValue'][start:end-1].tolist()),np.asarray(data['GlucoseValue'][start:end-1].tolist()))\n",
    "\n",
    "    del obj\n",
    "\n",
    "    ioa_gap50.append(ioa)\n",
    "\n",
    "ioa_gap50"
   ]
  },
  {
   "cell_type": "code",
   "execution_count": 109,
   "metadata": {
    "ExecuteTime": {
     "end_time": "2020-10-28T21:58:59.751643Z",
     "start_time": "2020-10-28T21:26:16.245940Z"
    }
   },
   "outputs": [
    {
     "data": {
      "application/vnd.jupyter.widget-view+json": {
       "model_id": "bc39b978f68046ecb447b4cefe516a86",
       "version_major": 2,
       "version_minor": 0
      },
      "text/plain": [
       "HBox(children=(IntProgress(value=0, max=10), HTML(value='')))"
      ]
     },
     "metadata": {},
     "output_type": "display_data"
    },
    {
     "name": "stdout",
     "output_type": "stream",
     "text": [
      "Gap < 50; We use LSTM imputations\n",
      "Training Model...\n",
      "\n",
      "\n",
      "Model trained successfully!\n",
      "Gap < 50; We use LSTM imputations\n",
      "Training Model...\n",
      "\n",
      "\n",
      "Model trained successfully!\n",
      "Gap < 50; We use LSTM imputations\n",
      "Training Model...\n",
      "\n",
      "\n",
      "Model trained successfully!\n",
      "Gap < 50; We use LSTM imputations\n",
      "Training Model...\n",
      "\n",
      "\n",
      "Model trained successfully!\n",
      "Gap < 50; We use LSTM imputations\n",
      "Training Model...\n",
      "\n",
      "\n",
      "Model trained successfully!\n",
      "Gap < 50; We use LSTM imputations\n",
      "Training Model...\n",
      "\n",
      "\n",
      "Model trained successfully!\n",
      "Gap < 50; We use LSTM imputations\n",
      "Training Model...\n",
      "\n",
      "\n",
      "Model trained successfully!\n",
      "Gap < 50; We use LSTM imputations\n",
      "Training Model...\n",
      "\n",
      "\n",
      "Model trained successfully!\n",
      "Gap < 50; We use LSTM imputations\n",
      "Training Model...\n",
      "\n",
      "\n",
      "Model trained successfully!\n",
      "Gap < 50; We use LSTM imputations\n",
      "Training Model...\n",
      "\n",
      "\n",
      "Model trained successfully!\n",
      "\n"
     ]
    },
    {
     "data": {
      "text/plain": [
       "[0.8983005655518829,\n",
       " 0.8735163999963007,\n",
       " 0.37900225738549065,\n",
       " 0.09353003263493753,\n",
       " 0.40855898540860325,\n",
       " 0.24242437136162764,\n",
       " 0.6123195380173243,\n",
       " 0.09244300748201295,\n",
       " 0.14972946341148086,\n",
       " 0.38613779765781253]"
      ]
     },
     "execution_count": 109,
     "metadata": {},
     "output_type": "execute_result"
    }
   ],
   "source": [
    "#for gap size 30\n",
    "ioa_gap30 = list()\n",
    "\n",
    "for seed in tqdm(seed_points):\n",
    "    start = seed\n",
    "    end = start+29\n",
    "    \n",
    "    dataWithMissing = data.copy()\n",
    "    dataWithMissing = createGap(dataWithMissing,start,end)\n",
    "    \n",
    "    dataBeforeGap = dataWithMissing[:seed]\n",
    "    \n",
    "    obj = glucoCheckOps()\n",
    "#     obj.train(dataBeforeGap);\n",
    "    imputed_data = obj.impute(dataWithMissing)\n",
    "\n",
    "    ioa = obj.index_agreement(np.asarray(imputed_data['GlucoseValue'][start:end-1].tolist()),np.asarray(data['GlucoseValue'][start:end-1].tolist()))  \n",
    "    \n",
    "    del obj\n",
    "\n",
    "    ioa_gap30.append(ioa)\n",
    "\n",
    "ioa_gap30\n"
   ]
  },
  {
   "cell_type": "code",
   "execution_count": 110,
   "metadata": {
    "ExecuteTime": {
     "end_time": "2020-10-28T21:59:36.994835Z",
     "start_time": "2020-10-28T21:58:59.770880Z"
    }
   },
   "outputs": [
    {
     "data": {
      "application/vnd.jupyter.widget-view+json": {
       "model_id": "cdfb7e96e0764c33896e609fbb0c86e0",
       "version_major": 2,
       "version_minor": 0
      },
      "text/plain": [
       "HBox(children=(IntProgress(value=0, max=10), HTML(value='')))"
      ]
     },
     "metadata": {},
     "output_type": "display_data"
    },
    {
     "name": "stdout",
     "output_type": "stream",
     "text": [
      "Gap < 15; We use the spline imputations\n",
      "Gap < 15; We use the spline imputations\n",
      "Gap < 15; We use the spline imputations\n",
      "Gap < 15; We use the spline imputations\n",
      "Gap < 15; We use the spline imputations\n",
      "Gap < 15; We use the spline imputations\n",
      "Gap < 15; We use the spline imputations\n",
      "Gap < 15; We use the spline imputations\n",
      "Gap < 15; We use the spline imputations\n",
      "Gap < 15; We use the spline imputations\n",
      "\n"
     ]
    },
    {
     "data": {
      "text/plain": [
       "[0.9668900387262722,\n",
       " 0.24783741102589452,\n",
       " 0.7624034268936788,\n",
       " 0.5209199471105266,\n",
       " 0.9994900926846296,\n",
       " 0.4824631657548668,\n",
       " 0.43213295341056934,\n",
       " 0.6234693379819551,\n",
       " 0.7120380460765696,\n",
       " 0.4403790006745705]"
      ]
     },
     "execution_count": 110,
     "metadata": {},
     "output_type": "execute_result"
    }
   ],
   "source": [
    "#for gap size 12\n",
    "ioa_gap15 = list()\n",
    "\n",
    "\n",
    "for seed in tqdm(seed_points):\n",
    "    start = seed\n",
    "    end = start+12\n",
    "    \n",
    "    dataWithMissing = data.copy()\n",
    "    dataWithMissing = createGap(dataWithMissing,start,end)\n",
    "    \n",
    "    dataBeforeGap = dataWithMissing[:seed]\n",
    "    \n",
    "    obj = glucoCheckOps()\n",
    "#     obj.train(dataBeforeGap);\n",
    "    imputed_data = obj.impute(dataWithMissing)\n",
    "\n",
    "    ioa = obj.index_agreement(np.asarray(imputed_data['GlucoseValue'][start:end-1].tolist()),np.asarray(data['GlucoseValue'][start:end-1].tolist()))  \n",
    "    \n",
    "    del obj\n",
    "    \n",
    "    ioa_gap15.append(ioa)\n",
    "\n",
    "ioa_gap15"
   ]
  },
  {
   "cell_type": "code",
   "execution_count": 111,
   "metadata": {
    "ExecuteTime": {
     "end_time": "2020-10-28T21:59:37.231958Z",
     "start_time": "2020-10-28T21:59:37.008093Z"
    }
   },
   "outputs": [
    {
     "data": {
      "application/vnd.jupyter.widget-view+json": {
       "model_id": "2707a7f7650443ab93e4253b81a03621",
       "version_major": 2,
       "version_minor": 0
      },
      "text/plain": [
       "HBox(children=(IntProgress(value=0, max=10), HTML(value='')))"
      ]
     },
     "metadata": {},
     "output_type": "display_data"
    },
    {
     "name": "stdout",
     "output_type": "stream",
     "text": [
      "We cannot impute this data\n",
      "We cannot impute this data\n",
      "We cannot impute this data\n",
      "We cannot impute this data\n",
      "We cannot impute this data\n",
      "We cannot impute this data\n",
      "We cannot impute this data\n",
      "We cannot impute this data\n",
      "We cannot impute this data\n",
      "We cannot impute this data\n",
      "\n"
     ]
    },
    {
     "data": {
      "text/plain": [
       "[0, 0, 0, 0, 0, 0, 0, 0, 0, 0]"
      ]
     },
     "execution_count": 111,
     "metadata": {},
     "output_type": "execute_result"
    }
   ],
   "source": [
    "#for gap size 100\n",
    "ioa_gap100 = list()\n",
    "\n",
    "for seed in tqdm(seed_points):\n",
    "    start = seed\n",
    "    end = seed+99\n",
    "    \n",
    "    dataWithMissing = data.copy()\n",
    "    dataWithMissing = createGap(dataWithMissing,start,end)\n",
    "    \n",
    "    dataBeforeGap = dataWithMissing[:seed]\n",
    "    \n",
    "    obj = glucoCheckOps()\n",
    "#     obj.train(dataBeforeGap);\n",
    "    imputed_data = obj.impute(dataWithMissing)\n",
    "    \n",
    "    if isinstance(imputed_data, pd.DataFrame):\n",
    "        ioa = obj.index_agreement(np.asarray(imputed_data['GlucoseValue'][start:end-1].tolist()),np.asarray(data['GlucoseValue'][start:end-1].tolist()))\n",
    "        ioa_gap100.append(ioa)\n",
    "    else:\n",
    "        ioa_gap100.append(0)\n",
    "\n",
    "    del obj\n",
    "\n",
    "    \n",
    "    \n",
    "ioa_gap100"
   ]
  },
  {
   "cell_type": "code",
   "execution_count": 112,
   "metadata": {
    "ExecuteTime": {
     "end_time": "2020-10-28T21:59:37.488683Z",
     "start_time": "2020-10-28T21:59:37.235648Z"
    }
   },
   "outputs": [
    {
     "data": {
      "application/vnd.jupyter.widget-view+json": {
       "model_id": "4f49e7522765457f8f021e538766d450",
       "version_major": 2,
       "version_minor": 0
      },
      "text/plain": [
       "HBox(children=(IntProgress(value=0, max=10), HTML(value='')))"
      ]
     },
     "metadata": {},
     "output_type": "display_data"
    },
    {
     "name": "stdout",
     "output_type": "stream",
     "text": [
      "Gap < 5; We use the linear imputations\n",
      "Gap < 5; We use the linear imputations\n",
      "Gap < 5; We use the linear imputations\n",
      "Gap < 5; We use the linear imputations\n",
      "Gap < 5; We use the linear imputations\n",
      "Gap < 5; We use the linear imputations\n",
      "Gap < 5; We use the linear imputations\n",
      "Gap < 5; We use the linear imputations\n",
      "Gap < 5; We use the linear imputations\n",
      "Gap < 5; We use the linear imputations\n",
      "\n"
     ]
    },
    {
     "data": {
      "text/plain": [
       "[0.5696846388606309,\n",
       " 0.5805958747135238,\n",
       " 0.5314991402219784,\n",
       " 0.40090681302947107,\n",
       " 0.9984563431923048,\n",
       " 0.5106697708037422,\n",
       " 0.6563584727043223,\n",
       " 0.9923385625684057,\n",
       " 0.8811609360700743,\n",
       " 0.39981224951558103]"
      ]
     },
     "execution_count": 112,
     "metadata": {},
     "output_type": "execute_result"
    }
   ],
   "source": [
    "\n",
    "\n",
    "\n",
    "#for gap size 5\n",
    "ioa_gap5 = list()\n",
    "# fb_gap5 = list()\n",
    "# mad_gap5 = list()\n",
    "# rmse_gap5 = list()\n",
    "# mape_gap5 = list()\n",
    "\n",
    "for seed in tqdm(seed_points):\n",
    "    start = seed\n",
    "    end = start+4\n",
    "    \n",
    "    dataWithMissing = data.copy()\n",
    "    dataWithMissing = createGap(dataWithMissing,start,end)\n",
    "    \n",
    "    dataBeforeGap = dataWithMissing[:seed]\n",
    "    \n",
    "    obj = glucoCheckOps()\n",
    "#     obj.train(dataBeforeGap);\n",
    "    imputed_data = obj.impute(dataWithMissing)\n",
    "\n",
    "    ioa = obj.index_agreement(np.asarray(imputed_data['GlucoseValue'][start:end-1].tolist()),np.asarray(data['GlucoseValue'][start:end-1].tolist()))  \n",
    "    \n",
    "    del obj\n",
    "    \n",
    "    ioa_gap5.append(ioa)\n",
    "\n",
    "\n",
    "\n",
    "\n",
    "ioa_gap5"
   ]
  },
  {
   "cell_type": "code",
   "execution_count": null,
   "metadata": {},
   "outputs": [],
   "source": []
  },
  {
   "cell_type": "code",
   "execution_count": 113,
   "metadata": {
    "ExecuteTime": {
     "end_time": "2020-10-28T21:59:37.520955Z",
     "start_time": "2020-10-28T21:59:37.492407Z"
    }
   },
   "outputs": [
    {
     "data": {
      "text/html": [
       "<div>\n",
       "<style scoped>\n",
       "    .dataframe tbody tr th:only-of-type {\n",
       "        vertical-align: middle;\n",
       "    }\n",
       "\n",
       "    .dataframe tbody tr th {\n",
       "        vertical-align: top;\n",
       "    }\n",
       "\n",
       "    .dataframe thead th {\n",
       "        text-align: right;\n",
       "    }\n",
       "</style>\n",
       "<table border=\"1\" class=\"dataframe\">\n",
       "  <thead>\n",
       "    <tr style=\"text-align: right;\">\n",
       "      <th></th>\n",
       "      <th>Seeds</th>\n",
       "      <th>Gap:5</th>\n",
       "      <th>Gap:12</th>\n",
       "      <th>Gap:30</th>\n",
       "      <th>Gap:50</th>\n",
       "      <th>Gap:100</th>\n",
       "    </tr>\n",
       "  </thead>\n",
       "  <tbody>\n",
       "    <tr>\n",
       "      <td>0</td>\n",
       "      <td>10100</td>\n",
       "      <td>0.569685</td>\n",
       "      <td>0.966890</td>\n",
       "      <td>0.898301</td>\n",
       "      <td>0.615231</td>\n",
       "      <td>0</td>\n",
       "    </tr>\n",
       "    <tr>\n",
       "      <td>1</td>\n",
       "      <td>10274</td>\n",
       "      <td>0.580596</td>\n",
       "      <td>0.247837</td>\n",
       "      <td>0.873516</td>\n",
       "      <td>0.423402</td>\n",
       "      <td>0</td>\n",
       "    </tr>\n",
       "    <tr>\n",
       "      <td>2</td>\n",
       "      <td>10453</td>\n",
       "      <td>0.531499</td>\n",
       "      <td>0.762403</td>\n",
       "      <td>0.379002</td>\n",
       "      <td>0.310266</td>\n",
       "      <td>0</td>\n",
       "    </tr>\n",
       "    <tr>\n",
       "      <td>3</td>\n",
       "      <td>10679</td>\n",
       "      <td>0.400907</td>\n",
       "      <td>0.520920</td>\n",
       "      <td>0.093530</td>\n",
       "      <td>0.806538</td>\n",
       "      <td>0</td>\n",
       "    </tr>\n",
       "    <tr>\n",
       "      <td>4</td>\n",
       "      <td>10712</td>\n",
       "      <td>0.998456</td>\n",
       "      <td>0.999490</td>\n",
       "      <td>0.408559</td>\n",
       "      <td>0.088157</td>\n",
       "      <td>0</td>\n",
       "    </tr>\n",
       "    <tr>\n",
       "      <td>5</td>\n",
       "      <td>10890</td>\n",
       "      <td>0.510670</td>\n",
       "      <td>0.482463</td>\n",
       "      <td>0.242424</td>\n",
       "      <td>0.408901</td>\n",
       "      <td>0</td>\n",
       "    </tr>\n",
       "    <tr>\n",
       "      <td>6</td>\n",
       "      <td>10910</td>\n",
       "      <td>0.656358</td>\n",
       "      <td>0.432133</td>\n",
       "      <td>0.612320</td>\n",
       "      <td>0.459744</td>\n",
       "      <td>0</td>\n",
       "    </tr>\n",
       "    <tr>\n",
       "      <td>7</td>\n",
       "      <td>11069</td>\n",
       "      <td>0.992339</td>\n",
       "      <td>0.623469</td>\n",
       "      <td>0.092443</td>\n",
       "      <td>0.082912</td>\n",
       "      <td>0</td>\n",
       "    </tr>\n",
       "    <tr>\n",
       "      <td>8</td>\n",
       "      <td>11170</td>\n",
       "      <td>0.881161</td>\n",
       "      <td>0.712038</td>\n",
       "      <td>0.149729</td>\n",
       "      <td>0.077681</td>\n",
       "      <td>0</td>\n",
       "    </tr>\n",
       "    <tr>\n",
       "      <td>9</td>\n",
       "      <td>11200</td>\n",
       "      <td>0.399812</td>\n",
       "      <td>0.440379</td>\n",
       "      <td>0.386138</td>\n",
       "      <td>0.909848</td>\n",
       "      <td>0</td>\n",
       "    </tr>\n",
       "  </tbody>\n",
       "</table>\n",
       "</div>"
      ],
      "text/plain": [
       "   Seeds     Gap:5    Gap:12    Gap:30    Gap:50  Gap:100\n",
       "0  10100  0.569685  0.966890  0.898301  0.615231        0\n",
       "1  10274  0.580596  0.247837  0.873516  0.423402        0\n",
       "2  10453  0.531499  0.762403  0.379002  0.310266        0\n",
       "3  10679  0.400907  0.520920  0.093530  0.806538        0\n",
       "4  10712  0.998456  0.999490  0.408559  0.088157        0\n",
       "5  10890  0.510670  0.482463  0.242424  0.408901        0\n",
       "6  10910  0.656358  0.432133  0.612320  0.459744        0\n",
       "7  11069  0.992339  0.623469  0.092443  0.082912        0\n",
       "8  11170  0.881161  0.712038  0.149729  0.077681        0\n",
       "9  11200  0.399812  0.440379  0.386138  0.909848        0"
      ]
     },
     "execution_count": 113,
     "metadata": {},
     "output_type": "execute_result"
    }
   ],
   "source": [
    "IOA = pd.DataFrame({'Seeds':seed_points, 'Gap:5':ioa_gap5, 'Gap:12':ioa_gap15, 'Gap:30':ioa_gap30, 'Gap:50':ioa_gap50,'Gap:100':ioa_gap100})\n",
    "IOA\n"
   ]
  },
  {
   "cell_type": "code",
   "execution_count": null,
   "metadata": {},
   "outputs": [],
   "source": []
  },
  {
   "cell_type": "code",
   "execution_count": 114,
   "metadata": {
    "ExecuteTime": {
     "end_time": "2020-10-28T21:59:37.537681Z",
     "start_time": "2020-10-28T21:59:37.524392Z"
    }
   },
   "outputs": [],
   "source": [
    "IOA.to_csv(\"~/Desktop/6week.csv\")"
   ]
  },
  {
   "cell_type": "code",
   "execution_count": null,
   "metadata": {},
   "outputs": [],
   "source": []
  },
  {
   "cell_type": "code",
   "execution_count": null,
   "metadata": {},
   "outputs": [],
   "source": []
  },
  {
   "cell_type": "code",
   "execution_count": 115,
   "metadata": {
    "ExecuteTime": {
     "end_time": "2020-10-28T21:59:37.564484Z",
     "start_time": "2020-10-28T21:59:37.549031Z"
    }
   },
   "outputs": [],
   "source": [
    "import matplotlib.pyplot as plt\n",
    "import matplotlib.ticker as ticker\n",
    "import seaborn as sns"
   ]
  },
  {
   "cell_type": "code",
   "execution_count": 116,
   "metadata": {
    "ExecuteTime": {
     "end_time": "2020-10-28T21:59:37.584341Z",
     "start_time": "2020-10-28T21:59:37.577119Z"
    }
   },
   "outputs": [],
   "source": [
    "# IOA"
   ]
  },
  {
   "cell_type": "code",
   "execution_count": 117,
   "metadata": {
    "ExecuteTime": {
     "end_time": "2020-10-28T21:59:37.609567Z",
     "start_time": "2020-10-28T21:59:37.588325Z"
    }
   },
   "outputs": [
    {
     "data": {
      "text/plain": [
       "[0.6521482801680035,\n",
       " 0.6188023420339535,\n",
       " 0.41359624189074734,\n",
       " 0.41826802932291895,\n",
       " 0.0]"
      ]
     },
     "execution_count": 117,
     "metadata": {},
     "output_type": "execute_result"
    }
   ],
   "source": [
    "gaps = [5,15,30,50,100]\n",
    "ioa = []\n",
    "ioa.append(IOA['Gap:5'].mean())\n",
    "ioa.append(IOA['Gap:12'].mean())\n",
    "ioa.append(IOA['Gap:30'].mean())\n",
    "ioa.append(IOA['Gap:50'].mean())\n",
    "ioa.append(IOA['Gap:100'].mean())\n",
    "ioa"
   ]
  },
  {
   "cell_type": "code",
   "execution_count": 118,
   "metadata": {
    "ExecuteTime": {
     "end_time": "2020-10-28T21:59:38.270310Z",
     "start_time": "2020-10-28T21:59:37.617802Z"
    }
   },
   "outputs": [
    {
     "data": {
      "text/plain": [
       "Text(0, 0.5, 'IOA value')"
      ]
     },
     "execution_count": 118,
     "metadata": {},
     "output_type": "execute_result"
    },
    {
     "data": {
      "image/png": "[encoded data removed]",
      "text/plain": [
       "<Figure size 1008x576 with 1 Axes>"
      ]
     },
     "metadata": {},
     "output_type": "display_data"
    }
   ],
   "source": [
    "plt.figure(figsize=(14,8))\n",
    "plt.title(\"Avg. IOA vs Gap size\")\n",
    "sns.set(style=\"white\")\n",
    "fig = sns.lineplot(x = gaps, y = ioa, palette=\"tab10\", linewidth=1.25)\n",
    "sns.despine()\n",
    "\n",
    "fig.set_xlabel('Gaps')\n",
    "fig.set_ylabel('IOA value')"
   ]
  },
  {
   "cell_type": "code",
   "execution_count": null,
   "metadata": {},
   "outputs": [],
   "source": []
  },
  {
   "cell_type": "code",
   "execution_count": null,
   "metadata": {
    "ExecuteTime": {
     "end_time": "2020-10-14T19:05:45.526332Z",
     "start_time": "2020-10-14T19:05:45.518683Z"
    }
   },
   "outputs": [],
   "source": []
  },
  {
   "cell_type": "code",
   "execution_count": 119,
   "metadata": {
    "ExecuteTime": {
     "end_time": "2020-10-28T21:59:38.788187Z",
     "start_time": "2020-10-28T21:59:38.275961Z"
    }
   },
   "outputs": [
    {
     "data": {
      "text/plain": [
       "Text(0, 0.5, 'IOA value')"
      ]
     },
     "execution_count": 119,
     "metadata": {},
     "output_type": "execute_result"
    },
    {
     "data": {
      "image/png": "[encoded data removed]",
      "text/plain": [
       "<Figure size 1008x576 with 1 Axes>"
      ]
     },
     "metadata": {},
     "output_type": "display_data"
    }
   ],
   "source": [
    "\n",
    "plt.figure(figsize=(14,8))\n",
    "plt.title(\"IOA for Gap:5\")\n",
    "sns.set(style=\"white\")\n",
    "fig = sns.lineplot(x = seed_points, y = IOA['Gap:5'], data = IOA, palette=\"tab10\", linewidth=1.25)\n",
    "sns.despine()\n",
    "\n",
    "fig.set_xlabel('Gap Seeds')\n",
    "fig.set_ylabel('IOA value')"
   ]
  },
  {
   "cell_type": "code",
   "execution_count": 120,
   "metadata": {
    "ExecuteTime": {
     "end_time": "2020-10-28T21:59:39.365293Z",
     "start_time": "2020-10-28T21:59:38.793284Z"
    }
   },
   "outputs": [
    {
     "data": {
      "text/plain": [
       "Text(0, 0.5, 'IOA value')"
      ]
     },
     "execution_count": 120,
     "metadata": {},
     "output_type": "execute_result"
    },
    {
     "data": {
      "image/png": "[encoded data removed]",
      "text/plain": [
       "<Figure size 1008x576 with 1 Axes>"
      ]
     },
     "metadata": {},
     "output_type": "display_data"
    }
   ],
   "source": [
    "\n",
    "plt.figure(figsize=(14,8))\n",
    "plt.title(\"IOA for Gap:15\")\n",
    "sns.set(style=\"white\")\n",
    "fig = sns.lineplot(x = seed_points, y = IOA['Gap:12'], data = IOA, palette=\"tab10\", linewidth=1.25)\n",
    "sns.despine()\n",
    "\n",
    "fig.set_xlabel('Gap Seeds')\n",
    "fig.set_ylabel('IOA value')"
   ]
  },
  {
   "cell_type": "code",
   "execution_count": 121,
   "metadata": {
    "ExecuteTime": {
     "end_time": "2020-10-28T21:59:39.876318Z",
     "start_time": "2020-10-28T21:59:39.371174Z"
    }
   },
   "outputs": [
    {
     "data": {
      "text/plain": [
       "Text(0, 0.5, 'IOA value')"
      ]
     },
     "execution_count": 121,
     "metadata": {},
     "output_type": "execute_result"
    },
    {
     "data": {
      "image/png": "[encoded data removed]",
      "text/plain": [
       "<Figure size 1008x576 with 1 Axes>"
      ]
     },
     "metadata": {},
     "output_type": "display_data"
    }
   ],
   "source": [
    "\n",
    "plt.figure(figsize=(14,8))\n",
    "plt.title(\"IOA for Gap:30\")\n",
    "sns.set(style=\"white\")\n",
    "fig = sns.lineplot(x = seed_points, y = IOA['Gap:30'], data = IOA, palette=\"tab10\", linewidth=1.25)\n",
    "sns.despine()\n",
    "\n",
    "fig.set_xlabel('Gap Seeds')\n",
    "fig.set_ylabel('IOA value')"
   ]
  },
  {
   "cell_type": "code",
   "execution_count": 122,
   "metadata": {
    "ExecuteTime": {
     "end_time": "2020-10-28T21:59:40.359970Z",
     "start_time": "2020-10-28T21:59:39.880948Z"
    }
   },
   "outputs": [
    {
     "data": {
      "text/plain": [
       "Text(0, 0.5, 'IOA value')"
      ]
     },
     "execution_count": 122,
     "metadata": {},
     "output_type": "execute_result"
    },
    {
     "data": {
      "image/png": "[encoded data removed]",
      "text/plain": [
       "<Figure size 1008x576 with 1 Axes>"
      ]
     },
     "metadata": {},
     "output_type": "display_data"
    }
   ],
   "source": [
    "\n",
    "plt.figure(figsize=(14,8))\n",
    "plt.title(\"IOA for Gap:50\")\n",
    "sns.set(style=\"white\")\n",
    "fig = sns.lineplot(x = seed_points, y = IOA['Gap:50'], data = IOA, palette=\"tab10\", linewidth=1.25)\n",
    "sns.despine()\n",
    "\n",
    "fig.set_xlabel('Gap Seeds')\n",
    "fig.set_ylabel('IOA value')"
   ]
  },
  {
   "cell_type": "code",
   "execution_count": 123,
   "metadata": {
    "ExecuteTime": {
     "end_time": "2020-10-28T21:59:40.920516Z",
     "start_time": "2020-10-28T21:59:40.364005Z"
    }
   },
   "outputs": [
    {
     "data": {
      "text/plain": [
       "Text(0, 0.5, 'IOA value')"
      ]
     },
     "execution_count": 123,
     "metadata": {},
     "output_type": "execute_result"
    },
    {
     "data": {
      "image/png": "[encoded data removed]",
      "text/plain": [
       "<Figure size 1008x576 with 1 Axes>"
      ]
     },
     "metadata": {},
     "output_type": "display_data"
    }
   ],
   "source": [
    "\n",
    "plt.figure(figsize=(14,8))\n",
    "plt.title(\"IOA for Gap:100\")\n",
    "sns.set(style=\"white\")\n",
    "fig = sns.lineplot(x = seed_points, y = IOA['Gap:100'], data = IOA, palette=\"tab10\", linewidth=1.25)\n",
    "sns.despine()\n",
    "fig.set_xlabel('Gap Seeds')\n",
    "fig.set_ylabel('IOA value')"
   ]
  },
  {
   "cell_type": "markdown",
   "metadata": {},
   "source": [
    "#### "
   ]
  },
  {
   "cell_type": "code",
   "execution_count": null,
   "metadata": {},
   "outputs": [],
   "source": []
  },
  {
   "cell_type": "code",
   "execution_count": 22,
   "metadata": {
    "ExecuteTime": {
     "end_time": "2020-10-28T17:36:57.947886Z",
     "start_time": "2020-10-28T17:36:57.940509Z"
    }
   },
   "outputs": [],
   "source": [
    "# MAD = pd.DataFrame({'Gap:5':mad_gap5, 'Gap:15':mad_gap15, 'Gap:30':mad_gap30, 'Gap:50':mad_gap50, 'Gap:100':mad_gap100})\n",
    "# MAD"
   ]
  },
  {
   "cell_type": "code",
   "execution_count": 23,
   "metadata": {
    "ExecuteTime": {
     "end_time": "2020-10-28T17:36:57.967053Z",
     "start_time": "2020-10-28T17:36:57.960079Z"
    }
   },
   "outputs": [],
   "source": [
    "# FB = pd.DataFrame({'Gap:5':fb_gap5, 'Gap:15':fb_gap15, 'Gap:30':fb_gap30, 'Gap:50':fb_gap50, 'Gap:100':fb_gap100})\n",
    "# FB"
   ]
  },
  {
   "cell_type": "code",
   "execution_count": 24,
   "metadata": {
    "ExecuteTime": {
     "end_time": "2020-10-28T17:36:57.978425Z",
     "start_time": "2020-10-28T17:36:57.970868Z"
    }
   },
   "outputs": [],
   "source": [
    "# RMSE = pd.DataFrame({'Gap:5':rmse_gap5, 'Gap:15':rmse_gap15, 'Gap:30':rmse_gap30, 'Gap:50':rmse_gap50, 'Gap:100':rmse_gap100})\n",
    "# RMSE"
   ]
  },
  {
   "cell_type": "code",
   "execution_count": 25,
   "metadata": {
    "ExecuteTime": {
     "end_time": "2020-10-28T17:36:58.039215Z",
     "start_time": "2020-10-28T17:36:57.984775Z"
    }
   },
   "outputs": [],
   "source": [
    "# MAPE = pd.DataFrame({'Gap:5':mape_gap5, 'Gap:15':mape_gap15, 'Gap:30':mape_gap30, 'Gap:50':mape_gap50, 'Gap:100':mape_gap100})\n",
    "# MAPE"
   ]
  },
  {
   "cell_type": "code",
   "execution_count": 26,
   "metadata": {
    "ExecuteTime": {
     "end_time": "2020-10-28T17:36:58.072137Z",
     "start_time": "2020-10-28T17:36:58.061311Z"
    }
   },
   "outputs": [],
   "source": [
    "# IOA.to_csv(\"~/Desktop/NCSA_genomics/Python - notebooks/GlucoCheck/Metrics/IOA.csv\")\n",
    "# FB.to_csv(\"~/Desktop/NCSA_genomics/Python - notebooks/GlucoCheck/Metrics/FB.csv\")\n",
    "# RMSE.to_csv(\"~/Desktop/NCSA_genomics/Python - notebooks/GlucoCheck/Metrics/RMSE.csv\")\n",
    "# MAPE.to_csv(\"~/Desktop/NCSA_genomics/Python - notebooks/GlucoCheck/Metrics/MAPE.csv\")\n",
    "# MAD.to_csv(\"~/Desktop/NCSA_genomics/Python - notebooks/GlucoCheck/Metrics/MAD.csv\")"
   ]
  },
  {
   "cell_type": "code",
   "execution_count": null,
   "metadata": {},
   "outputs": [],
   "source": []
  }
 ],
 "metadata": {
  "kernelspec": {
   "display_name": "Python 3",
   "language": "python",
   "name": "python3"
  },
  "language_info": {
   "codemirror_mode": {
    "name": "ipython",
    "version": 3
   },
   "file_extension": ".py",
   "mimetype": "text/x-python",
   "name": "python",
   "nbconvert_exporter": "python",
   "pygments_lexer": "ipython3",
   "version": "3.7.4"
  }
 },
 "nbformat": 4,
 "nbformat_minor": 2
}
