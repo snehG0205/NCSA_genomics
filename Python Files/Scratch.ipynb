{
 "cells": [
  {
   "cell_type": "code",
   "execution_count": 1,
   "metadata": {
    "ExecuteTime": {
     "end_time": "2020-11-27T17:38:00.716790Z",
     "start_time": "2020-11-27T17:37:44.151978Z"
    }
   },
   "outputs": [
    {
     "name": "stderr",
     "output_type": "stream",
     "text": [
      "Using TensorFlow backend.\n"
     ]
    }
   ],
   "source": [
    "import pandas as pd\n",
    "import numpy as np\n",
    "import os\n",
    "import math\n",
    "import random\n",
    "import re\n",
    "\n",
    "# for plotting\n",
    "import matplotlib.pyplot as plt\n",
    "import matplotlib.ticker as ticker\n",
    "import seaborn as sns\n",
    "\n",
    "# for datetime operations\n",
    "from dateutil.parser import parse\n",
    "from datetime import timedelta\n",
    "from datetime import datetime\n",
    "\n",
    "from GlucoCheck.glucoCheck import glucoCheckOps\n",
    "glucoCheckObject = glucoCheckOps()"
   ]
  },
  {
   "cell_type": "code",
   "execution_count": 2,
   "metadata": {
    "ExecuteTime": {
     "end_time": "2020-11-27T17:38:25.426615Z",
     "start_time": "2020-11-27T17:38:00.762615Z"
    }
   },
   "outputs": [
    {
     "data": {
      "text/html": [
       "<div>\n",
       "<style scoped>\n",
       "    .dataframe tbody tr th:only-of-type {\n",
       "        vertical-align: middle;\n",
       "    }\n",
       "\n",
       "    .dataframe tbody tr th {\n",
       "        vertical-align: top;\n",
       "    }\n",
       "\n",
       "    .dataframe thead th {\n",
       "        text-align: right;\n",
       "    }\n",
       "</style>\n",
       "<table border=\"1\" class=\"dataframe\">\n",
       "  <thead>\n",
       "    <tr style=\"text-align: right;\">\n",
       "      <th></th>\n",
       "      <th>subjectId</th>\n",
       "      <th>Display Time</th>\n",
       "      <th>GlucoseValue</th>\n",
       "    </tr>\n",
       "  </thead>\n",
       "  <tbody>\n",
       "    <tr>\n",
       "      <td>0</td>\n",
       "      <td>1636-69-001</td>\n",
       "      <td>2014-02-03 03:42:00</td>\n",
       "      <td>93</td>\n",
       "    </tr>\n",
       "    <tr>\n",
       "      <td>1</td>\n",
       "      <td>1636-69-001</td>\n",
       "      <td>2014-02-03 03:47:00</td>\n",
       "      <td>93</td>\n",
       "    </tr>\n",
       "    <tr>\n",
       "      <td>2</td>\n",
       "      <td>1636-69-001</td>\n",
       "      <td>2014-02-03 03:52:00</td>\n",
       "      <td>93</td>\n",
       "    </tr>\n",
       "    <tr>\n",
       "      <td>3</td>\n",
       "      <td>1636-69-001</td>\n",
       "      <td>2014-02-03 03:57:00</td>\n",
       "      <td>95</td>\n",
       "    </tr>\n",
       "    <tr>\n",
       "      <td>4</td>\n",
       "      <td>1636-69-001</td>\n",
       "      <td>2014-02-03 04:02:00</td>\n",
       "      <td>96</td>\n",
       "    </tr>\n",
       "  </tbody>\n",
       "</table>\n",
       "</div>"
      ],
      "text/plain": [
       "     subjectId        Display Time  GlucoseValue\n",
       "0  1636-69-001 2014-02-03 03:42:00            93\n",
       "1  1636-69-001 2014-02-03 03:47:00            93\n",
       "2  1636-69-001 2014-02-03 03:52:00            93\n",
       "3  1636-69-001 2014-02-03 03:57:00            95\n",
       "4  1636-69-001 2014-02-03 04:02:00            96"
      ]
     },
     "execution_count": 2,
     "metadata": {},
     "output_type": "execute_result"
    }
   ],
   "source": [
    "data = glucoCheckObject.hall_data\n",
    "data['Display Time'] = pd.to_datetime(data['Display Time']) # Ensures that displayTime column \n",
    "# is converted to datetime format.\n",
    "data['GlucoseValue'] = pd.to_numeric(data['GlucoseValue'])# Ensures that gluvoseValue is numeric\n",
    "data.head() # this allows you to peek at loaded data; or type just data to see first and last portion of your dataset"
   ]
  },
  {
   "cell_type": "code",
   "execution_count": 3,
   "metadata": {
    "ExecuteTime": {
     "end_time": "2020-11-27T17:38:25.472726Z",
     "start_time": "2020-11-27T17:38:25.432464Z"
    }
   },
   "outputs": [],
   "source": [
    "uid = '1636-69-028' \n",
    "new = data[data.iloc[:,0]==str(uid)]\n",
    "new = new.reset_index(drop=True)\n",
    "# new['GlucoseValue'] = new.iloc[:,2]\n",
    "# new = new.astype({'GlucoseValue':int})\n",
    "# new['GV'] = new.iloc[:,2]\n",
    "# new['DT'] = pd.to_datetime(new.iloc[:,1])\n",
    "# new['DT'] = new['DT'].dt.round(\"5min\")\n",
    "# display(new)"
   ]
  },
  {
   "cell_type": "code",
   "execution_count": 4,
   "metadata": {
    "ExecuteTime": {
     "end_time": "2020-11-27T17:38:25.501848Z",
     "start_time": "2020-11-27T17:38:25.478446Z"
    }
   },
   "outputs": [
    {
     "data": {
      "text/html": [
       "<div>\n",
       "<style scoped>\n",
       "    .dataframe tbody tr th:only-of-type {\n",
       "        vertical-align: middle;\n",
       "    }\n",
       "\n",
       "    .dataframe tbody tr th {\n",
       "        vertical-align: top;\n",
       "    }\n",
       "\n",
       "    .dataframe thead th {\n",
       "        text-align: right;\n",
       "    }\n",
       "</style>\n",
       "<table border=\"1\" class=\"dataframe\">\n",
       "  <thead>\n",
       "    <tr style=\"text-align: right;\">\n",
       "      <th></th>\n",
       "      <th>subjectId</th>\n",
       "      <th>Display Time</th>\n",
       "      <th>GlucoseValue</th>\n",
       "    </tr>\n",
       "  </thead>\n",
       "  <tbody>\n",
       "    <tr>\n",
       "      <td>0</td>\n",
       "      <td>1636-69-028</td>\n",
       "      <td>2015-04-02 13:33:00</td>\n",
       "      <td>129</td>\n",
       "    </tr>\n",
       "    <tr>\n",
       "      <td>1</td>\n",
       "      <td>1636-69-028</td>\n",
       "      <td>2015-04-02 13:38:00</td>\n",
       "      <td>131</td>\n",
       "    </tr>\n",
       "    <tr>\n",
       "      <td>2</td>\n",
       "      <td>1636-69-028</td>\n",
       "      <td>2015-04-02 13:43:00</td>\n",
       "      <td>132</td>\n",
       "    </tr>\n",
       "    <tr>\n",
       "      <td>3</td>\n",
       "      <td>1636-69-028</td>\n",
       "      <td>2015-04-02 13:48:00</td>\n",
       "      <td>137</td>\n",
       "    </tr>\n",
       "    <tr>\n",
       "      <td>4</td>\n",
       "      <td>1636-69-028</td>\n",
       "      <td>2015-04-02 13:58:00</td>\n",
       "      <td>133</td>\n",
       "    </tr>\n",
       "  </tbody>\n",
       "</table>\n",
       "</div>"
      ],
      "text/plain": [
       "     subjectId        Display Time  GlucoseValue\n",
       "0  1636-69-028 2015-04-02 13:33:00           129\n",
       "1  1636-69-028 2015-04-02 13:38:00           131\n",
       "2  1636-69-028 2015-04-02 13:43:00           132\n",
       "3  1636-69-028 2015-04-02 13:48:00           137\n",
       "4  1636-69-028 2015-04-02 13:58:00           133"
      ]
     },
     "execution_count": 4,
     "metadata": {},
     "output_type": "execute_result"
    }
   ],
   "source": [
    "new.head()"
   ]
  },
  {
   "cell_type": "code",
   "execution_count": null,
   "metadata": {},
   "outputs": [],
   "source": []
  },
  {
   "cell_type": "code",
   "execution_count": 20,
   "metadata": {
    "ExecuteTime": {
     "end_time": "2020-11-27T18:43:02.770890Z",
     "start_time": "2020-11-27T18:43:02.721856Z"
    }
   },
   "outputs": [
    {
     "data": {
      "text/html": [
       "<div>\n",
       "<style scoped>\n",
       "    .dataframe tbody tr th:only-of-type {\n",
       "        vertical-align: middle;\n",
       "    }\n",
       "\n",
       "    .dataframe tbody tr th {\n",
       "        vertical-align: top;\n",
       "    }\n",
       "\n",
       "    .dataframe thead th {\n",
       "        text-align: right;\n",
       "    }\n",
       "</style>\n",
       "<table border=\"1\" class=\"dataframe\">\n",
       "  <thead>\n",
       "    <tr style=\"text-align: right;\">\n",
       "      <th></th>\n",
       "      <th>subjectId</th>\n",
       "      <th>Display Time</th>\n",
       "      <th>GlucoseValue</th>\n",
       "      <th>EWM-GV</th>\n",
       "    </tr>\n",
       "  </thead>\n",
       "  <tbody>\n",
       "    <tr>\n",
       "      <td>0</td>\n",
       "      <td>1636-69-028</td>\n",
       "      <td>2015-04-02 13:33:00</td>\n",
       "      <td>129</td>\n",
       "      <td>129.0</td>\n",
       "    </tr>\n",
       "    <tr>\n",
       "      <td>1</td>\n",
       "      <td>1636-69-028</td>\n",
       "      <td>2015-04-02 13:38:00</td>\n",
       "      <td>131</td>\n",
       "      <td>131.0</td>\n",
       "    </tr>\n",
       "    <tr>\n",
       "      <td>2</td>\n",
       "      <td>1636-69-028</td>\n",
       "      <td>2015-04-02 13:43:00</td>\n",
       "      <td>132</td>\n",
       "      <td>132.0</td>\n",
       "    </tr>\n",
       "    <tr>\n",
       "      <td>3</td>\n",
       "      <td>1636-69-028</td>\n",
       "      <td>2015-04-02 13:48:00</td>\n",
       "      <td>137</td>\n",
       "      <td>137.0</td>\n",
       "    </tr>\n",
       "    <tr>\n",
       "      <td>4</td>\n",
       "      <td>1636-69-028</td>\n",
       "      <td>2015-04-02 13:58:00</td>\n",
       "      <td>133</td>\n",
       "      <td>133.0</td>\n",
       "    </tr>\n",
       "    <tr>\n",
       "      <td>...</td>\n",
       "      <td>...</td>\n",
       "      <td>...</td>\n",
       "      <td>...</td>\n",
       "      <td>...</td>\n",
       "    </tr>\n",
       "    <tr>\n",
       "      <td>1817</td>\n",
       "      <td>1636-69-028</td>\n",
       "      <td>2015-06-16 20:58:00</td>\n",
       "      <td>93</td>\n",
       "      <td>93.0</td>\n",
       "    </tr>\n",
       "    <tr>\n",
       "      <td>1818</td>\n",
       "      <td>1636-69-028</td>\n",
       "      <td>2015-06-16 21:03:00</td>\n",
       "      <td>94</td>\n",
       "      <td>94.0</td>\n",
       "    </tr>\n",
       "    <tr>\n",
       "      <td>1819</td>\n",
       "      <td>1636-69-028</td>\n",
       "      <td>2015-06-16 21:08:00</td>\n",
       "      <td>90</td>\n",
       "      <td>90.0</td>\n",
       "    </tr>\n",
       "    <tr>\n",
       "      <td>1820</td>\n",
       "      <td>1636-69-028</td>\n",
       "      <td>2015-06-16 21:13:00</td>\n",
       "      <td>87</td>\n",
       "      <td>87.0</td>\n",
       "    </tr>\n",
       "    <tr>\n",
       "      <td>1821</td>\n",
       "      <td>1636-69-028</td>\n",
       "      <td>2015-06-16 21:18:00</td>\n",
       "      <td>92</td>\n",
       "      <td>92.0</td>\n",
       "    </tr>\n",
       "  </tbody>\n",
       "</table>\n",
       "<p>1822 rows × 4 columns</p>\n",
       "</div>"
      ],
      "text/plain": [
       "        subjectId        Display Time  GlucoseValue  EWM-GV\n",
       "0     1636-69-028 2015-04-02 13:33:00           129   129.0\n",
       "1     1636-69-028 2015-04-02 13:38:00           131   131.0\n",
       "2     1636-69-028 2015-04-02 13:43:00           132   132.0\n",
       "3     1636-69-028 2015-04-02 13:48:00           137   137.0\n",
       "4     1636-69-028 2015-04-02 13:58:00           133   133.0\n",
       "...           ...                 ...           ...     ...\n",
       "1817  1636-69-028 2015-06-16 20:58:00            93    93.0\n",
       "1818  1636-69-028 2015-06-16 21:03:00            94    94.0\n",
       "1819  1636-69-028 2015-06-16 21:08:00            90    90.0\n",
       "1820  1636-69-028 2015-06-16 21:13:00            87    87.0\n",
       "1821  1636-69-028 2015-06-16 21:18:00            92    92.0\n",
       "\n",
       "[1822 rows x 4 columns]"
      ]
     },
     "execution_count": 20,
     "metadata": {},
     "output_type": "execute_result"
    }
   ],
   "source": [
    "new['EWM-GV'] = new.GlucoseValue.ewm(alpha=0.93, adjust=False).mean()\n",
    "new['EWM-GV'] = new['EWM-GV'].round()\n",
    "new"
   ]
  },
  {
   "cell_type": "code",
   "execution_count": 21,
   "metadata": {
    "ExecuteTime": {
     "end_time": "2020-11-27T18:44:08.372085Z",
     "start_time": "2020-11-27T18:44:08.248107Z"
    }
   },
   "outputs": [
    {
     "ename": "AttributeError",
     "evalue": "'Series' object has no attribute 'ewma'",
     "output_type": "error",
     "traceback": [
      "\u001b[0;31m---------------------------------------------------------------------------\u001b[0m",
      "\u001b[0;31mAttributeError\u001b[0m                            Traceback (most recent call last)",
      "\u001b[0;32m<ipython-input-21-e71eed935c45>\u001b[0m in \u001b[0;36m<module>\u001b[0;34m\u001b[0m\n\u001b[0;32m----> 1\u001b[0;31m \u001b[0mnew\u001b[0m\u001b[0;34m[\u001b[0m\u001b[0;34m'EWMA-GV'\u001b[0m\u001b[0;34m]\u001b[0m \u001b[0;34m=\u001b[0m \u001b[0mnew\u001b[0m\u001b[0;34m.\u001b[0m\u001b[0mGlucoseValue\u001b[0m\u001b[0;34m.\u001b[0m\u001b[0mewma\u001b[0m\u001b[0;34m(\u001b[0m\u001b[0malpha\u001b[0m\u001b[0;34m=\u001b[0m\u001b[0;36m0.93\u001b[0m\u001b[0;34m,\u001b[0m \u001b[0madjust\u001b[0m\u001b[0;34m=\u001b[0m\u001b[0;32mFalse\u001b[0m\u001b[0;34m)\u001b[0m\u001b[0;34m.\u001b[0m\u001b[0mmean\u001b[0m\u001b[0;34m(\u001b[0m\u001b[0;34m)\u001b[0m\u001b[0;34m\u001b[0m\u001b[0;34m\u001b[0m\u001b[0m\n\u001b[0m\u001b[1;32m      2\u001b[0m \u001b[0;31m# new['EWM-GV'] = new['EWM-GV'].round()\u001b[0m\u001b[0;34m\u001b[0m\u001b[0;34m\u001b[0m\u001b[0;34m\u001b[0m\u001b[0m\n\u001b[1;32m      3\u001b[0m \u001b[0mnew\u001b[0m\u001b[0;34m\u001b[0m\u001b[0;34m\u001b[0m\u001b[0m\n",
      "\u001b[0;32m/opt/anaconda3/lib/python3.7/site-packages/pandas/core/generic.py\u001b[0m in \u001b[0;36m__getattr__\u001b[0;34m(self, name)\u001b[0m\n\u001b[1;32m   5177\u001b[0m             \u001b[0;32mif\u001b[0m \u001b[0mself\u001b[0m\u001b[0;34m.\u001b[0m\u001b[0m_info_axis\u001b[0m\u001b[0;34m.\u001b[0m\u001b[0m_can_hold_identifiers_and_holds_name\u001b[0m\u001b[0;34m(\u001b[0m\u001b[0mname\u001b[0m\u001b[0;34m)\u001b[0m\u001b[0;34m:\u001b[0m\u001b[0;34m\u001b[0m\u001b[0;34m\u001b[0m\u001b[0m\n\u001b[1;32m   5178\u001b[0m                 \u001b[0;32mreturn\u001b[0m \u001b[0mself\u001b[0m\u001b[0;34m[\u001b[0m\u001b[0mname\u001b[0m\u001b[0;34m]\u001b[0m\u001b[0;34m\u001b[0m\u001b[0;34m\u001b[0m\u001b[0m\n\u001b[0;32m-> 5179\u001b[0;31m             \u001b[0;32mreturn\u001b[0m \u001b[0mobject\u001b[0m\u001b[0;34m.\u001b[0m\u001b[0m__getattribute__\u001b[0m\u001b[0;34m(\u001b[0m\u001b[0mself\u001b[0m\u001b[0;34m,\u001b[0m \u001b[0mname\u001b[0m\u001b[0;34m)\u001b[0m\u001b[0;34m\u001b[0m\u001b[0;34m\u001b[0m\u001b[0m\n\u001b[0m\u001b[1;32m   5180\u001b[0m \u001b[0;34m\u001b[0m\u001b[0m\n\u001b[1;32m   5181\u001b[0m     \u001b[0;32mdef\u001b[0m \u001b[0m__setattr__\u001b[0m\u001b[0;34m(\u001b[0m\u001b[0mself\u001b[0m\u001b[0;34m,\u001b[0m \u001b[0mname\u001b[0m\u001b[0;34m,\u001b[0m \u001b[0mvalue\u001b[0m\u001b[0;34m)\u001b[0m\u001b[0;34m:\u001b[0m\u001b[0;34m\u001b[0m\u001b[0;34m\u001b[0m\u001b[0m\n",
      "\u001b[0;31mAttributeError\u001b[0m: 'Series' object has no attribute 'ewma'"
     ]
    }
   ],
   "source": [
    "new['EWMA-GV'] = new.GlucoseValue.ewma(alpha=0.93, adjust=False).mean()\n",
    "# new['EWM-GV'] = new['EWM-GV'].round()\n",
    "new"
   ]
  },
  {
   "cell_type": "code",
   "execution_count": null,
   "metadata": {},
   "outputs": [],
   "source": []
  },
  {
   "cell_type": "code",
   "execution_count": null,
   "metadata": {},
   "outputs": [],
   "source": []
  },
  {
   "cell_type": "code",
   "execution_count": null,
   "metadata": {},
   "outputs": [],
   "source": []
  },
  {
   "cell_type": "code",
   "execution_count": null,
   "metadata": {
    "ExecuteTime": {
     "end_time": "2020-11-13T20:02:46.848152Z",
     "start_time": "2020-11-13T20:02:46.823582Z"
    }
   },
   "outputs": [],
   "source": [
    "start_x = new.DT[0]\n",
    "end_x = new.DT.iat[-1]\n",
    "start_x, end_x"
   ]
  },
  {
   "cell_type": "code",
   "execution_count": null,
   "metadata": {
    "ExecuteTime": {
     "end_time": "2020-11-13T20:02:47.495273Z",
     "start_time": "2020-11-13T20:02:47.469743Z"
    }
   },
   "outputs": [],
   "source": [
    "x_vals = pd.date_range(start=start_x,end=end_x,freq='5T')\n"
   ]
  },
  {
   "cell_type": "code",
   "execution_count": null,
   "metadata": {
    "ExecuteTime": {
     "end_time": "2020-11-13T20:02:54.164013Z",
     "start_time": "2020-11-13T20:02:51.319600Z"
    }
   },
   "outputs": [],
   "source": [
    "counter = 0\n",
    "g = new['GV'].tolist()\n",
    "l = new['DT'].tolist()\n",
    "y_vals = []\n",
    "for x in x_vals:\n",
    "    if x in l:\n",
    "        y_vals.append(g[counter])\n",
    "        counter+=1\n",
    "    else:\n",
    "        y_vals.append(float(\"NaN\"))\n"
   ]
  },
  {
   "cell_type": "code",
   "execution_count": null,
   "metadata": {
    "ExecuteTime": {
     "end_time": "2020-11-13T20:02:54.197114Z",
     "start_time": "2020-11-13T20:02:54.167081Z"
    }
   },
   "outputs": [],
   "source": [
    "df = {'X':x_vals, 'Y':y_vals}\n",
    "df = pd.DataFrame(df)"
   ]
  },
  {
   "cell_type": "code",
   "execution_count": null,
   "metadata": {
    "ExecuteTime": {
     "end_time": "2020-11-13T20:05:45.364131Z",
     "start_time": "2020-11-13T20:02:54.202054Z"
    }
   },
   "outputs": [],
   "source": [
    "fig, ax = plt.subplots(figsize=(15, 10))\n",
    "\n",
    "plot = sns.lineplot(\n",
    "    ax=ax,\n",
    "    data=df, \n",
    "    x=\"X\", y=\"Y\",\n",
    "    hue=df[\"Y\"].isna().cumsum(), \n",
    "    palette=[\"cornflowerblue\"]*df[\"Y\"].isna().cumsum().nunique(),\n",
    "    legend=False, markers=False\n",
    ")\n",
    "plot.set_xlabel('Timestamp', weight='bold', fontsize=14)\n",
    "plot.set_ylabel('Glucose Value', weight='bold', fontsize=14)\n",
    "# ax.set_xticklabels([])\n",
    "\n",
    "plt.show()"
   ]
  },
  {
   "cell_type": "code",
   "execution_count": null,
   "metadata": {
    "ExecuteTime": {
     "end_time": "2020-11-13T20:05:45.400918Z",
     "start_time": "2020-11-13T20:05:45.367246Z"
    }
   },
   "outputs": [],
   "source": [
    "df"
   ]
  },
  {
   "cell_type": "code",
   "execution_count": null,
   "metadata": {},
   "outputs": [],
   "source": []
  },
  {
   "cell_type": "code",
   "execution_count": null,
   "metadata": {},
   "outputs": [],
   "source": []
  },
  {
   "cell_type": "code",
   "execution_count": null,
   "metadata": {
    "ExecuteTime": {
     "end_time": "2020-11-17T00:34:32.167680Z",
     "start_time": "2020-11-17T00:34:30.308765Z"
    }
   },
   "outputs": [],
   "source": [
    "\n"
   ]
  },
  {
   "cell_type": "code",
   "execution_count": null,
   "metadata": {
    "ExecuteTime": {
     "end_time": "2020-11-17T00:24:36.843199Z",
     "start_time": "2020-11-17T00:24:27.413Z"
    }
   },
   "outputs": [],
   "source": [
    "# creating gaps\n",
    "def createGap(df,start,end):\n",
    "    l = len(df.index)\n",
    "    if end>=l:\n",
    "        end = l\n",
    "        \n",
    "    for i in range(start,end):\n",
    "        df['GlucoseValue'][i]= float(\"NaN\")\n",
    "    \n",
    "    return df\n",
    "\n",
    "\n",
    "seed = 1250\n",
    "start = seed\n",
    "end = seed+4\n",
    "\n",
    "dataWithMissing = data.copy()\n",
    "dataWithMissing = createGap(dataWithMissing,start,end)"
   ]
  },
  {
   "cell_type": "code",
   "execution_count": null,
   "metadata": {
    "ExecuteTime": {
     "end_time": "2020-11-17T00:24:36.847805Z",
     "start_time": "2020-11-17T00:24:30.628Z"
    }
   },
   "outputs": [],
   "source": [
    "dataWithMissing.GlucoseValue[1250]"
   ]
  },
  {
   "cell_type": "code",
   "execution_count": null,
   "metadata": {
    "ExecuteTime": {
     "end_time": "2020-11-17T00:24:36.885884Z",
     "start_time": "2020-11-17T00:24:30.836Z"
    }
   },
   "outputs": [],
   "source": [
    "dataWithMissing.to_csv(\"~/Desktop/NCSA_genomics/testfile_LINEAR.csv\")"
   ]
  },
  {
   "cell_type": "code",
   "execution_count": 1,
   "metadata": {
    "ExecuteTime": {
     "end_time": "2020-11-17T00:37:24.789809Z",
     "start_time": "2020-11-17T00:37:03.204539Z"
    }
   },
   "outputs": [],
   "source": [
    "import pandas as pd\n",
    "data = pd.read_csv(\"~/Desktop/NCSA_genomics/Python - notebooks/GlucoCheck/Data/Hall/data_hall_raw.csv\")\n",
    "data['Display Time'] = pd.to_datetime(data['Display Time'])\n",
    "data['GlucoseValue'] = pd.to_numeric(data['GlucoseValue'])\n",
    "data = data[data['subjectId']=='1636-69-001']"
   ]
  },
  {
   "cell_type": "code",
   "execution_count": 2,
   "metadata": {
    "ExecuteTime": {
     "end_time": "2020-11-17T00:37:24.933369Z",
     "start_time": "2020-11-17T00:37:24.797714Z"
    }
   },
   "outputs": [
    {
     "data": {
      "text/html": [
       "<div>\n",
       "<style scoped>\n",
       "    .dataframe tbody tr th:only-of-type {\n",
       "        vertical-align: middle;\n",
       "    }\n",
       "\n",
       "    .dataframe tbody tr th {\n",
       "        vertical-align: top;\n",
       "    }\n",
       "\n",
       "    .dataframe thead th {\n",
       "        text-align: right;\n",
       "    }\n",
       "</style>\n",
       "<table border=\"1\" class=\"dataframe\">\n",
       "  <thead>\n",
       "    <tr style=\"text-align: right;\">\n",
       "      <th></th>\n",
       "      <th>subjectId</th>\n",
       "      <th>Display Time</th>\n",
       "      <th>GlucoseValue</th>\n",
       "    </tr>\n",
       "  </thead>\n",
       "  <tbody>\n",
       "    <tr>\n",
       "      <td>0</td>\n",
       "      <td>1636-69-001</td>\n",
       "      <td>2014-02-03 03:42:00</td>\n",
       "      <td>93</td>\n",
       "    </tr>\n",
       "    <tr>\n",
       "      <td>1</td>\n",
       "      <td>1636-69-001</td>\n",
       "      <td>2014-02-03 03:47:00</td>\n",
       "      <td>93</td>\n",
       "    </tr>\n",
       "    <tr>\n",
       "      <td>2</td>\n",
       "      <td>1636-69-001</td>\n",
       "      <td>2014-02-03 03:52:00</td>\n",
       "      <td>93</td>\n",
       "    </tr>\n",
       "    <tr>\n",
       "      <td>3</td>\n",
       "      <td>1636-69-001</td>\n",
       "      <td>2014-02-03 03:57:00</td>\n",
       "      <td>95</td>\n",
       "    </tr>\n",
       "    <tr>\n",
       "      <td>4</td>\n",
       "      <td>1636-69-001</td>\n",
       "      <td>2014-02-03 04:02:00</td>\n",
       "      <td>96</td>\n",
       "    </tr>\n",
       "    <tr>\n",
       "      <td>...</td>\n",
       "      <td>...</td>\n",
       "      <td>...</td>\n",
       "      <td>...</td>\n",
       "    </tr>\n",
       "    <tr>\n",
       "      <td>1841</td>\n",
       "      <td>1636-69-001</td>\n",
       "      <td>2015-04-02 14:48:00</td>\n",
       "      <td>115</td>\n",
       "    </tr>\n",
       "    <tr>\n",
       "      <td>1842</td>\n",
       "      <td>1636-69-001</td>\n",
       "      <td>2015-04-02 14:53:00</td>\n",
       "      <td>114</td>\n",
       "    </tr>\n",
       "    <tr>\n",
       "      <td>1843</td>\n",
       "      <td>1636-69-001</td>\n",
       "      <td>2015-04-02 14:58:00</td>\n",
       "      <td>117</td>\n",
       "    </tr>\n",
       "    <tr>\n",
       "      <td>1844</td>\n",
       "      <td>1636-69-001</td>\n",
       "      <td>2015-04-02 15:03:00</td>\n",
       "      <td>121</td>\n",
       "    </tr>\n",
       "    <tr>\n",
       "      <td>1845</td>\n",
       "      <td>1636-69-001</td>\n",
       "      <td>2015-04-02 15:08:00</td>\n",
       "      <td>119</td>\n",
       "    </tr>\n",
       "  </tbody>\n",
       "</table>\n",
       "<p>1846 rows × 3 columns</p>\n",
       "</div>"
      ],
      "text/plain": [
       "        subjectId        Display Time  GlucoseValue\n",
       "0     1636-69-001 2014-02-03 03:42:00            93\n",
       "1     1636-69-001 2014-02-03 03:47:00            93\n",
       "2     1636-69-001 2014-02-03 03:52:00            93\n",
       "3     1636-69-001 2014-02-03 03:57:00            95\n",
       "4     1636-69-001 2014-02-03 04:02:00            96\n",
       "...           ...                 ...           ...\n",
       "1841  1636-69-001 2015-04-02 14:48:00           115\n",
       "1842  1636-69-001 2015-04-02 14:53:00           114\n",
       "1843  1636-69-001 2015-04-02 14:58:00           117\n",
       "1844  1636-69-001 2015-04-02 15:03:00           121\n",
       "1845  1636-69-001 2015-04-02 15:08:00           119\n",
       "\n",
       "[1846 rows x 3 columns]"
      ]
     },
     "execution_count": 2,
     "metadata": {},
     "output_type": "execute_result"
    }
   ],
   "source": [
    "data"
   ]
  },
  {
   "cell_type": "code",
   "execution_count": 3,
   "metadata": {
    "ExecuteTime": {
     "end_time": "2020-11-17T00:37:36.939580Z",
     "start_time": "2020-11-17T00:37:24.998404Z"
    }
   },
   "outputs": [
    {
     "name": "stderr",
     "output_type": "stream",
     "text": [
      "Using TensorFlow backend.\n"
     ]
    }
   ],
   "source": [
    "from GlucoCheck.glucoCheck import glucoCheckOps # to load glucoCheck package\n",
    "\n",
    "glucoCheckObject = glucoCheckOps()"
   ]
  },
  {
   "cell_type": "code",
   "execution_count": 4,
   "metadata": {
    "ExecuteTime": {
     "end_time": "2020-11-17T00:37:37.555335Z",
     "start_time": "2020-11-17T00:37:36.967756Z"
    }
   },
   "outputs": [],
   "source": [
    "x,y = glucoCheckObject.splitIndividual(data,30)"
   ]
  },
  {
   "cell_type": "code",
   "execution_count": 5,
   "metadata": {
    "ExecuteTime": {
     "end_time": "2020-11-17T00:37:37.624369Z",
     "start_time": "2020-11-17T00:37:37.559326Z"
    }
   },
   "outputs": [
    {
     "data": {
      "text/html": [
       "<div>\n",
       "<style scoped>\n",
       "    .dataframe tbody tr th:only-of-type {\n",
       "        vertical-align: middle;\n",
       "    }\n",
       "\n",
       "    .dataframe tbody tr th {\n",
       "        vertical-align: top;\n",
       "    }\n",
       "\n",
       "    .dataframe thead th {\n",
       "        text-align: right;\n",
       "    }\n",
       "</style>\n",
       "<table border=\"1\" class=\"dataframe\">\n",
       "  <thead>\n",
       "    <tr style=\"text-align: right;\">\n",
       "      <th></th>\n",
       "      <th>subjectId</th>\n",
       "      <th>Display Time</th>\n",
       "      <th>GlucoseValue</th>\n",
       "      <th>time_gap</th>\n",
       "      <th>gaps</th>\n",
       "    </tr>\n",
       "  </thead>\n",
       "  <tbody>\n",
       "    <tr>\n",
       "      <td>0</td>\n",
       "      <td>1636-69-001-1</td>\n",
       "      <td>2014-02-03 03:42:00</td>\n",
       "      <td>93</td>\n",
       "      <td>00:00:00</td>\n",
       "      <td>NaN</td>\n",
       "    </tr>\n",
       "    <tr>\n",
       "      <td>1</td>\n",
       "      <td>1636-69-001-1</td>\n",
       "      <td>2014-02-03 03:47:00</td>\n",
       "      <td>93</td>\n",
       "      <td>00:05:00</td>\n",
       "      <td>1.0</td>\n",
       "    </tr>\n",
       "    <tr>\n",
       "      <td>2</td>\n",
       "      <td>1636-69-001-1</td>\n",
       "      <td>2014-02-03 03:52:00</td>\n",
       "      <td>93</td>\n",
       "      <td>00:05:00</td>\n",
       "      <td>1.0</td>\n",
       "    </tr>\n",
       "    <tr>\n",
       "      <td>3</td>\n",
       "      <td>1636-69-001-1</td>\n",
       "      <td>2014-02-03 03:57:00</td>\n",
       "      <td>95</td>\n",
       "      <td>00:05:00</td>\n",
       "      <td>1.0</td>\n",
       "    </tr>\n",
       "    <tr>\n",
       "      <td>4</td>\n",
       "      <td>1636-69-001-1</td>\n",
       "      <td>2014-02-03 04:02:00</td>\n",
       "      <td>96</td>\n",
       "      <td>00:05:00</td>\n",
       "      <td>1.0</td>\n",
       "    </tr>\n",
       "    <tr>\n",
       "      <td>...</td>\n",
       "      <td>...</td>\n",
       "      <td>...</td>\n",
       "      <td>...</td>\n",
       "      <td>...</td>\n",
       "      <td>...</td>\n",
       "    </tr>\n",
       "    <tr>\n",
       "      <td>749</td>\n",
       "      <td>1636-69-001-1</td>\n",
       "      <td>2014-02-05 18:11:00</td>\n",
       "      <td>98</td>\n",
       "      <td>00:05:00</td>\n",
       "      <td>1.0</td>\n",
       "    </tr>\n",
       "    <tr>\n",
       "      <td>750</td>\n",
       "      <td>1636-69-001-1</td>\n",
       "      <td>2014-02-05 18:16:00</td>\n",
       "      <td>99</td>\n",
       "      <td>00:05:00</td>\n",
       "      <td>1.0</td>\n",
       "    </tr>\n",
       "    <tr>\n",
       "      <td>751</td>\n",
       "      <td>1636-69-001-1</td>\n",
       "      <td>2014-02-05 18:21:00</td>\n",
       "      <td>99</td>\n",
       "      <td>00:05:00</td>\n",
       "      <td>1.0</td>\n",
       "    </tr>\n",
       "    <tr>\n",
       "      <td>752</td>\n",
       "      <td>1636-69-001-1</td>\n",
       "      <td>2014-02-05 18:26:00</td>\n",
       "      <td>100</td>\n",
       "      <td>00:05:00</td>\n",
       "      <td>1.0</td>\n",
       "    </tr>\n",
       "    <tr>\n",
       "      <td>753</td>\n",
       "      <td>1636-69-001-1</td>\n",
       "      <td>2014-02-05 18:31:00</td>\n",
       "      <td>99</td>\n",
       "      <td>00:05:00</td>\n",
       "      <td>1.0</td>\n",
       "    </tr>\n",
       "  </tbody>\n",
       "</table>\n",
       "<p>754 rows × 5 columns</p>\n",
       "</div>"
      ],
      "text/plain": [
       "         subjectId        Display Time  GlucoseValue time_gap  gaps\n",
       "0    1636-69-001-1 2014-02-03 03:42:00            93 00:00:00   NaN\n",
       "1    1636-69-001-1 2014-02-03 03:47:00            93 00:05:00   1.0\n",
       "2    1636-69-001-1 2014-02-03 03:52:00            93 00:05:00   1.0\n",
       "3    1636-69-001-1 2014-02-03 03:57:00            95 00:05:00   1.0\n",
       "4    1636-69-001-1 2014-02-03 04:02:00            96 00:05:00   1.0\n",
       "..             ...                 ...           ...      ...   ...\n",
       "749  1636-69-001-1 2014-02-05 18:11:00            98 00:05:00   1.0\n",
       "750  1636-69-001-1 2014-02-05 18:16:00            99 00:05:00   1.0\n",
       "751  1636-69-001-1 2014-02-05 18:21:00            99 00:05:00   1.0\n",
       "752  1636-69-001-1 2014-02-05 18:26:00           100 00:05:00   1.0\n",
       "753  1636-69-001-1 2014-02-05 18:31:00            99 00:05:00   1.0\n",
       "\n",
       "[754 rows x 5 columns]"
      ]
     },
     "execution_count": 5,
     "metadata": {},
     "output_type": "execute_result"
    }
   ],
   "source": [
    "x"
   ]
  },
  {
   "cell_type": "code",
   "execution_count": 6,
   "metadata": {
    "ExecuteTime": {
     "end_time": "2020-11-17T00:37:37.729317Z",
     "start_time": "2020-11-17T00:37:37.655005Z"
    }
   },
   "outputs": [
    {
     "data": {
      "text/html": [
       "<div>\n",
       "<style scoped>\n",
       "    .dataframe tbody tr th:only-of-type {\n",
       "        vertical-align: middle;\n",
       "    }\n",
       "\n",
       "    .dataframe tbody tr th {\n",
       "        vertical-align: top;\n",
       "    }\n",
       "\n",
       "    .dataframe thead th {\n",
       "        text-align: right;\n",
       "    }\n",
       "</style>\n",
       "<table border=\"1\" class=\"dataframe\">\n",
       "  <thead>\n",
       "    <tr style=\"text-align: right;\">\n",
       "      <th></th>\n",
       "      <th>subjectId</th>\n",
       "      <th>Display Time</th>\n",
       "      <th>GlucoseValue</th>\n",
       "      <th>time_gap</th>\n",
       "      <th>gaps</th>\n",
       "    </tr>\n",
       "  </thead>\n",
       "  <tbody>\n",
       "    <tr>\n",
       "      <td>754</td>\n",
       "      <td>1636-69-001-1-2</td>\n",
       "      <td>2015-03-29 11:53:00</td>\n",
       "      <td>100</td>\n",
       "      <td>416 days 17:22:00</td>\n",
       "      <td>120016.4</td>\n",
       "    </tr>\n",
       "    <tr>\n",
       "      <td>755</td>\n",
       "      <td>1636-69-001-1-2</td>\n",
       "      <td>2015-03-29 11:58:00</td>\n",
       "      <td>111</td>\n",
       "      <td>0 days 00:05:00</td>\n",
       "      <td>1.0</td>\n",
       "    </tr>\n",
       "    <tr>\n",
       "      <td>756</td>\n",
       "      <td>1636-69-001-1-2</td>\n",
       "      <td>2015-03-29 12:03:00</td>\n",
       "      <td>113</td>\n",
       "      <td>0 days 00:05:00</td>\n",
       "      <td>1.0</td>\n",
       "    </tr>\n",
       "    <tr>\n",
       "      <td>757</td>\n",
       "      <td>1636-69-001-1-2</td>\n",
       "      <td>2015-03-29 12:08:00</td>\n",
       "      <td>114</td>\n",
       "      <td>0 days 00:05:00</td>\n",
       "      <td>1.0</td>\n",
       "    </tr>\n",
       "    <tr>\n",
       "      <td>758</td>\n",
       "      <td>1636-69-001-1-2</td>\n",
       "      <td>2015-03-29 12:13:00</td>\n",
       "      <td>116</td>\n",
       "      <td>0 days 00:05:00</td>\n",
       "      <td>1.0</td>\n",
       "    </tr>\n",
       "    <tr>\n",
       "      <td>...</td>\n",
       "      <td>...</td>\n",
       "      <td>...</td>\n",
       "      <td>...</td>\n",
       "      <td>...</td>\n",
       "      <td>...</td>\n",
       "    </tr>\n",
       "    <tr>\n",
       "      <td>1841</td>\n",
       "      <td>1636-69-001-1-2</td>\n",
       "      <td>2015-04-02 14:48:00</td>\n",
       "      <td>115</td>\n",
       "      <td>0 days 00:05:00</td>\n",
       "      <td>1.0</td>\n",
       "    </tr>\n",
       "    <tr>\n",
       "      <td>1842</td>\n",
       "      <td>1636-69-001-1-2</td>\n",
       "      <td>2015-04-02 14:53:00</td>\n",
       "      <td>114</td>\n",
       "      <td>0 days 00:05:00</td>\n",
       "      <td>1.0</td>\n",
       "    </tr>\n",
       "    <tr>\n",
       "      <td>1843</td>\n",
       "      <td>1636-69-001-1-2</td>\n",
       "      <td>2015-04-02 14:58:00</td>\n",
       "      <td>117</td>\n",
       "      <td>0 days 00:05:00</td>\n",
       "      <td>1.0</td>\n",
       "    </tr>\n",
       "    <tr>\n",
       "      <td>1844</td>\n",
       "      <td>1636-69-001-1-2</td>\n",
       "      <td>2015-04-02 15:03:00</td>\n",
       "      <td>121</td>\n",
       "      <td>0 days 00:05:00</td>\n",
       "      <td>1.0</td>\n",
       "    </tr>\n",
       "    <tr>\n",
       "      <td>1845</td>\n",
       "      <td>1636-69-001-1-2</td>\n",
       "      <td>2015-04-02 15:08:00</td>\n",
       "      <td>119</td>\n",
       "      <td>0 days 00:05:00</td>\n",
       "      <td>1.0</td>\n",
       "    </tr>\n",
       "  </tbody>\n",
       "</table>\n",
       "<p>1092 rows × 5 columns</p>\n",
       "</div>"
      ],
      "text/plain": [
       "            subjectId        Display Time  GlucoseValue          time_gap  \\\n",
       "754   1636-69-001-1-2 2015-03-29 11:53:00           100 416 days 17:22:00   \n",
       "755   1636-69-001-1-2 2015-03-29 11:58:00           111   0 days 00:05:00   \n",
       "756   1636-69-001-1-2 2015-03-29 12:03:00           113   0 days 00:05:00   \n",
       "757   1636-69-001-1-2 2015-03-29 12:08:00           114   0 days 00:05:00   \n",
       "758   1636-69-001-1-2 2015-03-29 12:13:00           116   0 days 00:05:00   \n",
       "...               ...                 ...           ...               ...   \n",
       "1841  1636-69-001-1-2 2015-04-02 14:48:00           115   0 days 00:05:00   \n",
       "1842  1636-69-001-1-2 2015-04-02 14:53:00           114   0 days 00:05:00   \n",
       "1843  1636-69-001-1-2 2015-04-02 14:58:00           117   0 days 00:05:00   \n",
       "1844  1636-69-001-1-2 2015-04-02 15:03:00           121   0 days 00:05:00   \n",
       "1845  1636-69-001-1-2 2015-04-02 15:08:00           119   0 days 00:05:00   \n",
       "\n",
       "          gaps  \n",
       "754   120016.4  \n",
       "755        1.0  \n",
       "756        1.0  \n",
       "757        1.0  \n",
       "758        1.0  \n",
       "...        ...  \n",
       "1841       1.0  \n",
       "1842       1.0  \n",
       "1843       1.0  \n",
       "1844       1.0  \n",
       "1845       1.0  \n",
       "\n",
       "[1092 rows x 5 columns]"
      ]
     },
     "execution_count": 6,
     "metadata": {},
     "output_type": "execute_result"
    }
   ],
   "source": [
    "y"
   ]
  },
  {
   "cell_type": "code",
   "execution_count": null,
   "metadata": {},
   "outputs": [],
   "source": []
  }
 ],
 "metadata": {
  "kernelspec": {
   "display_name": "Python 3",
   "language": "python",
   "name": "python3"
  },
  "language_info": {
   "codemirror_mode": {
    "name": "ipython",
    "version": 3
   },
   "file_extension": ".py",
   "mimetype": "text/x-python",
   "name": "python",
   "nbconvert_exporter": "python",
   "pygments_lexer": "ipython3",
   "version": "3.7.4"
  }
 },
 "nbformat": 4,
 "nbformat_minor": 2
}
