{
 "cells": [
  {
   "cell_type": "code",
   "execution_count": 332,
   "metadata": {},
   "outputs": [],
   "source": [
    "import numpy as np\n",
    "import pandas as pd\n",
    "import math\n",
    "import matplotlib.pyplot as plt\n",
    "from scipy.signal import argrelextrema\n",
    "from datetime import datetime"
   ]
  },
  {
   "cell_type": "code",
   "execution_count": 333,
   "metadata": {},
   "outputs": [],
   "source": [
    "data = pd.read_csv(\"/Users/yuxiding/Desktop/dataset.s010\", sep=\"\\t\")"
   ]
  },
  {
   "cell_type": "code",
   "execution_count": 334,
   "metadata": {},
   "outputs": [],
   "source": [
    "diabetic = data[data['subjectId'] == \"1636-69-091\"]\n",
    "prediabetic = data[data['subjectId'] == \"1636-69-032\"]\n",
    "non_diabetic = data[data['subjectId'] == \"1636-69-028\"]"
   ]
  },
  {
   "cell_type": "code",
   "execution_count": 358,
   "metadata": {},
   "outputs": [],
   "source": [
    "# REFERENCES: https://care.diabetesjournals.org/content/40/12/1631\n",
    "\n",
    "def auc(x, unit = 'mg'):\n",
    "    if unit == 'mg':\n",
    "        gv = (x['GlucoseValue']).astype(float)\n",
    "    elif unit == 'mmol':\n",
    "        gv = (18*x['GlucoseValue']).astype()\n",
    "    else:\n",
    "        print('Unit should either be mg or mmol')\n",
    "    \n",
    "\n",
    "    full_day = list((splitDay(x)).items())[1:5]\n",
    "    a = hourAve(full_day[0][1])[0]\n",
    "    \n",
    "    auc_list = []\n",
    "    auc_list_daytime = []\n",
    "    auc_list_nighttime = []\n",
    "    for i in range(len(full_day)):\n",
    "        auc_per_day = []\n",
    "        hour_ave_gv = hourAve(full_day[i][1])[0]\n",
    "        \n",
    "        for idx in range(1, len(hour_ave_gv)):\n",
    "            trapezoid = (hour_ave_gv['GlucoseValue'].iloc[idx] + hour_ave_gv['GlucoseValue'].iloc[idx-1]) * 1 * 0.5\n",
    "            auc_per_day.append(trapezoid)\n",
    "        \n",
    "        auc_list.append(np.average(auc_per_day))\n",
    "        auc_list_daytime.append(np.average(auc_per_day[6:]))\n",
    "        auc_list_nighttime.append(np.average(auc_per_day[0:6]))\n",
    "\n",
    "    auc_24h = np.average(auc_list)\n",
    "    auc_day = np.average(auc_list_daytime)\n",
    "    auc_night = np.average(auc_list_nighttime)\n",
    "        \n",
    "    return auc_24h, auc_day, auc_night"
   ]
  },
  {
   "cell_type": "code",
   "execution_count": 359,
   "metadata": {},
   "outputs": [
    {
     "data": {
      "text/plain": [
       "(106.96603260869566, 108.50980392156863, 102.59201388888889)"
      ]
     },
     "execution_count": 359,
     "metadata": {},
     "output_type": "execute_result"
    }
   ],
   "source": [
    "auc(prediabetic)"
   ]
  },
  {
   "cell_type": "code",
   "execution_count": 26,
   "metadata": {},
   "outputs": [],
   "source": [
    "# REFERENCES: https://www.liebertpub.com/doi/pdf/10.1089/dia.2008.0132\n",
    "# Index of Glycemic Control\n",
    "def igc(x, unit = 'mg', lltr = 80, ultr = 140, a = 1.1, b = 2.0, c = 30, d = 30):\n",
    "    \n",
    "    if unit == 'mg':\n",
    "        gv = (x['GlucoseValue']).astype(float)\n",
    "    elif unit == 'mmol':\n",
    "        gv = (18*x['GlucoseValue']).astype(float)\n",
    "    else:\n",
    "        print('Unit should either be mg or mmol')\n",
    "    \n",
    "    lower = gv[gv < 90]\n",
    "    upper = gv[gv > 140]\n",
    "    \n",
    "    \n",
    "    n_lower = lower.shape[0]\n",
    "    n_upper = upper.shape[0]\n",
    "    \n",
    "    hypoIndex = np.sum(np.power((lltr - lower), b)) / (n_lower*d)   \n",
    "    hyperIndex = np.sum(np.power((upper - ultr), a)) / (n_upper*c)\n",
    "    \n",
    "    igc = hypoIndex + hyperIndex\n",
    "    return igc, hypoIndex, hyperIndex"
   ]
  },
  {
   "cell_type": "code",
   "execution_count": 27,
   "metadata": {},
   "outputs": [
    {
     "data": {
      "text/plain": [
       "(2.076534334612181, 1.5242774566473989, 0.5522568779647821)"
      ]
     },
     "execution_count": 27,
     "metadata": {},
     "output_type": "execute_result"
    }
   ],
   "source": [
    "igc(prediabetic)"
   ]
  },
  {
   "cell_type": "code",
   "execution_count": 259,
   "metadata": {},
   "outputs": [],
   "source": [
    "#4 week\n",
    "\n",
    "# Glycemic Lability Index\n",
    "# LI is calculated based on the change in glucose level over a four-week period, so the data should be chopped into four-week basis\n",
    "# REFERENCES: https://diabetes.diabetesjournals.org/content/53/4/955\n",
    "\n",
    "def gli(x, unit = 'mmol'):\n",
    "    \n",
    "    time = hourAve(x)[1]\n",
    "    glucose = hourAve(x)[2]\n",
    "    \n",
    "    if unit == 'mg':\n",
    "        gv = [glu / 18 for glu in glucose]\n",
    "    elif unit == 'mmol':\n",
    "        gv = glucose\n",
    "    else:\n",
    "        print('Unit should either be mg or mmol')\n",
    "    \n",
    "    gli = np.sum(np.power(gv[i] - gv[i+1],2) for i in range(0, len(time)-1))\n",
    "    \n",
    "    return gli\n",
    "    \n",
    "    "
   ]
  },
  {
   "cell_type": "code",
   "execution_count": 260,
   "metadata": {},
   "outputs": [
    {
     "name": "stderr",
     "output_type": "stream",
     "text": [
      "/opt/anaconda3/lib/python3.7/site-packages/ipykernel_launcher.py:19: DeprecationWarning: Calling np.sum(generator) is deprecated, and in the future will give a different result. Use np.sum(np.fromiter(generator)) or the python sum builtin instead.\n"
     ]
    },
    {
     "data": {
      "text/plain": [
       "41.315957219877376"
      ]
     },
     "execution_count": 260,
     "metadata": {},
     "output_type": "execute_result"
    }
   ],
   "source": [
    "gli(prediabetic, unit = 'mg')"
   ]
  },
  {
   "cell_type": "code",
   "execution_count": 93,
   "metadata": {},
   "outputs": [],
   "source": [
    "# The average daily risk range\n",
    "\n",
    "#REFERENCES: https://care.diabetesjournals.org/content/29/11/2433\n",
    "\n",
    "def adrr(x, unit):\n",
    "    \n",
    "    if unit == 'mg':\n",
    "        gv = (x['GlucoseValue']).astype(float)\n",
    "        f_bg = 1.509 *(np.power((np.log(gv)),1.084) - 5.381)\n",
    "        x['f(BG)'] = f_bg\n",
    "    elif unit == 'mmol':\n",
    "        gv = (['GlucoseValue']).astype(float)\n",
    "        f_bg = 1.509 *(np.power((np.log(gv * 18)),1.084) - 5.381)\n",
    "        x['f(BG)'] = f_bg\n",
    "    else:\n",
    "        print('Unit should either be mg or mmol')\n",
    "        \n",
    "    dict_of_day = splitDay(x)\n",
    "    \n",
    "    adrr_lr = []\n",
    "    adrr_hr = []\n",
    "    hour = list(dict_of_day.keys())\n",
    "    for key in dict_of_day.keys():\n",
    "        f_bg = (dict_of_day.get(key)['f(BG)']).astype(float)\n",
    "        rl_bg = [r_bg if r_bg < 0 else 0 for r_bg in f_bg]\n",
    "        rh_bg = [r_bg if r_bg > 0 else 0 for r_bg in f_bg]\n",
    "        \n",
    "        rl_i = np.max(rl_bg)\n",
    "        adrr_lr.append(rl_i)\n",
    "        rh_i = np.max(rh_bg)\n",
    "        adrr_hr.append(rh_i)\n",
    "    \n",
    "    lr_hr = [sum(i) for i in zip(adrr_lr, adrr_hr)] \n",
    "    adrr = np.average(lr_hr)\n",
    "\n",
    "    \n",
    "    return adrr\n",
    "        "
   ]
  },
  {
   "cell_type": "code",
   "execution_count": 94,
   "metadata": {},
   "outputs": [
    {
     "name": "stderr",
     "output_type": "stream",
     "text": [
      "/opt/anaconda3/lib/python3.7/site-packages/ipykernel_launcher.py:10: SettingWithCopyWarning: \n",
      "A value is trying to be set on a copy of a slice from a DataFrame.\n",
      "Try using .loc[row_indexer,col_indexer] = value instead\n",
      "\n",
      "See the caveats in the documentation: http://pandas.pydata.org/pandas-docs/stable/user_guide/indexing.html#returning-a-view-versus-a-copy\n",
      "  # Remove the CWD from sys.path while we load stuff.\n"
     ]
    },
    {
     "data": {
      "text/plain": [
       "0.5003907959489858"
      ]
     },
     "execution_count": 94,
     "metadata": {},
     "output_type": "execute_result"
    }
   ],
   "source": [
    "adrr(prediabetic, 'mg')"
   ]
  },
  {
   "cell_type": "code",
   "execution_count": 203,
   "metadata": {},
   "outputs": [],
   "source": [
    "#Mean of daily differences\n",
    "\n",
    "#REFERENCES: https://www.ncbi.nlm.nih.gov/pmc/articles/PMC3160264/\n",
    "\n",
    "def modd(x, unit):\n",
    "    full_day = list((splitDay(x)).items())[1:5]\n",
    "\n",
    "    modd_list = []\n",
    "    for i in range(1, len(full_day)):\n",
    "        day_diff = np.abs(np.array((full_day[i][1]['GlucoseValue']).tolist(), dtype=float) - np.array((full_day[i-1][1]['GlucoseValue']).tolist(), dtype=float))\n",
    "        modd_list.append(np.average(day_diff))\n",
    "    \n",
    "    modd = np.average(modd_list)\n",
    "        \n",
    "    return modd\n",
    "    \n",
    "    "
   ]
  },
  {
   "cell_type": "code",
   "execution_count": 204,
   "metadata": {},
   "outputs": [
    {
     "data": {
      "text/plain": [
       "17.80787037037037"
      ]
     },
     "execution_count": 204,
     "metadata": {},
     "output_type": "execute_result"
    }
   ],
   "source": [
    "modd(prediabetic, 'mg')"
   ]
  },
  {
   "cell_type": "code",
   "execution_count": 360,
   "metadata": {},
   "outputs": [],
   "source": [
    "def hourAve(data):\n",
    "    \n",
    "    fmt_1 = '%Y-%m-%d %H:%M:%S'\n",
    "    fmt_2 = '%Y-%m-%d %H'\n",
    "    fmt_3 = '%Y-%m-%d'\n",
    "    \n",
    "    x = data\n",
    "    x['Hour'] = [None] * x.shape[0]\n",
    "    \n",
    "    for idx in range(x.shape[0]):      \n",
    "        x['Hour'].iloc[idx] = datetime.strptime(x['DisplayTime'].iloc[idx], fmt_1).strftime(fmt_2)\n",
    "        \n",
    "    dict_of_hour = dict(iter(x.groupby('Hour')))\n",
    "    #ave_hour = [np.average((dict_of_hour[i]).get(GlucoseValue)) for i in range(len(dict_of_hour))]\n",
    "    \n",
    "    ave_hour = []\n",
    "    \n",
    "    hour = list(dict_of_hour.keys())\n",
    "    for key in dict_of_hour.keys():\n",
    "        ave_hour.append(np.average(((dict_of_hour.get(key))['GlucoseValue']).astype(float)))\n",
    "        \n",
    "    df_hour = pd.DataFrame({'DisplayTime':hour, 'GlucoseValue':ave_hour})\n",
    "        \n",
    "    return df_hour, hour, ave_hour\n",
    "    "
   ]
  },
  {
   "cell_type": "code",
   "execution_count": 361,
   "metadata": {},
   "outputs": [],
   "source": [
    "def splitDay(data):\n",
    "    fmt_1 = '%Y-%m-%d %H:%M:%S'\n",
    "    fmt_2 = '%Y-%m-%d %H'\n",
    "    fmt_3 = '%Y-%m-%d'\n",
    "    \n",
    "    x = data.copy()\n",
    "    x['Day'] = [None] * x.shape[0]\n",
    "    for idx in range(x.shape[0]):      \n",
    "        x['Day'].iloc[idx] = datetime.strptime(x['DisplayTime'].iloc[idx], fmt_1).strftime(fmt_3)\n",
    "    dict_of_day = dict(iter(x.groupby('Day')))\n",
    "        \n",
    "    return dict_of_day"
   ]
  },
  {
   "cell_type": "code",
   "execution_count": null,
   "metadata": {},
   "outputs": [],
   "source": []
  }
 ],
 "metadata": {
  "kernelspec": {
   "display_name": "Python 3",
   "language": "python",
   "name": "python3"
  },
  "language_info": {
   "codemirror_mode": {
    "name": "ipython",
    "version": 3
   },
   "file_extension": ".py",
   "mimetype": "text/x-python",
   "name": "python",
   "nbconvert_exporter": "python",
   "pygments_lexer": "ipython3",
   "version": "3.7.4"
  }
 },
 "nbformat": 4,
 "nbformat_minor": 2
}
