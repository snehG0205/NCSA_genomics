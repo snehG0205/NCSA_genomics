{
 "cells": [
  {
   "cell_type": "code",
   "execution_count": 1,
   "metadata": {},
   "outputs": [
    {
     "name": "stderr",
     "output_type": "stream",
     "text": [
      "Using TensorFlow backend.\n"
     ]
    }
   ],
   "source": [
    "import pandas as pd\n",
    "import numpy as np\n",
    "%matplotlib inline\n",
    "import matplotlib.pyplot as plt\n",
    "from sklearn.preprocessing import MinMaxScaler\n",
    "from sklearn.metrics import r2_score\n",
    "from keras.models import Sequential\n",
    "from keras.layers import Dense\n",
    "from keras.callbacks import EarlyStopping\n",
    "from keras.optimizers import Adam\n",
    "from keras.layers import LSTM\n",
    "\n",
    "import random"
   ]
  },
  {
   "cell_type": "code",
   "execution_count": 2,
   "metadata": {},
   "outputs": [],
   "source": [
    "#reading the dataset\n",
    "#I've split the dataset to hold data for only one person and store it in a separate text file \n",
    "#to ensure consistency with respect to time\n",
    "\n",
    "def readData():\n",
    "    data = pd.read_csv(\"~/Desktop/NCSA_genomics/Data/onePersonData.txt\", sep=\"\\t\")\n",
    "    #data.head()\n",
    "    \n",
    "    #run only once\n",
    "    #dropping columns we don't need\n",
    "    data.drop(['subjectId', 'Internal Time'], axis=1, inplace=True)\n",
    "    #df = data['GlucoseValue']\n",
    "    #df.index = data['Display Time']\n",
    "    \n",
    "    #Converting the Display Time to 'datetime' so that it can be used as an index\n",
    "    data['Display Time'] = data['Display Time'].apply(lambda x: pd.datetime.strptime(x, '%Y-%m-%d %H:%M:%S'))\n",
    "    data = data.set_index(['Display Time'], drop=True)\n",
    "    #data.head()\n",
    "    \n",
    "    return data\n",
    "    \n"
   ]
  },
  {
   "cell_type": "code",
   "execution_count": 3,
   "metadata": {},
   "outputs": [],
   "source": [
    "def createGap(data):\n",
    "    seed = random.randint(500,len(data)-300)\n",
    "    print(seed)\n",
    "    #introduce a gap of 250 values\n",
    "    for i in range(seed, seed+250):\n",
    "        data['GlucoseValue'][i] = 0\n",
    "    \n",
    "    #plt.figure(figsize=(20, 8))\n",
    "    #data.plot()\n",
    "    return data,seed"
   ]
  },
  {
   "cell_type": "code",
   "execution_count": 4,
   "metadata": {},
   "outputs": [],
   "source": [
    "def getTrainSet(data):\n",
    "    i=0\n",
    "    while(data['GlucoseValue'][i]!=0):\n",
    "        i+=1\n",
    "        if(data['GlucoseValue'][i]==0):\n",
    "            break\n",
    "    train_set=data.iloc[:i]\n",
    "    return train_set"
   ]
  },
  {
   "cell_type": "code",
   "execution_count": 5,
   "metadata": {},
   "outputs": [],
   "source": [
    "def getGapSize(data):\n",
    "    s=0\n",
    "    for i in range(0,len(data)):\n",
    "        if(data['GlucoseValue'][i]==0):\n",
    "            s+=1\n",
    "    \n",
    "    return s\n",
    "    "
   ]
  },
  {
   "cell_type": "code",
   "execution_count": null,
   "metadata": {},
   "outputs": [],
   "source": [
    "    "
   ]
  },
  {
   "cell_type": "code",
   "execution_count": 6,
   "metadata": {},
   "outputs": [
    {
     "data": {
      "text/html": [
       "<div>\n",
       "<style scoped>\n",
       "    .dataframe tbody tr th:only-of-type {\n",
       "        vertical-align: middle;\n",
       "    }\n",
       "\n",
       "    .dataframe tbody tr th {\n",
       "        vertical-align: top;\n",
       "    }\n",
       "\n",
       "    .dataframe thead th {\n",
       "        text-align: right;\n",
       "    }\n",
       "</style>\n",
       "<table border=\"1\" class=\"dataframe\">\n",
       "  <thead>\n",
       "    <tr style=\"text-align: right;\">\n",
       "      <th></th>\n",
       "      <th>GlucoseValue</th>\n",
       "    </tr>\n",
       "    <tr>\n",
       "      <th>Display Time</th>\n",
       "      <th></th>\n",
       "    </tr>\n",
       "  </thead>\n",
       "  <tbody>\n",
       "    <tr>\n",
       "      <td>2014-02-03 03:42:12</td>\n",
       "      <td>93</td>\n",
       "    </tr>\n",
       "    <tr>\n",
       "      <td>2014-02-03 03:47:12</td>\n",
       "      <td>93</td>\n",
       "    </tr>\n",
       "    <tr>\n",
       "      <td>2014-02-03 03:52:12</td>\n",
       "      <td>93</td>\n",
       "    </tr>\n",
       "    <tr>\n",
       "      <td>2014-02-03 03:57:12</td>\n",
       "      <td>95</td>\n",
       "    </tr>\n",
       "    <tr>\n",
       "      <td>2014-02-03 04:02:12</td>\n",
       "      <td>96</td>\n",
       "    </tr>\n",
       "  </tbody>\n",
       "</table>\n",
       "</div>"
      ],
      "text/plain": [
       "                     GlucoseValue\n",
       "Display Time                     \n",
       "2014-02-03 03:42:12            93\n",
       "2014-02-03 03:47:12            93\n",
       "2014-02-03 03:52:12            93\n",
       "2014-02-03 03:57:12            95\n",
       "2014-02-03 04:02:12            96"
      ]
     },
     "execution_count": 6,
     "metadata": {},
     "output_type": "execute_result"
    }
   ],
   "source": [
    "data = readData()    \n",
    "data.head()"
   ]
  },
  {
   "cell_type": "code",
   "execution_count": 7,
   "metadata": {},
   "outputs": [],
   "source": [
    "#data['GlucoseValue'][8]"
   ]
  },
  {
   "cell_type": "code",
   "execution_count": 8,
   "metadata": {},
   "outputs": [
    {
     "name": "stdout",
     "output_type": "stream",
     "text": [
      "1008\n"
     ]
    }
   ],
   "source": [
    "data,seed = createGap(data)"
   ]
  },
  {
   "cell_type": "code",
   "execution_count": 9,
   "metadata": {},
   "outputs": [],
   "source": [
    "#print(data)\n",
    "#print(seed)"
   ]
  },
  {
   "cell_type": "code",
   "execution_count": 10,
   "metadata": {},
   "outputs": [],
   "source": [
    "gap_size = getGapSize(data)"
   ]
  },
  {
   "cell_type": "code",
   "execution_count": 11,
   "metadata": {},
   "outputs": [],
   "source": [
    "#print(gap_size)"
   ]
  },
  {
   "cell_type": "code",
   "execution_count": 12,
   "metadata": {},
   "outputs": [
    {
     "data": {
      "text/html": [
       "<div>\n",
       "<style scoped>\n",
       "    .dataframe tbody tr th:only-of-type {\n",
       "        vertical-align: middle;\n",
       "    }\n",
       "\n",
       "    .dataframe tbody tr th {\n",
       "        vertical-align: top;\n",
       "    }\n",
       "\n",
       "    .dataframe thead th {\n",
       "        text-align: right;\n",
       "    }\n",
       "</style>\n",
       "<table border=\"1\" class=\"dataframe\">\n",
       "  <thead>\n",
       "    <tr style=\"text-align: right;\">\n",
       "      <th></th>\n",
       "      <th>GlucoseValue</th>\n",
       "    </tr>\n",
       "    <tr>\n",
       "      <th>Display Time</th>\n",
       "      <th></th>\n",
       "    </tr>\n",
       "  </thead>\n",
       "  <tbody>\n",
       "    <tr>\n",
       "      <td>2014-02-03 03:42:12</td>\n",
       "      <td>93</td>\n",
       "    </tr>\n",
       "    <tr>\n",
       "      <td>2014-02-03 03:47:12</td>\n",
       "      <td>93</td>\n",
       "    </tr>\n",
       "    <tr>\n",
       "      <td>2014-02-03 03:52:12</td>\n",
       "      <td>93</td>\n",
       "    </tr>\n",
       "    <tr>\n",
       "      <td>2014-02-03 03:57:12</td>\n",
       "      <td>95</td>\n",
       "    </tr>\n",
       "    <tr>\n",
       "      <td>2014-02-03 04:02:12</td>\n",
       "      <td>96</td>\n",
       "    </tr>\n",
       "  </tbody>\n",
       "</table>\n",
       "</div>"
      ],
      "text/plain": [
       "                     GlucoseValue\n",
       "Display Time                     \n",
       "2014-02-03 03:42:12            93\n",
       "2014-02-03 03:47:12            93\n",
       "2014-02-03 03:52:12            93\n",
       "2014-02-03 03:57:12            95\n",
       "2014-02-03 04:02:12            96"
      ]
     },
     "execution_count": 12,
     "metadata": {},
     "output_type": "execute_result"
    }
   ],
   "source": [
    "train = getTrainSet(data)\n",
    "train.head()\n",
    "#print(len(train_set))"
   ]
  },
  {
   "cell_type": "code",
   "execution_count": 13,
   "metadata": {},
   "outputs": [
    {
     "name": "stderr",
     "output_type": "stream",
     "text": [
      "/opt/anaconda3/lib/python3.7/site-packages/ipykernel_launcher.py:16: FutureWarning: Method .as_matrix will be removed in a future version. Use .values instead.\n",
      "  app.launch_new_instance()\n",
      "/opt/anaconda3/lib/python3.7/site-packages/ipykernel_launcher.py:17: FutureWarning: Method .as_matrix will be removed in a future version. Use .values instead.\n"
     ]
    },
    {
     "name": "stdout",
     "output_type": "stream",
     "text": [
      "Epoch 1/50\n",
      "1007/1007 [==============================] - 3s 3ms/step - loss: 0.0032\n",
      "Epoch 2/50\n",
      "1007/1007 [==============================] - 2s 2ms/step - loss: 0.0012\n",
      "Epoch 3/50\n",
      "1007/1007 [==============================] - 2s 2ms/step - loss: 0.0011\n",
      "Epoch 4/50\n",
      "1007/1007 [==============================] - 2s 2ms/step - loss: 0.0011\n",
      "Epoch 5/50\n",
      "1007/1007 [==============================] - 2s 2ms/step - loss: 0.0011\n",
      "Epoch 6/50\n",
      "1007/1007 [==============================] - 2s 2ms/step - loss: 0.0010\n",
      "Epoch 7/50\n",
      "1007/1007 [==============================] - 2s 2ms/step - loss: 0.0010\n",
      "Epoch 8/50\n",
      "1007/1007 [==============================] - 2s 2ms/step - loss: 0.0010\n",
      "Epoch 9/50\n",
      "1007/1007 [==============================] - 2s 2ms/step - loss: 0.0010\n",
      "Epoch 10/50\n",
      "1007/1007 [==============================] - 2s 2ms/step - loss: 9.9955e-04\n",
      "Epoch 11/50\n",
      "1007/1007 [==============================] - 2s 2ms/step - loss: 9.9052e-04\n",
      "Epoch 12/50\n",
      "1007/1007 [==============================] - 2s 2ms/step - loss: 9.9292e-04\n",
      "Epoch 13/50\n",
      "1007/1007 [==============================] - 3s 3ms/step - loss: 9.9130e-04\n",
      "Epoch 00013: early stopping\n"
     ]
    }
   ],
   "source": [
    "scaler = MinMaxScaler(feature_range=(0, 1))\n",
    "train_sc = scaler.fit_transform(train)\n",
    "\n",
    "X_train = train_sc[:-1]\n",
    "y_train = train_sc[1:]\n",
    "\n",
    "train_sc_df = pd.DataFrame(train_sc, columns=['Y'], index=train.index)\n",
    "\n",
    "for s in range(1,2):\n",
    "    train_sc_df['X_{}'.format(s)] = train_sc_df['Y'].shift(s)\n",
    "\n",
    "X_train = train_sc_df.dropna().drop('Y', axis=1)\n",
    "y_train = train_sc_df.dropna().drop('X_1', axis=1)\n",
    "\n",
    "\n",
    "X_train = X_train.as_matrix()\n",
    "y_train = y_train.as_matrix()\n",
    "\n",
    "\n",
    "X_train_lmse = X_train.reshape(X_train.shape[0], X_train.shape[1], 1)\n",
    "\n",
    "# The LSTM networks creation and model compiling is similar with those of ANN’s.\n",
    "# The LSTM has a visible layer with 1 input.\n",
    "# A hidden layer with 7 LSTM neurons.\n",
    "# An output layer that makes a single value prediction.\n",
    "# The relu activation function is used for the LSTM neurons.\n",
    "# The LSTM is trained for 50 epochs and a batch size of 1 is used.\n",
    "lstm_model = Sequential()\n",
    "lstm_model.add(LSTM(7, input_shape=(1, X_train_lmse.shape[1]), activation='relu', kernel_initializer='lecun_uniform', return_sequences=False))\n",
    "lstm_model.add(Dense(1))\n",
    "lstm_model.compile(loss='mean_squared_error', optimizer='adam')\n",
    "early_stop = EarlyStopping(monitor='loss', patience=2, verbose=1)\n",
    "history_lstm_model = lstm_model.fit(X_train_lmse, y_train, epochs=50, batch_size=1, verbose=1, shuffle=False, callbacks=[early_stop])\n",
    "\n",
    "\n",
    "y_train_pred_lstm = lstm_model.predict(X_train_lmse)\n",
    "\n",
    "predicted_values = y_train_pred_lstm\n",
    "    "
   ]
  },
  {
   "cell_type": "code",
   "execution_count": null,
   "metadata": {},
   "outputs": [],
   "source": [
    "\n"
   ]
  },
  {
   "cell_type": "code",
   "execution_count": 14,
   "metadata": {},
   "outputs": [],
   "source": [
    "predicted_values = predicted_values[len(predicted_values)-gap_size:]\n",
    "#print(predicted_values)\n",
    "#len(predicted_values)"
   ]
  },
  {
   "cell_type": "code",
   "execution_count": 15,
   "metadata": {},
   "outputs": [],
   "source": [
    "type(predicted_values)\n",
    "predicted_values = predicted_values.tolist()\n",
    "#print(predicted_values)"
   ]
  },
  {
   "cell_type": "code",
   "execution_count": 16,
   "metadata": {},
   "outputs": [],
   "source": [
    "predicted_values = scaler.inverse_transform(predicted_values)"
   ]
  },
  {
   "cell_type": "code",
   "execution_count": 17,
   "metadata": {},
   "outputs": [],
   "source": [
    "#print(predicted_values)"
   ]
  },
  {
   "cell_type": "code",
   "execution_count": 18,
   "metadata": {},
   "outputs": [],
   "source": [
    "newdata = readData()\n"
   ]
  },
  {
   "cell_type": "code",
   "execution_count": 19,
   "metadata": {},
   "outputs": [],
   "source": [
    "#len(newdata)"
   ]
  },
  {
   "cell_type": "code",
   "execution_count": 23,
   "metadata": {},
   "outputs": [],
   "source": [
    "a = newdata['GlucoseValue'].tolist()\n",
    "a = a[seed-gap_size:seed]\n"
   ]
  },
  {
   "cell_type": "code",
   "execution_count": 24,
   "metadata": {},
   "outputs": [
    {
     "data": {
      "image/png": "[encoded data removed]",
      "text/plain": [
       "<Figure size 1440x432 with 1 Axes>"
      ]
     },
     "metadata": {
      "needs_background": "light"
     },
     "output_type": "display_data"
    }
   ],
   "source": [
    "plt.figure(figsize=(20, 6))\n",
    "\n",
    "plt.plot(predicted_values, label='LSTM')\n",
    "plt.plot(a, label='True')\n",
    "plt.title(\"LSTM's Prediction\")\n",
    "plt.xlabel('Observation')\n",
    "plt.ylabel('Glucose Values')\n",
    "plt.legend()\n",
    "plt.show();"
   ]
  },
  {
   "cell_type": "code",
   "execution_count": null,
   "metadata": {},
   "outputs": [],
   "source": []
  }
 ],
 "metadata": {
  "kernelspec": {
   "display_name": "Python 3",
   "language": "python",
   "name": "python3"
  },
  "language_info": {
   "codemirror_mode": {
    "name": "ipython",
    "version": 3
   },
   "file_extension": ".py",
   "mimetype": "text/x-python",
   "name": "python",
   "nbconvert_exporter": "python",
   "pygments_lexer": "ipython3",
   "version": "3.7.4"
  }
 },
 "nbformat": 4,
 "nbformat_minor": 2
}
