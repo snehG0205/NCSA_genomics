{
 "cells": [
  {
   "cell_type": "code",
   "execution_count": 1,
   "metadata": {},
   "outputs": [],
   "source": [
    "import pandas as pd\n",
    "import numpy as np\n",
    "import matplotlib.pyplot as plt\n",
    "import seaborn as sns\n",
    "\n",
    "from datetime import datetime\n",
    "from datetime import timedelta\n",
    "from statistics import mean\n",
    "\n",
    "\n",
    "#data"
   ]
  },
  {
   "cell_type": "code",
   "execution_count": 2,
   "metadata": {},
   "outputs": [],
   "source": [
    "def fullDay(data):\n",
    "        \n",
    "    dates = list()\n",
    "    data = data.reset_index(drop=True)\n",
    "    for i in range(0,len(data.index)):\n",
    "        dates.append(data['Display Time'][i].date())\n",
    "    data['Dates'] = dates\n",
    "    end = data['Dates'].iloc[-1]\n",
    "    start = data['Dates'].iloc[0]\n",
    "\n",
    "    indexVals = data[ data['Dates'] == start ].index\n",
    "    # indexVals\n",
    "    data.drop(indexVals , inplace=True)\n",
    "\n",
    "    indexVals = data[ data['Dates'] == end ].index\n",
    "    # indexVals\n",
    "    data.drop(indexVals , inplace=True)\n",
    "\n",
    "    data = data.reset_index(drop=True)\n",
    "\n",
    "    data.drop(['Dates'], axis=1, inplace=True)\n",
    "\n",
    "    return data"
   ]
  },
  {
   "cell_type": "code",
   "execution_count": 6,
   "metadata": {},
   "outputs": [],
   "source": [
    "\n",
    "    "
   ]
  },
  {
   "cell_type": "code",
   "execution_count": 4,
   "metadata": {},
   "outputs": [
    {
     "name": "stdout",
     "output_type": "stream",
     "text": [
      "Display Time    datetime64[ns]\n",
      "GlucoseValue           float64\n",
      "subjectId               object\n",
      "dtype: object\n"
     ]
    },
    {
     "data": {
      "text/html": [
       "<div>\n",
       "<style scoped>\n",
       "    .dataframe tbody tr th:only-of-type {\n",
       "        vertical-align: middle;\n",
       "    }\n",
       "\n",
       "    .dataframe tbody tr th {\n",
       "        vertical-align: top;\n",
       "    }\n",
       "\n",
       "    .dataframe thead th {\n",
       "        text-align: right;\n",
       "    }\n",
       "</style>\n",
       "<table border=\"1\" class=\"dataframe\">\n",
       "  <thead>\n",
       "    <tr style=\"text-align: right;\">\n",
       "      <th></th>\n",
       "      <th>Display Time</th>\n",
       "      <th>GlucoseValue</th>\n",
       "      <th>subjectId</th>\n",
       "    </tr>\n",
       "  </thead>\n",
       "  <tbody>\n",
       "    <tr>\n",
       "      <td>272473</td>\n",
       "      <td>2025-04-16 11:17:05</td>\n",
       "      <td>95.0</td>\n",
       "      <td>OD552</td>\n",
       "    </tr>\n",
       "    <tr>\n",
       "      <td>272474</td>\n",
       "      <td>2025-04-16 11:22:05</td>\n",
       "      <td>86.0</td>\n",
       "      <td>OD552</td>\n",
       "    </tr>\n",
       "    <tr>\n",
       "      <td>272475</td>\n",
       "      <td>2025-04-16 11:27:05</td>\n",
       "      <td>81.0</td>\n",
       "      <td>OD552</td>\n",
       "    </tr>\n",
       "    <tr>\n",
       "      <td>272476</td>\n",
       "      <td>2025-04-16 11:32:05</td>\n",
       "      <td>81.0</td>\n",
       "      <td>OD552</td>\n",
       "    </tr>\n",
       "    <tr>\n",
       "      <td>272477</td>\n",
       "      <td>2025-04-16 11:37:05</td>\n",
       "      <td>82.0</td>\n",
       "      <td>OD552</td>\n",
       "    </tr>\n",
       "  </tbody>\n",
       "</table>\n",
       "</div>"
      ],
      "text/plain": [
       "              Display Time  GlucoseValue subjectId\n",
       "272473 2025-04-16 11:17:05          95.0     OD552\n",
       "272474 2025-04-16 11:22:05          86.0     OD552\n",
       "272475 2025-04-16 11:27:05          81.0     OD552\n",
       "272476 2025-04-16 11:32:05          81.0     OD552\n",
       "272477 2025-04-16 11:37:05          82.0     OD552"
      ]
     },
     "execution_count": 4,
     "metadata": {},
     "output_type": "execute_result"
    }
   ],
   "source": [
    "data = pd.read_csv(\"~/Desktop/NCSA_genomics/Python - notebooks/TSForecasting/Data/consolidatedDataForPackage.csv\")\n",
    "data['Display Time'] = pd.to_datetime(data['Display Time'])\n",
    "data['GlucoseValue'] = pd.to_numeric(data['GlucoseValue'])\n",
    "xx = data[data['subjectId'] == \"OD552\"]\n",
    "print(xx.dtypes)\n",
    "xx.head()"
   ]
  },
  {
   "cell_type": "code",
   "execution_count": 5,
   "metadata": {},
   "outputs": [
    {
     "data": {
      "text/html": [
       "<div>\n",
       "<style scoped>\n",
       "    .dataframe tbody tr th:only-of-type {\n",
       "        vertical-align: middle;\n",
       "    }\n",
       "\n",
       "    .dataframe tbody tr th {\n",
       "        vertical-align: top;\n",
       "    }\n",
       "\n",
       "    .dataframe thead th {\n",
       "        text-align: right;\n",
       "    }\n",
       "</style>\n",
       "<table border=\"1\" class=\"dataframe\">\n",
       "  <thead>\n",
       "    <tr style=\"text-align: right;\">\n",
       "      <th></th>\n",
       "      <th>Display Time</th>\n",
       "      <th>GlucoseValue</th>\n",
       "      <th>subjectId</th>\n",
       "    </tr>\n",
       "  </thead>\n",
       "  <tbody>\n",
       "    <tr>\n",
       "      <td>0</td>\n",
       "      <td>2025-04-17 00:02:07</td>\n",
       "      <td>81.0</td>\n",
       "      <td>OD552</td>\n",
       "    </tr>\n",
       "    <tr>\n",
       "      <td>1</td>\n",
       "      <td>2025-04-17 00:07:07</td>\n",
       "      <td>80.0</td>\n",
       "      <td>OD552</td>\n",
       "    </tr>\n",
       "    <tr>\n",
       "      <td>2</td>\n",
       "      <td>2025-04-17 00:12:07</td>\n",
       "      <td>80.0</td>\n",
       "      <td>OD552</td>\n",
       "    </tr>\n",
       "    <tr>\n",
       "      <td>3</td>\n",
       "      <td>2025-04-17 00:17:07</td>\n",
       "      <td>81.0</td>\n",
       "      <td>OD552</td>\n",
       "    </tr>\n",
       "    <tr>\n",
       "      <td>4</td>\n",
       "      <td>2025-04-17 00:22:07</td>\n",
       "      <td>82.0</td>\n",
       "      <td>OD552</td>\n",
       "    </tr>\n",
       "  </tbody>\n",
       "</table>\n",
       "</div>"
      ],
      "text/plain": [
       "         Display Time  GlucoseValue subjectId\n",
       "0 2025-04-17 00:02:07          81.0     OD552\n",
       "1 2025-04-17 00:07:07          80.0     OD552\n",
       "2 2025-04-17 00:12:07          80.0     OD552\n",
       "3 2025-04-17 00:17:07          81.0     OD552\n",
       "4 2025-04-17 00:22:07          82.0     OD552"
      ]
     },
     "execution_count": 5,
     "metadata": {},
     "output_type": "execute_result"
    }
   ],
   "source": [
    "xx = fullDay(xx)\n",
    "xx.head()"
   ]
  },
  {
   "cell_type": "code",
   "execution_count": 7,
   "metadata": {},
   "outputs": [
    {
     "data": {
      "text/plain": [
       "(144.8855701692815, 140.88062343389174)"
      ]
     },
     "execution_count": 7,
     "metadata": {},
     "output_type": "execute_result"
    }
   ],
   "source": [
    "meanCalculations(xx)"
   ]
  },
  {
   "cell_type": "code",
   "execution_count": null,
   "metadata": {},
   "outputs": [],
   "source": []
  }
 ],
 "metadata": {
  "kernelspec": {
   "display_name": "Python 3",
   "language": "python",
   "name": "python3"
  },
  "language_info": {
   "codemirror_mode": {
    "name": "ipython",
    "version": 3
   },
   "file_extension": ".py",
   "mimetype": "text/x-python",
   "name": "python",
   "nbconvert_exporter": "python",
   "pygments_lexer": "ipython3",
   "version": "3.7.4"
  }
 },
 "nbformat": 4,
 "nbformat_minor": 2
}
