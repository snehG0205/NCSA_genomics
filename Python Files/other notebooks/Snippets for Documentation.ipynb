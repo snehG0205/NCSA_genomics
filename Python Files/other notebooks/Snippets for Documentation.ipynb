{
 "cells": [
  {
   "cell_type": "code",
   "execution_count": 1,
   "metadata": {},
   "outputs": [
    {
     "name": "stderr",
     "output_type": "stream",
     "text": [
      "Using TensorFlow backend.\n"
     ]
    },
    {
     "name": "stdout",
     "output_type": "stream",
     "text": [
      "Object Created!\n"
     ]
    }
   ],
   "source": [
    "from GlucoCheck.glucoCheck import glucoCheckOps\n",
    "glucoCheckObject = glucoCheckOps()"
   ]
  },
  {
   "cell_type": "code",
   "execution_count": null,
   "metadata": {},
   "outputs": [],
   "source": [
    "glucoCheckObject.consolidatedData"
   ]
  },
  {
   "cell_type": "code",
   "execution_count": null,
   "metadata": {},
   "outputs": [],
   "source": [
    "glucoCheckObject.consolidated_meta"
   ]
  },
  {
   "cell_type": "code",
   "execution_count": null,
   "metadata": {},
   "outputs": [],
   "source": [
    "glucoCheckObject.hall_data"
   ]
  },
  {
   "cell_type": "code",
   "execution_count": null,
   "metadata": {},
   "outputs": [],
   "source": [
    "# from GlucoCheck.glucoCheck import glucoCheckOps\n",
    "import pandas as pd"
   ]
  },
  {
   "cell_type": "code",
   "execution_count": null,
   "metadata": {},
   "outputs": [],
   "source": [
    "glucoCheckObject = glucoCheckOps()"
   ]
  },
  {
   "cell_type": "code",
   "execution_count": null,
   "metadata": {},
   "outputs": [],
   "source": [
    "glucoCheckObject.train()"
   ]
  },
  {
   "cell_type": "code",
   "execution_count": null,
   "metadata": {},
   "outputs": [],
   "source": [
    "testing_data = pd.read_csv(\"~/Desktop/NCSA_genomics/Python - notebooks/GlucoCheck/Data/test/Training-TestFile.csv\")\n"
   ]
  },
  {
   "cell_type": "code",
   "execution_count": null,
   "metadata": {},
   "outputs": [],
   "source": [
    "glucoCheckObject.impute(testing_data)"
   ]
  },
  {
   "cell_type": "code",
   "execution_count": null,
   "metadata": {},
   "outputs": [],
   "source": [
    "d = pd.read_csv(\"/Users/snehgajiwala/Desktop/NCSA_genomics/Python - notebooks/GlucoCheck/Data/Output/ImputedValues.csv\")"
   ]
  },
  {
   "cell_type": "code",
   "execution_count": null,
   "metadata": {},
   "outputs": [],
   "source": [
    "glucoCheckObject.plot(d)"
   ]
  },
  {
   "cell_type": "code",
   "execution_count": null,
   "metadata": {},
   "outputs": [],
   "source": [
    "y = glucoCheckObject.impute(testing_data,1)\n",
    "y"
   ]
  },
  {
   "cell_type": "code",
   "execution_count": 2,
   "metadata": {},
   "outputs": [
    {
     "name": "stdout",
     "output_type": "stream",
     "text": [
      "\n",
      "Total Readings in the data:287275\n",
      "\n",
      "\n",
      "\n",
      "\n",
      "Here is the statistical analysis of the data:\n",
      "\n"
     ]
    },
    {
     "data": {
      "text/html": [
       "<div>\n",
       "<style scoped>\n",
       "    .dataframe tbody tr th:only-of-type {\n",
       "        vertical-align: middle;\n",
       "    }\n",
       "\n",
       "    .dataframe tbody tr th {\n",
       "        vertical-align: top;\n",
       "    }\n",
       "\n",
       "    .dataframe thead th {\n",
       "        text-align: right;\n",
       "    }\n",
       "</style>\n",
       "<table border=\"1\" class=\"dataframe\">\n",
       "  <thead>\n",
       "    <tr style=\"text-align: right;\">\n",
       "      <th></th>\n",
       "      <th>Length of readings</th>\n",
       "      <th>Max. Glucose Value</th>\n",
       "      <th>Min. Glucose Value</th>\n",
       "      <th>Days</th>\n",
       "      <th>Daytime Mean</th>\n",
       "      <th>Nighttime Mean</th>\n",
       "    </tr>\n",
       "    <tr>\n",
       "      <th>Subject ID</th>\n",
       "      <th></th>\n",
       "      <th></th>\n",
       "      <th></th>\n",
       "      <th></th>\n",
       "      <th></th>\n",
       "      <th></th>\n",
       "    </tr>\n",
       "  </thead>\n",
       "  <tbody>\n",
       "    <tr>\n",
       "      <td>1636-69-001</td>\n",
       "      <td>287</td>\n",
       "      <td>225.0</td>\n",
       "      <td>70.0</td>\n",
       "      <td>1</td>\n",
       "      <td>114.707</td>\n",
       "      <td>84.986</td>\n",
       "    </tr>\n",
       "    <tr>\n",
       "      <td>1636-69-001-2</td>\n",
       "      <td>817</td>\n",
       "      <td>181.0</td>\n",
       "      <td>64.0</td>\n",
       "      <td>3</td>\n",
       "      <td>117.021</td>\n",
       "      <td>109.612</td>\n",
       "    </tr>\n",
       "    <tr>\n",
       "      <td>1636-69-026</td>\n",
       "      <td>1493</td>\n",
       "      <td>182.0</td>\n",
       "      <td>62.0</td>\n",
       "      <td>6</td>\n",
       "      <td>115.837</td>\n",
       "      <td>114.559</td>\n",
       "    </tr>\n",
       "    <tr>\n",
       "      <td>1636-69-028</td>\n",
       "      <td>1339</td>\n",
       "      <td>168.0</td>\n",
       "      <td>75.0</td>\n",
       "      <td>5</td>\n",
       "      <td>106.819</td>\n",
       "      <td>112.453</td>\n",
       "    </tr>\n",
       "    <tr>\n",
       "      <td>1636-69-032</td>\n",
       "      <td>1439</td>\n",
       "      <td>156.0</td>\n",
       "      <td>67.0</td>\n",
       "      <td>5</td>\n",
       "      <td>108.126</td>\n",
       "      <td>103.581</td>\n",
       "    </tr>\n",
       "    <tr>\n",
       "      <td>...</td>\n",
       "      <td>...</td>\n",
       "      <td>...</td>\n",
       "      <td>...</td>\n",
       "      <td>...</td>\n",
       "      <td>...</td>\n",
       "      <td>...</td>\n",
       "    </tr>\n",
       "    <tr>\n",
       "      <td>OD575</td>\n",
       "      <td>11483</td>\n",
       "      <td>400.0</td>\n",
       "      <td>40.0</td>\n",
       "      <td>44</td>\n",
       "      <td>141.965</td>\n",
       "      <td>140.154</td>\n",
       "    </tr>\n",
       "    <tr>\n",
       "      <td>OD584</td>\n",
       "      <td>11576</td>\n",
       "      <td>400.0</td>\n",
       "      <td>40.0</td>\n",
       "      <td>44</td>\n",
       "      <td>187.664</td>\n",
       "      <td>208.647</td>\n",
       "    </tr>\n",
       "    <tr>\n",
       "      <td>OD588</td>\n",
       "      <td>12206</td>\n",
       "      <td>400.0</td>\n",
       "      <td>40.0</td>\n",
       "      <td>44</td>\n",
       "      <td>165.765</td>\n",
       "      <td>163.866</td>\n",
       "    </tr>\n",
       "    <tr>\n",
       "      <td>OD591</td>\n",
       "      <td>10476</td>\n",
       "      <td>397.0</td>\n",
       "      <td>40.0</td>\n",
       "      <td>43</td>\n",
       "      <td>158.817</td>\n",
       "      <td>152.903</td>\n",
       "    </tr>\n",
       "    <tr>\n",
       "      <td>OD596</td>\n",
       "      <td>10496</td>\n",
       "      <td>367.0</td>\n",
       "      <td>40.0</td>\n",
       "      <td>46</td>\n",
       "      <td>148.104</td>\n",
       "      <td>136.780</td>\n",
       "    </tr>\n",
       "  </tbody>\n",
       "</table>\n",
       "<p>88 rows × 6 columns</p>\n",
       "</div>"
      ],
      "text/plain": [
       "               Length of readings  Max. Glucose Value  Min. Glucose Value  \\\n",
       "Subject ID                                                                  \n",
       "1636-69-001                   287               225.0                70.0   \n",
       "1636-69-001-2                 817               181.0                64.0   \n",
       "1636-69-026                  1493               182.0                62.0   \n",
       "1636-69-028                  1339               168.0                75.0   \n",
       "1636-69-032                  1439               156.0                67.0   \n",
       "...                           ...                 ...                 ...   \n",
       "OD575                       11483               400.0                40.0   \n",
       "OD584                       11576               400.0                40.0   \n",
       "OD588                       12206               400.0                40.0   \n",
       "OD591                       10476               397.0                40.0   \n",
       "OD596                       10496               367.0                40.0   \n",
       "\n",
       "               Days  Daytime Mean  Nighttime Mean  \n",
       "Subject ID                                         \n",
       "1636-69-001       1       114.707          84.986  \n",
       "1636-69-001-2     3       117.021         109.612  \n",
       "1636-69-026       6       115.837         114.559  \n",
       "1636-69-028       5       106.819         112.453  \n",
       "1636-69-032       5       108.126         103.581  \n",
       "...             ...           ...             ...  \n",
       "OD575            44       141.965         140.154  \n",
       "OD584            44       187.664         208.647  \n",
       "OD588            44       165.765         163.866  \n",
       "OD591            43       158.817         152.903  \n",
       "OD596            46       148.104         136.780  \n",
       "\n",
       "[88 rows x 6 columns]"
      ]
     },
     "metadata": {},
     "output_type": "display_data"
    },
    {
     "name": "stdout",
     "output_type": "stream",
     "text": [
      "\n",
      "\n",
      "\n"
     ]
    }
   ],
   "source": [
    "glucoCheckObject.dataDescribe()"
   ]
  },
  {
   "cell_type": "code",
   "execution_count": null,
   "metadata": {},
   "outputs": [],
   "source": [
    "glucoCheckObject.gvIndices()"
   ]
  },
  {
   "cell_type": "code",
   "execution_count": null,
   "metadata": {},
   "outputs": [],
   "source": [
    "glucoCheckObject.plotIndividual('1636-69-032')"
   ]
  },
  {
   "cell_type": "code",
   "execution_count": 3,
   "metadata": {},
   "outputs": [
    {
     "data": {
      "text/html": [
       "<div>\n",
       "<style scoped>\n",
       "    .dataframe tbody tr th:only-of-type {\n",
       "        vertical-align: middle;\n",
       "    }\n",
       "\n",
       "    .dataframe tbody tr th {\n",
       "        vertical-align: top;\n",
       "    }\n",
       "\n",
       "    .dataframe thead th {\n",
       "        text-align: right;\n",
       "    }\n",
       "</style>\n",
       "<table border=\"1\" class=\"dataframe\">\n",
       "  <thead>\n",
       "    <tr style=\"text-align: right;\">\n",
       "      <th></th>\n",
       "      <th>Length of readings</th>\n",
       "      <th>Max. Glucose Value</th>\n",
       "      <th>Min. Glucose Value</th>\n",
       "      <th>Days</th>\n",
       "      <th>Daytime Mean</th>\n",
       "      <th>Nighttime Mean</th>\n",
       "    </tr>\n",
       "    <tr>\n",
       "      <th>Subject ID</th>\n",
       "      <th></th>\n",
       "      <th></th>\n",
       "      <th></th>\n",
       "      <th></th>\n",
       "      <th></th>\n",
       "      <th></th>\n",
       "    </tr>\n",
       "  </thead>\n",
       "  <tbody>\n",
       "    <tr>\n",
       "      <td>1636-69-032</td>\n",
       "      <td>1439</td>\n",
       "      <td>156.0</td>\n",
       "      <td>67.0</td>\n",
       "      <td>5</td>\n",
       "      <td>108.126</td>\n",
       "      <td>103.581</td>\n",
       "    </tr>\n",
       "  </tbody>\n",
       "</table>\n",
       "</div>"
      ],
      "text/plain": [
       "             Length of readings  Max. Glucose Value  Min. Glucose Value  Days  \\\n",
       "Subject ID                                                                      \n",
       "1636-69-032                1439               156.0                67.0     5   \n",
       "\n",
       "             Daytime Mean  Nighttime Mean  \n",
       "Subject ID                                 \n",
       "1636-69-032       108.126         103.581  "
      ]
     },
     "metadata": {},
     "output_type": "display_data"
    }
   ],
   "source": [
    "glucoCheckObject.individualDescribe('1636-69-032')"
   ]
  },
  {
   "cell_type": "code",
   "execution_count": null,
   "metadata": {},
   "outputs": [],
   "source": [
    "glucoCheckObject.individualGvIndices('1636-69-032')"
   ]
  },
  {
   "cell_type": "code",
   "execution_count": null,
   "metadata": {},
   "outputs": [],
   "source": [
    "y = glucoCheckObject.smoothing(x)\n",
    "y.tail()"
   ]
  },
  {
   "cell_type": "code",
   "execution_count": null,
   "metadata": {},
   "outputs": [],
   "source": [
    "x = testing_data"
   ]
  },
  {
   "cell_type": "code",
   "execution_count": null,
   "metadata": {},
   "outputs": [],
   "source": [
    "y = glucoCheckObject.subSample(x)\n",
    "y.head()"
   ]
  },
  {
   "cell_type": "code",
   "execution_count": null,
   "metadata": {},
   "outputs": [],
   "source": [
    "y = glucoCheckObject.convertUnits(x, 'mmol')\n",
    "y.head()"
   ]
  },
  {
   "cell_type": "code",
   "execution_count": null,
   "metadata": {},
   "outputs": [],
   "source": [
    "y = glucoCheckObject.fullDaysOnly(x)\n",
    "y"
   ]
  },
  {
   "cell_type": "code",
   "execution_count": null,
   "metadata": {},
   "outputs": [],
   "source": [
    "glucoCheckObject.meanCalculations(x)\n"
   ]
  },
  {
   "cell_type": "code",
   "execution_count": null,
   "metadata": {},
   "outputs": [],
   "source": [
    "y = glucoCheckObject.hourlySamples(x)\n",
    "y"
   ]
  },
  {
   "cell_type": "code",
   "execution_count": null,
   "metadata": {},
   "outputs": [],
   "source": [
    "x = glucoCheckObject.consolidatedData[glucoCheckObject.consolidatedData['subjectId']=='1636-69-032']\n",
    "x"
   ]
  },
  {
   "cell_type": "code",
   "execution_count": null,
   "metadata": {},
   "outputs": [],
   "source": [
    "glucoCheckObject.dataDescribe(x)"
   ]
  },
  {
   "cell_type": "code",
   "execution_count": null,
   "metadata": {},
   "outputs": [],
   "source": [
    "x.reset_index(drop=True, inplace=True)\n",
    "x"
   ]
  },
  {
   "cell_type": "code",
   "execution_count": null,
   "metadata": {},
   "outputs": [],
   "source": [
    "df = glucoCheckObject.fullDaysOnly(x)\n",
    "df['Display Time'] = pd.to_datetime(df['Display Time'])\n",
    "df"
   ]
  },
  {
   "cell_type": "code",
   "execution_count": null,
   "metadata": {},
   "outputs": [],
   "source": [
    "glucoCheckObject.adrr(df,'mg')"
   ]
  },
  {
   "cell_type": "code",
   "execution_count": null,
   "metadata": {},
   "outputs": [],
   "source": [
    "glucoCheckObject.bgri(df,'mg')"
   ]
  },
  {
   "cell_type": "code",
   "execution_count": null,
   "metadata": {},
   "outputs": [],
   "source": [
    "glucoCheckObject.congaN(df,1)"
   ]
  },
  {
   "cell_type": "code",
   "execution_count": null,
   "metadata": {},
   "outputs": [],
   "source": [
    "glucoCheckObject.congaN(df,2)"
   ]
  },
  {
   "cell_type": "code",
   "execution_count": null,
   "metadata": {},
   "outputs": [],
   "source": [
    "glucoCheckObject.congaN(df,4)"
   ]
  },
  {
   "cell_type": "code",
   "execution_count": null,
   "metadata": {},
   "outputs": [],
   "source": [
    "glucoCheckObject.dt(df)"
   ]
  },
  {
   "cell_type": "code",
   "execution_count": null,
   "metadata": {},
   "outputs": [],
   "source": [
    "glucoCheckObject.ehba1c(df)"
   ]
  },
  {
   "cell_type": "code",
   "execution_count": null,
   "metadata": {},
   "outputs": [],
   "source": [
    "glucoCheckObject.gfi(df)"
   ]
  },
  {
   "cell_type": "code",
   "execution_count": null,
   "metadata": {},
   "outputs": [],
   "source": [
    "glucoCheckObject.glucoseLiabilityIndex(df, 'mg')"
   ]
  },
  {
   "cell_type": "code",
   "execution_count": null,
   "metadata": {},
   "outputs": [],
   "source": [
    "glucoCheckObject.gmi(df, 'mg')"
   ]
  },
  {
   "cell_type": "code",
   "execution_count": null,
   "metadata": {},
   "outputs": [],
   "source": [
    "glucoCheckObject.grade(df, 'mg')"
   ]
  },
  {
   "cell_type": "code",
   "execution_count": null,
   "metadata": {},
   "outputs": [],
   "source": [
    "glucoCheckObject.gvp(df, 'mg')"
   ]
  },
  {
   "cell_type": "code",
   "execution_count": null,
   "metadata": {},
   "outputs": [],
   "source": [
    "glucoCheckObject.IGC(df, 'mg', lltr = 80, ultr = 140, a = 1.1, b = 2.0, c = 30, d = 30)"
   ]
  },
  {
   "cell_type": "code",
   "execution_count": null,
   "metadata": {},
   "outputs": [],
   "source": [
    "glucoCheckObject.j_index(df,'mg')"
   ]
  },
  {
   "cell_type": "code",
   "execution_count": null,
   "metadata": {},
   "outputs": [],
   "source": [
    "glucoCheckObject.lage(x)"
   ]
  },
  {
   "cell_type": "code",
   "execution_count": null,
   "metadata": {},
   "outputs": [],
   "source": [
    "glucoCheckObject.m_value(x,'mg',120)"
   ]
  },
  {
   "cell_type": "code",
   "execution_count": null,
   "metadata": {},
   "outputs": [],
   "source": [
    "glucoCheckObject.mad_index(df)"
   ]
  },
  {
   "cell_type": "code",
   "execution_count": null,
   "metadata": {},
   "outputs": [],
   "source": [
    "glucoCheckObject.mag(df)"
   ]
  },
  {
   "cell_type": "code",
   "execution_count": null,
   "metadata": {},
   "outputs": [],
   "source": [
    "glucoCheckObject.mageCalculation(df)"
   ]
  },
  {
   "cell_type": "code",
   "execution_count": null,
   "metadata": {},
   "outputs": [],
   "source": [
    "glucoCheckObject.modd(df)"
   ]
  },
  {
   "cell_type": "code",
   "execution_count": null,
   "metadata": {},
   "outputs": [],
   "source": [
    "glucoCheckObject.pgs(df, 'mg')"
   ]
  },
  {
   "cell_type": "code",
   "execution_count": null,
   "metadata": {},
   "outputs": [],
   "source": [
    "glucoCheckObject.rc(df)"
   ]
  },
  {
   "cell_type": "code",
   "execution_count": null,
   "metadata": {},
   "outputs": [],
   "source": [
    "glucoCheckObject.sumstats(df)"
   ]
  },
  {
   "cell_type": "code",
   "execution_count": null,
   "metadata": {},
   "outputs": [],
   "source": [
    "glucoCheckObject.tir(df, 'mg')"
   ]
  },
  {
   "cell_type": "code",
   "execution_count": null,
   "metadata": {},
   "outputs": [],
   "source": [
    "glucoCheckObject.variabilityEpisodes(df, 'mg')"
   ]
  },
  {
   "cell_type": "code",
   "execution_count": null,
   "metadata": {},
   "outputs": [],
   "source": []
  },
  {
   "cell_type": "code",
   "execution_count": null,
   "metadata": {},
   "outputs": [],
   "source": []
  },
  {
   "cell_type": "code",
   "execution_count": null,
   "metadata": {},
   "outputs": [],
   "source": [
    "mad = tsfObj.mad(np.asarray(imputed_data['GlucoseValue'].tolist()),np.asarray(data['GlucoseValue'].tolist()))\n",
    "ioa = tsfObj.index_agreement(np.asarray(imputed_data['GlucoseValue'].tolist()),np.asarray(data['GlucoseValue'].tolist()))\n",
    "fb = tsfObj.fracBias(np.asarray(imputed_data['GlucoseValue'].tolist()),np.asarray(data['GlucoseValue'].tolist()))\n",
    "rmse = tsfObj.rmse(np.asarray(imputed_data['GlucoseValue'].tolist()),np.asarray(data['GlucoseValue'].tolist()))\n",
    "mape = tsfObj.mape(np.asarray(imputed_data['GlucoseValue'].tolist()),np.asarray(data['GlucoseValue'].tolist()))"
   ]
  },
  {
   "cell_type": "code",
   "execution_count": null,
   "metadata": {},
   "outputs": [],
   "source": [
    "original_data = testing_data"
   ]
  },
  {
   "cell_type": "code",
   "execution_count": null,
   "metadata": {},
   "outputs": [],
   "source": [
    "original_data"
   ]
  },
  {
   "cell_type": "code",
   "execution_count": null,
   "metadata": {},
   "outputs": [],
   "source": [
    "predicted_data = y\n",
    "predicted_data"
   ]
  },
  {
   "cell_type": "code",
   "execution_count": null,
   "metadata": {},
   "outputs": [],
   "source": [
    "import numpy as np"
   ]
  },
  {
   "cell_type": "code",
   "execution_count": null,
   "metadata": {},
   "outputs": [],
   "source": [
    "glucoCheckObject.mad(np.asarray(predicted_data['GlucoseValue'].tolist()),np.asarray(original_data['GlucoseValue'].tolist()))"
   ]
  },
  {
   "cell_type": "code",
   "execution_count": null,
   "metadata": {},
   "outputs": [],
   "source": [
    "glucoCheckObject.index_agreement(np.asarray(predicted_data['GlucoseValue'].tolist()),np.asarray(original_data['GlucoseValue'].tolist()))"
   ]
  },
  {
   "cell_type": "code",
   "execution_count": null,
   "metadata": {},
   "outputs": [],
   "source": [
    "glucoCheckObject.fracBias(np.asarray(predicted_data['GlucoseValue'].tolist()),np.asarray(original_data['GlucoseValue'].tolist()))"
   ]
  },
  {
   "cell_type": "code",
   "execution_count": null,
   "metadata": {},
   "outputs": [],
   "source": [
    "glucoCheckObject.rmse(np.asarray(predicted_data['GlucoseValue'].tolist()),np.asarray(original_data['GlucoseValue'].tolist()))"
   ]
  },
  {
   "cell_type": "code",
   "execution_count": null,
   "metadata": {},
   "outputs": [],
   "source": [
    "glucoCheckObject.mape(np.asarray(predicted_data['GlucoseValue'].tolist()),np.asarray(original_data['GlucoseValue'].tolist()))"
   ]
  },
  {
   "cell_type": "code",
   "execution_count": null,
   "metadata": {},
   "outputs": [],
   "source": []
  },
  {
   "cell_type": "code",
   "execution_count": null,
   "metadata": {},
   "outputs": [],
   "source": [
    "x = glucoCheckObject.consolidatedData[glucoCheckObject.consolidatedData['subjectId'] == \"1636-69-032\"]"
   ]
  },
  {
   "cell_type": "code",
   "execution_count": null,
   "metadata": {},
   "outputs": [],
   "source": [
    "glucoCheckObject.mageCalculation(x)"
   ]
  },
  {
   "cell_type": "code",
   "execution_count": null,
   "metadata": {},
   "outputs": [],
   "source": []
  }
 ],
 "metadata": {
  "kernelspec": {
   "display_name": "Python 3",
   "language": "python",
   "name": "python3"
  },
  "language_info": {
   "codemirror_mode": {
    "name": "ipython",
    "version": 3
   },
   "file_extension": ".py",
   "mimetype": "text/x-python",
   "name": "python",
   "nbconvert_exporter": "python",
   "pygments_lexer": "ipython3",
   "version": "3.7.4"
  }
 },
 "nbformat": 4,
 "nbformat_minor": 2
}
